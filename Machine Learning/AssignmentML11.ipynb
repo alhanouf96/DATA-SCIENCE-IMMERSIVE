{
 "cells": [
  {
   "cell_type": "markdown",
   "metadata": {},
   "source": [
    "# Decision Tree\n",
    "Using the same seattle weather data as last chapter develop a DecisionTree model\n"
   ]
  },
  {
   "cell_type": "code",
   "execution_count": 18,
   "metadata": {},
   "outputs": [],
   "source": [
    "import pandas as pd\n",
    "import matplotlib.pyplot as plt\n",
    "import seaborn as sns\n",
    "import numpy as np\n",
    "\n",
    "df = pd.read_csv('https://raw.githubusercontent.com/daniel-dc-cd/data_science/master/module_4_ML/data/seattle_weather_1948-2017.csv')\n",
    "\n",
    "numrows = 25549 # can be as large as 25549\n",
    "\n",
    "\n",
    "#create an empty dataframe to hold values\n",
    "DecisionTree_df = pd.DataFrame({'today':[0.0] * numrows,\n",
    "                             'tomorrow':[True] * numrows}) #initalize as boolean\n",
    "\n",
    "#sort columns for convience\n",
    "seq = ['today',\n",
    "       'tomorrow']\n",
    "\n",
    "DecisionTree_df = DecisionTree_df.reindex(columns=seq)\n",
    "\n"
   ]
  },
  {
   "cell_type": "code",
   "execution_count": 19,
   "metadata": {},
   "outputs": [],
   "source": [
    "#populate the DecisionTree data frame with values from the pandas dataframe\n",
    "for i in range(0 , numrows):\n",
    "    tomorrow = df.iloc[i,1]\n",
    "    today = df.iloc[(i-1),1]\n",
    "    DecisionTree_df.iat[i,1] = tomorrow\n",
    "    DecisionTree_df.iat[i,0] = today\n",
    "\n",
    "DecisionTree_df = DecisionTree_df.dropna() #exclude any rows with missing data"
   ]
  },
  {
   "cell_type": "code",
   "execution_count": 20,
   "metadata": {},
   "outputs": [
    {
     "data": {
      "text/html": [
       "<div>\n",
       "<style scoped>\n",
       "    .dataframe tbody tr th:only-of-type {\n",
       "        vertical-align: middle;\n",
       "    }\n",
       "\n",
       "    .dataframe tbody tr th {\n",
       "        vertical-align: top;\n",
       "    }\n",
       "\n",
       "    .dataframe thead th {\n",
       "        text-align: right;\n",
       "    }\n",
       "</style>\n",
       "<table border=\"1\" class=\"dataframe\">\n",
       "  <thead>\n",
       "    <tr style=\"text-align: right;\">\n",
       "      <th></th>\n",
       "      <th>today</th>\n",
       "      <th>tomorrow</th>\n",
       "    </tr>\n",
       "  </thead>\n",
       "  <tbody>\n",
       "    <tr>\n",
       "      <th>0</th>\n",
       "      <td>0.00</td>\n",
       "      <td>True</td>\n",
       "    </tr>\n",
       "    <tr>\n",
       "      <th>1</th>\n",
       "      <td>0.47</td>\n",
       "      <td>True</td>\n",
       "    </tr>\n",
       "    <tr>\n",
       "      <th>2</th>\n",
       "      <td>0.59</td>\n",
       "      <td>True</td>\n",
       "    </tr>\n",
       "    <tr>\n",
       "      <th>3</th>\n",
       "      <td>0.42</td>\n",
       "      <td>True</td>\n",
       "    </tr>\n",
       "    <tr>\n",
       "      <th>4</th>\n",
       "      <td>0.31</td>\n",
       "      <td>True</td>\n",
       "    </tr>\n",
       "    <tr>\n",
       "      <th>...</th>\n",
       "      <td>...</td>\n",
       "      <td>...</td>\n",
       "    </tr>\n",
       "    <tr>\n",
       "      <th>25544</th>\n",
       "      <td>0.00</td>\n",
       "      <td>False</td>\n",
       "    </tr>\n",
       "    <tr>\n",
       "      <th>25545</th>\n",
       "      <td>0.00</td>\n",
       "      <td>False</td>\n",
       "    </tr>\n",
       "    <tr>\n",
       "      <th>25546</th>\n",
       "      <td>0.00</td>\n",
       "      <td>False</td>\n",
       "    </tr>\n",
       "    <tr>\n",
       "      <th>25547</th>\n",
       "      <td>0.00</td>\n",
       "      <td>False</td>\n",
       "    </tr>\n",
       "    <tr>\n",
       "      <th>25548</th>\n",
       "      <td>0.00</td>\n",
       "      <td>False</td>\n",
       "    </tr>\n",
       "  </tbody>\n",
       "</table>\n",
       "<p>25546 rows × 2 columns</p>\n",
       "</div>"
      ],
      "text/plain": [
       "       today  tomorrow\n",
       "0       0.00      True\n",
       "1       0.47      True\n",
       "2       0.59      True\n",
       "3       0.42      True\n",
       "4       0.31      True\n",
       "...      ...       ...\n",
       "25544   0.00     False\n",
       "25545   0.00     False\n",
       "25546   0.00     False\n",
       "25547   0.00     False\n",
       "25548   0.00     False\n",
       "\n",
       "[25546 rows x 2 columns]"
      ]
     },
     "execution_count": 20,
     "metadata": {},
     "output_type": "execute_result"
    }
   ],
   "source": [
    "DecisionTree_df"
   ]
  },
  {
   "cell_type": "code",
   "execution_count": 21,
   "metadata": {},
   "outputs": [],
   "source": [
    "#modify the data to work with this model\n",
    "x = DecisionTree_df.today.values\n",
    "y = DecisionTree_df.tomorrow.values\n",
    "x = x.reshape(DecisionTree_df.shape[0], 1)\n",
    "#note that we did not need to reshape the y values as we did with linear regression"
   ]
  },
  {
   "cell_type": "code",
   "execution_count": 22,
   "metadata": {},
   "outputs": [],
   "source": [
    "from sklearn import tree\n",
    "clf =  tree.DecisionTreeClassifier(criterion='entropy').fit(x, y)"
   ]
  },
  {
   "cell_type": "code",
   "execution_count": 23,
   "metadata": {},
   "outputs": [
    {
     "name": "stdout",
     "output_type": "stream",
     "text": [
      "0.7129883347686526\n"
     ]
    }
   ],
   "source": [
    "#we can calculate the accuarcy using score\n",
    "score = clf.score(x,y)\n",
    "print(score)"
   ]
  },
  {
   "cell_type": "code",
   "execution_count": 24,
   "metadata": {},
   "outputs": [
    {
     "name": "stdout",
     "output_type": "stream",
     "text": [
      "[[11461  3183]\n",
      " [ 4149  6753]]\n"
     ]
    }
   ],
   "source": [
    "from sklearn import metrics\n",
    "#we can also make a simple confusion matrix\n",
    "predictions = clf.predict(x)\n",
    "cm = metrics.confusion_matrix(y, predictions)\n",
    "print(cm)"
   ]
  },
  {
   "cell_type": "code",
   "execution_count": 25,
   "metadata": {},
   "outputs": [
    {
     "data": {
      "image/png": "[encoded data removed]",
      "text/plain": [
       "<Figure size 648x648 with 2 Axes>"
      ]
     },
     "metadata": {
      "needs_background": "light"
     },
     "output_type": "display_data"
    }
   ],
   "source": [
    "#Conf Matrix\n",
    "\n",
    "#we can also make a simple confusion matrix\n",
    "predictions = clf.predict(x)\n",
    "cm = metrics.confusion_matrix(y, predictions)\n",
    "\n",
    "plt.figure(figsize=(9,9))\n",
    "sns.heatmap(cm, annot=True, fmt=\".3f\", linewidths=.5, square = True, cmap = 'Blues_r');\n",
    "plt.ylabel('Actual label');\n",
    "plt.xlabel('Predicted label');\n",
    "all_sample_title = 'Accuracy Score: {0}'.format(score)\n",
    "plt.title(all_sample_title, size = 15);"
   ]
  },
  {
   "cell_type": "code",
   "execution_count": 39,
   "metadata": {},
   "outputs": [],
   "source": [
    "dotfile = open(\"dt.dot\", 'w')\n",
    "tree.export_graphviz(clf, out_file=dotfile)\n",
    "dotfile.close()"
   ]
  },
  {
   "cell_type": "markdown",
   "metadata": {},
   "source": [
    "### From this point modify the scikit-learn random forest method to use two or more variables."
   ]
  },
  {
   "cell_type": "code",
   "execution_count": 32,
   "metadata": {},
   "outputs": [],
   "source": [
    "\n",
    "#create an empty dataframe to hold values\n",
    "DecisionTree_df2 = pd.DataFrame({\n",
    "                              'yesterday':[0.0]*numrows,\n",
    "                             'today':[0.0] * numrows,\n",
    "                             'tomorrow':[0.0] * numrows})\n",
    "\n",
    "#sort columns for convience\n",
    "seq = [\n",
    "       'yesterday',\n",
    "       'today',\n",
    "       'tomorrow']\n",
    "DecisionTree_df2 = DecisionTree_df2.reindex(columns=seq)"
   ]
  },
  {
   "cell_type": "code",
   "execution_count": 33,
   "metadata": {},
   "outputs": [],
   "source": [
    "for z in range(numrows):\n",
    "    #pull values from the dataframe\n",
    "    yesterday = df.iloc[(z-2),1]\n",
    "    today = df.iloc[(z-1),1]\n",
    "    tomorrow = df.iloc[z,1]\n",
    "    \n",
    "    DecisionTree_df2.iat[z,0] = yesterday\n",
    "    DecisionTree_df2.iat[z,1] = today\n",
    "    DecisionTree_df2.iat[z,2] = tomorrow\n",
    "\n",
    "DecisionTree_df2 = DecisionTree_df2.dropna() #exclude any rows with missing data"
   ]
  },
  {
   "cell_type": "code",
   "execution_count": 34,
   "metadata": {},
   "outputs": [
    {
     "data": {
      "text/plain": [
       "<bound method NDFrame.describe of        yesterday  today  tomorrow\n",
       "0           0.00   0.00      0.47\n",
       "1           0.00   0.47      0.59\n",
       "2           0.47   0.59      0.42\n",
       "3           0.59   0.42      0.31\n",
       "4           0.42   0.31      0.17\n",
       "...          ...    ...       ...\n",
       "25544       0.00   0.00      0.00\n",
       "25545       0.00   0.00      0.00\n",
       "25546       0.00   0.00      0.00\n",
       "25547       0.00   0.00      0.00\n",
       "25548       0.00   0.00      0.00\n",
       "\n",
       "[25542 rows x 3 columns]>"
      ]
     },
     "execution_count": 34,
     "metadata": {},
     "output_type": "execute_result"
    }
   ],
   "source": [
    "DecisionTree_df2.describe"
   ]
  },
  {
   "cell_type": "code",
   "execution_count": 37,
   "metadata": {},
   "outputs": [],
   "source": [
    "\n",
    "X = DecisionTree_df2[['yesterday', 'today']]\n",
    "Y = DecisionTree_df2['tomorrow']\n",
    "\n",
    "mymodel = tree.DecisionTreeClassifier(criterion='entropy').fit(x, y)"
   ]
  },
  {
   "cell_type": "code",
   "execution_count": 38,
   "metadata": {},
   "outputs": [
    {
     "name": "stdout",
     "output_type": "stream",
     "text": [
      "0.7129883347686526\n"
     ]
    }
   ],
   "source": [
    "#we can calculate the accuarcy using score\n",
    "score = mymodel.score(x,y)\n",
    "print(score)"
   ]
  },
  {
   "cell_type": "code",
   "execution_count": null,
   "metadata": {},
   "outputs": [],
   "source": []
  }
 ],
 "metadata": {
  "kernelspec": {
   "display_name": "Python 3",
   "language": "python",
   "name": "python3"
  },
  "language_info": {
   "codemirror_mode": {
    "name": "ipython",
    "version": 3
   },
   "file_extension": ".py",
   "mimetype": "text/x-python",
   "name": "python",
   "nbconvert_exporter": "python",
   "pygments_lexer": "ipython3",
   "version": "3.7.3"
  }
 },
 "nbformat": 4,
 "nbformat_minor": 4
}
