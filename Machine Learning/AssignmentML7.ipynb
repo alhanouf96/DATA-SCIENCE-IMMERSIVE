{
 "cells": [
  {
   "cell_type": "markdown",
   "metadata": {},
   "source": [
    "### Linear Regression"
   ]
  },
  {
   "cell_type": "code",
   "execution_count": 89,
   "metadata": {},
   "outputs": [],
   "source": [
    "#import the pakcages that we will need\n",
    "import pandas as pd\n",
    "import matplotlib.pyplot as plt\n",
    "import seaborn as sns\n",
    "import numpy as np\n",
    "\n",
    "df = pd.read_csv('https://raw.githubusercontent.com/daniel-dc-cd/data_science/master/module_4_ML/data/seattle_weather_1948-2017.csv')\n",
    "\n",
    "numrows = 25549 # can be as large as 25549\n",
    "\n",
    "\n",
    "#create an empty dataframe to hold values\n",
    "regression_df = pd.DataFrame({\n",
    "                              'yesterday':[0.0]*numrows,\n",
    "                             'today':[0.0] * numrows,\n",
    "                             'tomorrow':[0.0] * numrows})\n",
    "\n",
    "#sort columns for convience\n",
    "seq = [\n",
    "       'yesterday',\n",
    "       'today',\n",
    "       'tomorrow']\n",
    "regression_df = regression_df.reindex(columns=seq)\n",
    "\n"
   ]
  },
  {
   "cell_type": "code",
   "execution_count": 90,
   "metadata": {},
   "outputs": [],
   "source": [
    "\n",
    "for z in range(numrows):\n",
    "    #pull values from the dataframe\n",
    "    yesterday = df.iloc[(z-2),1]\n",
    "    today = df.iloc[(z-1),1]\n",
    "    tomorrow = df.iloc[z,1]\n",
    "    \n",
    "    regression_df.iat[z,0] = yesterday\n",
    "    regression_df.iat[z,1] = today\n",
    "    regression_df.iat[z,2] = tomorrow\n",
    "\n",
    "regression_df = regression_df.dropna() #exclude any rows with missing data"
   ]
  },
  {
   "cell_type": "code",
   "execution_count": 91,
   "metadata": {},
   "outputs": [
    {
     "data": {
      "text/plain": [
       "<bound method NDFrame.describe of        yesterday  today  tomorrow\n",
       "0           0.00   0.00      0.47\n",
       "1           0.00   0.47      0.59\n",
       "2           0.47   0.59      0.42\n",
       "3           0.59   0.42      0.31\n",
       "4           0.42   0.31      0.17\n",
       "...          ...    ...       ...\n",
       "25544       0.00   0.00      0.00\n",
       "25545       0.00   0.00      0.00\n",
       "25546       0.00   0.00      0.00\n",
       "25547       0.00   0.00      0.00\n",
       "25548       0.00   0.00      0.00\n",
       "\n",
       "[25542 rows x 3 columns]>"
      ]
     },
     "execution_count": 91,
     "metadata": {},
     "output_type": "execute_result"
    }
   ],
   "source": [
    "#this makes a simple dataframe with a relationship that we can now plot\n",
    "regression_df.describe"
   ]
  },
  {
   "cell_type": "code",
   "execution_count": 93,
   "metadata": {},
   "outputs": [],
   "source": [
    "#Use today and yesterday to predict tomorrow via linear model \n",
    "\n",
    "from sklearn import linear_model\n",
    "\n",
    "X = regression_df[['yesterday', 'today']]\n",
    "Y = regression_df['tomorrow']\n",
    "\n",
    "mymodel = linear_model.LinearRegression().fit(X,Y)"
   ]
  },
  {
   "cell_type": "code",
   "execution_count": 94,
   "metadata": {},
   "outputs": [
    {
     "data": {
      "text/plain": [
       "0.09817699284957904"
      ]
     },
     "execution_count": 94,
     "metadata": {},
     "output_type": "execute_result"
    }
   ],
   "source": [
    "# using the r2 (pronounced r squared) value we can get a basic measure of model quality\n",
    "from sklearn.metrics import r2_score\n",
    "r2_score(Y,mymodel.predict(X))"
   ]
  },
  {
   "cell_type": "code",
   "execution_count": null,
   "metadata": {},
   "outputs": [],
   "source": []
  }
 ],
 "metadata": {
  "kernelspec": {
   "display_name": "Python 3",
   "language": "python",
   "name": "python3"
  },
  "language_info": {
   "codemirror_mode": {
    "name": "ipython",
    "version": 3
   },
   "file_extension": ".py",
   "mimetype": "text/x-python",
   "name": "python",
   "nbconvert_exporter": "python",
   "pygments_lexer": "ipython3",
   "version": "3.7.3"
  }
 },
 "nbformat": 4,
 "nbformat_minor": 4
}
