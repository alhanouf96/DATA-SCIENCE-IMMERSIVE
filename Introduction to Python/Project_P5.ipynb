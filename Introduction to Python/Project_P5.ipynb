{
 "cells": [
  {
   "cell_type": "markdown",
   "metadata": {},
   "source": [
    "# Project P5"
   ]
  },
  {
   "cell_type": "code",
   "execution_count": 44,
   "metadata": {},
   "outputs": [
    {
     "name": "stdout",
     "output_type": "stream",
     "text": [
      "People needed to be in a room:  23\n",
      "probability of two people in the room have the same birthday: 50.33% \n"
     ]
    }
   ],
   "source": [
    "from random import randint\n",
    " \n",
    "\n",
    "def estimate_probability(p=50):\n",
    "    \n",
    "    #\n",
    "    for people in range(365):   \n",
    "        \n",
    "        count = 0\n",
    "        for _ in range(10000):   # Loop for NUM_TRIALS\n",
    "            birthdays =  birthdays = np.random.randint(0,365, people) #Assign people to POSSIBLE BIRTHDAYS\n",
    "            if len(birthdays)!=len(np.unique(birthdays)):  #If there coincidence\n",
    "                count += 1\n",
    " \n",
    "        p_count = (count / 10000)*100  #Calculate the mean of the probabilities\n",
    "        if p_count >= p:\n",
    "            break\n",
    "\n",
    "    print(\"People needed to be in a room: \", people)\n",
    "    print(f\"probability of two people in the room have the same birthday: {p_count}% \")  \n",
    "    \n",
    "\n",
    "p_count = estimate_probability(50)\n",
    "    "
   ]
  },
  {
   "cell_type": "code",
   "execution_count": 45,
   "metadata": {},
   "outputs": [
    {
     "name": "stdout",
     "output_type": "stream",
     "text": [
      "People needed to be in a room:  47\n",
      "probability of two people in the room have the same birthday: 95.76% \n"
     ]
    }
   ],
   "source": [
    "p_count = estimate_probability(95)"
   ]
  },
  {
   "cell_type": "code",
   "execution_count": 46,
   "metadata": {},
   "outputs": [
    {
     "name": "stdout",
     "output_type": "stream",
     "text": [
      "People needed to be in a room:  58\n",
      "probability of two people in the room have the same birthday: 99.02% \n"
     ]
    }
   ],
   "source": [
    "p_count = estimate_probability(99)"
   ]
  },
  {
   "cell_type": "code",
   "execution_count": null,
   "metadata": {},
   "outputs": [],
   "source": []
  }
 ],
 "metadata": {
  "kernelspec": {
   "display_name": "Python 3",
   "language": "python",
   "name": "python3"
  },
  "language_info": {
   "codemirror_mode": {
    "name": "ipython",
    "version": 3
   },
   "file_extension": ".py",
   "mimetype": "text/x-python",
   "name": "python",
   "nbconvert_exporter": "python",
   "pygments_lexer": "ipython3",
   "version": "3.7.3"
  }
 },
 "nbformat": 4,
 "nbformat_minor": 4
}
