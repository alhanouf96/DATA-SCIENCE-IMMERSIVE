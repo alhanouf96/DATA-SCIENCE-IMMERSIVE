{
 "cells": [
  {
   "cell_type": "code",
   "execution_count": 109,
   "metadata": {},
   "outputs": [
    {
     "name": "stdout",
     "output_type": "stream",
     "text": [
      "95.37479255393679\n",
      "29.239889067373383\n",
      "94.24526819279063\n",
      "59.18013575518788\n"
     ]
    }
   ],
   "source": [
    "import random\n",
    "def randInt(min= 0  , max= 100  ):\n",
    "    if min == 0:\n",
    "        num = random.random()*max+min\n",
    "    elif min ==5:\n",
    "        num = random.random()*450+50\n",
    "    else:\n",
    "        num = random.random()*50+min\n",
    "        \n",
    "    return num\n",
    "print(randInt()) \t\t    # should print a random integer between 0 to 100\n",
    "print(randInt(max=50)) \t    # should print a random integer between 0 to 50\n",
    "print(randInt(min=50)) \t    # should print a random integer between 50 to 100\n",
    "print(randInt(min=5, max=10))    # should print a random integer between 50 and 500"
   ]
  },
  {
   "cell_type": "code",
   "execution_count": null,
   "metadata": {},
   "outputs": [],
   "source": []
  }
 ],
 "metadata": {
  "kernelspec": {
   "display_name": "Python 3",
   "language": "python",
   "name": "python3"
  },
  "language_info": {
   "codemirror_mode": {
    "name": "ipython",
    "version": 3
   },
   "file_extension": ".py",
   "mimetype": "text/x-python",
   "name": "python",
   "nbconvert_exporter": "python",
   "pygments_lexer": "ipython3",
   "version": "3.7.3"
  }
 },
 "nbformat": 4,
 "nbformat_minor": 4
}
