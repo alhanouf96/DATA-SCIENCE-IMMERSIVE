{
 "cells": [
  {
   "cell_type": "code",
   "execution_count": 26,
   "metadata": {},
   "outputs": [
    {
     "name": "stdout",
     "output_type": "stream",
     "text": [
      "sorted list\n",
      "2\n",
      "11\n",
      "12\n",
      "22\n",
      "25\n",
      "44\n",
      "47\n",
      "64\n"
     ]
    }
   ],
   "source": [
    "#Selection Sort\n",
    "\n",
    "A = [64, 25, 12, 22, 11,44,2,47] \n",
    "\n",
    "for i in range(len(A)):\n",
    "    min_item=i\n",
    "    for x in range(i+1, len(A)):\n",
    "        if A[min_item]>A[x]:\n",
    "            min_item=x\n",
    "    #Swap\n",
    "    A[i],A[min_item]=A[min_item],A[i]\n",
    " \n",
    "#sorted list\n",
    "print(\"sorted list\")\n",
    "for i in A:\n",
    "    print(i)"
   ]
  }
 ],
 "metadata": {
  "kernelspec": {
   "display_name": "Python 3",
   "language": "python",
   "name": "python3"
  },
  "language_info": {
   "codemirror_mode": {
    "name": "ipython",
    "version": 3
   },
   "file_extension": ".py",
   "mimetype": "text/x-python",
   "name": "python",
   "nbconvert_exporter": "python",
   "pygments_lexer": "ipython3",
   "version": "3.7.3"
  }
 },
 "nbformat": 4,
 "nbformat_minor": 4
}
