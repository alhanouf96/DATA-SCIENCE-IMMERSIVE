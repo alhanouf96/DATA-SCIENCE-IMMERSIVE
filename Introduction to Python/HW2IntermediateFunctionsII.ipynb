{
 "cells": [
  {
   "cell_type": "code",
   "execution_count": 30,
   "metadata": {},
   "outputs": [
    {
     "data": {
      "text/plain": [
       "[{'x': 10, 'y': 30}]"
      ]
     },
     "execution_count": 30,
     "metadata": {},
     "output_type": "execute_result"
    }
   ],
   "source": [
    "#1- Update Values in Dictionaries and Lists\n",
    "\n",
    "x = [ [5,2,3], [10,8,9] ] \n",
    "students = [\n",
    "     {'first_name':  'Michael', 'last_name' : 'Jordan'},\n",
    "     {'first_name' : 'John', 'last_name' : 'Rosales'}\n",
    "]\n",
    "sports_directory = {\n",
    "    'basketball' : ['Kobe', 'Jordan', 'James', 'Curry'],\n",
    "    'soccer' : ['Messi', 'Ronaldo', 'Rooney']\n",
    "}\n",
    "z = [ {'x': 10, 'y': 20} ]\n",
    "\n",
    "#Change the value 10 in x to 15.\n",
    "    \n",
    "x[1][0]=15\n",
    "x\n",
    "\n",
    "#Change the last_name of the first student from 'Jordan' to 'Bryant'\n",
    "students[0]['last_name']='Bryant'\n",
    "students\n",
    "\n",
    "#In the sports_directory, change 'Messi' to 'Andres'\n",
    "sports_directory['soccer'][0]='Andres'\n",
    "sports_directory\n",
    "\n",
    "#Change the value 20 in z to 30\n",
    "\n",
    "z[0]['y']=30\n",
    "z"
   ]
  },
  {
   "cell_type": "code",
   "execution_count": 114,
   "metadata": {},
   "outputs": [
    {
     "name": "stdout",
     "output_type": "stream",
     "text": [
      "first_name -> Michael\n",
      "last_name -> Jordan\n",
      "first_name -> John\n",
      "last_name -> Rosales\n",
      "first_name -> Mark\n",
      "last_name -> Guillen\n",
      "first_name -> KB\n",
      "last_name -> Tonel\n"
     ]
    }
   ],
   "source": [
    "#2- Iterate Through a List of Dictionaries\n",
    "\n",
    "students = [\n",
    "         {'first_name':  'Michael', 'last_name' : 'Jordan'},\n",
    "         {'first_name' : 'John', 'last_name' : 'Rosales'},\n",
    "         {'first_name' : 'Mark', 'last_name' : 'Guillen'},\n",
    "         {'first_name' : 'KB', 'last_name' : 'Tonel'}\n",
    "    ]\n",
    "\n",
    "def iterateDictionary(students):\n",
    "    for x in students:\n",
    "        for i in x:\n",
    "            print(i,\"->\", x[i] )\n",
    "\n",
    "iterateDictionary(students)\n",
    "\n",
    "# should output: (it's okay if each key-value pair ends up on 2 separate lines;\n",
    "# bonus to get them to appear exactly as below!)\n"
   ]
  },
  {
   "cell_type": "code",
   "execution_count": 61,
   "metadata": {},
   "outputs": [
    {
     "name": "stdout",
     "output_type": "stream",
     "text": [
      "Michael\n",
      "John\n",
      "Mark\n",
      "KB\n"
     ]
    }
   ],
   "source": [
    "#3- Get Values From a List of Dictionaries\n",
    "\n",
    "students = [\n",
    "         {'first_name':  'Michael', 'last_name' : 'Jordan'},\n",
    "         {'first_name' : 'John', 'last_name' : 'Rosales'},\n",
    "         {'first_name' : 'Mark', 'last_name' : 'Guillen'},\n",
    "         {'first_name' : 'KB', 'last_name' : 'Tonel'}\n",
    "    ]\n",
    "\n",
    "\n",
    "def iterateDictionary2(key_name, some_list):\n",
    "    for x in students:\n",
    "        if key_name=='first_name':\n",
    "            print(x['first_name'])\n",
    "        else:\n",
    "            print(x['last_name'])\n",
    "\n",
    "        \n",
    "iterateDictionary2('first_name', students)"
   ]
  },
  {
   "cell_type": "code",
   "execution_count": 78,
   "metadata": {},
   "outputs": [
    {
     "name": "stdout",
     "output_type": "stream",
     "text": [
      "7 LOCATIONS\n",
      "San Jose\n",
      "Seattle\n",
      "Dallas\n",
      "Chicago\n",
      "Tulsa\n",
      "DC\n",
      "Burbank\n",
      "8 INSTRUCTORS\n",
      "Michael\n",
      "Amy\n",
      "Eduardo\n",
      "Josh\n",
      "Graham\n",
      "Patrick\n",
      "Minh\n",
      "Devon\n"
     ]
    }
   ],
   "source": [
    "#4- Iterate Through a Dictionary with List Values\n",
    "\n",
    "dojo = {\n",
    "   'locations': ['San Jose', 'Seattle', 'Dallas', 'Chicago', 'Tulsa', 'DC', 'Burbank'],\n",
    "   'instructors': ['Michael', 'Amy', 'Eduardo', 'Josh', 'Graham', 'Patrick', 'Minh', 'Devon']\n",
    "}\n",
    "\n",
    "def printInfo(some_dict):\n",
    "\n",
    "    for x in dojo:\n",
    "        if x == 'locations':\n",
    "            print(len(dojo['locations']), \"LOCATIONS\")\n",
    "        else:\n",
    "            print(len(dojo['instructors']), \"INSTRUCTORS\")\n",
    "        for i in dojo[x]: \n",
    "            print(i)\n",
    "\n",
    "        \n",
    "        \n",
    "printInfo(dojo)\n",
    "\n",
    " \n"
   ]
  }
 ],
 "metadata": {
  "kernelspec": {
   "display_name": "Python 3",
   "language": "python",
   "name": "python3"
  },
  "language_info": {
   "codemirror_mode": {
    "name": "ipython",
    "version": 3
   },
   "file_extension": ".py",
   "mimetype": "text/x-python",
   "name": "python",
   "nbconvert_exporter": "python",
   "pygments_lexer": "ipython3",
   "version": "3.7.3"
  }
 },
 "nbformat": 4,
 "nbformat_minor": 4
}
