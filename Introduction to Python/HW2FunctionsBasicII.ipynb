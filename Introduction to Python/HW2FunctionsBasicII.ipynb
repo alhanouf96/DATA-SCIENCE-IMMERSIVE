{
 "cells": [
  {
   "cell_type": "code",
   "execution_count": 26,
   "metadata": {},
   "outputs": [
    {
     "name": "stdout",
     "output_type": "stream",
     "text": [
      "9\n",
      "8\n",
      "7\n",
      "6\n",
      "5\n",
      "4\n",
      "3\n",
      "2\n",
      "1\n",
      "0\n"
     ]
    }
   ],
   "source": [
    "#1- Countdown\n",
    "\n",
    "def Countdown(n):\n",
    "    for x in range(n, -1,-1):\n",
    "        print(x)\n",
    "\n",
    "Countdown(9)"
   ]
  },
  {
   "cell_type": "code",
   "execution_count": 34,
   "metadata": {},
   "outputs": [
    {
     "name": "stdout",
     "output_type": "stream",
     "text": [
      "1\n"
     ]
    },
    {
     "data": {
      "text/plain": [
       "2"
      ]
     },
     "execution_count": 34,
     "metadata": {},
     "output_type": "execute_result"
    }
   ],
   "source": [
    "#2- Print_and_Return\n",
    "\n",
    "x= [1,2]\n",
    "\n",
    "def Print_and_Return(x):\n",
    "    print(x[0])\n",
    "    return x[1]\n",
    "\n",
    "Print_and_Return(x)"
   ]
  },
  {
   "cell_type": "code",
   "execution_count": 47,
   "metadata": {},
   "outputs": [
    {
     "data": {
      "text/plain": [
       "6"
      ]
     },
     "execution_count": 47,
     "metadata": {},
     "output_type": "execute_result"
    }
   ],
   "source": [
    "#3- First Plus Length \n",
    "\n",
    "x=[1,2,3,4,5]\n",
    "\n",
    "def First_Plus_Length (x):\n",
    "    return x[0] + len(x)\n",
    "\n",
    "First_Plus_Length(x)"
   ]
  },
  {
   "cell_type": "code",
   "execution_count": 65,
   "metadata": {},
   "outputs": [
    {
     "name": "stdout",
     "output_type": "stream",
     "text": [
      "[7, 7, 7, 7]\n"
     ]
    }
   ],
   "source": [
    "#4- This Length, That Value\n",
    "\n",
    "def This_Length_That_Value (S,V):\n",
    "        x=[V]*S\n",
    "        print(x)\n",
    "\n",
    "        \n",
    "        \n",
    "This_Length_That_Value(4,7)\n"
   ]
  },
  {
   "cell_type": "code",
   "execution_count": null,
   "metadata": {},
   "outputs": [],
   "source": []
  },
  {
   "cell_type": "code",
   "execution_count": null,
   "metadata": {},
   "outputs": [],
   "source": []
  }
 ],
 "metadata": {
  "kernelspec": {
   "display_name": "Python 3",
   "language": "python",
   "name": "python3"
  },
  "language_info": {
   "codemirror_mode": {
    "name": "ipython",
    "version": 3
   },
   "file_extension": ".py",
   "mimetype": "text/x-python",
   "name": "python",
   "nbconvert_exporter": "python",
   "pygments_lexer": "ipython3",
   "version": "3.7.3"
  }
 },
 "nbformat": 4,
 "nbformat_minor": 4
}
