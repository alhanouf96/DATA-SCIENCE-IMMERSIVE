{
 "cells": [
  {
   "cell_type": "code",
   "execution_count": 59,
   "metadata": {},
   "outputs": [
    {
     "data": {
      "text/plain": [
       "[-1, 'big', 'big', -5]"
      ]
     },
     "execution_count": 59,
     "metadata": {},
     "output_type": "execute_result"
    }
   ],
   "source": [
    "#1- Biggie Size\n",
    "\n",
    "x=[-1, 3, 5, -5]\n",
    "\n",
    "def Biggie_Size(x):\n",
    "    \n",
    "    for n,i in enumerate(x):\n",
    "        if i >= 0:\n",
    "            x[n]='big'\n",
    "    return x\n",
    "\n",
    "                 \n",
    "        \n",
    "Biggie_Size(x)       "
   ]
  },
  {
   "cell_type": "code",
   "execution_count": 74,
   "metadata": {},
   "outputs": [
    {
     "data": {
      "text/plain": [
       "[-1, 1, 1, 3]"
      ]
     },
     "execution_count": 74,
     "metadata": {},
     "output_type": "execute_result"
    }
   ],
   "source": [
    "#2- Count Positives\n",
    "\n",
    "x=[-1,1,1,1]\n",
    "\n",
    "def Count_Positives(x):\n",
    "    x[len(x)-1]=3\n",
    "    return x\n",
    "\n",
    "Count_Positives(x)"
   ]
  },
  {
   "cell_type": "code",
   "execution_count": 61,
   "metadata": {},
   "outputs": [
    {
     "data": {
      "text/plain": [
       "10"
      ]
     },
     "execution_count": 61,
     "metadata": {},
     "output_type": "execute_result"
    }
   ],
   "source": [
    "#3- Sum Total \n",
    "\n",
    "x=[1, 2, 3, 4]\n",
    "\n",
    "\n",
    "def Sum_Total (x):\n",
    "    sum=0\n",
    "    for i in x:\n",
    "        sum+=i\n",
    "\n",
    "    return sum\n",
    "\n",
    "Sum_Total (x)"
   ]
  },
  {
   "cell_type": "code",
   "execution_count": 12,
   "metadata": {},
   "outputs": [
    {
     "data": {
      "text/plain": [
       "2.5"
      ]
     },
     "execution_count": 12,
     "metadata": {},
     "output_type": "execute_result"
    }
   ],
   "source": [
    "#4- Average\n",
    "\n",
    "x=[1, 2, 3, 4]\n",
    "\n",
    "def Average (x):\n",
    "    sum=0\n",
    "    for i in x:\n",
    "        sum+=i\n",
    "\n",
    "    return sum/len(x)\n",
    "\n",
    "Average (x)"
   ]
  },
  {
   "cell_type": "code",
   "execution_count": 30,
   "metadata": {},
   "outputs": [
    {
     "data": {
      "text/plain": [
       "4"
      ]
     },
     "execution_count": 30,
     "metadata": {},
     "output_type": "execute_result"
    }
   ],
   "source": [
    "#5- Length\n",
    "\n",
    "x=[37,2,1,-9]\n",
    "def Length (x):\n",
    "    c=0\n",
    "    for i in x:\n",
    "        c=c+1\n",
    "        \n",
    "    return c\n",
    "\n",
    "Length (x)  \n",
    " \n",
    "#or \n",
    "\n",
    "v=[37,2,1,-9]\n",
    "\n",
    "def LengthB (v):\n",
    "    return len(v)\n",
    "\n",
    "LengthB (v)  \n",
    "\n",
    "\n",
    " "
   ]
  },
  {
   "cell_type": "code",
   "execution_count": 19,
   "metadata": {},
   "outputs": [
    {
     "data": {
      "text/plain": [
       "-9"
      ]
     },
     "execution_count": 19,
     "metadata": {},
     "output_type": "execute_result"
    }
   ],
   "source": [
    "#6- Minimum\n",
    "x=[37,2,1,-9]\n",
    "\n",
    "def Minimum (x):\n",
    "    min=x[0]\n",
    "    for i in x:\n",
    "        if i<min:\n",
    "            min=i\n",
    "    return min\n",
    "\n",
    "Minimum (x)   \n",
    "\n"
   ]
  },
  {
   "cell_type": "code",
   "execution_count": 18,
   "metadata": {},
   "outputs": [
    {
     "data": {
      "text/plain": [
       "37"
      ]
     },
     "execution_count": 18,
     "metadata": {},
     "output_type": "execute_result"
    }
   ],
   "source": [
    "#7- Maximum\n",
    "x=[37,2,1,-9]\n",
    "\n",
    "def Maximum (x):\n",
    "    max=x[0]\n",
    "    for i in x:\n",
    "        if i>max:\n",
    "            max=i\n",
    "    return max\n",
    "\n",
    "Maximum (x)  "
   ]
  }
 ],
 "metadata": {
  "kernelspec": {
   "display_name": "Python 3",
   "language": "python",
   "name": "python3"
  },
  "language_info": {
   "codemirror_mode": {
    "name": "ipython",
    "version": 3
   },
   "file_extension": ".py",
   "mimetype": "text/x-python",
   "name": "python",
   "nbconvert_exporter": "python",
   "pygments_lexer": "ipython3",
   "version": "3.7.3"
  }
 },
 "nbformat": 4,
 "nbformat_minor": 4
}
