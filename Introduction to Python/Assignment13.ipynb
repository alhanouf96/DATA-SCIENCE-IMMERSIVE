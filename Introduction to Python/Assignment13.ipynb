{
 "cells": [
  {
   "cell_type": "markdown",
   "metadata": {},
   "source": [
    "# 01. Basic Plotting"
   ]
  },
  {
   "cell_type": "code",
   "execution_count": 5,
   "metadata": {},
   "outputs": [],
   "source": [
    "import numpy as np # we will use this later, so import it now\n",
    "\n",
    "from bokeh.io import output_notebook, show\n",
    "from bokeh.plotting import figure\n"
   ]
  },
  {
   "cell_type": "code",
   "execution_count": 6,
   "metadata": {},
   "outputs": [
    {
     "data": {
      "text/html": [
       "\n",
       "    <div class=\"bk-root\">\n",
       "        <a href=\"https://bokeh.pydata.org\" target=\"_blank\" class=\"bk-logo bk-logo-small bk-logo-notebook\"></a>\n",
       "        <span id=\"1003\">Loading BokehJS ...</span>\n",
       "    </div>"
      ]
     },
     "metadata": {},
     "output_type": "display_data"
    },
    {
     "data": {
      "application/javascript": [
       "\n",
       "(function(root) {\n",
       "  function now() {\n",
       "    return new Date();\n",
       "  }\n",
       "\n",
       "  var force = true;\n",
       "\n",
       "  if (typeof root._bokeh_onload_callbacks === \"undefined\" || force === true) {\n",
       "    root._bokeh_onload_callbacks = [];\n",
       "    root._bokeh_is_loading = undefined;\n",
       "  }\n",
       "\n",
       "  var JS_MIME_TYPE = 'application/javascript';\n",
       "  var HTML_MIME_TYPE = 'text/html';\n",
       "  var EXEC_MIME_TYPE = 'application/vnd.bokehjs_exec.v0+json';\n",
       "  var CLASS_NAME = 'output_bokeh rendered_html';\n",
       "\n",
       "  /**\n",
       "   * Render data to the DOM node\n",
       "   */\n",
       "  function render(props, node) {\n",
       "    var script = document.createElement(\"script\");\n",
       "    node.appendChild(script);\n",
       "  }\n",
       "\n",
       "  /**\n",
       "   * Handle when an output is cleared or removed\n",
       "   */\n",
       "  function handleClearOutput(event, handle) {\n",
       "    var cell = handle.cell;\n",
       "\n",
       "    var id = cell.output_area._bokeh_element_id;\n",
       "    var server_id = cell.output_area._bokeh_server_id;\n",
       "    // Clean up Bokeh references\n",
       "    if (id != null && id in Bokeh.index) {\n",
       "      Bokeh.index[id].model.document.clear();\n",
       "      delete Bokeh.index[id];\n",
       "    }\n",
       "\n",
       "    if (server_id !== undefined) {\n",
       "      // Clean up Bokeh references\n",
       "      var cmd = \"from bokeh.io.state import curstate; print(curstate().uuid_to_server['\" + server_id + \"'].get_sessions()[0].document.roots[0]._id)\";\n",
       "      cell.notebook.kernel.execute(cmd, {\n",
       "        iopub: {\n",
       "          output: function(msg) {\n",
       "            var id = msg.content.text.trim();\n",
       "            if (id in Bokeh.index) {\n",
       "              Bokeh.index[id].model.document.clear();\n",
       "              delete Bokeh.index[id];\n",
       "            }\n",
       "          }\n",
       "        }\n",
       "      });\n",
       "      // Destroy server and session\n",
       "      var cmd = \"import bokeh.io.notebook as ion; ion.destroy_server('\" + server_id + \"')\";\n",
       "      cell.notebook.kernel.execute(cmd);\n",
       "    }\n",
       "  }\n",
       "\n",
       "  /**\n",
       "   * Handle when a new output is added\n",
       "   */\n",
       "  function handleAddOutput(event, handle) {\n",
       "    var output_area = handle.output_area;\n",
       "    var output = handle.output;\n",
       "\n",
       "    // limit handleAddOutput to display_data with EXEC_MIME_TYPE content only\n",
       "    if ((output.output_type != \"display_data\") || (!output.data.hasOwnProperty(EXEC_MIME_TYPE))) {\n",
       "      return\n",
       "    }\n",
       "\n",
       "    var toinsert = output_area.element.find(\".\" + CLASS_NAME.split(' ')[0]);\n",
       "\n",
       "    if (output.metadata[EXEC_MIME_TYPE][\"id\"] !== undefined) {\n",
       "      toinsert[toinsert.length - 1].firstChild.textContent = output.data[JS_MIME_TYPE];\n",
       "      // store reference to embed id on output_area\n",
       "      output_area._bokeh_element_id = output.metadata[EXEC_MIME_TYPE][\"id\"];\n",
       "    }\n",
       "    if (output.metadata[EXEC_MIME_TYPE][\"server_id\"] !== undefined) {\n",
       "      var bk_div = document.createElement(\"div\");\n",
       "      bk_div.innerHTML = output.data[HTML_MIME_TYPE];\n",
       "      var script_attrs = bk_div.children[0].attributes;\n",
       "      for (var i = 0; i < script_attrs.length; i++) {\n",
       "        toinsert[toinsert.length - 1].firstChild.setAttribute(script_attrs[i].name, script_attrs[i].value);\n",
       "      }\n",
       "      // store reference to server id on output_area\n",
       "      output_area._bokeh_server_id = output.metadata[EXEC_MIME_TYPE][\"server_id\"];\n",
       "    }\n",
       "  }\n",
       "\n",
       "  function register_renderer(events, OutputArea) {\n",
       "\n",
       "    function append_mime(data, metadata, element) {\n",
       "      // create a DOM node to render to\n",
       "      var toinsert = this.create_output_subarea(\n",
       "        metadata,\n",
       "        CLASS_NAME,\n",
       "        EXEC_MIME_TYPE\n",
       "      );\n",
       "      this.keyboard_manager.register_events(toinsert);\n",
       "      // Render to node\n",
       "      var props = {data: data, metadata: metadata[EXEC_MIME_TYPE]};\n",
       "      render(props, toinsert[toinsert.length - 1]);\n",
       "      element.append(toinsert);\n",
       "      return toinsert\n",
       "    }\n",
       "\n",
       "    /* Handle when an output is cleared or removed */\n",
       "    events.on('clear_output.CodeCell', handleClearOutput);\n",
       "    events.on('delete.Cell', handleClearOutput);\n",
       "\n",
       "    /* Handle when a new output is added */\n",
       "    events.on('output_added.OutputArea', handleAddOutput);\n",
       "\n",
       "    /**\n",
       "     * Register the mime type and append_mime function with output_area\n",
       "     */\n",
       "    OutputArea.prototype.register_mime_type(EXEC_MIME_TYPE, append_mime, {\n",
       "      /* Is output safe? */\n",
       "      safe: true,\n",
       "      /* Index of renderer in `output_area.display_order` */\n",
       "      index: 0\n",
       "    });\n",
       "  }\n",
       "\n",
       "  // register the mime type if in Jupyter Notebook environment and previously unregistered\n",
       "  if (root.Jupyter !== undefined) {\n",
       "    var events = require('base/js/events');\n",
       "    var OutputArea = require('notebook/js/outputarea').OutputArea;\n",
       "\n",
       "    if (OutputArea.prototype.mime_types().indexOf(EXEC_MIME_TYPE) == -1) {\n",
       "      register_renderer(events, OutputArea);\n",
       "    }\n",
       "  }\n",
       "\n",
       "  \n",
       "  if (typeof (root._bokeh_timeout) === \"undefined\" || force === true) {\n",
       "    root._bokeh_timeout = Date.now() + 5000;\n",
       "    root._bokeh_failed_load = false;\n",
       "  }\n",
       "\n",
       "  var NB_LOAD_WARNING = {'data': {'text/html':\n",
       "     \"<div style='background-color: #fdd'>\\n\"+\n",
       "     \"<p>\\n\"+\n",
       "     \"BokehJS does not appear to have successfully loaded. If loading BokehJS from CDN, this \\n\"+\n",
       "     \"may be due to a slow or bad network connection. Possible fixes:\\n\"+\n",
       "     \"</p>\\n\"+\n",
       "     \"<ul>\\n\"+\n",
       "     \"<li>re-rerun `output_notebook()` to attempt to load from CDN again, or</li>\\n\"+\n",
       "     \"<li>use INLINE resources instead, as so:</li>\\n\"+\n",
       "     \"</ul>\\n\"+\n",
       "     \"<code>\\n\"+\n",
       "     \"from bokeh.resources import INLINE\\n\"+\n",
       "     \"output_notebook(resources=INLINE)\\n\"+\n",
       "     \"</code>\\n\"+\n",
       "     \"</div>\"}};\n",
       "\n",
       "  function display_loaded() {\n",
       "    var el = document.getElementById(\"1003\");\n",
       "    if (el != null) {\n",
       "      el.textContent = \"BokehJS is loading...\";\n",
       "    }\n",
       "    if (root.Bokeh !== undefined) {\n",
       "      if (el != null) {\n",
       "        el.textContent = \"BokehJS \" + root.Bokeh.version + \" successfully loaded.\";\n",
       "      }\n",
       "    } else if (Date.now() < root._bokeh_timeout) {\n",
       "      setTimeout(display_loaded, 100)\n",
       "    }\n",
       "  }\n",
       "\n",
       "\n",
       "  function run_callbacks() {\n",
       "    try {\n",
       "      root._bokeh_onload_callbacks.forEach(function(callback) {\n",
       "        if (callback != null)\n",
       "          callback();\n",
       "      });\n",
       "    } finally {\n",
       "      delete root._bokeh_onload_callbacks\n",
       "    }\n",
       "    console.debug(\"Bokeh: all callbacks have finished\");\n",
       "  }\n",
       "\n",
       "  function load_libs(css_urls, js_urls, callback) {\n",
       "    if (css_urls == null) css_urls = [];\n",
       "    if (js_urls == null) js_urls = [];\n",
       "\n",
       "    root._bokeh_onload_callbacks.push(callback);\n",
       "    if (root._bokeh_is_loading > 0) {\n",
       "      console.debug(\"Bokeh: BokehJS is being loaded, scheduling callback at\", now());\n",
       "      return null;\n",
       "    }\n",
       "    if (js_urls == null || js_urls.length === 0) {\n",
       "      run_callbacks();\n",
       "      return null;\n",
       "    }\n",
       "    console.debug(\"Bokeh: BokehJS not loaded, scheduling load and callback at\", now());\n",
       "    root._bokeh_is_loading = css_urls.length + js_urls.length;\n",
       "\n",
       "    function on_load() {\n",
       "      root._bokeh_is_loading--;\n",
       "      if (root._bokeh_is_loading === 0) {\n",
       "        console.debug(\"Bokeh: all BokehJS libraries/stylesheets loaded\");\n",
       "        run_callbacks()\n",
       "      }\n",
       "    }\n",
       "\n",
       "    function on_error() {\n",
       "      console.error(\"failed to load \" + url);\n",
       "    }\n",
       "\n",
       "    for (var i = 0; i < css_urls.length; i++) {\n",
       "      var url = css_urls[i];\n",
       "      const element = document.createElement(\"link\");\n",
       "      element.onload = on_load;\n",
       "      element.onerror = on_error;\n",
       "      element.rel = \"stylesheet\";\n",
       "      element.type = \"text/css\";\n",
       "      element.href = url;\n",
       "      console.debug(\"Bokeh: injecting link tag for BokehJS stylesheet: \", url);\n",
       "      document.body.appendChild(element);\n",
       "    }\n",
       "\n",
       "    for (var i = 0; i < js_urls.length; i++) {\n",
       "      var url = js_urls[i];\n",
       "      var element = document.createElement('script');\n",
       "      element.onload = on_load;\n",
       "      element.onerror = on_error;\n",
       "      element.async = false;\n",
       "      element.src = url;\n",
       "      console.debug(\"Bokeh: injecting script tag for BokehJS library: \", url);\n",
       "      document.head.appendChild(element);\n",
       "    }\n",
       "  };var element = document.getElementById(\"1003\");\n",
       "  if (element == null) {\n",
       "    console.error(\"Bokeh: ERROR: autoload.js configured with elementid '1003' but no matching script tag was found. \")\n",
       "    return false;\n",
       "  }\n",
       "\n",
       "  function inject_raw_css(css) {\n",
       "    const element = document.createElement(\"style\");\n",
       "    element.appendChild(document.createTextNode(css));\n",
       "    document.body.appendChild(element);\n",
       "  }\n",
       "\n",
       "  var js_urls = [\"https://cdn.pydata.org/bokeh/release/bokeh-1.2.0.min.js\", \"https://cdn.pydata.org/bokeh/release/bokeh-widgets-1.2.0.min.js\", \"https://cdn.pydata.org/bokeh/release/bokeh-tables-1.2.0.min.js\", \"https://cdn.pydata.org/bokeh/release/bokeh-gl-1.2.0.min.js\"];\n",
       "  var css_urls = [\"https://cdn.pydata.org/bokeh/release/bokeh-1.2.0.min.css\", \"https://cdn.pydata.org/bokeh/release/bokeh-widgets-1.2.0.min.css\", \"https://cdn.pydata.org/bokeh/release/bokeh-tables-1.2.0.min.css\"];\n",
       "\n",
       "  var inline_js = [\n",
       "    function(Bokeh) {\n",
       "      Bokeh.set_log_level(\"info\");\n",
       "    },\n",
       "    \n",
       "    function(Bokeh) {\n",
       "      \n",
       "    },\n",
       "    function(Bokeh) {} // ensure no trailing comma for IE\n",
       "  ];\n",
       "\n",
       "  function run_inline_js() {\n",
       "    \n",
       "    if ((root.Bokeh !== undefined) || (force === true)) {\n",
       "      for (var i = 0; i < inline_js.length; i++) {\n",
       "        inline_js[i].call(root, root.Bokeh);\n",
       "      }if (force === true) {\n",
       "        display_loaded();\n",
       "      }} else if (Date.now() < root._bokeh_timeout) {\n",
       "      setTimeout(run_inline_js, 100);\n",
       "    } else if (!root._bokeh_failed_load) {\n",
       "      console.log(\"Bokeh: BokehJS failed to load within specified timeout.\");\n",
       "      root._bokeh_failed_load = true;\n",
       "    } else if (force !== true) {\n",
       "      var cell = $(document.getElementById(\"1003\")).parents('.cell').data().cell;\n",
       "      cell.output_area.append_execute_result(NB_LOAD_WARNING)\n",
       "    }\n",
       "\n",
       "  }\n",
       "\n",
       "  if (root._bokeh_is_loading === 0) {\n",
       "    console.debug(\"Bokeh: BokehJS loaded, going straight to plotting\");\n",
       "    run_inline_js();\n",
       "  } else {\n",
       "    load_libs(css_urls, js_urls, function() {\n",
       "      console.debug(\"Bokeh: BokehJS plotting callback run at\", now());\n",
       "      run_inline_js();\n",
       "    });\n",
       "  }\n",
       "}(window));"
      ],
      "application/vnd.bokehjs_load.v0+json": "\n(function(root) {\n  function now() {\n    return new Date();\n  }\n\n  var force = true;\n\n  if (typeof root._bokeh_onload_callbacks === \"undefined\" || force === true) {\n    root._bokeh_onload_callbacks = [];\n    root._bokeh_is_loading = undefined;\n  }\n\n  \n\n  \n  if (typeof (root._bokeh_timeout) === \"undefined\" || force === true) {\n    root._bokeh_timeout = Date.now() + 5000;\n    root._bokeh_failed_load = false;\n  }\n\n  var NB_LOAD_WARNING = {'data': {'text/html':\n     \"<div style='background-color: #fdd'>\\n\"+\n     \"<p>\\n\"+\n     \"BokehJS does not appear to have successfully loaded. If loading BokehJS from CDN, this \\n\"+\n     \"may be due to a slow or bad network connection. Possible fixes:\\n\"+\n     \"</p>\\n\"+\n     \"<ul>\\n\"+\n     \"<li>re-rerun `output_notebook()` to attempt to load from CDN again, or</li>\\n\"+\n     \"<li>use INLINE resources instead, as so:</li>\\n\"+\n     \"</ul>\\n\"+\n     \"<code>\\n\"+\n     \"from bokeh.resources import INLINE\\n\"+\n     \"output_notebook(resources=INLINE)\\n\"+\n     \"</code>\\n\"+\n     \"</div>\"}};\n\n  function display_loaded() {\n    var el = document.getElementById(\"1003\");\n    if (el != null) {\n      el.textContent = \"BokehJS is loading...\";\n    }\n    if (root.Bokeh !== undefined) {\n      if (el != null) {\n        el.textContent = \"BokehJS \" + root.Bokeh.version + \" successfully loaded.\";\n      }\n    } else if (Date.now() < root._bokeh_timeout) {\n      setTimeout(display_loaded, 100)\n    }\n  }\n\n\n  function run_callbacks() {\n    try {\n      root._bokeh_onload_callbacks.forEach(function(callback) {\n        if (callback != null)\n          callback();\n      });\n    } finally {\n      delete root._bokeh_onload_callbacks\n    }\n    console.debug(\"Bokeh: all callbacks have finished\");\n  }\n\n  function load_libs(css_urls, js_urls, callback) {\n    if (css_urls == null) css_urls = [];\n    if (js_urls == null) js_urls = [];\n\n    root._bokeh_onload_callbacks.push(callback);\n    if (root._bokeh_is_loading > 0) {\n      console.debug(\"Bokeh: BokehJS is being loaded, scheduling callback at\", now());\n      return null;\n    }\n    if (js_urls == null || js_urls.length === 0) {\n      run_callbacks();\n      return null;\n    }\n    console.debug(\"Bokeh: BokehJS not loaded, scheduling load and callback at\", now());\n    root._bokeh_is_loading = css_urls.length + js_urls.length;\n\n    function on_load() {\n      root._bokeh_is_loading--;\n      if (root._bokeh_is_loading === 0) {\n        console.debug(\"Bokeh: all BokehJS libraries/stylesheets loaded\");\n        run_callbacks()\n      }\n    }\n\n    function on_error() {\n      console.error(\"failed to load \" + url);\n    }\n\n    for (var i = 0; i < css_urls.length; i++) {\n      var url = css_urls[i];\n      const element = document.createElement(\"link\");\n      element.onload = on_load;\n      element.onerror = on_error;\n      element.rel = \"stylesheet\";\n      element.type = \"text/css\";\n      element.href = url;\n      console.debug(\"Bokeh: injecting link tag for BokehJS stylesheet: \", url);\n      document.body.appendChild(element);\n    }\n\n    for (var i = 0; i < js_urls.length; i++) {\n      var url = js_urls[i];\n      var element = document.createElement('script');\n      element.onload = on_load;\n      element.onerror = on_error;\n      element.async = false;\n      element.src = url;\n      console.debug(\"Bokeh: injecting script tag for BokehJS library: \", url);\n      document.head.appendChild(element);\n    }\n  };var element = document.getElementById(\"1003\");\n  if (element == null) {\n    console.error(\"Bokeh: ERROR: autoload.js configured with elementid '1003' but no matching script tag was found. \")\n    return false;\n  }\n\n  function inject_raw_css(css) {\n    const element = document.createElement(\"style\");\n    element.appendChild(document.createTextNode(css));\n    document.body.appendChild(element);\n  }\n\n  var js_urls = [\"https://cdn.pydata.org/bokeh/release/bokeh-1.2.0.min.js\", \"https://cdn.pydata.org/bokeh/release/bokeh-widgets-1.2.0.min.js\", \"https://cdn.pydata.org/bokeh/release/bokeh-tables-1.2.0.min.js\", \"https://cdn.pydata.org/bokeh/release/bokeh-gl-1.2.0.min.js\"];\n  var css_urls = [\"https://cdn.pydata.org/bokeh/release/bokeh-1.2.0.min.css\", \"https://cdn.pydata.org/bokeh/release/bokeh-widgets-1.2.0.min.css\", \"https://cdn.pydata.org/bokeh/release/bokeh-tables-1.2.0.min.css\"];\n\n  var inline_js = [\n    function(Bokeh) {\n      Bokeh.set_log_level(\"info\");\n    },\n    \n    function(Bokeh) {\n      \n    },\n    function(Bokeh) {} // ensure no trailing comma for IE\n  ];\n\n  function run_inline_js() {\n    \n    if ((root.Bokeh !== undefined) || (force === true)) {\n      for (var i = 0; i < inline_js.length; i++) {\n        inline_js[i].call(root, root.Bokeh);\n      }if (force === true) {\n        display_loaded();\n      }} else if (Date.now() < root._bokeh_timeout) {\n      setTimeout(run_inline_js, 100);\n    } else if (!root._bokeh_failed_load) {\n      console.log(\"Bokeh: BokehJS failed to load within specified timeout.\");\n      root._bokeh_failed_load = true;\n    } else if (force !== true) {\n      var cell = $(document.getElementById(\"1003\")).parents('.cell').data().cell;\n      cell.output_area.append_execute_result(NB_LOAD_WARNING)\n    }\n\n  }\n\n  if (root._bokeh_is_loading === 0) {\n    console.debug(\"Bokeh: BokehJS loaded, going straight to plotting\");\n    run_inline_js();\n  } else {\n    load_libs(css_urls, js_urls, function() {\n      console.debug(\"Bokeh: BokehJS plotting callback run at\", now());\n      run_inline_js();\n    });\n  }\n}(window));"
     },
     "metadata": {},
     "output_type": "display_data"
    }
   ],
   "source": [
    "output_notebook()"
   ]
  },
  {
   "cell_type": "code",
   "execution_count": 24,
   "metadata": {},
   "outputs": [],
   "source": [
    "import bokeh.sampledata\n"
   ]
  },
  {
   "cell_type": "markdown",
   "metadata": {},
   "source": [
    "## 1- Scatter Plots "
   ]
  },
  {
   "cell_type": "code",
   "execution_count": 13,
   "metadata": {},
   "outputs": [
    {
     "data": {
      "text/html": [
       "\n",
       "\n",
       "\n",
       "\n",
       "\n",
       "\n",
       "  <div class=\"bk-root\" id=\"e63d0ea4-a43a-4d6a-a8b5-30ab7f8379b6\" data-root-id=\"1458\"></div>\n"
      ]
     },
     "metadata": {},
     "output_type": "display_data"
    },
    {
     "data": {
      "application/javascript": [
       "(function(root) {\n",
       "  function embed_document(root) {\n",
       "    \n",
       "  var docs_json = {\"e20c70d5-e505-4fd0-a293-760a9f4a6897\":{\"roots\":{\"references\":[{\"attributes\":{\"below\":[{\"id\":\"1467\",\"type\":\"LinearAxis\"}],\"center\":[{\"id\":\"1471\",\"type\":\"Grid\"},{\"id\":\"1476\",\"type\":\"Grid\"}],\"left\":[{\"id\":\"1472\",\"type\":\"LinearAxis\"}],\"plot_height\":400,\"plot_width\":400,\"renderers\":[{\"id\":\"1493\",\"type\":\"GlyphRenderer\"}],\"title\":{\"id\":\"1532\",\"type\":\"Title\"},\"toolbar\":{\"id\":\"1483\",\"type\":\"Toolbar\"},\"x_range\":{\"id\":\"1459\",\"type\":\"DataRange1d\"},\"x_scale\":{\"id\":\"1463\",\"type\":\"LinearScale\"},\"y_range\":{\"id\":\"1461\",\"type\":\"DataRange1d\"},\"y_scale\":{\"id\":\"1465\",\"type\":\"LinearScale\"}},\"id\":\"1458\",\"subtype\":\"Figure\",\"type\":\"Plot\"},{\"attributes\":{},\"id\":\"1465\",\"type\":\"LinearScale\"},{\"attributes\":{},\"id\":\"1536\",\"type\":\"BasicTickFormatter\"},{\"attributes\":{\"bottom_units\":\"screen\",\"fill_alpha\":{\"value\":0.5},\"fill_color\":{\"value\":\"lightgrey\"},\"left_units\":\"screen\",\"level\":\"overlay\",\"line_alpha\":{\"value\":1.0},\"line_color\":{\"value\":\"black\"},\"line_dash\":[4,4],\"line_width\":{\"value\":2},\"render_mode\":\"css\",\"right_units\":\"screen\",\"top_units\":\"screen\"},\"id\":\"1537\",\"type\":\"BoxAnnotation\"},{\"attributes\":{},\"id\":\"1463\",\"type\":\"LinearScale\"},{\"attributes\":{},\"id\":\"1538\",\"type\":\"UnionRenderers\"},{\"attributes\":{\"callback\":null},\"id\":\"1461\",\"type\":\"DataRange1d\"},{\"attributes\":{\"callback\":null},\"id\":\"1459\",\"type\":\"DataRange1d\"},{\"attributes\":{\"fill_alpha\":{\"value\":0.1},\"fill_color\":{\"value\":\"#1f77b4\"},\"line_alpha\":{\"value\":0.1},\"line_color\":{\"value\":\"#1f77b4\"},\"size\":{\"units\":\"screen\",\"value\":15},\"x\":{\"field\":\"x\"},\"y\":{\"field\":\"y\"}},\"id\":\"1492\",\"type\":\"Circle\"},{\"attributes\":{},\"id\":\"1539\",\"type\":\"Selection\"},{\"attributes\":{\"data_source\":{\"id\":\"1490\",\"type\":\"ColumnDataSource\"},\"glyph\":{\"id\":\"1491\",\"type\":\"Circle\"},\"hover_glyph\":null,\"muted_glyph\":null,\"nonselection_glyph\":{\"id\":\"1492\",\"type\":\"Circle\"},\"selection_glyph\":null,\"view\":{\"id\":\"1494\",\"type\":\"CDSView\"}},\"id\":\"1493\",\"type\":\"GlyphRenderer\"},{\"attributes\":{\"callback\":null,\"data\":{\"x\":[1,2,3,4,5],\"y\":[6,7,2,4,5]},\"selected\":{\"id\":\"1539\",\"type\":\"Selection\"},\"selection_policy\":{\"id\":\"1538\",\"type\":\"UnionRenderers\"}},\"id\":\"1490\",\"type\":\"ColumnDataSource\"},{\"attributes\":{},\"id\":\"1534\",\"type\":\"BasicTickFormatter\"},{\"attributes\":{\"dimension\":1,\"ticker\":{\"id\":\"1473\",\"type\":\"BasicTicker\"}},\"id\":\"1476\",\"type\":\"Grid\"},{\"attributes\":{},\"id\":\"1482\",\"type\":\"HelpTool\"},{\"attributes\":{},\"id\":\"1473\",\"type\":\"BasicTicker\"},{\"attributes\":{\"active_drag\":\"auto\",\"active_inspect\":\"auto\",\"active_multi\":null,\"active_scroll\":\"auto\",\"active_tap\":\"auto\",\"tools\":[{\"id\":\"1477\",\"type\":\"PanTool\"},{\"id\":\"1478\",\"type\":\"WheelZoomTool\"},{\"id\":\"1479\",\"type\":\"BoxZoomTool\"},{\"id\":\"1480\",\"type\":\"SaveTool\"},{\"id\":\"1481\",\"type\":\"ResetTool\"},{\"id\":\"1482\",\"type\":\"HelpTool\"}]},\"id\":\"1483\",\"type\":\"Toolbar\"},{\"attributes\":{\"text\":\"\"},\"id\":\"1532\",\"type\":\"Title\"},{\"attributes\":{},\"id\":\"1477\",\"type\":\"PanTool\"},{\"attributes\":{},\"id\":\"1481\",\"type\":\"ResetTool\"},{\"attributes\":{},\"id\":\"1480\",\"type\":\"SaveTool\"},{\"attributes\":{\"formatter\":{\"id\":\"1536\",\"type\":\"BasicTickFormatter\"},\"ticker\":{\"id\":\"1473\",\"type\":\"BasicTicker\"}},\"id\":\"1472\",\"type\":\"LinearAxis\"},{\"attributes\":{\"fill_alpha\":{\"value\":0.9},\"fill_color\":{\"value\":\"red\"},\"line_color\":{\"value\":\"red\"},\"size\":{\"units\":\"screen\",\"value\":15},\"x\":{\"field\":\"x\"},\"y\":{\"field\":\"y\"}},\"id\":\"1491\",\"type\":\"Circle\"},{\"attributes\":{},\"id\":\"1468\",\"type\":\"BasicTicker\"},{\"attributes\":{},\"id\":\"1478\",\"type\":\"WheelZoomTool\"},{\"attributes\":{\"source\":{\"id\":\"1490\",\"type\":\"ColumnDataSource\"}},\"id\":\"1494\",\"type\":\"CDSView\"},{\"attributes\":{\"ticker\":{\"id\":\"1468\",\"type\":\"BasicTicker\"}},\"id\":\"1471\",\"type\":\"Grid\"},{\"attributes\":{\"overlay\":{\"id\":\"1537\",\"type\":\"BoxAnnotation\"}},\"id\":\"1479\",\"type\":\"BoxZoomTool\"},{\"attributes\":{\"formatter\":{\"id\":\"1534\",\"type\":\"BasicTickFormatter\"},\"ticker\":{\"id\":\"1468\",\"type\":\"BasicTicker\"}},\"id\":\"1467\",\"type\":\"LinearAxis\"}],\"root_ids\":[\"1458\"]},\"title\":\"Bokeh Application\",\"version\":\"1.2.0\"}};\n",
       "  var render_items = [{\"docid\":\"e20c70d5-e505-4fd0-a293-760a9f4a6897\",\"roots\":{\"1458\":\"e63d0ea4-a43a-4d6a-a8b5-30ab7f8379b6\"}}];\n",
       "  root.Bokeh.embed.embed_items_notebook(docs_json, render_items);\n",
       "\n",
       "  }\n",
       "  if (root.Bokeh !== undefined) {\n",
       "    embed_document(root);\n",
       "  } else {\n",
       "    var attempts = 0;\n",
       "    var timer = setInterval(function(root) {\n",
       "      if (root.Bokeh !== undefined) {\n",
       "        embed_document(root);\n",
       "        clearInterval(timer);\n",
       "      }\n",
       "      attempts++;\n",
       "      if (attempts > 100) {\n",
       "        console.log(\"Bokeh: ERROR: Unable to run BokehJS code because BokehJS library is missing\");\n",
       "        clearInterval(timer);\n",
       "      }\n",
       "    }, 10, root)\n",
       "  }\n",
       "})(window);"
      ],
      "application/vnd.bokehjs_exec.v0+json": ""
     },
     "metadata": {
      "application/vnd.bokehjs_exec.v0+json": {
       "id": "1458"
      }
     },
     "output_type": "display_data"
    }
   ],
   "source": [
    "# create a new plot with default tools, using figure\n",
    "p = figure(plot_width=400, plot_height=400)\n",
    "\n",
    "# add a circle renderer with x and y coordinates, size, color, and alpha\n",
    "p.circle([1, 2, 3, 4, 5], [6, 7, 2, 4, 5], size=15, line_color=\"navy\", fill_color=\"orange\", fill_alpha=0.9)\n",
    "\n",
    "show(p) # show the results"
   ]
  },
  {
   "cell_type": "markdown",
   "metadata": {},
   "source": [
    "**#1 EXERCISE: Try changing the example above to set a `radius` value instead of `size`"
   ]
  },
  {
   "cell_type": "code",
   "execution_count": 18,
   "metadata": {},
   "outputs": [
    {
     "data": {
      "text/html": [
       "\n",
       "\n",
       "\n",
       "\n",
       "\n",
       "\n",
       "  <div class=\"bk-root\" id=\"183d3af0-00ab-4adb-8bf2-2a7e371e6bdc\" data-root-id=\"2228\"></div>\n"
      ]
     },
     "metadata": {},
     "output_type": "display_data"
    },
    {
     "data": {
      "application/javascript": [
       "(function(root) {\n",
       "  function embed_document(root) {\n",
       "    \n",
       "  var docs_json = {\"eeb86b8a-977c-45f7-b3a7-cde2cca67dc7\":{\"roots\":{\"references\":[{\"attributes\":{\"below\":[{\"id\":\"2237\",\"type\":\"LinearAxis\"}],\"center\":[{\"id\":\"2241\",\"type\":\"Grid\"},{\"id\":\"2246\",\"type\":\"Grid\"}],\"left\":[{\"id\":\"2242\",\"type\":\"LinearAxis\"}],\"plot_height\":400,\"plot_width\":400,\"renderers\":[{\"id\":\"2263\",\"type\":\"GlyphRenderer\"}],\"title\":{\"id\":\"2347\",\"type\":\"Title\"},\"toolbar\":{\"id\":\"2253\",\"type\":\"Toolbar\"},\"x_range\":{\"id\":\"2229\",\"type\":\"DataRange1d\"},\"x_scale\":{\"id\":\"2233\",\"type\":\"LinearScale\"},\"y_range\":{\"id\":\"2231\",\"type\":\"DataRange1d\"},\"y_scale\":{\"id\":\"2235\",\"type\":\"LinearScale\"}},\"id\":\"2228\",\"subtype\":\"Figure\",\"type\":\"Plot\"},{\"attributes\":{\"formatter\":{\"id\":\"2349\",\"type\":\"BasicTickFormatter\"},\"ticker\":{\"id\":\"2238\",\"type\":\"BasicTicker\"}},\"id\":\"2237\",\"type\":\"LinearAxis\"},{\"attributes\":{\"callback\":null},\"id\":\"2231\",\"type\":\"DataRange1d\"},{\"attributes\":{\"source\":{\"id\":\"2260\",\"type\":\"ColumnDataSource\"}},\"id\":\"2264\",\"type\":\"CDSView\"},{\"attributes\":{},\"id\":\"2235\",\"type\":\"LinearScale\"},{\"attributes\":{},\"id\":\"2354\",\"type\":\"Selection\"},{\"attributes\":{},\"id\":\"2251\",\"type\":\"ResetTool\"},{\"attributes\":{\"callback\":null},\"id\":\"2229\",\"type\":\"DataRange1d\"},{\"attributes\":{\"callback\":null,\"data\":{\"x\":[1,2,3,4,5],\"y\":[6,7,2,4,5]},\"selected\":{\"id\":\"2354\",\"type\":\"Selection\"},\"selection_policy\":{\"id\":\"2353\",\"type\":\"UnionRenderers\"}},\"id\":\"2260\",\"type\":\"ColumnDataSource\"},{\"attributes\":{\"formatter\":{\"id\":\"2351\",\"type\":\"BasicTickFormatter\"},\"ticker\":{\"id\":\"2243\",\"type\":\"BasicTicker\"}},\"id\":\"2242\",\"type\":\"LinearAxis\"},{\"attributes\":{},\"id\":\"2353\",\"type\":\"UnionRenderers\"},{\"attributes\":{\"text\":\"\"},\"id\":\"2347\",\"type\":\"Title\"},{\"attributes\":{\"fill_alpha\":{\"value\":0.9},\"fill_color\":{\"value\":\"orange\"},\"line_color\":{\"value\":\"navy\"},\"radius\":{\"units\":\"data\",\"value\":0.07},\"x\":{\"field\":\"x\"},\"y\":{\"field\":\"y\"}},\"id\":\"2261\",\"type\":\"Circle\"},{\"attributes\":{\"bottom_units\":\"screen\",\"fill_alpha\":{\"value\":0.5},\"fill_color\":{\"value\":\"lightgrey\"},\"left_units\":\"screen\",\"level\":\"overlay\",\"line_alpha\":{\"value\":1.0},\"line_color\":{\"value\":\"black\"},\"line_dash\":[4,4],\"line_width\":{\"value\":2},\"render_mode\":\"css\",\"right_units\":\"screen\",\"top_units\":\"screen\"},\"id\":\"2352\",\"type\":\"BoxAnnotation\"},{\"attributes\":{\"fill_alpha\":{\"value\":0.1},\"fill_color\":{\"value\":\"#1f77b4\"},\"line_alpha\":{\"value\":0.1},\"line_color\":{\"value\":\"#1f77b4\"},\"radius\":{\"units\":\"data\",\"value\":0.07},\"x\":{\"field\":\"x\"},\"y\":{\"field\":\"y\"}},\"id\":\"2262\",\"type\":\"Circle\"},{\"attributes\":{\"dimension\":1,\"ticker\":{\"id\":\"2243\",\"type\":\"BasicTicker\"}},\"id\":\"2246\",\"type\":\"Grid\"},{\"attributes\":{},\"id\":\"2233\",\"type\":\"LinearScale\"},{\"attributes\":{},\"id\":\"2243\",\"type\":\"BasicTicker\"},{\"attributes\":{},\"id\":\"2247\",\"type\":\"PanTool\"},{\"attributes\":{},\"id\":\"2248\",\"type\":\"WheelZoomTool\"},{\"attributes\":{},\"id\":\"2250\",\"type\":\"SaveTool\"},{\"attributes\":{\"overlay\":{\"id\":\"2352\",\"type\":\"BoxAnnotation\"}},\"id\":\"2249\",\"type\":\"BoxZoomTool\"},{\"attributes\":{},\"id\":\"2351\",\"type\":\"BasicTickFormatter\"},{\"attributes\":{},\"id\":\"2252\",\"type\":\"HelpTool\"},{\"attributes\":{\"ticker\":{\"id\":\"2238\",\"type\":\"BasicTicker\"}},\"id\":\"2241\",\"type\":\"Grid\"},{\"attributes\":{\"data_source\":{\"id\":\"2260\",\"type\":\"ColumnDataSource\"},\"glyph\":{\"id\":\"2261\",\"type\":\"Circle\"},\"hover_glyph\":null,\"muted_glyph\":null,\"nonselection_glyph\":{\"id\":\"2262\",\"type\":\"Circle\"},\"selection_glyph\":null,\"view\":{\"id\":\"2264\",\"type\":\"CDSView\"}},\"id\":\"2263\",\"type\":\"GlyphRenderer\"},{\"attributes\":{},\"id\":\"2349\",\"type\":\"BasicTickFormatter\"},{\"attributes\":{\"active_drag\":\"auto\",\"active_inspect\":\"auto\",\"active_multi\":null,\"active_scroll\":\"auto\",\"active_tap\":\"auto\",\"tools\":[{\"id\":\"2247\",\"type\":\"PanTool\"},{\"id\":\"2248\",\"type\":\"WheelZoomTool\"},{\"id\":\"2249\",\"type\":\"BoxZoomTool\"},{\"id\":\"2250\",\"type\":\"SaveTool\"},{\"id\":\"2251\",\"type\":\"ResetTool\"},{\"id\":\"2252\",\"type\":\"HelpTool\"}]},\"id\":\"2253\",\"type\":\"Toolbar\"},{\"attributes\":{},\"id\":\"2238\",\"type\":\"BasicTicker\"}],\"root_ids\":[\"2228\"]},\"title\":\"Bokeh Application\",\"version\":\"1.2.0\"}};\n",
       "  var render_items = [{\"docid\":\"eeb86b8a-977c-45f7-b3a7-cde2cca67dc7\",\"roots\":{\"2228\":\"183d3af0-00ab-4adb-8bf2-2a7e371e6bdc\"}}];\n",
       "  root.Bokeh.embed.embed_items_notebook(docs_json, render_items);\n",
       "\n",
       "  }\n",
       "  if (root.Bokeh !== undefined) {\n",
       "    embed_document(root);\n",
       "  } else {\n",
       "    var attempts = 0;\n",
       "    var timer = setInterval(function(root) {\n",
       "      if (root.Bokeh !== undefined) {\n",
       "        embed_document(root);\n",
       "        clearInterval(timer);\n",
       "      }\n",
       "      attempts++;\n",
       "      if (attempts > 100) {\n",
       "        console.log(\"Bokeh: ERROR: Unable to run BokehJS code because BokehJS library is missing\");\n",
       "        clearInterval(timer);\n",
       "      }\n",
       "    }, 10, root)\n",
       "  }\n",
       "})(window);"
      ],
      "application/vnd.bokehjs_exec.v0+json": ""
     },
     "metadata": {
      "application/vnd.bokehjs_exec.v0+json": {
       "id": "2228"
      }
     },
     "output_type": "display_data"
    }
   ],
   "source": [
    "# create a new plot with default tools, using figure\n",
    "p = figure(plot_width=400, plot_height=400)\n",
    "\n",
    "# add a circle renderer with x and y coordinates, size, color, and alpha\n",
    "p.circle([1, 2, 3, 4, 5], [6, 7, 2, 4, 5], radius=.07, line_color=\"navy\", fill_color=\"orange\", fill_alpha=0.9)\n",
    "\n",
    "show(p) # show the results"
   ]
  },
  {
   "cell_type": "markdown",
   "metadata": {},
   "source": [
    "**#2 EXERCISE: Make a scatter plot using the \"autompg\" dataset\n"
   ]
  },
  {
   "cell_type": "code",
   "execution_count": 28,
   "metadata": {},
   "outputs": [
    {
     "data": {
      "text/html": [
       "<div>\n",
       "<style scoped>\n",
       "    .dataframe tbody tr th:only-of-type {\n",
       "        vertical-align: middle;\n",
       "    }\n",
       "\n",
       "    .dataframe tbody tr th {\n",
       "        vertical-align: top;\n",
       "    }\n",
       "\n",
       "    .dataframe thead th {\n",
       "        text-align: right;\n",
       "    }\n",
       "</style>\n",
       "<table border=\"1\" class=\"dataframe\">\n",
       "  <thead>\n",
       "    <tr style=\"text-align: right;\">\n",
       "      <th></th>\n",
       "      <th>mpg</th>\n",
       "      <th>cyl</th>\n",
       "      <th>displ</th>\n",
       "      <th>hp</th>\n",
       "      <th>weight</th>\n",
       "      <th>accel</th>\n",
       "      <th>yr</th>\n",
       "      <th>origin</th>\n",
       "      <th>name</th>\n",
       "    </tr>\n",
       "  </thead>\n",
       "  <tbody>\n",
       "    <tr>\n",
       "      <th>0</th>\n",
       "      <td>18.0</td>\n",
       "      <td>8</td>\n",
       "      <td>307.0</td>\n",
       "      <td>130</td>\n",
       "      <td>3504</td>\n",
       "      <td>12.0</td>\n",
       "      <td>70</td>\n",
       "      <td>1</td>\n",
       "      <td>chevrolet chevelle malibu</td>\n",
       "    </tr>\n",
       "    <tr>\n",
       "      <th>1</th>\n",
       "      <td>15.0</td>\n",
       "      <td>8</td>\n",
       "      <td>350.0</td>\n",
       "      <td>165</td>\n",
       "      <td>3693</td>\n",
       "      <td>11.5</td>\n",
       "      <td>70</td>\n",
       "      <td>1</td>\n",
       "      <td>buick skylark 320</td>\n",
       "    </tr>\n",
       "    <tr>\n",
       "      <th>2</th>\n",
       "      <td>18.0</td>\n",
       "      <td>8</td>\n",
       "      <td>318.0</td>\n",
       "      <td>150</td>\n",
       "      <td>3436</td>\n",
       "      <td>11.0</td>\n",
       "      <td>70</td>\n",
       "      <td>1</td>\n",
       "      <td>plymouth satellite</td>\n",
       "    </tr>\n",
       "    <tr>\n",
       "      <th>3</th>\n",
       "      <td>16.0</td>\n",
       "      <td>8</td>\n",
       "      <td>304.0</td>\n",
       "      <td>150</td>\n",
       "      <td>3433</td>\n",
       "      <td>12.0</td>\n",
       "      <td>70</td>\n",
       "      <td>1</td>\n",
       "      <td>amc rebel sst</td>\n",
       "    </tr>\n",
       "    <tr>\n",
       "      <th>4</th>\n",
       "      <td>17.0</td>\n",
       "      <td>8</td>\n",
       "      <td>302.0</td>\n",
       "      <td>140</td>\n",
       "      <td>3449</td>\n",
       "      <td>10.5</td>\n",
       "      <td>70</td>\n",
       "      <td>1</td>\n",
       "      <td>ford torino</td>\n",
       "    </tr>\n",
       "  </tbody>\n",
       "</table>\n",
       "</div>"
      ],
      "text/plain": [
       "    mpg  cyl  displ   hp  weight  accel  yr  origin                       name\n",
       "0  18.0    8  307.0  130    3504   12.0  70       1  chevrolet chevelle malibu\n",
       "1  15.0    8  350.0  165    3693   11.5  70       1          buick skylark 320\n",
       "2  18.0    8  318.0  150    3436   11.0  70       1         plymouth satellite\n",
       "3  16.0    8  304.0  150    3433   12.0  70       1              amc rebel sst\n",
       "4  17.0    8  302.0  140    3449   10.5  70       1                ford torino"
      ]
     },
     "execution_count": 28,
     "metadata": {},
     "output_type": "execute_result"
    }
   ],
   "source": [
    "from bokeh.sampledata.autompg import autompg as df \n",
    "df.head() "
   ]
  },
  {
   "cell_type": "code",
   "execution_count": 20,
   "metadata": {},
   "outputs": [
    {
     "data": {
      "text/html": [
       "\n",
       "\n",
       "\n",
       "\n",
       "\n",
       "\n",
       "  <div class=\"bk-root\" id=\"6a8c2ef7-9d09-4db9-9f5b-60cdc8ad6370\" data-root-id=\"2409\"></div>\n"
      ]
     },
     "metadata": {},
     "output_type": "display_data"
    },
    {
     "data": {
      "application/javascript": [
       "(function(root) {\n",
       "  function embed_document(root) {\n",
       "    \n",
       "  var docs_json = {\"55b8a22d-dcd2-4994-a33d-ab75b598c301\":{\"roots\":{\"references\":[{\"attributes\":{\"below\":[{\"id\":\"2418\",\"type\":\"LinearAxis\"}],\"center\":[{\"id\":\"2422\",\"type\":\"Grid\"},{\"id\":\"2427\",\"type\":\"Grid\"}],\"left\":[{\"id\":\"2423\",\"type\":\"LinearAxis\"}],\"plot_height\":400,\"plot_width\":400,\"renderers\":[{\"id\":\"2444\",\"type\":\"GlyphRenderer\"}],\"title\":{\"id\":\"2537\",\"type\":\"Title\"},\"toolbar\":{\"id\":\"2434\",\"type\":\"Toolbar\"},\"x_range\":{\"id\":\"2410\",\"type\":\"DataRange1d\"},\"x_scale\":{\"id\":\"2414\",\"type\":\"LinearScale\"},\"y_range\":{\"id\":\"2412\",\"type\":\"DataRange1d\"},\"y_scale\":{\"id\":\"2416\",\"type\":\"LinearScale\"}},\"id\":\"2409\",\"subtype\":\"Figure\",\"type\":\"Plot\"},{\"attributes\":{},\"id\":\"2416\",\"type\":\"LinearScale\"},{\"attributes\":{},\"id\":\"2429\",\"type\":\"WheelZoomTool\"},{\"attributes\":{\"overlay\":{\"id\":\"2542\",\"type\":\"BoxAnnotation\"}},\"id\":\"2430\",\"type\":\"BoxZoomTool\"},{\"attributes\":{},\"id\":\"2431\",\"type\":\"SaveTool\"},{\"attributes\":{},\"id\":\"2432\",\"type\":\"ResetTool\"},{\"attributes\":{},\"id\":\"2433\",\"type\":\"HelpTool\"},{\"attributes\":{\"active_drag\":\"auto\",\"active_inspect\":\"auto\",\"active_multi\":null,\"active_scroll\":\"auto\",\"active_tap\":\"auto\",\"tools\":[{\"id\":\"2428\",\"type\":\"PanTool\"},{\"id\":\"2429\",\"type\":\"WheelZoomTool\"},{\"id\":\"2430\",\"type\":\"BoxZoomTool\"},{\"id\":\"2431\",\"type\":\"SaveTool\"},{\"id\":\"2432\",\"type\":\"ResetTool\"},{\"id\":\"2433\",\"type\":\"HelpTool\"}]},\"id\":\"2434\",\"type\":\"Toolbar\"},{\"attributes\":{\"callback\":null},\"id\":\"2410\",\"type\":\"DataRange1d\"},{\"attributes\":{\"callback\":null},\"id\":\"2412\",\"type\":\"DataRange1d\"},{\"attributes\":{\"fill_alpha\":{\"value\":0.1},\"fill_color\":{\"value\":\"#1f77b4\"},\"line_alpha\":{\"value\":0.1},\"line_color\":{\"value\":\"#1f77b4\"},\"radius\":{\"units\":\"data\",\"value\":0.07},\"x\":{\"field\":\"x\"},\"y\":{\"field\":\"y\"}},\"id\":\"2443\",\"type\":\"Circle\"},{\"attributes\":{\"data_source\":{\"id\":\"2441\",\"type\":\"ColumnDataSource\"},\"glyph\":{\"id\":\"2442\",\"type\":\"Circle\"},\"hover_glyph\":null,\"muted_glyph\":null,\"nonselection_glyph\":{\"id\":\"2443\",\"type\":\"Circle\"},\"selection_glyph\":null,\"view\":{\"id\":\"2445\",\"type\":\"CDSView\"}},\"id\":\"2444\",\"type\":\"GlyphRenderer\"},{\"attributes\":{\"formatter\":{\"id\":\"2539\",\"type\":\"BasicTickFormatter\"},\"ticker\":{\"id\":\"2419\",\"type\":\"BasicTicker\"}},\"id\":\"2418\",\"type\":\"LinearAxis\"},{\"attributes\":{\"text\":\"\"},\"id\":\"2537\",\"type\":\"Title\"},{\"attributes\":{\"source\":{\"id\":\"2441\",\"type\":\"ColumnDataSource\"}},\"id\":\"2445\",\"type\":\"CDSView\"},{\"attributes\":{},\"id\":\"2419\",\"type\":\"BasicTicker\"},{\"attributes\":{\"ticker\":{\"id\":\"2419\",\"type\":\"BasicTicker\"}},\"id\":\"2422\",\"type\":\"Grid\"},{\"attributes\":{},\"id\":\"2539\",\"type\":\"BasicTickFormatter\"},{\"attributes\":{\"formatter\":{\"id\":\"2541\",\"type\":\"BasicTickFormatter\"},\"ticker\":{\"id\":\"2424\",\"type\":\"BasicTicker\"}},\"id\":\"2423\",\"type\":\"LinearAxis\"},{\"attributes\":{},\"id\":\"2541\",\"type\":\"BasicTickFormatter\"},{\"attributes\":{},\"id\":\"2424\",\"type\":\"BasicTicker\"},{\"attributes\":{\"bottom_units\":\"screen\",\"fill_alpha\":{\"value\":0.5},\"fill_color\":{\"value\":\"lightgrey\"},\"left_units\":\"screen\",\"level\":\"overlay\",\"line_alpha\":{\"value\":1.0},\"line_color\":{\"value\":\"black\"},\"line_dash\":[4,4],\"line_width\":{\"value\":2},\"render_mode\":\"css\",\"right_units\":\"screen\",\"top_units\":\"screen\"},\"id\":\"2542\",\"type\":\"BoxAnnotation\"},{\"attributes\":{\"dimension\":1,\"ticker\":{\"id\":\"2424\",\"type\":\"BasicTicker\"}},\"id\":\"2427\",\"type\":\"Grid\"},{\"attributes\":{},\"id\":\"2543\",\"type\":\"UnionRenderers\"},{\"attributes\":{\"fill_alpha\":{\"value\":0.9},\"fill_color\":{\"value\":\"orange\"},\"line_color\":{\"value\":\"navy\"},\"radius\":{\"units\":\"data\",\"value\":0.07},\"x\":{\"field\":\"x\"},\"y\":{\"field\":\"y\"}},\"id\":\"2442\",\"type\":\"Circle\"},{\"attributes\":{},\"id\":\"2414\",\"type\":\"LinearScale\"},{\"attributes\":{},\"id\":\"2544\",\"type\":\"Selection\"},{\"attributes\":{\"callback\":null,\"data\":{\"x\":{\"__ndarray__\":\"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\",\"dtype\":\"float64\",\"shape\":[392]},\"y\":[130,165,150,150,140,198,220,215,225,190,170,160,150,225,95,95,97,85,88,46,87,90,95,113,90,215,200,210,193,88,90,95,100,105,100,88,100,165,175,153,150,180,170,175,110,72,100,88,86,90,70,76,65,69,60,70,95,80,54,90,86,165,175,150,153,150,208,155,160,190,97,150,130,140,150,112,76,87,69,86,92,97,80,88,175,150,145,137,150,198,150,158,150,215,225,175,105,100,100,88,95,46,150,167,170,180,100,88,72,94,90,85,107,90,145,230,49,75,91,112,150,110,122,180,95,100,100,67,80,65,75,100,110,105,140,150,150,140,150,83,67,78,52,61,75,75,75,97,93,67,95,105,72,72,170,145,150,148,110,105,110,95,110,110,129,75,83,100,78,96,71,97,97,70,90,95,88,98,115,53,86,81,92,79,83,140,150,120,152,100,105,81,90,52,60,70,53,100,78,110,95,71,70,75,72,102,150,88,108,120,180,145,130,150,68,80,58,96,70,145,110,145,130,110,105,100,98,180,170,190,149,78,88,75,89,63,83,67,78,97,110,110,48,66,52,70,60,110,140,139,105,95,85,88,100,90,105,85,110,120,145,165,139,140,68,95,97,75,95,105,85,97,103,125,115,133,71,68,115,85,88,90,110,130,129,138,135,155,142,125,150,71,65,80,80,77,125,71,90,70,70,65,69,90,115,115,90,76,60,70,65,90,88,90,90,78,90,75,92,75,65,105,65,48,48,67,67,67,67,62,132,100,88,72,84,84,92,110,84,58,64,60,67,65,62,68,63,65,65,74,75,75,100,74,80,76,116,120,110,105,88,85,88,88,88,85,84,90,92,74,68,68,63,70,88,75,70,67,67,67,110,85,92,112,96,84,90,86,52,84,79,82]},\"selected\":{\"id\":\"2544\",\"type\":\"Selection\"},\"selection_policy\":{\"id\":\"2543\",\"type\":\"UnionRenderers\"}},\"id\":\"2441\",\"type\":\"ColumnDataSource\"},{\"attributes\":{},\"id\":\"2428\",\"type\":\"PanTool\"}],\"root_ids\":[\"2409\"]},\"title\":\"Bokeh Application\",\"version\":\"1.2.0\"}};\n",
       "  var render_items = [{\"docid\":\"55b8a22d-dcd2-4994-a33d-ab75b598c301\",\"roots\":{\"2409\":\"6a8c2ef7-9d09-4db9-9f5b-60cdc8ad6370\"}}];\n",
       "  root.Bokeh.embed.embed_items_notebook(docs_json, render_items);\n",
       "\n",
       "  }\n",
       "  if (root.Bokeh !== undefined) {\n",
       "    embed_document(root);\n",
       "  } else {\n",
       "    var attempts = 0;\n",
       "    var timer = setInterval(function(root) {\n",
       "      if (root.Bokeh !== undefined) {\n",
       "        embed_document(root);\n",
       "        clearInterval(timer);\n",
       "      }\n",
       "      attempts++;\n",
       "      if (attempts > 100) {\n",
       "        console.log(\"Bokeh: ERROR: Unable to run BokehJS code because BokehJS library is missing\");\n",
       "        clearInterval(timer);\n",
       "      }\n",
       "    }, 10, root)\n",
       "  }\n",
       "})(window);"
      ],
      "application/vnd.bokehjs_exec.v0+json": ""
     },
     "metadata": {
      "application/vnd.bokehjs_exec.v0+json": {
       "id": "2409"
      }
     },
     "output_type": "display_data"
    }
   ],
   "source": [
    "# create a new plot with default tools, using figure\n",
    "p = figure(plot_width=400, plot_height=400)\n",
    "\n",
    "# add a circle renderer with x and y coordinates, size, color, and alpha\n",
    "p.circle(df['mpg'], df['hp'], radius=.07, line_color=\"navy\", fill_color=\"orange\", fill_alpha=0.9)\n",
    "\n",
    "show(p) # show the results"
   ]
  },
  {
   "cell_type": "markdown",
   "metadata": {},
   "source": [
    "## 2- Line Plots"
   ]
  },
  {
   "cell_type": "code",
   "execution_count": 21,
   "metadata": {},
   "outputs": [
    {
     "data": {
      "text/html": [
       "\n",
       "\n",
       "\n",
       "\n",
       "\n",
       "\n",
       "  <div class=\"bk-root\" id=\"b3417fbe-1c5f-4295-821f-e4e4c67e35f7\" data-root-id=\"2599\"></div>\n"
      ]
     },
     "metadata": {},
     "output_type": "display_data"
    },
    {
     "data": {
      "application/javascript": [
       "(function(root) {\n",
       "  function embed_document(root) {\n",
       "    \n",
       "  var docs_json = {\"50d505d7-df60-43d8-bb21-62c1ff62ac17\":{\"roots\":{\"references\":[{\"attributes\":{\"below\":[{\"id\":\"2610\",\"type\":\"LinearAxis\"}],\"center\":[{\"id\":\"2614\",\"type\":\"Grid\"},{\"id\":\"2619\",\"type\":\"Grid\"}],\"left\":[{\"id\":\"2615\",\"type\":\"LinearAxis\"}],\"plot_height\":400,\"plot_width\":400,\"renderers\":[{\"id\":\"2636\",\"type\":\"GlyphRenderer\"}],\"title\":{\"id\":\"2600\",\"type\":\"Title\"},\"toolbar\":{\"id\":\"2626\",\"type\":\"Toolbar\"},\"x_range\":{\"id\":\"2602\",\"type\":\"DataRange1d\"},\"x_scale\":{\"id\":\"2606\",\"type\":\"LinearScale\"},\"y_range\":{\"id\":\"2604\",\"type\":\"DataRange1d\"},\"y_scale\":{\"id\":\"2608\",\"type\":\"LinearScale\"}},\"id\":\"2599\",\"subtype\":\"Figure\",\"type\":\"Plot\"},{\"attributes\":{\"callback\":null,\"data\":{\"x\":[1,2,3,4,5],\"y\":[6,7,2,4,5]},\"selected\":{\"id\":\"2744\",\"type\":\"Selection\"},\"selection_policy\":{\"id\":\"2743\",\"type\":\"UnionRenderers\"}},\"id\":\"2633\",\"type\":\"ColumnDataSource\"},{\"attributes\":{},\"id\":\"2625\",\"type\":\"HelpTool\"},{\"attributes\":{\"formatter\":{\"id\":\"2741\",\"type\":\"BasicTickFormatter\"},\"ticker\":{\"id\":\"2616\",\"type\":\"BasicTicker\"}},\"id\":\"2615\",\"type\":\"LinearAxis\"},{\"attributes\":{\"active_drag\":\"auto\",\"active_inspect\":\"auto\",\"active_multi\":null,\"active_scroll\":\"auto\",\"active_tap\":\"auto\",\"tools\":[{\"id\":\"2620\",\"type\":\"PanTool\"},{\"id\":\"2621\",\"type\":\"WheelZoomTool\"},{\"id\":\"2622\",\"type\":\"BoxZoomTool\"},{\"id\":\"2623\",\"type\":\"SaveTool\"},{\"id\":\"2624\",\"type\":\"ResetTool\"},{\"id\":\"2625\",\"type\":\"HelpTool\"}]},\"id\":\"2626\",\"type\":\"Toolbar\"},{\"attributes\":{},\"id\":\"2616\",\"type\":\"BasicTicker\"},{\"attributes\":{\"ticker\":{\"id\":\"2611\",\"type\":\"BasicTicker\"}},\"id\":\"2614\",\"type\":\"Grid\"},{\"attributes\":{\"source\":{\"id\":\"2633\",\"type\":\"ColumnDataSource\"}},\"id\":\"2637\",\"type\":\"CDSView\"},{\"attributes\":{},\"id\":\"2611\",\"type\":\"BasicTicker\"},{\"attributes\":{},\"id\":\"2624\",\"type\":\"ResetTool\"},{\"attributes\":{\"formatter\":{\"id\":\"2739\",\"type\":\"BasicTickFormatter\"},\"ticker\":{\"id\":\"2611\",\"type\":\"BasicTicker\"}},\"id\":\"2610\",\"type\":\"LinearAxis\"},{\"attributes\":{},\"id\":\"2741\",\"type\":\"BasicTickFormatter\"},{\"attributes\":{},\"id\":\"2608\",\"type\":\"LinearScale\"},{\"attributes\":{},\"id\":\"2606\",\"type\":\"LinearScale\"},{\"attributes\":{\"bottom_units\":\"screen\",\"fill_alpha\":{\"value\":0.5},\"fill_color\":{\"value\":\"lightgrey\"},\"left_units\":\"screen\",\"level\":\"overlay\",\"line_alpha\":{\"value\":1.0},\"line_color\":{\"value\":\"black\"},\"line_dash\":[4,4],\"line_width\":{\"value\":2},\"render_mode\":\"css\",\"right_units\":\"screen\",\"top_units\":\"screen\"},\"id\":\"2742\",\"type\":\"BoxAnnotation\"},{\"attributes\":{\"callback\":null},\"id\":\"2602\",\"type\":\"DataRange1d\"},{\"attributes\":{},\"id\":\"2743\",\"type\":\"UnionRenderers\"},{\"attributes\":{\"callback\":null},\"id\":\"2604\",\"type\":\"DataRange1d\"},{\"attributes\":{},\"id\":\"2744\",\"type\":\"Selection\"},{\"attributes\":{\"overlay\":{\"id\":\"2742\",\"type\":\"BoxAnnotation\"}},\"id\":\"2622\",\"type\":\"BoxZoomTool\"},{\"attributes\":{},\"id\":\"2621\",\"type\":\"WheelZoomTool\"},{\"attributes\":{\"text\":\"My Line Plot\"},\"id\":\"2600\",\"type\":\"Title\"},{\"attributes\":{},\"id\":\"2623\",\"type\":\"SaveTool\"},{\"attributes\":{\"line_alpha\":0.1,\"line_color\":\"#1f77b4\",\"line_width\":2,\"x\":{\"field\":\"x\"},\"y\":{\"field\":\"y\"}},\"id\":\"2635\",\"type\":\"Line\"},{\"attributes\":{\"line_color\":\"#1f77b4\",\"line_width\":2,\"x\":{\"field\":\"x\"},\"y\":{\"field\":\"y\"}},\"id\":\"2634\",\"type\":\"Line\"},{\"attributes\":{\"data_source\":{\"id\":\"2633\",\"type\":\"ColumnDataSource\"},\"glyph\":{\"id\":\"2634\",\"type\":\"Line\"},\"hover_glyph\":null,\"muted_glyph\":null,\"nonselection_glyph\":{\"id\":\"2635\",\"type\":\"Line\"},\"selection_glyph\":null,\"view\":{\"id\":\"2637\",\"type\":\"CDSView\"}},\"id\":\"2636\",\"type\":\"GlyphRenderer\"},{\"attributes\":{},\"id\":\"2620\",\"type\":\"PanTool\"},{\"attributes\":{},\"id\":\"2739\",\"type\":\"BasicTickFormatter\"},{\"attributes\":{\"dimension\":1,\"ticker\":{\"id\":\"2616\",\"type\":\"BasicTicker\"}},\"id\":\"2619\",\"type\":\"Grid\"}],\"root_ids\":[\"2599\"]},\"title\":\"Bokeh Application\",\"version\":\"1.2.0\"}};\n",
       "  var render_items = [{\"docid\":\"50d505d7-df60-43d8-bb21-62c1ff62ac17\",\"roots\":{\"2599\":\"b3417fbe-1c5f-4295-821f-e4e4c67e35f7\"}}];\n",
       "  root.Bokeh.embed.embed_items_notebook(docs_json, render_items);\n",
       "\n",
       "  }\n",
       "  if (root.Bokeh !== undefined) {\n",
       "    embed_document(root);\n",
       "  } else {\n",
       "    var attempts = 0;\n",
       "    var timer = setInterval(function(root) {\n",
       "      if (root.Bokeh !== undefined) {\n",
       "        embed_document(root);\n",
       "        clearInterval(timer);\n",
       "      }\n",
       "      attempts++;\n",
       "      if (attempts > 100) {\n",
       "        console.log(\"Bokeh: ERROR: Unable to run BokehJS code because BokehJS library is missing\");\n",
       "        clearInterval(timer);\n",
       "      }\n",
       "    }, 10, root)\n",
       "  }\n",
       "})(window);"
      ],
      "application/vnd.bokehjs_exec.v0+json": ""
     },
     "metadata": {
      "application/vnd.bokehjs_exec.v0+json": {
       "id": "2599"
      }
     },
     "output_type": "display_data"
    }
   ],
   "source": [
    "# create a new plot (with a title) using figure\n",
    "p = figure(plot_width=400, plot_height=400, title=\"My Line Plot\")\n",
    "\n",
    "# add a line renderer\n",
    "p.line([1, 2, 3, 4, 5], [6, 7, 2, 4, 5], line_width=2)\n",
    "\n",
    "show(p) # show the results"
   ]
  },
  {
   "cell_type": "code",
   "execution_count": 33,
   "metadata": {},
   "outputs": [],
   "source": [
    "\n",
    "# EXERCISE: Look at the AAPL data from bokeh.sampledata.stocks and create a line plot using it\n",
    "from bokeh.sampledata.stocks import AAPL as ap\n",
    "\n",
    "#FileNotFoundError: [Errno 2] No such file or directory: '/Users/allhanouf96/.bokeh/data/AAPL.csv'"
   ]
  },
  {
   "cell_type": "markdown",
   "metadata": {},
   "source": [
    "## 3- Hex Tiling"
   ]
  },
  {
   "cell_type": "code",
   "execution_count": 30,
   "metadata": {},
   "outputs": [],
   "source": [
    "from bokeh.palettes import Viridis256\n",
    "from bokeh.util.hex import hexbin"
   ]
  },
  {
   "cell_type": "markdown",
   "metadata": {},
   "source": [
    "** #3 Exercise: Experiment with the size parameter to hexbin, and using different data as input **"
   ]
  },
  {
   "cell_type": "code",
   "execution_count": 100,
   "metadata": {},
   "outputs": [
    {
     "data": {
      "text/html": [
       "\n",
       "\n",
       "\n",
       "\n",
       "\n",
       "\n",
       "  <div class=\"bk-root\" id=\"dcf09688-dee5-40ed-8ec8-6df5cfd20998\" data-root-id=\"33347\"></div>\n"
      ]
     },
     "metadata": {},
     "output_type": "display_data"
    },
    {
     "data": {
      "application/javascript": [
       "(function(root) {\n",
       "  function embed_document(root) {\n",
       "    \n",
       "  var docs_json = {\"50c83111-e247-4bfa-ac05-cc368060dab3\":{\"roots\":{\"references\":[{\"attributes\":{\"background_fill_color\":{\"value\":\"#440154\"},\"below\":[{\"id\":\"33356\",\"type\":\"LinearAxis\"}],\"center\":[{\"id\":\"33360\",\"type\":\"Grid\"},{\"id\":\"33365\",\"type\":\"Grid\"}],\"left\":[{\"id\":\"33361\",\"type\":\"LinearAxis\"}],\"match_aspect\":true,\"renderers\":[{\"id\":\"33374\",\"type\":\"GlyphRenderer\"}],\"title\":{\"id\":\"33960\",\"type\":\"Title\"},\"toolbar\":{\"id\":\"33368\",\"type\":\"Toolbar\"},\"x_range\":{\"id\":\"33348\",\"type\":\"DataRange1d\"},\"x_scale\":{\"id\":\"33352\",\"type\":\"LinearScale\"},\"y_range\":{\"id\":\"33350\",\"type\":\"DataRange1d\"},\"y_scale\":{\"id\":\"33354\",\"type\":\"LinearScale\"}},\"id\":\"33347\",\"subtype\":\"Figure\",\"type\":\"Plot\"},{\"attributes\":{\"formatter\":{\"id\":\"33962\",\"type\":\"BasicTickFormatter\"},\"ticker\":{\"id\":\"33357\",\"type\":\"BasicTicker\"}},\"id\":\"33356\",\"type\":\"LinearAxis\"},{\"attributes\":{\"dimension\":1,\"ticker\":{\"id\":\"33362\",\"type\":\"BasicTicker\"},\"visible\":false},\"id\":\"33365\",\"type\":\"Grid\"},{\"attributes\":{\"source\":{\"id\":\"33371\",\"type\":\"ColumnDataSource\"}},\"id\":\"33375\",\"type\":\"CDSView\"},{\"attributes\":{},\"id\":\"33367\",\"type\":\"ResetTool\"},{\"attributes\":{},\"id\":\"33354\",\"type\":\"LinearScale\"},{\"attributes\":{\"active_drag\":\"auto\",\"active_inspect\":\"auto\",\"active_multi\":null,\"active_scroll\":\"auto\",\"active_tap\":\"auto\",\"tools\":[{\"id\":\"33366\",\"type\":\"WheelZoomTool\"},{\"id\":\"33367\",\"type\":\"ResetTool\"}]},\"id\":\"33368\",\"type\":\"Toolbar\"},{\"attributes\":{\"callback\":null},\"id\":\"33348\",\"type\":\"DataRange1d\"},{\"attributes\":{},\"id\":\"33962\",\"type\":\"BasicTickFormatter\"},{\"attributes\":{\"callback\":null,\"data\":{\"fill_color\":[\"#440255\",\"#440255\",\"#440255\",\"#440255\",\"#440255\",\"#440255\",\"#440255\",\"#440255\",\"#440255\",\"#440255\",\"#440255\",\"#440255\",\"#440357\",\"#440255\",\"#440255\",\"#440255\",\"#440255\",\"#440255\",\"#440357\",\"#440255\",\"#440255\",\"#440255\",\"#450558\",\"#440255\",\"#450558\",\"#45085B\",\"#450558\",\"#450558\",\"#440357\",\"#440255\",\"#440357\",\"#440357\",\"#440255\",\"#440255\",\"#440255\",\"#440357\",\"#440255\",\"#440255\",\"#440255\",\"#440255\",\"#440357\",\"#440357\",\"#440255\",\"#440357\",\"#440255\",\"#450558\",\"#440357\",\"#45065A\",\"#440255\",\"#440255\",\"#440255\",\"#440255\",\"#440255\",\"#440357\",\"#440255\",\"#440255\",\"#440255\",\"#440357\",\"#440255\",\"#45065A\",\"#450558\",\"#440255\",\"#440255\",\"#440357\",\"#45085B\",\"#450558\",\"#440255\",\"#450558\",\"#440357\",\"#440255\",\"#440357\",\"#440255\",\"#46095C\",\"#45065A\",\"#440255\",\"#440357\",\"#440255\",\"#440255\",\"#450558\",\"#440255\",\"#440357\",\"#45085B\",\"#440357\",\"#46095C\",\"#45085B\",\"#45065A\",\"#45085B\",\"#46095C\",\"#460E61\",\"#45065A\",\"#460E61\",\"#460E61\",\"#450558\",\"#440357\",\"#450558\",\"#440255\",\"#440357\",\"#440255\",\"#440255\",\"#450558\",\"#440255\",\"#450558\",\"#440255\",\"#440357\",\"#450558\",\"#460C5F\",\"#45085B\",\"#45085B\",\"#46095C\",\"#460C5F\",\"#450558\",\"#471265\",\"#470F62\",\"#46095C\",\"#46095C\",\"#470F62\",\"#460C5F\",\"#450558\",\"#450558\",\"#46095C\",\"#440357\",\"#440357\",\"#440255\",\"#440255\",\"#440255\",\"#450558\",\"#440357\",\"#440357\",\"#450558\",\"#450558\",\"#45065A\",\"#440357\",\"#45085B\",\"#471163\",\"#460C5F\",\"#45085B\",\"#45085B\",\"#471669\",\"#471466\",\"#471265\",\"#471466\",\"#471163\",\"#460C5F\",\"#460C5F\",\"#46095C\",\"#45065A\",\"#450558\",\"#440357\",\"#450558\",\"#440255\",\"#440255\",\"#440255\",\"#440255\",\"#45065A\",\"#450558\",\"#45065A\",\"#46095C\",\"#46095C\",\"#450558\",\"#460E61\",\"#460E61\",\"#482374\",\"#460C5F\",\"#472575\",\"#471669\",\"#482273\",\"#471669\",\"#482172\",\"#481A6C\",\"#471669\",\"#471163\",\"#471265\",\"#471265\",\"#460E61\",\"#470F62\",\"#45065A\",\"#440357\",\"#45085B\",\"#440255\",\"#440357\",\"#440255\",\"#440255\",\"#440357\",\"#440357\",\"#440357\",\"#440357\",\"#470F62\",\"#46095C\",\"#460E61\",\"#471163\",\"#481A6C\",\"#471466\",\"#482172\",\"#482071\",\"#472575\",\"#482374\",\"#482273\",\"#482273\",\"#472575\",\"#481D6F\",\"#481D6F\",\"#482071\",\"#482172\",\"#471669\",\"#470F62\",\"#470F62\",\"#450558\",\"#440357\",\"#440255\",\"#440357\",\"#440255\",\"#440255\",\"#440255\",\"#440255\",\"#450558\",\"#440357\",\"#460C5F\",\"#45065A\",\"#471163\",\"#46095C\",\"#471669\",\"#471669\",\"#482071\",\"#482273\",\"#46317E\",\"#482374\",\"#482273\",\"#472A79\",\"#462F7C\",\"#433B83\",\"#462D7C\",\"#462D7C\",\"#482273\",\"#472676\",\"#482172\",\"#482071\",\"#471669\",\"#481A6C\",\"#460E61\",\"#470F62\",\"#470F62\",\"#450558\",\"#440357\",\"#440255\",\"#440255\",\"#440255\",\"#440255\",\"#440357\",\"#440357\",\"#440255\",\"#470F62\",\"#471265\",\"#471163\",\"#48196B\",\"#471669\",\"#472575\",\"#462F7C\",\"#472676\",\"#472C7B\",\"#472878\",\"#3F4788\",\"#414286\",\"#46317E\",\"#45347F\",\"#414286\",\"#462D7C\",\"#472B7A\",\"#45347F\",\"#481D6F\",\"#470F62\",\"#471466\",\"#471163\",\"#460C5F\",\"#460C5F\",\"#440357\",\"#440357\",\"#440357\",\"#440357\",\"#440255\",\"#440255\",\"#440255\",\"#45065A\",\"#46095C\",\"#46095C\",\"#460E61\",\"#460C5F\",\"#481C6E\",\"#47186A\",\"#471466\",\"#472A79\",\"#46317E\",\"#462F7C\",\"#424085\",\"#3F4788\",\"#3D4A89\",\"#38578C\",\"#33618D\",\"#423D84\",\"#3A528B\",\"#45347F\",\"#3A538B\",\"#472B7A\",\"#472575\",\"#472676\",\"#472575\",\"#471265\",\"#471265\",\"#460E61\",\"#46095C\",\"#440357\",\"#45085B\",\"#440357\",\"#440255\",\"#440255\",\"#440255\",\"#440357\",\"#440357\",\"#440255\",\"#45085B\",\"#460C5F\",\"#471265\",\"#45085B\",\"#482071\",\"#481A6C\",\"#453681\",\"#472878\",\"#46317E\",\"#404487\",\"#39558B\",\"#345E8D\",\"#3A528B\",\"#2C708E\",\"#365A8C\",\"#2E6D8E\",\"#3B508A\",\"#33608D\",\"#3A538B\",\"#443781\",\"#433A83\",\"#45327F\",\"#45347F\",\"#472575\",\"#482172\",\"#471265\",\"#460C5F\",\"#440255\",\"#440255\",\"#450558\",\"#440255\",\"#440255\",\"#440255\",\"#440255\",\"#440357\",\"#440255\",\"#440357\",\"#45065A\",\"#46095C\",\"#471265\",\"#471669\",\"#470F62\",\"#482172\",\"#472676\",\"#472B7A\",\"#424085\",\"#33608D\",\"#38578C\",\"#2B738E\",\"#2E6D8E\",\"#2E6D8E\",\"#2A768E\",\"#2B738E\",\"#24868D\",\"#2B748E\",\"#31658D\",\"#38578C\",\"#3F4587\",\"#423E85\",\"#433A83\",\"#472878\",\"#47186A\",\"#482172\",\"#471669\",\"#45085B\",\"#45065A\",\"#45085B\",\"#440255\",\"#440255\",\"#440357\",\"#440255\",\"#440255\",\"#440357\",\"#471466\",\"#471163\",\"#45085B\",\"#460C5F\",\"#46095C\",\"#472B7A\",\"#45327F\",\"#46317E\",\"#3C4D8A\",\"#3A538B\",\"#30678D\",\"#2D6F8E\",\"#2C728E\",\"#2A778E\",\"#29788E\",\"#25838D\",\"#277C8E\",\"#26808E\",\"#2A778E\",\"#2B738E\",\"#33618D\",\"#37598C\",\"#414286\",\"#424085\",\"#45347F\",\"#472575\",\"#47186A\",\"#471265\",\"#471669\",\"#470F62\",\"#450558\",\"#440255\",\"#440255\",\"#440255\",\"#450558\",\"#440255\",\"#440255\",\"#450558\",\"#45085B\",\"#460E61\",\"#471466\",\"#482374\",\"#47186A\",\"#472878\",\"#453681\",\"#39548B\",\"#39558B\",\"#2B738E\",\"#2E6B8E\",\"#287A8E\",\"#1F958B\",\"#1E9D88\",\"#1FA286\",\"#1E998A\",\"#1F948B\",\"#1E978A\",\"#287A8E\",\"#2E6B8E\",\"#3A528B\",\"#3A528B\",\"#423D84\",\"#3E4888\",\"#433A83\",\"#472C7B\",\"#481D6F\",\"#460E61\",\"#45085B\",\"#440357\",\"#440357\",\"#440255\",\"#440255\",\"#440255\",\"#440255\",\"#440255\",\"#440357\",\"#46095C\",\"#470F62\",\"#471669\",\"#462D7C\",\"#462F7C\",\"#433A83\",\"#3B508A\",\"#31648D\",\"#31648D\",\"#24868D\",\"#218C8D\",\"#218C8D\",\"#1E998A\",\"#51C468\",\"#32B57A\",\"#21A685\",\"#22A784\",\"#2CB17D\",\"#1E998A\",\"#23888D\",\"#2C708E\",\"#3C4D8A\",\"#365A8C\",\"#404487\",\"#46317E\",\"#482273\",\"#481C6E\",\"#460C5F\",\"#471163\",\"#45065A\",\"#440357\",\"#450558\",\"#440255\",\"#440357\",\"#450558\",\"#450558\",\"#470F62\",\"#471265\",\"#47186A\",\"#482071\",\"#482172\",\"#45347F\",\"#3B508A\",\"#345E8D\",\"#2C708E\",\"#23888D\",\"#228A8D\",\"#2FB37B\",\"#32B57A\",\"#1FA187\",\"#3EBC73\",\"#49C16D\",\"#47C06E\",\"#49C16D\",\"#1F938B\",\"#1F948B\",\"#25838D\",\"#29798E\",\"#355D8C\",\"#3F4587\",\"#45347F\",\"#453681\",\"#472676\",\"#481C6E\",\"#460C5F\",\"#46095C\",\"#46095C\",\"#450558\",\"#440357\",\"#440255\",\"#440255\",\"#440255\",\"#440255\",\"#450558\",\"#471163\",\"#460E61\",\"#471466\",\"#482071\",\"#462D7C\",\"#443781\",\"#3E4888\",\"#3B508A\",\"#2C718E\",\"#218D8C\",\"#20908C\",\"#21A784\",\"#55C666\",\"#4BC26C\",\"#7ED24E\",\"#72CF55\",\"#74D054\",\"#45BF6F\",\"#30B47A\",\"#2FB37B\",\"#277E8E\",\"#25838D\",\"#2F698D\",\"#38578C\",\"#37598C\",\"#414286\",\"#481D6F\",\"#481D6F\",\"#471466\",\"#471163\",\"#46095C\",\"#450558\",\"#450558\",\"#450558\",\"#440357\",\"#440255\",\"#440255\",\"#440255\",\"#45085B\",\"#470F62\",\"#471669\",\"#471466\",\"#482071\",\"#472575\",\"#404387\",\"#39548B\",\"#365A8C\",\"#2C718E\",\"#24858D\",\"#1E998A\",\"#1E9F88\",\"#1E9D88\",\"#9AD83C\",\"#BDDE26\",\"#9DD93A\",\"#81D34C\",\"#6DCE58\",\"#81D34C\",\"#2BB17D\",\"#20A585\",\"#20908C\",\"#23878D\",\"#30688D\",\"#365B8C\",\"#414286\",\"#472676\",\"#45347F\",\"#472575\",\"#45085B\",\"#470F62\",\"#470F62\",\"#450558\",\"#440255\",\"#440255\",\"#440255\",\"#450558\",\"#440255\",\"#450558\",\"#460C5F\",\"#460C5F\",\"#481C6E\",\"#472575\",\"#424085\",\"#3D4B89\",\"#37598C\",\"#2A768E\",\"#287A8E\",\"#228A8D\",\"#1FA187\",\"#55C666\",\"#53C567\",\"#D2E11B\",\"#DCE218\",\"#F8E621\",\"#77D052\",\"#4BC26C\",\"#81D34C\",\"#51C468\",\"#28AE7F\",\"#277E8E\",\"#25838D\",\"#2D6F8E\",\"#31658D\",\"#3C4E8A\",\"#462D7C\",\"#482273\",\"#48196B\",\"#471163\",\"#471265\",\"#45065A\",\"#440255\",\"#440357\",\"#450558\",\"#440255\",\"#440255\",\"#440357\",\"#46095C\",\"#460E61\",\"#481C6E\",\"#481C6E\",\"#46317E\",\"#453580\",\"#3E4888\",\"#2B748E\",\"#24858D\",\"#23878D\",\"#1F948B\",\"#2EB27C\",\"#70CE56\",\"#62CA5F\",\"#ECE41A\",\"#FDE724\",\"#C2DF22\",\"#8BD546\",\"#A5DA35\",\"#55C666\",\"#38B976\",\"#1FA286\",\"#23878D\",\"#2A768E\",\"#32628D\",\"#3E4888\",\"#443781\",\"#472A79\",\"#472B7A\",\"#471265\",\"#471265\",\"#460C5F\",\"#45085B\",\"#440255\",\"#440357\",\"#440357\",\"#440357\",\"#440357\",\"#440357\",\"#460C5F\",\"#450558\",\"#471265\",\"#47186A\",\"#482172\",\"#433C84\",\"#3F4788\",\"#30688D\",\"#355D8C\",\"#20908C\",\"#1E978A\",\"#44BE70\",\"#7ED24E\",\"#90D643\",\"#AADB32\",\"#F3E51E\",\"#C2DF22\",\"#F3E51E\",\"#D2E11B\",\"#90D643\",\"#7ED24E\",\"#23888D\",\"#1E9F88\",\"#2E6B8E\",\"#31648D\",\"#38578C\",\"#3F4788\",\"#462F7C\",\"#482374\",\"#471163\",\"#471163\",\"#460E61\",\"#45065A\",\"#440357\",\"#440255\",\"#440357\",\"#440255\",\"#440255\",\"#440255\",\"#450558\",\"#440357\",\"#46095C\",\"#471163\",\"#481A6C\",\"#482273\",\"#472575\",\"#404387\",\"#38578C\",\"#31658D\",\"#277C8E\",\"#24868D\",\"#21A784\",\"#2CB17D\",\"#AADB32\",\"#62CA5F\",\"#CDE01D\",\"#DCE218\",\"#BADE27\",\"#97D83E\",\"#8BD546\",\"#38B976\",\"#44BE70\",\"#20918C\",\"#1FA187\",\"#2F6A8D\",\"#33618D\",\"#345E8D\",\"#423E85\",\"#433A83\",\"#481D6F\",\"#471669\",\"#460E61\",\"#45085B\",\"#450558\",\"#440357\",\"#440357\",\"#440255\",\"#440255\",\"#450558\",\"#460C5F\",\"#460C5F\",\"#471265\",\"#471669\",\"#45327F\",\"#453681\",\"#414286\",\"#39548B\",\"#355D8C\",\"#277D8E\",\"#20A485\",\"#2EB27C\",\"#39B976\",\"#53C567\",\"#64CB5D\",\"#BDDE26\",\"#B5DD2B\",\"#BADE27\",\"#81D34C\",\"#A2DA37\",\"#3EBC73\",\"#25AB81\",\"#1F948B\",\"#26808E\",\"#32628D\",\"#39548B\",\"#3F4587\",\"#45327F\",\"#472C7B\",\"#471163\",\"#471466\",\"#45065A\",\"#440357\",\"#45065A\",\"#440255\",\"#440255\",\"#440255\",\"#440255\",\"#440357\",\"#46095C\",\"#45085B\",\"#45065A\",\"#471669\",\"#482071\",\"#45327F\",\"#462D7C\",\"#3C4E8A\",\"#39558B\",\"#2B738E\",\"#23878D\",\"#20908C\",\"#3BBA75\",\"#39B976\",\"#95D73F\",\"#BDDE26\",\"#AADB32\",\"#9DD93A\",\"#57C665\",\"#72CF55\",\"#47C06E\",\"#30B47A\",\"#1F938B\",\"#20A585\",\"#2B738E\",\"#355C8C\",\"#3E4888\",\"#472878\",\"#462D7C\",\"#472575\",\"#470F62\",\"#460C5F\",\"#460C5F\",\"#440255\",\"#440357\",\"#440255\",\"#440255\",\"#440255\",\"#440255\",\"#460C5F\",\"#460E61\",\"#460E61\",\"#48196B\",\"#481A6C\",\"#46317E\",\"#404387\",\"#3C4E8A\",\"#2E6D8E\",\"#2E6D8E\",\"#218D8C\",\"#2BB17D\",\"#35B778\",\"#3DBB74\",\"#97D83E\",\"#4FC369\",\"#92D741\",\"#6DCE58\",\"#36B877\",\"#35B778\",\"#45BF6F\",\"#21A685\",\"#277E8E\",\"#287A8E\",\"#38578C\",\"#3C4D8A\",\"#433B83\",\"#472676\",\"#472A79\",\"#471163\",\"#460E61\",\"#471265\",\"#45065A\",\"#440357\",\"#440357\",\"#440255\",\"#440255\",\"#440357\",\"#440255\",\"#440357\",\"#440357\",\"#440357\",\"#45085B\",\"#470F62\",\"#481A6C\",\"#45327F\",\"#423D84\",\"#423E85\",\"#423D84\",\"#2A768E\",\"#2C708E\",\"#20918C\",\"#26808E\",\"#2CB17D\",\"#30B47A\",\"#2CB17D\",\"#ADDC30\",\"#59C764\",\"#32B57A\",\"#23A883\",\"#27AD80\",\"#22898D\",\"#29798E\",\"#29788E\",\"#30678D\",\"#3A528B\",\"#3D4B89\",\"#462D7C\",\"#482374\",\"#47186A\",\"#471163\",\"#450558\",\"#440357\",\"#440255\",\"#440255\",\"#440255\",\"#440255\",\"#440255\",\"#440255\",\"#440255\",\"#45085B\",\"#481A6C\",\"#471265\",\"#482172\",\"#482273\",\"#453681\",\"#404387\",\"#3B508A\",\"#2F698D\",\"#29798E\",\"#22898D\",\"#20908C\",\"#24AA82\",\"#1F928C\",\"#27AD80\",\"#2EB27C\",\"#32B57A\",\"#1E9B89\",\"#1E9F88\",\"#1E9F88\",\"#2A768E\",\"#277C8E\",\"#31648D\",\"#39548B\",\"#423E85\",\"#45327F\",\"#482273\",\"#460E61\",\"#460C5F\",\"#460E61\",\"#460E61\",\"#45065A\",\"#440255\",\"#440357\",\"#440255\",\"#440255\",\"#440357\",\"#440357\",\"#450558\",\"#45085B\",\"#470F62\",\"#481A6C\",\"#482273\",\"#481A6C\",\"#472878\",\"#423D84\",\"#3F4788\",\"#38568B\",\"#2C718E\",\"#2B748E\",\"#24858D\",\"#1F938B\",\"#1F948B\",\"#1E9D88\",\"#1E9B89\",\"#1FA286\",\"#218E8C\",\"#2A768E\",\"#2B738E\",\"#2E6B8E\",\"#30688D\",\"#404487\",\"#3F4587\",\"#45347F\",\"#482071\",\"#471466\",\"#471466\",\"#46095C\",\"#460E61\",\"#440255\",\"#440357\",\"#440255\",\"#440255\",\"#45065A\",\"#450558\",\"#45085B\",\"#45085B\",\"#471163\",\"#47186A\",\"#472A79\",\"#482273\",\"#453580\",\"#423D84\",\"#33608D\",\"#3A538B\",\"#2E6C8E\",\"#2A768E\",\"#267F8E\",\"#26808E\",\"#277C8E\",\"#2B748E\",\"#287A8E\",\"#30678D\",\"#32628D\",\"#38578C\",\"#32628D\",\"#404487\",\"#433A83\",\"#472676\",\"#472A79\",\"#48196B\",\"#471265\",\"#45085B\",\"#471265\",\"#45085B\",\"#450558\",\"#440357\",\"#440357\",\"#45065A\",\"#440255\",\"#45065A\",\"#460E61\",\"#470F62\",\"#460E61\",\"#482172\",\"#482172\",\"#472C7B\",\"#423D84\",\"#423E85\",\"#3A538B\",\"#31658D\",\"#38568B\",\"#33608D\",\"#2C708E\",\"#31648D\",\"#2C718E\",\"#277D8E\",\"#2F698D\",\"#365B8C\",\"#3D4A89\",\"#3A528B\",\"#3C4D8A\",\"#45327F\",\"#472676\",\"#472A79\",\"#470F62\",\"#470F62\",\"#46095C\",\"#470F62\",\"#440357\",\"#45065A\",\"#440357\",\"#440255\",\"#440255\",\"#440357\",\"#440357\",\"#450558\",\"#450558\",\"#450558\",\"#450558\",\"#471265\",\"#482172\",\"#472676\",\"#472878\",\"#453681\",\"#423E85\",\"#423E85\",\"#365A8C\",\"#38578C\",\"#3D4A89\",\"#2B748E\",\"#39558B\",\"#39558B\",\"#345E8D\",\"#3A528B\",\"#3D4A89\",\"#3F4587\",\"#404387\",\"#443781\",\"#481A6C\",\"#482071\",\"#481C6E\",\"#471163\",\"#46095C\",\"#470F62\",\"#440255\",\"#440255\",\"#45065A\",\"#440357\",\"#440255\",\"#440255\",\"#440357\",\"#45065A\",\"#45085B\",\"#46095C\",\"#460E61\",\"#48196B\",\"#460E61\",\"#481C6E\",\"#482374\",\"#472A79\",\"#453681\",\"#462F7C\",\"#3C4D8A\",\"#3C4D8A\",\"#38578C\",\"#355D8C\",\"#3B508A\",\"#404387\",\"#3A538B\",\"#38568B\",\"#433A83\",\"#453580\",\"#472A79\",\"#481C6E\",\"#482172\",\"#472575\",\"#471466\",\"#45085B\",\"#460C5F\",\"#450558\",\"#450558\",\"#440255\",\"#440255\",\"#45065A\",\"#45085B\",\"#450558\",\"#450558\",\"#460C5F\",\"#471265\",\"#472575\",\"#482273\",\"#472B7A\",\"#472A79\",\"#462F7C\",\"#46317E\",\"#46317E\",\"#404487\",\"#453580\",\"#423E85\",\"#472C7B\",\"#453580\",\"#443781\",\"#45347F\",\"#472A79\",\"#472B7A\",\"#482374\",\"#47186A\",\"#48196B\",\"#471265\",\"#440255\",\"#45085B\",\"#440357\",\"#440255\",\"#440255\",\"#450558\",\"#450558\",\"#45065A\",\"#45065A\",\"#46095C\",\"#45085B\",\"#48196B\",\"#460E61\",\"#471669\",\"#481D6F\",\"#481D6F\",\"#471669\",\"#482273\",\"#45327F\",\"#45347F\",\"#472676\",\"#472B7A\",\"#462F7C\",\"#443781\",\"#453681\",\"#471265\",\"#481D6F\",\"#471466\",\"#460E61\",\"#471466\",\"#460E61\",\"#45065A\",\"#45085B\",\"#45065A\",\"#45085B\",\"#440357\",\"#440357\",\"#440255\",\"#440255\",\"#440357\",\"#440357\",\"#45085B\",\"#470F62\",\"#45065A\",\"#47186A\",\"#460E61\",\"#481D6F\",\"#48196B\",\"#47186A\",\"#48196B\",\"#472B7A\",\"#472575\",\"#481D6F\",\"#472676\",\"#472878\",\"#472676\",\"#481D6F\",\"#482273\",\"#481C6E\",\"#48196B\",\"#46095C\",\"#460C5F\",\"#450558\",\"#460C5F\",\"#440357\",\"#440255\",\"#440255\",\"#440255\",\"#440357\",\"#440255\",\"#440255\",\"#450558\",\"#450558\",\"#440357\",\"#450558\",\"#460E61\",\"#460E61\",\"#45065A\",\"#471163\",\"#460E61\",\"#47186A\",\"#460E61\",\"#482071\",\"#482374\",\"#481D6F\",\"#48196B\",\"#472878\",\"#482172\",\"#481C6E\",\"#460E61\",\"#45065A\",\"#471163\",\"#470F62\",\"#45085B\",\"#450558\",\"#450558\",\"#440255\",\"#440357\",\"#440255\",\"#440357\",\"#440255\",\"#450558\",\"#440357\",\"#460C5F\",\"#450558\",\"#450558\",\"#45065A\",\"#460C5F\",\"#471466\",\"#460E61\",\"#471163\",\"#471669\",\"#481A6C\",\"#471265\",\"#471163\",\"#471669\",\"#471163\",\"#460C5F\",\"#46095C\",\"#45085B\",\"#440357\",\"#440357\",\"#440255\",\"#440357\",\"#440255\",\"#440255\",\"#440255\",\"#440255\",\"#45065A\",\"#440255\",\"#440255\",\"#450558\",\"#45065A\",\"#45085B\",\"#460E61\",\"#460C5F\",\"#470F62\",\"#460E61\",\"#460C5F\",\"#45085B\",\"#450558\",\"#471265\",\"#45085B\",\"#46095C\",\"#440357\",\"#450558\",\"#440357\",\"#460C5F\",\"#440357\",\"#440357\",\"#440255\",\"#440255\",\"#440255\",\"#450558\",\"#45065A\",\"#440255\",\"#440357\",\"#46095C\",\"#45085B\",\"#450558\",\"#45085B\",\"#450558\",\"#45085B\",\"#46095C\",\"#450558\",\"#46095C\",\"#45065A\",\"#45085B\",\"#440357\",\"#440255\",\"#450558\",\"#440357\",\"#440255\",\"#440357\",\"#440255\",\"#440255\",\"#440255\",\"#440255\",\"#440357\",\"#450558\",\"#450558\",\"#440255\",\"#45085B\",\"#45065A\",\"#45065A\",\"#440255\",\"#440255\",\"#460C5F\",\"#440357\",\"#460C5F\",\"#440357\",\"#440255\",\"#450558\",\"#450558\",\"#440255\",\"#440255\",\"#440357\",\"#440255\",\"#440255\",\"#440255\",\"#440255\",\"#440255\",\"#440357\",\"#440357\",\"#440357\",\"#440255\",\"#450558\",\"#440255\",\"#45065A\",\"#440357\",\"#440255\",\"#440357\",\"#440255\",\"#440255\",\"#440255\",\"#440255\",\"#440255\",\"#440255\",\"#440255\",\"#440357\",\"#450558\",\"#440255\",\"#450558\",\"#440357\",\"#45065A\",\"#450558\",\"#450558\",\"#440255\",\"#440357\",\"#440255\",\"#440255\",\"#440255\",\"#440357\",\"#450558\",\"#440255\",\"#440255\",\"#440357\",\"#440255\",\"#440255\",\"#440255\",\"#440255\",\"#440255\",\"#440255\",\"#440255\",\"#440255\",\"#450558\",\"#440357\",\"#440255\",\"#440357\",\"#440255\",\"#440357\",\"#440255\",\"#440255\",\"#440255\",\"#440255\",\"#440255\",\"#440357\",\"#440255\",\"#440255\",\"#440255\",\"#440255\",\"#440255\",\"#440255\"],\"q\":[-28,-28,-25,-25,-25,-24,-24,-24,-24,-23,-23,-23,-23,-23,-22,-22,-22,-22,-22,-22,-22,-22,-21,-21,-21,-21,-21,-21,-21,-21,-21,-21,-21,-21,-21,-21,-21,-21,-21,-20,-20,-20,-20,-20,-20,-20,-20,-20,-20,-20,-20,-20,-20,-20,-20,-20,-19,-19,-19,-19,-19,-19,-19,-19,-19,-19,-19,-19,-19,-19,-19,-19,-19,-19,-19,-19,-18,-18,-18,-18,-18,-18,-18,-18,-18,-18,-18,-18,-18,-18,-18,-18,-18,-18,-18,-18,-18,-18,-17,-17,-17,-17,-17,-17,-17,-17,-17,-17,-17,-17,-17,-17,-17,-17,-17,-17,-17,-17,-17,-17,-17,-17,-17,-17,-16,-16,-16,-16,-16,-16,-16,-16,-16,-16,-16,-16,-16,-16,-16,-16,-16,-16,-16,-16,-16,-16,-16,-16,-16,-16,-16,-16,-15,-15,-15,-15,-15,-15,-15,-15,-15,-15,-15,-15,-15,-15,-15,-15,-15,-15,-15,-15,-15,-15,-15,-15,-15,-15,-15,-15,-15,-14,-14,-14,-14,-14,-14,-14,-14,-14,-14,-14,-14,-14,-14,-14,-14,-14,-14,-14,-14,-14,-14,-14,-14,-14,-14,-14,-14,-14,-14,-13,-13,-13,-13,-13,-13,-13,-13,-13,-13,-13,-13,-13,-13,-13,-13,-13,-13,-13,-13,-13,-13,-13,-13,-13,-13,-13,-13,-13,-13,-13,-13,-13,-13,-13,-12,-12,-12,-12,-12,-12,-12,-12,-12,-12,-12,-12,-12,-12,-12,-12,-12,-12,-12,-12,-12,-12,-12,-12,-12,-12,-12,-12,-12,-12,-12,-12,-12,-12,-11,-11,-11,-11,-11,-11,-11,-11,-11,-11,-11,-11,-11,-11,-11,-11,-11,-11,-11,-11,-11,-11,-11,-11,-11,-11,-11,-11,-11,-11,-11,-11,-11,-10,-10,-10,-10,-10,-10,-10,-10,-10,-10,-10,-10,-10,-10,-10,-10,-10,-10,-10,-10,-10,-10,-10,-10,-10,-10,-10,-10,-10,-10,-10,-10,-10,-10,-10,-10,-10,-9,-9,-9,-9,-9,-9,-9,-9,-9,-9,-9,-9,-9,-9,-9,-9,-9,-9,-9,-9,-9,-9,-9,-9,-9,-9,-9,-9,-9,-9,-9,-9,-9,-9,-9,-9,-9,-9,-8,-8,-8,-8,-8,-8,-8,-8,-8,-8,-8,-8,-8,-8,-8,-8,-8,-8,-8,-8,-8,-8,-8,-8,-8,-8,-8,-8,-8,-8,-8,-8,-8,-8,-8,-8,-7,-7,-7,-7,-7,-7,-7,-7,-7,-7,-7,-7,-7,-7,-7,-7,-7,-7,-7,-7,-7,-7,-7,-7,-7,-7,-7,-7,-7,-7,-7,-7,-7,-7,-7,-7,-7,-7,-6,-6,-6,-6,-6,-6,-6,-6,-6,-6,-6,-6,-6,-6,-6,-6,-6,-6,-6,-6,-6,-6,-6,-6,-6,-6,-6,-6,-6,-6,-6,-6,-6,-6,-6,-6,-6,-5,-5,-5,-5,-5,-5,-5,-5,-5,-5,-5,-5,-5,-5,-5,-5,-5,-5,-5,-5,-5,-5,-5,-5,-5,-5,-5,-5,-5,-5,-5,-5,-5,-5,-5,-5,-5,-5,-5,-4,-4,-4,-4,-4,-4,-4,-4,-4,-4,-4,-4,-4,-4,-4,-4,-4,-4,-4,-4,-4,-4,-4,-4,-4,-4,-4,-4,-4,-4,-4,-4,-4,-4,-4,-4,-4,-3,-3,-3,-3,-3,-3,-3,-3,-3,-3,-3,-3,-3,-3,-3,-3,-3,-3,-3,-3,-3,-3,-3,-3,-3,-3,-3,-3,-3,-3,-3,-3,-3,-3,-3,-3,-3,-3,-2,-2,-2,-2,-2,-2,-2,-2,-2,-2,-2,-2,-2,-2,-2,-2,-2,-2,-2,-2,-2,-2,-2,-2,-2,-2,-2,-2,-2,-2,-2,-2,-2,-2,-2,-2,-2,-2,-2,-2,-1,-1,-1,-1,-1,-1,-1,-1,-1,-1,-1,-1,-1,-1,-1,-1,-1,-1,-1,-1,-1,-1,-1,-1,-1,-1,-1,-1,-1,-1,-1,-1,-1,-1,-1,-1,-1,-1,-1,0,0,0,0,0,0,0,0,0,0,0,0,0,0,0,0,0,0,0,0,0,0,0,0,0,0,0,0,0,0,0,0,0,0,0,0,0,0,0,0,1,1,1,1,1,1,1,1,1,1,1,1,1,1,1,1,1,1,1,1,1,1,1,1,1,1,1,1,1,1,1,1,1,1,1,1,1,1,1,2,2,2,2,2,2,2,2,2,2,2,2,2,2,2,2,2,2,2,2,2,2,2,2,2,2,2,2,2,2,2,2,2,2,2,2,2,2,2,2,3,3,3,3,3,3,3,3,3,3,3,3,3,3,3,3,3,3,3,3,3,3,3,3,3,3,3,3,3,3,3,3,3,3,3,3,3,3,3,4,4,4,4,4,4,4,4,4,4,4,4,4,4,4,4,4,4,4,4,4,4,4,4,4,4,4,4,4,4,4,4,4,4,4,4,4,4,4,5,5,5,5,5,5,5,5,5,5,5,5,5,5,5,5,5,5,5,5,5,5,5,5,5,5,5,5,5,5,5,5,5,5,5,5,5,5,5,6,6,6,6,6,6,6,6,6,6,6,6,6,6,6,6,6,6,6,6,6,6,6,6,6,6,6,6,6,6,6,6,6,6,6,6,6,6,6,7,7,7,7,7,7,7,7,7,7,7,7,7,7,7,7,7,7,7,7,7,7,7,7,7,7,7,7,7,7,7,7,7,7,7,7,8,8,8,8,8,8,8,8,8,8,8,8,8,8,8,8,8,8,8,8,8,8,8,8,8,8,8,8,8,8,8,8,8,8,8,8,9,9,9,9,9,9,9,9,9,9,9,9,9,9,9,9,9,9,9,9,9,9,9,9,9,9,9,9,9,9,9,9,9,9,9,9,9,10,10,10,10,10,10,10,10,10,10,10,10,10,10,10,10,10,10,10,10,10,10,10,10,10,10,10,10,10,10,10,10,10,10,10,10,11,11,11,11,11,11,11,11,11,11,11,11,11,11,11,11,11,11,11,11,11,11,11,11,11,11,11,11,11,11,11,11,12,12,12,12,12,12,12,12,12,12,12,12,12,12,12,12,12,12,12,12,12,12,12,12,12,12,12,12,12,12,12,12,13,13,13,13,13,13,13,13,13,13,13,13,13,13,13,13,13,13,13,13,13,13,13,13,13,13,13,13,13,13,13,13,13,13,13,14,14,14,14,14,14,14,14,14,14,14,14,14,14,14,14,14,14,14,14,14,14,14,14,14,14,14,14,14,14,15,15,15,15,15,15,15,15,15,15,15,15,15,15,15,15,15,15,15,15,15,15,15,15,15,15,15,15,15,16,16,16,16,16,16,16,16,16,16,16,16,16,16,16,16,16,16,16,16,16,16,16,16,16,16,16,16,17,17,17,17,17,17,17,17,17,17,17,17,17,17,17,17,17,17,17,17,17,17,17,17,18,18,18,18,18,18,18,18,18,18,18,18,18,18,18,18,18,18,18,18,18,18,18,18,18,19,19,19,19,19,19,19,19,19,19,19,19,19,19,19,19,19,19,19,19,19,19,19,20,20,20,20,20,20,20,20,20,20,20,20,20,20,20,20,20,20,21,21,21,21,21,21,21,21,21,21,21,21,21,21,22,22,22,22,22,22,22,22,22,22,22,22,22,23,23,23,23,23,24,24,24,24,24,24,24,25,25,25,25,25,25,25,26],\"r\":[12,24,5,9,19,1,5,12,15,3,6,12,15,18,1,5,6,8,14,15,17,20,4,5,7,8,9,10,11,12,13,14,15,16,17,18,21,22,23,-1,0,2,3,4,6,7,8,9,10,12,13,14,15,17,20,23,-4,-2,-1,1,2,3,4,5,6,7,8,9,10,11,12,13,14,15,16,18,-6,-5,-3,-1,2,3,4,5,6,7,8,9,10,11,12,13,14,17,18,20,21,25,-8,-5,-4,-3,-2,-1,0,1,2,3,4,5,6,7,8,9,10,11,12,13,14,15,17,18,19,25,-7,-6,-4,-3,-2,-1,0,1,2,3,4,5,6,7,8,9,10,11,12,13,14,15,16,17,18,19,20,29,-8,-5,-4,-3,-2,-1,0,1,2,3,4,5,6,7,8,9,10,11,12,13,14,15,16,17,18,19,20,21,22,-8,-7,-6,-5,-4,-3,-2,-1,0,1,2,3,4,5,6,7,8,9,10,11,12,13,14,15,16,17,18,20,21,23,-14,-11,-9,-8,-7,-6,-5,-4,-3,-2,-1,0,1,2,3,4,5,6,7,8,9,10,11,12,13,14,15,16,17,18,19,20,21,22,23,-10,-8,-7,-6,-5,-4,-3,-2,-1,0,1,2,3,4,5,6,7,8,9,10,11,12,13,14,15,16,17,18,19,20,21,22,23,25,-10,-9,-8,-7,-6,-5,-4,-3,-2,-1,0,1,2,3,4,5,6,7,8,9,10,11,12,13,14,15,16,17,18,19,20,21,22,-15,-14,-12,-11,-10,-9,-8,-7,-6,-5,-4,-3,-2,-1,0,1,2,3,4,5,6,7,8,9,10,11,12,13,14,15,16,17,18,19,20,22,24,-17,-14,-13,-12,-11,-10,-9,-8,-7,-6,-5,-4,-3,-2,-1,0,1,2,3,4,5,6,7,8,9,10,11,12,13,14,15,16,17,18,19,20,21,22,-16,-14,-12,-11,-10,-9,-8,-7,-6,-5,-4,-3,-2,-1,0,1,2,3,4,5,6,7,8,9,10,11,12,13,14,15,16,17,18,19,20,21,-19,-15,-14,-13,-12,-11,-10,-9,-8,-7,-6,-5,-4,-3,-2,-1,0,1,2,3,4,5,6,7,8,9,10,11,12,13,14,15,16,17,18,19,21,24,-17,-14,-13,-12,-11,-10,-9,-8,-7,-6,-5,-4,-3,-2,-1,0,1,2,3,4,5,6,7,8,9,10,11,12,13,14,15,16,17,18,19,20,21,-16,-14,-13,-12,-11,-10,-9,-8,-7,-6,-5,-4,-3,-2,-1,0,1,2,3,4,5,6,7,8,9,10,11,12,13,14,15,16,17,18,19,20,21,23,25,-18,-14,-13,-12,-11,-10,-9,-8,-7,-6,-5,-4,-3,-2,-1,0,1,2,3,4,5,6,7,8,9,10,11,12,13,14,15,16,17,18,19,20,22,-18,-17,-16,-15,-14,-13,-12,-11,-10,-9,-8,-7,-6,-5,-4,-3,-2,-1,0,1,2,3,4,5,6,7,8,9,10,11,12,13,14,15,16,17,18,19,-19,-18,-17,-16,-15,-14,-13,-12,-11,-10,-9,-8,-7,-6,-5,-4,-3,-2,-1,0,1,2,3,4,5,6,7,8,9,10,11,12,13,14,15,16,17,18,19,20,-19,-17,-16,-15,-14,-13,-12,-11,-10,-9,-8,-7,-6,-5,-4,-3,-2,-1,0,1,2,3,4,5,6,7,8,9,10,11,12,13,14,15,16,17,18,19,20,-19,-18,-17,-16,-15,-14,-13,-12,-11,-10,-9,-8,-7,-6,-5,-4,-3,-2,-1,0,1,2,3,4,5,6,7,8,9,10,11,12,13,14,15,16,17,18,20,22,-20,-19,-18,-17,-16,-15,-14,-13,-12,-11,-10,-9,-8,-7,-6,-5,-4,-3,-2,-1,0,1,2,3,4,5,6,7,8,9,10,11,12,13,14,15,16,17,18,-24,-20,-18,-17,-16,-15,-14,-13,-12,-11,-10,-9,-8,-7,-6,-5,-4,-3,-2,-1,0,1,2,3,4,5,6,7,8,9,10,11,12,13,14,15,16,17,21,22,-21,-20,-18,-17,-16,-15,-14,-13,-12,-11,-10,-9,-8,-7,-6,-5,-4,-3,-2,-1,0,1,2,3,4,5,6,7,8,9,10,11,12,13,14,15,16,17,18,-22,-21,-18,-17,-16,-15,-14,-13,-12,-11,-10,-9,-8,-7,-6,-5,-4,-3,-2,-1,0,1,2,3,4,5,6,7,8,9,10,11,12,13,14,15,16,17,19,-22,-21,-20,-19,-18,-17,-16,-15,-14,-13,-12,-11,-10,-9,-8,-7,-6,-5,-4,-3,-2,-1,0,1,2,3,4,5,6,7,8,9,10,11,12,13,16,17,20,-26,-24,-20,-19,-18,-17,-16,-15,-14,-13,-12,-11,-10,-9,-8,-7,-6,-5,-4,-3,-2,-1,0,1,2,3,4,5,6,7,8,9,10,11,12,13,14,15,16,-22,-21,-20,-19,-18,-17,-16,-15,-14,-13,-12,-11,-10,-9,-8,-7,-6,-5,-4,-3,-2,-1,0,1,2,3,4,5,6,7,8,9,10,11,12,14,-22,-21,-20,-19,-18,-17,-16,-15,-14,-13,-12,-11,-10,-9,-8,-7,-6,-5,-4,-3,-2,-1,0,1,2,3,4,5,6,7,8,9,10,11,12,13,-22,-21,-20,-19,-18,-17,-16,-15,-14,-13,-12,-11,-10,-9,-8,-7,-6,-5,-4,-3,-2,-1,0,1,2,3,4,5,6,7,8,9,10,11,12,14,15,-22,-21,-20,-19,-18,-17,-16,-15,-14,-13,-12,-11,-10,-9,-8,-7,-6,-5,-4,-3,-2,-1,0,1,2,3,4,5,6,7,8,9,10,11,12,13,-30,-23,-20,-19,-18,-17,-16,-15,-14,-13,-12,-11,-10,-9,-8,-7,-6,-5,-4,-3,-2,-1,0,1,2,3,4,5,6,7,8,10,-22,-21,-20,-19,-18,-17,-16,-15,-14,-13,-12,-11,-10,-9,-8,-7,-6,-5,-4,-3,-2,-1,0,1,2,3,4,5,6,8,9,10,-23,-22,-21,-20,-19,-18,-17,-16,-15,-14,-13,-12,-11,-10,-9,-8,-7,-6,-5,-4,-3,-2,-1,0,1,2,3,4,5,6,7,8,9,10,11,-20,-19,-18,-17,-16,-15,-14,-13,-12,-11,-10,-9,-8,-7,-6,-5,-4,-3,-2,-1,0,1,2,3,4,5,6,7,8,9,-23,-21,-20,-19,-18,-17,-16,-15,-14,-13,-12,-11,-10,-9,-8,-7,-6,-5,-4,-3,-2,-1,0,1,2,3,4,5,6,-22,-20,-19,-18,-17,-16,-15,-14,-13,-12,-11,-10,-9,-8,-7,-6,-5,-4,-3,-2,-1,0,2,5,6,7,8,9,-22,-21,-19,-18,-17,-16,-15,-14,-13,-12,-11,-10,-9,-8,-7,-6,-5,-4,-3,-2,-1,0,1,2,-22,-21,-20,-18,-17,-16,-14,-13,-12,-11,-10,-9,-8,-7,-6,-5,-4,-3,-2,-1,0,1,2,3,4,-24,-21,-18,-17,-16,-15,-14,-13,-12,-11,-10,-9,-8,-7,-6,-5,-4,-3,-2,-1,0,1,4,-24,-22,-19,-18,-17,-16,-14,-13,-10,-9,-7,-5,-4,-3,-2,0,1,3,-22,-20,-18,-16,-15,-14,-12,-11,-9,-8,-6,-5,-4,-3,-24,-19,-17,-16,-15,-13,-11,-10,-9,-8,-7,-6,-2,-31,-19,-15,-10,-8,-19,-14,-11,-9,-8,-7,-4,-24,-14,-12,-10,-7,-6,0,-17]},\"selected\":{\"id\":\"33966\",\"type\":\"Selection\"},\"selection_policy\":{\"id\":\"33965\",\"type\":\"UnionRenderers\"}},\"id\":\"33371\",\"type\":\"ColumnDataSource\"},{\"attributes\":{},\"id\":\"33964\",\"type\":\"BasicTickFormatter\"},{\"attributes\":{\"data_source\":{\"id\":\"33371\",\"type\":\"ColumnDataSource\"},\"glyph\":{\"id\":\"33372\",\"type\":\"HexTile\"},\"hover_glyph\":null,\"muted_glyph\":null,\"nonselection_glyph\":{\"id\":\"33373\",\"type\":\"HexTile\"},\"selection_glyph\":null,\"view\":{\"id\":\"33375\",\"type\":\"CDSView\"}},\"id\":\"33374\",\"type\":\"GlyphRenderer\"},{\"attributes\":{\"fill_alpha\":{\"value\":0.1},\"fill_color\":{\"value\":\"#1f77b4\"},\"line_alpha\":{\"value\":0.1},\"line_color\":{\"value\":\"#1f77b4\"},\"q\":{\"field\":\"q\"},\"r\":{\"field\":\"r\"},\"size\":0.6},\"id\":\"33373\",\"type\":\"HexTile\"},{\"attributes\":{},\"id\":\"33965\",\"type\":\"UnionRenderers\"},{\"attributes\":{\"text\":\"\"},\"id\":\"33960\",\"type\":\"Title\"},{\"attributes\":{},\"id\":\"33357\",\"type\":\"BasicTicker\"},{\"attributes\":{\"fill_color\":{\"field\":\"fill_color\"},\"q\":{\"field\":\"q\"},\"r\":{\"field\":\"r\"},\"size\":0.6},\"id\":\"33372\",\"type\":\"HexTile\"},{\"attributes\":{\"formatter\":{\"id\":\"33964\",\"type\":\"BasicTickFormatter\"},\"ticker\":{\"id\":\"33362\",\"type\":\"BasicTicker\"}},\"id\":\"33361\",\"type\":\"LinearAxis\"},{\"attributes\":{},\"id\":\"33362\",\"type\":\"BasicTicker\"},{\"attributes\":{},\"id\":\"33352\",\"type\":\"LinearScale\"},{\"attributes\":{},\"id\":\"33966\",\"type\":\"Selection\"},{\"attributes\":{\"ticker\":{\"id\":\"33357\",\"type\":\"BasicTicker\"},\"visible\":false},\"id\":\"33360\",\"type\":\"Grid\"},{\"attributes\":{},\"id\":\"33366\",\"type\":\"WheelZoomTool\"},{\"attributes\":{\"callback\":null},\"id\":\"33350\",\"type\":\"DataRange1d\"}],\"root_ids\":[\"33347\"]},\"title\":\"Bokeh Application\",\"version\":\"1.2.0\"}};\n",
       "  var render_items = [{\"docid\":\"50c83111-e247-4bfa-ac05-cc368060dab3\",\"roots\":{\"33347\":\"dcf09688-dee5-40ed-8ec8-6df5cfd20998\"}}];\n",
       "  root.Bokeh.embed.embed_items_notebook(docs_json, render_items);\n",
       "\n",
       "  }\n",
       "  if (root.Bokeh !== undefined) {\n",
       "    embed_document(root);\n",
       "  } else {\n",
       "    var attempts = 0;\n",
       "    var timer = setInterval(function(root) {\n",
       "      if (root.Bokeh !== undefined) {\n",
       "        embed_document(root);\n",
       "        clearInterval(timer);\n",
       "      }\n",
       "      attempts++;\n",
       "      if (attempts > 100) {\n",
       "        console.log(\"Bokeh: ERROR: Unable to run BokehJS code because BokehJS library is missing\");\n",
       "        clearInterval(timer);\n",
       "      }\n",
       "    }, 10, root)\n",
       "  }\n",
       "})(window);"
      ],
      "application/vnd.bokehjs_exec.v0+json": ""
     },
     "metadata": {
      "application/vnd.bokehjs_exec.v0+json": {
       "id": "33347"
      }
     },
     "output_type": "display_data"
    }
   ],
   "source": [
    "\n",
    "n = 50000\n",
    "x = np.random.standard_normal(n)\n",
    "y = np.random.standard_normal(n)\n",
    "\n",
    "bins = hexbin(x, y, 0.1)\n",
    "\n",
    "# color map the bins by hand, will see how to use linear_cmap later\n",
    "color = [Viridis256[int(i)] for i in bins.counts/max(bins.counts)*255]\n",
    "\n",
    "# match_aspect ensures neither dimension is squished, regardless of the plot size\n",
    "p = figure(tools=\"wheel_zoom,reset\", match_aspect=True, background_fill_color='#440154')\n",
    "p.grid.visible = False\n",
    "\n",
    "p.hex_tile(bins.q, bins.r, size=0.6, line_color=None, fill_color=color)\n",
    "\n",
    "\n",
    "show(p)"
   ]
  },
  {
   "cell_type": "markdown",
   "metadata": {},
   "source": [
    "**#4 EXERCISE: Plot some of the other glyph types, following the examples in the User Guide.**"
   ]
  },
  {
   "cell_type": "markdown",
   "metadata": {},
   "source": [
    "## 4A Wedges and Arcs"
   ]
  },
  {
   "cell_type": "code",
   "execution_count": 42,
   "metadata": {},
   "outputs": [
    {
     "data": {
      "text/html": [
       "\n",
       "\n",
       "\n",
       "\n",
       "\n",
       "\n",
       "  <div class=\"bk-root\" id=\"1caa127e-cc0b-4512-9752-364021aaa32e\" data-root-id=\"4752\"></div>\n"
      ]
     },
     "metadata": {},
     "output_type": "display_data"
    },
    {
     "data": {
      "application/javascript": [
       "(function(root) {\n",
       "  function embed_document(root) {\n",
       "    \n",
       "  var docs_json = {\"32dbb764-926f-46ae-899a-91beb11ca39c\":{\"roots\":{\"references\":[{\"attributes\":{\"below\":[{\"id\":\"4761\",\"type\":\"LinearAxis\"}],\"center\":[{\"id\":\"4765\",\"type\":\"Grid\"},{\"id\":\"4770\",\"type\":\"Grid\"}],\"left\":[{\"id\":\"4766\",\"type\":\"LinearAxis\"}],\"plot_height\":400,\"plot_width\":400,\"renderers\":[{\"id\":\"4787\",\"type\":\"GlyphRenderer\"}],\"title\":{\"id\":\"4935\",\"type\":\"Title\"},\"toolbar\":{\"id\":\"4777\",\"type\":\"Toolbar\"},\"x_range\":{\"id\":\"4753\",\"type\":\"DataRange1d\"},\"x_scale\":{\"id\":\"4757\",\"type\":\"LinearScale\"},\"y_range\":{\"id\":\"4755\",\"type\":\"DataRange1d\"},\"y_scale\":{\"id\":\"4759\",\"type\":\"LinearScale\"}},\"id\":\"4752\",\"subtype\":\"Figure\",\"type\":\"Plot\"},{\"attributes\":{},\"id\":\"4941\",\"type\":\"UnionRenderers\"},{\"attributes\":{\"text\":\"\"},\"id\":\"4935\",\"type\":\"Title\"},{\"attributes\":{\"bottom_units\":\"screen\",\"fill_alpha\":{\"value\":0.5},\"fill_color\":{\"value\":\"lightgrey\"},\"left_units\":\"screen\",\"level\":\"overlay\",\"line_alpha\":{\"value\":1.0},\"line_color\":{\"value\":\"black\"},\"line_dash\":[4,4],\"line_width\":{\"value\":2},\"render_mode\":\"css\",\"right_units\":\"screen\",\"top_units\":\"screen\"},\"id\":\"4940\",\"type\":\"BoxAnnotation\"},{\"attributes\":{\"callback\":null,\"data\":{\"x\":[1,2,3],\"y\":[1,2,3]},\"selected\":{\"id\":\"4942\",\"type\":\"Selection\"},\"selection_policy\":{\"id\":\"4941\",\"type\":\"UnionRenderers\"}},\"id\":\"4784\",\"type\":\"ColumnDataSource\"},{\"attributes\":{},\"id\":\"4774\",\"type\":\"SaveTool\"},{\"attributes\":{\"active_drag\":\"auto\",\"active_inspect\":\"auto\",\"active_multi\":null,\"active_scroll\":\"auto\",\"active_tap\":\"auto\",\"tools\":[{\"id\":\"4771\",\"type\":\"PanTool\"},{\"id\":\"4772\",\"type\":\"WheelZoomTool\"},{\"id\":\"4773\",\"type\":\"BoxZoomTool\"},{\"id\":\"4774\",\"type\":\"SaveTool\"},{\"id\":\"4775\",\"type\":\"ResetTool\"},{\"id\":\"4776\",\"type\":\"HelpTool\"}]},\"id\":\"4777\",\"type\":\"Toolbar\"},{\"attributes\":{},\"id\":\"4939\",\"type\":\"BasicTickFormatter\"},{\"attributes\":{\"formatter\":{\"id\":\"4939\",\"type\":\"BasicTickFormatter\"},\"ticker\":{\"id\":\"4767\",\"type\":\"BasicTicker\"}},\"id\":\"4766\",\"type\":\"LinearAxis\"},{\"attributes\":{},\"id\":\"4772\",\"type\":\"WheelZoomTool\"},{\"attributes\":{\"callback\":null},\"id\":\"4753\",\"type\":\"DataRange1d\"},{\"attributes\":{\"callback\":null},\"id\":\"4755\",\"type\":\"DataRange1d\"},{\"attributes\":{},\"id\":\"4757\",\"type\":\"LinearScale\"},{\"attributes\":{\"end_angle\":{\"units\":\"rad\",\"value\":4.8},\"line_alpha\":{\"value\":0.1},\"line_color\":{\"value\":\"#1f77b4\"},\"radius\":{\"units\":\"data\",\"value\":0.1},\"start_angle\":{\"units\":\"rad\",\"value\":0.4},\"x\":{\"field\":\"x\"},\"y\":{\"field\":\"y\"}},\"id\":\"4786\",\"type\":\"Arc\"},{\"attributes\":{},\"id\":\"4759\",\"type\":\"LinearScale\"},{\"attributes\":{},\"id\":\"4937\",\"type\":\"BasicTickFormatter\"},{\"attributes\":{\"formatter\":{\"id\":\"4937\",\"type\":\"BasicTickFormatter\"},\"ticker\":{\"id\":\"4762\",\"type\":\"BasicTicker\"}},\"id\":\"4761\",\"type\":\"LinearAxis\"},{\"attributes\":{\"end_angle\":{\"units\":\"rad\",\"value\":4.8},\"line_color\":{\"value\":\"navy\"},\"radius\":{\"units\":\"data\",\"value\":0.1},\"start_angle\":{\"units\":\"rad\",\"value\":0.4},\"x\":{\"field\":\"x\"},\"y\":{\"field\":\"y\"}},\"id\":\"4785\",\"type\":\"Arc\"},{\"attributes\":{},\"id\":\"4771\",\"type\":\"PanTool\"},{\"attributes\":{},\"id\":\"4762\",\"type\":\"BasicTicker\"},{\"attributes\":{},\"id\":\"4775\",\"type\":\"ResetTool\"},{\"attributes\":{\"ticker\":{\"id\":\"4762\",\"type\":\"BasicTicker\"}},\"id\":\"4765\",\"type\":\"Grid\"},{\"attributes\":{},\"id\":\"4767\",\"type\":\"BasicTicker\"},{\"attributes\":{\"dimension\":1,\"ticker\":{\"id\":\"4767\",\"type\":\"BasicTicker\"}},\"id\":\"4770\",\"type\":\"Grid\"},{\"attributes\":{},\"id\":\"4776\",\"type\":\"HelpTool\"},{\"attributes\":{\"source\":{\"id\":\"4784\",\"type\":\"ColumnDataSource\"}},\"id\":\"4788\",\"type\":\"CDSView\"},{\"attributes\":{},\"id\":\"4942\",\"type\":\"Selection\"},{\"attributes\":{\"data_source\":{\"id\":\"4784\",\"type\":\"ColumnDataSource\"},\"glyph\":{\"id\":\"4785\",\"type\":\"Arc\"},\"hover_glyph\":null,\"muted_glyph\":null,\"nonselection_glyph\":{\"id\":\"4786\",\"type\":\"Arc\"},\"selection_glyph\":null,\"view\":{\"id\":\"4788\",\"type\":\"CDSView\"}},\"id\":\"4787\",\"type\":\"GlyphRenderer\"},{\"attributes\":{\"overlay\":{\"id\":\"4940\",\"type\":\"BoxAnnotation\"}},\"id\":\"4773\",\"type\":\"BoxZoomTool\"}],\"root_ids\":[\"4752\"]},\"title\":\"Bokeh Application\",\"version\":\"1.2.0\"}};\n",
       "  var render_items = [{\"docid\":\"32dbb764-926f-46ae-899a-91beb11ca39c\",\"roots\":{\"4752\":\"1caa127e-cc0b-4512-9752-364021aaa32e\"}}];\n",
       "  root.Bokeh.embed.embed_items_notebook(docs_json, render_items);\n",
       "\n",
       "  }\n",
       "  if (root.Bokeh !== undefined) {\n",
       "    embed_document(root);\n",
       "  } else {\n",
       "    var attempts = 0;\n",
       "    var timer = setInterval(function(root) {\n",
       "      if (root.Bokeh !== undefined) {\n",
       "        embed_document(root);\n",
       "        clearInterval(timer);\n",
       "      }\n",
       "      attempts++;\n",
       "      if (attempts > 100) {\n",
       "        console.log(\"Bokeh: ERROR: Unable to run BokehJS code because BokehJS library is missing\");\n",
       "        clearInterval(timer);\n",
       "      }\n",
       "    }, 10, root)\n",
       "  }\n",
       "})(window);"
      ],
      "application/vnd.bokehjs_exec.v0+json": ""
     },
     "metadata": {
      "application/vnd.bokehjs_exec.v0+json": {
       "id": "4752"
      }
     },
     "output_type": "display_data"
    }
   ],
   "source": [
    "from bokeh.plotting import figure, show\n",
    "\n",
    "p = figure(plot_width=400, plot_height=400)\n",
    "p.arc(x=[1, 2, 3], y=[1, 2, 3], radius=0.1, start_angle=0.4, end_angle=4.8, color=\"navy\")\n",
    "\n",
    "show(p)"
   ]
  },
  {
   "cell_type": "markdown",
   "metadata": {},
   "source": [
    "## 4B- Ellipses"
   ]
  },
  {
   "cell_type": "code",
   "execution_count": 43,
   "metadata": {},
   "outputs": [
    {
     "data": {
      "text/html": [
       "\n",
       "\n",
       "\n",
       "\n",
       "\n",
       "\n",
       "  <div class=\"bk-root\" id=\"346ef220-a571-4981-8a1f-4e275ec5a2e3\" data-root-id=\"4997\"></div>\n"
      ]
     },
     "metadata": {},
     "output_type": "display_data"
    },
    {
     "data": {
      "application/javascript": [
       "(function(root) {\n",
       "  function embed_document(root) {\n",
       "    \n",
       "  var docs_json = {\"61067776-7fd9-423a-b9e7-03692a101a3a\":{\"roots\":{\"references\":[{\"attributes\":{\"below\":[{\"id\":\"5006\",\"type\":\"LinearAxis\"}],\"center\":[{\"id\":\"5010\",\"type\":\"Grid\"},{\"id\":\"5015\",\"type\":\"Grid\"}],\"left\":[{\"id\":\"5011\",\"type\":\"LinearAxis\"}],\"plot_height\":400,\"plot_width\":400,\"renderers\":[{\"id\":\"5032\",\"type\":\"GlyphRenderer\"}],\"title\":{\"id\":\"5189\",\"type\":\"Title\"},\"toolbar\":{\"id\":\"5022\",\"type\":\"Toolbar\"},\"x_range\":{\"id\":\"4998\",\"type\":\"DataRange1d\"},\"x_scale\":{\"id\":\"5002\",\"type\":\"LinearScale\"},\"y_range\":{\"id\":\"5000\",\"type\":\"DataRange1d\"},\"y_scale\":{\"id\":\"5004\",\"type\":\"LinearScale\"}},\"id\":\"4997\",\"subtype\":\"Figure\",\"type\":\"Plot\"},{\"attributes\":{\"active_drag\":\"auto\",\"active_inspect\":\"auto\",\"active_multi\":null,\"active_scroll\":\"auto\",\"active_tap\":\"auto\",\"tools\":[{\"id\":\"5016\",\"type\":\"PanTool\"},{\"id\":\"5017\",\"type\":\"WheelZoomTool\"},{\"id\":\"5018\",\"type\":\"BoxZoomTool\"},{\"id\":\"5019\",\"type\":\"SaveTool\"},{\"id\":\"5020\",\"type\":\"ResetTool\"},{\"id\":\"5021\",\"type\":\"HelpTool\"}]},\"id\":\"5022\",\"type\":\"Toolbar\"},{\"attributes\":{},\"id\":\"5012\",\"type\":\"BasicTicker\"},{\"attributes\":{\"bottom_units\":\"screen\",\"fill_alpha\":{\"value\":0.5},\"fill_color\":{\"value\":\"lightgrey\"},\"left_units\":\"screen\",\"level\":\"overlay\",\"line_alpha\":{\"value\":1.0},\"line_color\":{\"value\":\"black\"},\"line_dash\":[4,4],\"line_width\":{\"value\":2},\"render_mode\":\"css\",\"right_units\":\"screen\",\"top_units\":\"screen\"},\"id\":\"5194\",\"type\":\"BoxAnnotation\"},{\"attributes\":{\"dimension\":1,\"ticker\":{\"id\":\"5012\",\"type\":\"BasicTicker\"}},\"id\":\"5015\",\"type\":\"Grid\"},{\"attributes\":{\"ticker\":{\"id\":\"5007\",\"type\":\"BasicTicker\"}},\"id\":\"5010\",\"type\":\"Grid\"},{\"attributes\":{\"formatter\":{\"id\":\"5193\",\"type\":\"BasicTickFormatter\"},\"ticker\":{\"id\":\"5012\",\"type\":\"BasicTicker\"}},\"id\":\"5011\",\"type\":\"LinearAxis\"},{\"attributes\":{},\"id\":\"5020\",\"type\":\"ResetTool\"},{\"attributes\":{\"source\":{\"id\":\"5029\",\"type\":\"ColumnDataSource\"}},\"id\":\"5033\",\"type\":\"CDSView\"},{\"attributes\":{},\"id\":\"5191\",\"type\":\"BasicTickFormatter\"},{\"attributes\":{\"data_source\":{\"id\":\"5029\",\"type\":\"ColumnDataSource\"},\"glyph\":{\"id\":\"5030\",\"type\":\"Ellipse\"},\"hover_glyph\":null,\"muted_glyph\":null,\"nonselection_glyph\":{\"id\":\"5031\",\"type\":\"Ellipse\"},\"selection_glyph\":null,\"view\":{\"id\":\"5033\",\"type\":\"CDSView\"}},\"id\":\"5032\",\"type\":\"GlyphRenderer\"},{\"attributes\":{\"text\":\"\"},\"id\":\"5189\",\"type\":\"Title\"},{\"attributes\":{},\"id\":\"5195\",\"type\":\"UnionRenderers\"},{\"attributes\":{},\"id\":\"5021\",\"type\":\"HelpTool\"},{\"attributes\":{},\"id\":\"5002\",\"type\":\"LinearScale\"},{\"attributes\":{\"angle\":{\"units\":\"rad\",\"value\":1.0471975511965976},\"fill_alpha\":{\"value\":0.1},\"fill_color\":{\"value\":\"#1f77b4\"},\"height\":{\"units\":\"data\",\"value\":0.3},\"line_alpha\":{\"value\":0.1},\"line_color\":{\"value\":\"#1f77b4\"},\"width\":{\"field\":\"width\",\"units\":\"data\"},\"x\":{\"field\":\"x\"},\"y\":{\"field\":\"y\"}},\"id\":\"5031\",\"type\":\"Ellipse\"},{\"attributes\":{},\"id\":\"5196\",\"type\":\"Selection\"},{\"attributes\":{\"overlay\":{\"id\":\"5194\",\"type\":\"BoxAnnotation\"}},\"id\":\"5018\",\"type\":\"BoxZoomTool\"},{\"attributes\":{},\"id\":\"5193\",\"type\":\"BasicTickFormatter\"},{\"attributes\":{\"callback\":null,\"data\":{\"width\":[0.2,0.3,0.1],\"x\":[1,2,3],\"y\":[1,2,3]},\"selected\":{\"id\":\"5196\",\"type\":\"Selection\"},\"selection_policy\":{\"id\":\"5195\",\"type\":\"UnionRenderers\"}},\"id\":\"5029\",\"type\":\"ColumnDataSource\"},{\"attributes\":{},\"id\":\"5019\",\"type\":\"SaveTool\"},{\"attributes\":{},\"id\":\"5017\",\"type\":\"WheelZoomTool\"},{\"attributes\":{},\"id\":\"5007\",\"type\":\"BasicTicker\"},{\"attributes\":{\"formatter\":{\"id\":\"5191\",\"type\":\"BasicTickFormatter\"},\"ticker\":{\"id\":\"5007\",\"type\":\"BasicTicker\"}},\"id\":\"5006\",\"type\":\"LinearAxis\"},{\"attributes\":{\"angle\":{\"units\":\"rad\",\"value\":1.0471975511965976},\"fill_color\":{\"value\":\"#CAB2D6\"},\"height\":{\"units\":\"data\",\"value\":0.3},\"line_color\":{\"value\":\"#CAB2D6\"},\"width\":{\"field\":\"width\",\"units\":\"data\"},\"x\":{\"field\":\"x\"},\"y\":{\"field\":\"y\"}},\"id\":\"5030\",\"type\":\"Ellipse\"},{\"attributes\":{\"callback\":null},\"id\":\"4998\",\"type\":\"DataRange1d\"},{\"attributes\":{},\"id\":\"5016\",\"type\":\"PanTool\"},{\"attributes\":{\"callback\":null},\"id\":\"5000\",\"type\":\"DataRange1d\"},{\"attributes\":{},\"id\":\"5004\",\"type\":\"LinearScale\"}],\"root_ids\":[\"4997\"]},\"title\":\"Bokeh Application\",\"version\":\"1.2.0\"}};\n",
       "  var render_items = [{\"docid\":\"61067776-7fd9-423a-b9e7-03692a101a3a\",\"roots\":{\"4997\":\"346ef220-a571-4981-8a1f-4e275ec5a2e3\"}}];\n",
       "  root.Bokeh.embed.embed_items_notebook(docs_json, render_items);\n",
       "\n",
       "  }\n",
       "  if (root.Bokeh !== undefined) {\n",
       "    embed_document(root);\n",
       "  } else {\n",
       "    var attempts = 0;\n",
       "    var timer = setInterval(function(root) {\n",
       "      if (root.Bokeh !== undefined) {\n",
       "        embed_document(root);\n",
       "        clearInterval(timer);\n",
       "      }\n",
       "      attempts++;\n",
       "      if (attempts > 100) {\n",
       "        console.log(\"Bokeh: ERROR: Unable to run BokehJS code because BokehJS library is missing\");\n",
       "        clearInterval(timer);\n",
       "      }\n",
       "    }, 10, root)\n",
       "  }\n",
       "})(window);"
      ],
      "application/vnd.bokehjs_exec.v0+json": ""
     },
     "metadata": {
      "application/vnd.bokehjs_exec.v0+json": {
       "id": "4997"
      }
     },
     "output_type": "display_data"
    }
   ],
   "source": [
    "from math import pi\n",
    "\n",
    "from bokeh.plotting import figure, output_file, show\n",
    "\n",
    "output_file('ellipses.html')\n",
    "\n",
    "p = figure(plot_width=400, plot_height=400)\n",
    "p.ellipse(x=[1, 2, 3], y=[1, 2, 3], width=[0.2, 0.3, 0.1], height=0.3,\n",
    "          angle=pi/3, color=\"#CAB2D6\")\n",
    "\n",
    "show(p)"
   ]
  },
  {
   "cell_type": "markdown",
   "metadata": {},
   "source": [
    "## 5- Plots with Multiple Glyphs"
   ]
  },
  {
   "cell_type": "markdown",
   "metadata": {},
   "source": [
    "**#4 EXERCISE: create your own plot combining multiple glyphs together **"
   ]
  },
  {
   "cell_type": "code",
   "execution_count": 50,
   "metadata": {},
   "outputs": [
    {
     "data": {
      "text/html": [
       "\n",
       "\n",
       "\n",
       "\n",
       "\n",
       "\n",
       "  <div class=\"bk-root\" id=\"e9ecb1ad-1040-4e34-8aab-63cbd527f8de\" data-root-id=\"7689\"></div>\n"
      ]
     },
     "metadata": {},
     "output_type": "display_data"
    },
    {
     "data": {
      "application/javascript": [
       "(function(root) {\n",
       "  function embed_document(root) {\n",
       "    \n",
       "  var docs_json = {\"237d334e-bfb4-42de-aff4-b8746d6e1972\":{\"roots\":{\"references\":[{\"attributes\":{\"below\":[{\"id\":\"7698\",\"type\":\"LinearAxis\"}],\"center\":[{\"id\":\"7702\",\"type\":\"Grid\"},{\"id\":\"7707\",\"type\":\"Grid\"}],\"left\":[{\"id\":\"7703\",\"type\":\"LinearAxis\"}],\"plot_height\":400,\"plot_width\":400,\"renderers\":[{\"id\":\"7724\",\"type\":\"GlyphRenderer\"},{\"id\":\"7729\",\"type\":\"GlyphRenderer\"}],\"title\":{\"id\":\"7953\",\"type\":\"Title\"},\"toolbar\":{\"id\":\"7714\",\"type\":\"Toolbar\"},\"x_range\":{\"id\":\"7690\",\"type\":\"DataRange1d\"},\"x_scale\":{\"id\":\"7694\",\"type\":\"LinearScale\"},\"y_range\":{\"id\":\"7692\",\"type\":\"DataRange1d\"},\"y_scale\":{\"id\":\"7696\",\"type\":\"LinearScale\"}},\"id\":\"7689\",\"subtype\":\"Figure\",\"type\":\"Plot\"},{\"attributes\":{},\"id\":\"7961\",\"type\":\"UnionRenderers\"},{\"attributes\":{\"formatter\":{\"id\":\"7955\",\"type\":\"BasicTickFormatter\"},\"ticker\":{\"id\":\"7699\",\"type\":\"BasicTicker\"}},\"id\":\"7698\",\"type\":\"LinearAxis\"},{\"attributes\":{\"fill_color\":{\"value\":\"firebrick\"},\"line_color\":{\"value\":\"firebrick\"},\"top\":{\"field\":\"top\"},\"width\":{\"value\":0.5},\"x\":{\"field\":\"x\"}},\"id\":\"7727\",\"type\":\"VBar\"},{\"attributes\":{},\"id\":\"7696\",\"type\":\"LinearScale\"},{\"attributes\":{},\"id\":\"7955\",\"type\":\"BasicTickFormatter\"},{\"attributes\":{\"formatter\":{\"id\":\"7957\",\"type\":\"BasicTickFormatter\"},\"ticker\":{\"id\":\"7704\",\"type\":\"BasicTicker\"}},\"id\":\"7703\",\"type\":\"LinearAxis\"},{\"attributes\":{\"bottom_units\":\"screen\",\"fill_alpha\":{\"value\":0.5},\"fill_color\":{\"value\":\"lightgrey\"},\"left_units\":\"screen\",\"level\":\"overlay\",\"line_alpha\":{\"value\":1.0},\"line_color\":{\"value\":\"black\"},\"line_dash\":[4,4],\"line_width\":{\"value\":2},\"render_mode\":\"css\",\"right_units\":\"screen\",\"top_units\":\"screen\"},\"id\":\"7958\",\"type\":\"BoxAnnotation\"},{\"attributes\":{},\"id\":\"7699\",\"type\":\"BasicTicker\"},{\"attributes\":{},\"id\":\"7711\",\"type\":\"SaveTool\"},{\"attributes\":{\"ticker\":{\"id\":\"7699\",\"type\":\"BasicTicker\"}},\"id\":\"7702\",\"type\":\"Grid\"},{\"attributes\":{\"source\":{\"id\":\"7721\",\"type\":\"ColumnDataSource\"}},\"id\":\"7725\",\"type\":\"CDSView\"},{\"attributes\":{},\"id\":\"7962\",\"type\":\"Selection\"},{\"attributes\":{\"data_source\":{\"id\":\"7721\",\"type\":\"ColumnDataSource\"},\"glyph\":{\"id\":\"7722\",\"type\":\"Line\"},\"hover_glyph\":null,\"muted_glyph\":null,\"nonselection_glyph\":{\"id\":\"7723\",\"type\":\"Line\"},\"selection_glyph\":null,\"view\":{\"id\":\"7725\",\"type\":\"CDSView\"}},\"id\":\"7724\",\"type\":\"GlyphRenderer\"},{\"attributes\":{\"fill_alpha\":{\"value\":0.1},\"fill_color\":{\"value\":\"#1f77b4\"},\"line_alpha\":{\"value\":0.1},\"line_color\":{\"value\":\"#1f77b4\"},\"top\":{\"field\":\"top\"},\"width\":{\"value\":0.5},\"x\":{\"field\":\"x\"}},\"id\":\"7728\",\"type\":\"VBar\"},{\"attributes\":{\"text\":\"\"},\"id\":\"7953\",\"type\":\"Title\"},{\"attributes\":{\"data_source\":{\"id\":\"7726\",\"type\":\"ColumnDataSource\"},\"glyph\":{\"id\":\"7727\",\"type\":\"VBar\"},\"hover_glyph\":null,\"muted_glyph\":null,\"nonselection_glyph\":{\"id\":\"7728\",\"type\":\"VBar\"},\"selection_glyph\":null,\"view\":{\"id\":\"7730\",\"type\":\"CDSView\"}},\"id\":\"7729\",\"type\":\"GlyphRenderer\"},{\"attributes\":{},\"id\":\"7957\",\"type\":\"BasicTickFormatter\"},{\"attributes\":{\"source\":{\"id\":\"7726\",\"type\":\"ColumnDataSource\"}},\"id\":\"7730\",\"type\":\"CDSView\"},{\"attributes\":{\"callback\":null,\"data\":{\"x\":[1,2,3,4,5],\"y\":[6,7,8,7,3]},\"selected\":{\"id\":\"7960\",\"type\":\"Selection\"},\"selection_policy\":{\"id\":\"7959\",\"type\":\"UnionRenderers\"}},\"id\":\"7721\",\"type\":\"ColumnDataSource\"},{\"attributes\":{\"callback\":null},\"id\":\"7692\",\"type\":\"DataRange1d\"},{\"attributes\":{},\"id\":\"7704\",\"type\":\"BasicTicker\"},{\"attributes\":{},\"id\":\"7959\",\"type\":\"UnionRenderers\"},{\"attributes\":{\"active_drag\":\"auto\",\"active_inspect\":\"auto\",\"active_multi\":null,\"active_scroll\":\"auto\",\"active_tap\":\"auto\",\"tools\":[{\"id\":\"7708\",\"type\":\"PanTool\"},{\"id\":\"7709\",\"type\":\"WheelZoomTool\"},{\"id\":\"7710\",\"type\":\"BoxZoomTool\"},{\"id\":\"7711\",\"type\":\"SaveTool\"},{\"id\":\"7712\",\"type\":\"ResetTool\"},{\"id\":\"7713\",\"type\":\"HelpTool\"}]},\"id\":\"7714\",\"type\":\"Toolbar\"},{\"attributes\":{},\"id\":\"7709\",\"type\":\"WheelZoomTool\"},{\"attributes\":{},\"id\":\"7960\",\"type\":\"Selection\"},{\"attributes\":{\"line_color\":\"#1f77b4\",\"line_width\":2,\"x\":{\"field\":\"x\"},\"y\":{\"field\":\"y\"}},\"id\":\"7722\",\"type\":\"Line\"},{\"attributes\":{},\"id\":\"7708\",\"type\":\"PanTool\"},{\"attributes\":{},\"id\":\"7712\",\"type\":\"ResetTool\"},{\"attributes\":{\"line_alpha\":0.1,\"line_color\":\"#1f77b4\",\"line_width\":2,\"x\":{\"field\":\"x\"},\"y\":{\"field\":\"y\"}},\"id\":\"7723\",\"type\":\"Line\"},{\"attributes\":{\"callback\":null},\"id\":\"7690\",\"type\":\"DataRange1d\"},{\"attributes\":{},\"id\":\"7713\",\"type\":\"HelpTool\"},{\"attributes\":{\"dimension\":1,\"ticker\":{\"id\":\"7704\",\"type\":\"BasicTicker\"}},\"id\":\"7707\",\"type\":\"Grid\"},{\"attributes\":{\"callback\":null,\"data\":{\"top\":[6,7,8,7,3],\"x\":[1,2,3,4,5]},\"selected\":{\"id\":\"7962\",\"type\":\"Selection\"},\"selection_policy\":{\"id\":\"7961\",\"type\":\"UnionRenderers\"}},\"id\":\"7726\",\"type\":\"ColumnDataSource\"},{\"attributes\":{},\"id\":\"7694\",\"type\":\"LinearScale\"},{\"attributes\":{\"overlay\":{\"id\":\"7958\",\"type\":\"BoxAnnotation\"}},\"id\":\"7710\",\"type\":\"BoxZoomTool\"}],\"root_ids\":[\"7689\"]},\"title\":\"Bokeh Application\",\"version\":\"1.2.0\"}};\n",
       "  var render_items = [{\"docid\":\"237d334e-bfb4-42de-aff4-b8746d6e1972\",\"roots\":{\"7689\":\"e9ecb1ad-1040-4e34-8aab-63cbd527f8de\"}}];\n",
       "  root.Bokeh.embed.embed_items_notebook(docs_json, render_items);\n",
       "\n",
       "  }\n",
       "  if (root.Bokeh !== undefined) {\n",
       "    embed_document(root);\n",
       "  } else {\n",
       "    var attempts = 0;\n",
       "    var timer = setInterval(function(root) {\n",
       "      if (root.Bokeh !== undefined) {\n",
       "        embed_document(root);\n",
       "        clearInterval(timer);\n",
       "      }\n",
       "      attempts++;\n",
       "      if (attempts > 100) {\n",
       "        console.log(\"Bokeh: ERROR: Unable to run BokehJS code because BokehJS library is missing\");\n",
       "        clearInterval(timer);\n",
       "      }\n",
       "    }, 10, root)\n",
       "  }\n",
       "})(window);"
      ],
      "application/vnd.bokehjs_exec.v0+json": ""
     },
     "metadata": {
      "application/vnd.bokehjs_exec.v0+json": {
       "id": "7689"
      }
     },
     "output_type": "display_data"
    }
   ],
   "source": [
    "from bokeh.plotting import figure, show\n",
    "x = [1, 2, 3, 4, 5]\n",
    "y = [6, 7, 8, 7, 3]\n",
    "#output_file('vbar.html')\n",
    "\n",
    "p = figure(plot_width=400, plot_height=400)\n",
    "p.line(x, y, line_width=2)\n",
    "p.vbar(x, width=0.5, bottom=0,\n",
    "       top=y, color=\"firebrick\")\n",
    "\n",
    "\n",
    "\n",
    "show(p)"
   ]
  },
  {
   "cell_type": "markdown",
   "metadata": {},
   "source": [
    "# 02. Styling and Theming"
   ]
  },
  {
   "cell_type": "markdown",
   "metadata": {},
   "source": [
    "**#1 EXERCISE Create a plot of your own and customize several plot-level properties**"
   ]
  },
  {
   "cell_type": "code",
   "execution_count": 55,
   "metadata": {},
   "outputs": [
    {
     "data": {
      "text/html": [
       "\n",
       "\n",
       "\n",
       "\n",
       "\n",
       "\n",
       "  <div class=\"bk-root\" id=\"7cdb7b13-28cf-4275-8789-6389f35b5059\" data-root-id=\"9468\"></div>\n"
      ]
     },
     "metadata": {},
     "output_type": "display_data"
    },
    {
     "data": {
      "application/javascript": [
       "(function(root) {\n",
       "  function embed_document(root) {\n",
       "    \n",
       "  var docs_json = {\"fddc1f3a-d362-4035-a8a7-ce34c1c0bcc8\":{\"roots\":{\"references\":[{\"attributes\":{\"below\":[{\"id\":\"9477\",\"type\":\"LinearAxis\"}],\"center\":[{\"id\":\"9481\",\"type\":\"Grid\"},{\"id\":\"9486\",\"type\":\"Grid\"}],\"left\":[{\"id\":\"9482\",\"type\":\"LinearAxis\"}],\"outline_line_alpha\":{\"value\":0.7},\"outline_line_color\":{\"value\":\"navy\"},\"outline_line_width\":{\"value\":3},\"plot_height\":400,\"plot_width\":400,\"renderers\":[{\"id\":\"9503\",\"type\":\"GlyphRenderer\"}],\"title\":{\"id\":\"9765\",\"type\":\"Title\"},\"toolbar\":{\"id\":\"9493\",\"type\":\"Toolbar\"},\"x_range\":{\"id\":\"9469\",\"type\":\"DataRange1d\"},\"x_scale\":{\"id\":\"9473\",\"type\":\"LinearScale\"},\"y_range\":{\"id\":\"9471\",\"type\":\"DataRange1d\"},\"y_scale\":{\"id\":\"9475\",\"type\":\"LinearScale\"}},\"id\":\"9468\",\"subtype\":\"Figure\",\"type\":\"Plot\"},{\"attributes\":{},\"id\":\"9491\",\"type\":\"ResetTool\"},{\"attributes\":{},\"id\":\"9487\",\"type\":\"PanTool\"},{\"attributes\":{\"fill_alpha\":{\"value\":0.1},\"fill_color\":{\"value\":\"#1f77b4\"},\"line_alpha\":{\"value\":0.1},\"line_color\":{\"value\":\"#1f77b4\"},\"top\":{\"field\":\"top\"},\"width\":{\"value\":0.5},\"x\":{\"field\":\"x\"}},\"id\":\"9502\",\"type\":\"VBar\"},{\"attributes\":{\"active_drag\":\"auto\",\"active_inspect\":\"auto\",\"active_multi\":null,\"active_scroll\":\"auto\",\"active_tap\":\"auto\",\"tools\":[{\"id\":\"9487\",\"type\":\"PanTool\"},{\"id\":\"9488\",\"type\":\"WheelZoomTool\"},{\"id\":\"9489\",\"type\":\"BoxZoomTool\"},{\"id\":\"9490\",\"type\":\"SaveTool\"},{\"id\":\"9491\",\"type\":\"ResetTool\"},{\"id\":\"9492\",\"type\":\"HelpTool\"}]},\"id\":\"9493\",\"type\":\"Toolbar\"},{\"attributes\":{},\"id\":\"9492\",\"type\":\"HelpTool\"},{\"attributes\":{},\"id\":\"9483\",\"type\":\"BasicTicker\"},{\"attributes\":{\"fill_color\":{\"value\":\"firebrick\"},\"line_color\":{\"value\":\"firebrick\"},\"top\":{\"field\":\"top\"},\"width\":{\"value\":0.5},\"x\":{\"field\":\"x\"}},\"id\":\"9501\",\"type\":\"VBar\"},{\"attributes\":{\"callback\":null},\"id\":\"9471\",\"type\":\"DataRange1d\"},{\"attributes\":{},\"id\":\"9490\",\"type\":\"SaveTool\"},{\"attributes\":{\"callback\":null},\"id\":\"9469\",\"type\":\"DataRange1d\"},{\"attributes\":{\"overlay\":{\"id\":\"9770\",\"type\":\"BoxAnnotation\"}},\"id\":\"9489\",\"type\":\"BoxZoomTool\"},{\"attributes\":{},\"id\":\"9473\",\"type\":\"LinearScale\"},{\"attributes\":{\"data_source\":{\"id\":\"9500\",\"type\":\"ColumnDataSource\"},\"glyph\":{\"id\":\"9501\",\"type\":\"VBar\"},\"hover_glyph\":null,\"muted_glyph\":null,\"nonselection_glyph\":{\"id\":\"9502\",\"type\":\"VBar\"},\"selection_glyph\":null,\"view\":{\"id\":\"9504\",\"type\":\"CDSView\"}},\"id\":\"9503\",\"type\":\"GlyphRenderer\"},{\"attributes\":{\"text\":\"\"},\"id\":\"9765\",\"type\":\"Title\"},{\"attributes\":{},\"id\":\"9488\",\"type\":\"WheelZoomTool\"},{\"attributes\":{},\"id\":\"9769\",\"type\":\"BasicTickFormatter\"},{\"attributes\":{\"formatter\":{\"id\":\"9767\",\"type\":\"BasicTickFormatter\"},\"ticker\":{\"id\":\"9478\",\"type\":\"BasicTicker\"}},\"id\":\"9477\",\"type\":\"LinearAxis\"},{\"attributes\":{},\"id\":\"9478\",\"type\":\"BasicTicker\"},{\"attributes\":{\"formatter\":{\"id\":\"9769\",\"type\":\"BasicTickFormatter\"},\"ticker\":{\"id\":\"9483\",\"type\":\"BasicTicker\"}},\"id\":\"9482\",\"type\":\"LinearAxis\"},{\"attributes\":{\"source\":{\"id\":\"9500\",\"type\":\"ColumnDataSource\"}},\"id\":\"9504\",\"type\":\"CDSView\"},{\"attributes\":{\"ticker\":{\"id\":\"9478\",\"type\":\"BasicTicker\"}},\"id\":\"9481\",\"type\":\"Grid\"},{\"attributes\":{\"dimension\":1,\"ticker\":{\"id\":\"9483\",\"type\":\"BasicTicker\"}},\"id\":\"9486\",\"type\":\"Grid\"},{\"attributes\":{\"bottom_units\":\"screen\",\"fill_alpha\":{\"value\":0.5},\"fill_color\":{\"value\":\"lightgrey\"},\"left_units\":\"screen\",\"level\":\"overlay\",\"line_alpha\":{\"value\":1.0},\"line_color\":{\"value\":\"black\"},\"line_dash\":[4,4],\"line_width\":{\"value\":2},\"render_mode\":\"css\",\"right_units\":\"screen\",\"top_units\":\"screen\"},\"id\":\"9770\",\"type\":\"BoxAnnotation\"},{\"attributes\":{},\"id\":\"9475\",\"type\":\"LinearScale\"},{\"attributes\":{\"callback\":null,\"data\":{\"top\":[2,5,8,2,7],\"x\":[1,2,3,4,5]},\"selected\":{\"id\":\"9772\",\"type\":\"Selection\"},\"selection_policy\":{\"id\":\"9771\",\"type\":\"UnionRenderers\"}},\"id\":\"9500\",\"type\":\"ColumnDataSource\"},{\"attributes\":{},\"id\":\"9771\",\"type\":\"UnionRenderers\"},{\"attributes\":{},\"id\":\"9772\",\"type\":\"Selection\"},{\"attributes\":{},\"id\":\"9767\",\"type\":\"BasicTickFormatter\"}],\"root_ids\":[\"9468\"]},\"title\":\"Bokeh Application\",\"version\":\"1.2.0\"}};\n",
       "  var render_items = [{\"docid\":\"fddc1f3a-d362-4035-a8a7-ce34c1c0bcc8\",\"roots\":{\"9468\":\"7cdb7b13-28cf-4275-8789-6389f35b5059\"}}];\n",
       "  root.Bokeh.embed.embed_items_notebook(docs_json, render_items);\n",
       "\n",
       "  }\n",
       "  if (root.Bokeh !== undefined) {\n",
       "    embed_document(root);\n",
       "  } else {\n",
       "    var attempts = 0;\n",
       "    var timer = setInterval(function(root) {\n",
       "      if (root.Bokeh !== undefined) {\n",
       "        embed_document(root);\n",
       "        clearInterval(timer);\n",
       "      }\n",
       "      attempts++;\n",
       "      if (attempts > 100) {\n",
       "        console.log(\"Bokeh: ERROR: Unable to run BokehJS code because BokehJS library is missing\");\n",
       "        clearInterval(timer);\n",
       "      }\n",
       "    }, 10, root)\n",
       "  }\n",
       "})(window);"
      ],
      "application/vnd.bokehjs_exec.v0+json": ""
     },
     "metadata": {
      "application/vnd.bokehjs_exec.v0+json": {
       "id": "9468"
      }
     },
     "output_type": "display_data"
    }
   ],
   "source": [
    "# create a new plot with a title\n",
    "p = figure(plot_width=400, plot_height=400)\n",
    "p.outline_line_width = 3\n",
    "p.outline_line_alpha = 0.7\n",
    "p.outline_line_color = \"navy\"\n",
    "\n",
    "\n",
    "\n",
    "p.vbar(x=[1,2,3,4,5], width=0.5, bottom=0,\n",
    "       top=[2,5,8,2,7], color=\"firebrick\")\n",
    "\n",
    "show(p)"
   ]
  },
  {
   "cell_type": "markdown",
   "metadata": {},
   "source": [
    "## Glyphs"
   ]
  },
  {
   "cell_type": "markdown",
   "metadata": {},
   "source": [
    "**#2- EXERCISE: experiment with standard, selected, hover glyph visual properties"
   ]
  },
  {
   "cell_type": "code",
   "execution_count": 69,
   "metadata": {},
   "outputs": [
    {
     "data": {
      "text/html": [
       "\n",
       "\n",
       "\n",
       "\n",
       "\n",
       "\n",
       "  <div class=\"bk-root\" id=\"aa7be479-afca-403f-a139-f86d5155a031\" data-root-id=\"12328\"></div>\n"
      ]
     },
     "metadata": {},
     "output_type": "display_data"
    },
    {
     "data": {
      "application/javascript": [
       "(function(root) {\n",
       "  function embed_document(root) {\n",
       "    \n",
       "  var docs_json = {\"f0bc8f74-caa9-4e31-9b00-8ba9ddd4cd32\":{\"roots\":{\"references\":[{\"attributes\":{\"below\":[{\"id\":\"12339\",\"type\":\"DatetimeAxis\"}],\"center\":[{\"id\":\"12343\",\"type\":\"Grid\"},{\"id\":\"12348\",\"type\":\"Grid\"}],\"left\":[{\"id\":\"12344\",\"type\":\"LinearAxis\"}],\"plot_height\":300,\"renderers\":[{\"id\":\"12365\",\"type\":\"GlyphRenderer\"},{\"id\":\"12371\",\"type\":\"GlyphRenderer\"}],\"title\":{\"id\":\"12329\",\"type\":\"Title\"},\"toolbar\":{\"id\":\"12355\",\"type\":\"Toolbar\"},\"x_range\":{\"id\":\"12331\",\"type\":\"DataRange1d\"},\"x_scale\":{\"id\":\"12335\",\"type\":\"LinearScale\"},\"y_range\":{\"id\":\"12333\",\"type\":\"DataRange1d\"},\"y_scale\":{\"id\":\"12337\",\"type\":\"LinearScale\"}},\"id\":\"12328\",\"subtype\":\"Figure\",\"type\":\"Plot\"},{\"attributes\":{\"active_drag\":\"auto\",\"active_inspect\":\"auto\",\"active_multi\":null,\"active_scroll\":\"auto\",\"active_tap\":\"auto\",\"tools\":[{\"id\":\"12349\",\"type\":\"PanTool\"},{\"id\":\"12350\",\"type\":\"WheelZoomTool\"},{\"id\":\"12351\",\"type\":\"BoxZoomTool\"},{\"id\":\"12352\",\"type\":\"SaveTool\"},{\"id\":\"12353\",\"type\":\"ResetTool\"},{\"id\":\"12354\",\"type\":\"HelpTool\"},{\"id\":\"12373\",\"type\":\"HoverTool\"}]},\"id\":\"12355\",\"type\":\"Toolbar\"},{\"attributes\":{\"data_source\":{\"id\":\"12362\",\"type\":\"ColumnDataSource\"},\"glyph\":{\"id\":\"12363\",\"type\":\"Line\"},\"hover_glyph\":null,\"muted_glyph\":null,\"nonselection_glyph\":{\"id\":\"12364\",\"type\":\"Line\"},\"selection_glyph\":null,\"view\":{\"id\":\"12366\",\"type\":\"CDSView\"}},\"id\":\"12365\",\"type\":\"GlyphRenderer\"},{\"attributes\":{\"callback\":null},\"id\":\"12333\",\"type\":\"DataRange1d\"},{\"attributes\":{\"days\":[1,15]},\"id\":\"12714\",\"type\":\"DaysTicker\"},{\"attributes\":{},\"id\":\"12335\",\"type\":\"LinearScale\"},{\"attributes\":{\"source\":{\"id\":\"12362\",\"type\":\"ColumnDataSource\"}},\"id\":\"12366\",\"type\":\"CDSView\"},{\"attributes\":{\"days\":[1,8,15,22]},\"id\":\"12713\",\"type\":\"DaysTicker\"},{\"attributes\":{},\"id\":\"12719\",\"type\":\"YearsTicker\"},{\"attributes\":{},\"id\":\"12337\",\"type\":\"LinearScale\"},{\"attributes\":{},\"id\":\"12720\",\"type\":\"UnionRenderers\"},{\"attributes\":{\"callback\":null,\"mode\":\"hline\",\"renderers\":[{\"id\":\"12371\",\"type\":\"GlyphRenderer\"}],\"tooltips\":[[\"index\",\"$index\"],[\"(x,y)\",\"($x, $y)\"],[\"desc\",\"@desc\"]]},\"id\":\"12373\",\"type\":\"HoverTool\"},{\"attributes\":{\"formatter\":{\"id\":\"12704\",\"type\":\"DatetimeTickFormatter\"},\"ticker\":{\"id\":\"12340\",\"type\":\"DatetimeTicker\"}},\"id\":\"12339\",\"type\":\"DatetimeAxis\"},{\"attributes\":{},\"id\":\"12721\",\"type\":\"Selection\"},{\"attributes\":{\"fill_alpha\":{\"value\":0.05},\"fill_color\":{\"value\":\"grey\"},\"line_color\":{\"value\":null},\"size\":{\"units\":\"screen\",\"value\":20},\"x\":{\"field\":\"x\"},\"y\":{\"field\":\"y\"}},\"id\":\"12368\",\"type\":\"Circle\"},{\"attributes\":{\"num_minor_ticks\":5,\"tickers\":[{\"id\":\"12708\",\"type\":\"AdaptiveTicker\"},{\"id\":\"12709\",\"type\":\"AdaptiveTicker\"},{\"id\":\"12710\",\"type\":\"AdaptiveTicker\"},{\"id\":\"12711\",\"type\":\"DaysTicker\"},{\"id\":\"12712\",\"type\":\"DaysTicker\"},{\"id\":\"12713\",\"type\":\"DaysTicker\"},{\"id\":\"12714\",\"type\":\"DaysTicker\"},{\"id\":\"12715\",\"type\":\"MonthsTicker\"},{\"id\":\"12716\",\"type\":\"MonthsTicker\"},{\"id\":\"12717\",\"type\":\"MonthsTicker\"},{\"id\":\"12718\",\"type\":\"MonthsTicker\"},{\"id\":\"12719\",\"type\":\"YearsTicker\"}]},\"id\":\"12340\",\"type\":\"DatetimeTicker\"},{\"attributes\":{},\"id\":\"12722\",\"type\":\"UnionRenderers\"},{\"attributes\":{\"fill_alpha\":{\"value\":0.1},\"fill_color\":{\"value\":\"#1f77b4\"},\"line_alpha\":{\"value\":0.1},\"line_color\":{\"value\":\"#1f77b4\"},\"size\":{\"units\":\"screen\",\"value\":20},\"x\":{\"field\":\"x\"},\"y\":{\"field\":\"y\"}},\"id\":\"12369\",\"type\":\"Circle\"},{\"attributes\":{\"ticker\":{\"id\":\"12340\",\"type\":\"DatetimeTicker\"}},\"id\":\"12343\",\"type\":\"Grid\"},{\"attributes\":{},\"id\":\"12723\",\"type\":\"Selection\"},{\"attributes\":{\"fill_alpha\":{\"value\":0.3},\"fill_color\":{\"value\":\"firebrick\"},\"line_alpha\":{\"value\":0.3},\"line_color\":{\"value\":\"white\"},\"size\":{\"units\":\"screen\",\"value\":20},\"x\":{\"field\":\"x\"},\"y\":{\"field\":\"y\"}},\"id\":\"12370\",\"type\":\"Circle\"},{\"attributes\":{\"formatter\":{\"id\":\"12706\",\"type\":\"BasicTickFormatter\"},\"ticker\":{\"id\":\"12345\",\"type\":\"BasicTicker\"}},\"id\":\"12344\",\"type\":\"LinearAxis\"},{\"attributes\":{\"data_source\":{\"id\":\"12367\",\"type\":\"ColumnDataSource\"},\"glyph\":{\"id\":\"12368\",\"type\":\"Circle\"},\"hover_glyph\":{\"id\":\"12370\",\"type\":\"Circle\"},\"muted_glyph\":null,\"nonselection_glyph\":{\"id\":\"12369\",\"type\":\"Circle\"},\"selection_glyph\":null,\"view\":{\"id\":\"12372\",\"type\":\"CDSView\"}},\"id\":\"12371\",\"type\":\"GlyphRenderer\"},{\"attributes\":{},\"id\":\"12345\",\"type\":\"BasicTicker\"},{\"attributes\":{\"callback\":null},\"id\":\"12331\",\"type\":\"DataRange1d\"},{\"attributes\":{\"source\":{\"id\":\"12367\",\"type\":\"ColumnDataSource\"}},\"id\":\"12372\",\"type\":\"CDSView\"},{\"attributes\":{\"dimension\":1,\"ticker\":{\"id\":\"12345\",\"type\":\"BasicTicker\"}},\"id\":\"12348\",\"type\":\"Grid\"},{\"attributes\":{\"callback\":null,\"data\":{\"x\":[1,2,3,4,5],\"y\":[2,5,8,2,7]},\"selected\":{\"id\":\"12721\",\"type\":\"Selection\"},\"selection_policy\":{\"id\":\"12720\",\"type\":\"UnionRenderers\"}},\"id\":\"12362\",\"type\":\"ColumnDataSource\"},{\"attributes\":{\"months\":[0,1,2,3,4,5,6,7,8,9,10,11]},\"id\":\"12715\",\"type\":\"MonthsTicker\"},{\"attributes\":{\"text\":\"Hover over points\"},\"id\":\"12329\",\"type\":\"Title\"},{\"attributes\":{\"line_alpha\":0.1,\"line_color\":\"#1f77b4\",\"line_dash\":[4,4],\"x\":{\"field\":\"x\"},\"y\":{\"field\":\"y\"}},\"id\":\"12364\",\"type\":\"Line\"},{\"attributes\":{\"callback\":null,\"data\":{\"x\":[1,2,3,4,5],\"y\":[2,5,8,2,7]},\"selected\":{\"id\":\"12723\",\"type\":\"Selection\"},\"selection_policy\":{\"id\":\"12722\",\"type\":\"UnionRenderers\"}},\"id\":\"12367\",\"type\":\"ColumnDataSource\"},{\"attributes\":{},\"id\":\"12706\",\"type\":\"BasicTickFormatter\"},{\"attributes\":{\"months\":[0,6]},\"id\":\"12718\",\"type\":\"MonthsTicker\"},{\"attributes\":{\"bottom_units\":\"screen\",\"fill_alpha\":{\"value\":0.5},\"fill_color\":{\"value\":\"lightgrey\"},\"left_units\":\"screen\",\"level\":\"overlay\",\"line_alpha\":{\"value\":1.0},\"line_color\":{\"value\":\"black\"},\"line_dash\":[4,4],\"line_width\":{\"value\":2},\"render_mode\":\"css\",\"right_units\":\"screen\",\"top_units\":\"screen\"},\"id\":\"12707\",\"type\":\"BoxAnnotation\"},{\"attributes\":{\"line_color\":\"gray\",\"line_dash\":[4,4],\"x\":{\"field\":\"x\"},\"y\":{\"field\":\"y\"}},\"id\":\"12363\",\"type\":\"Line\"},{\"attributes\":{\"mantissas\":[1,2,5],\"max_interval\":500.0,\"num_minor_ticks\":0},\"id\":\"12708\",\"type\":\"AdaptiveTicker\"},{\"attributes\":{},\"id\":\"12349\",\"type\":\"PanTool\"},{\"attributes\":{},\"id\":\"12350\",\"type\":\"WheelZoomTool\"},{\"attributes\":{\"base\":60,\"mantissas\":[1,2,5,10,15,20,30],\"max_interval\":1800000.0,\"min_interval\":1000.0,\"num_minor_ticks\":0},\"id\":\"12709\",\"type\":\"AdaptiveTicker\"},{\"attributes\":{\"months\":[0,2,4,6,8,10]},\"id\":\"12716\",\"type\":\"MonthsTicker\"},{\"attributes\":{\"overlay\":{\"id\":\"12707\",\"type\":\"BoxAnnotation\"}},\"id\":\"12351\",\"type\":\"BoxZoomTool\"},{\"attributes\":{\"base\":24,\"mantissas\":[1,2,4,6,8,12],\"max_interval\":43200000.0,\"min_interval\":3600000.0,\"num_minor_ticks\":0},\"id\":\"12710\",\"type\":\"AdaptiveTicker\"},{\"attributes\":{\"months\":[0,4,8]},\"id\":\"12717\",\"type\":\"MonthsTicker\"},{\"attributes\":{},\"id\":\"12352\",\"type\":\"SaveTool\"},{\"attributes\":{\"days\":[1,2,3,4,5,6,7,8,9,10,11,12,13,14,15,16,17,18,19,20,21,22,23,24,25,26,27,28,29,30,31]},\"id\":\"12711\",\"type\":\"DaysTicker\"},{\"attributes\":{},\"id\":\"12353\",\"type\":\"ResetTool\"},{\"attributes\":{\"days\":[1,4,7,10,13,16,19,22,25,28]},\"id\":\"12712\",\"type\":\"DaysTicker\"},{\"attributes\":{},\"id\":\"12354\",\"type\":\"HelpTool\"},{\"attributes\":{},\"id\":\"12704\",\"type\":\"DatetimeTickFormatter\"}],\"root_ids\":[\"12328\"]},\"title\":\"Bokeh Application\",\"version\":\"1.2.0\"}};\n",
       "  var render_items = [{\"docid\":\"f0bc8f74-caa9-4e31-9b00-8ba9ddd4cd32\",\"roots\":{\"12328\":\"aa7be479-afca-403f-a139-f86d5155a031\"}}];\n",
       "  root.Bokeh.embed.embed_items_notebook(docs_json, render_items);\n",
       "\n",
       "  }\n",
       "  if (root.Bokeh !== undefined) {\n",
       "    embed_document(root);\n",
       "  } else {\n",
       "    var attempts = 0;\n",
       "    var timer = setInterval(function(root) {\n",
       "      if (root.Bokeh !== undefined) {\n",
       "        embed_document(root);\n",
       "        clearInterval(timer);\n",
       "      }\n",
       "      attempts++;\n",
       "      if (attempts > 100) {\n",
       "        console.log(\"Bokeh: ERROR: Unable to run BokehJS code because BokehJS library is missing\");\n",
       "        clearInterval(timer);\n",
       "      }\n",
       "    }, 10, root)\n",
       "  }\n",
       "})(window);"
      ],
      "application/vnd.bokehjs_exec.v0+json": ""
     },
     "metadata": {
      "application/vnd.bokehjs_exec.v0+json": {
       "id": "12328"
      }
     },
     "output_type": "display_data"
    }
   ],
   "source": [
    "from bokeh.models.tools import HoverTool\n",
    "\n",
    "\n",
    "x = [1, 2, 3, 4, 5]\n",
    "\n",
    "y=[2, 5, 8, 2, 7]\n",
    "\n",
    "\n",
    "\n",
    "# Basic plot setup\n",
    "p = figure(width=600, height=300, x_axis_type=\"datetime\", title='Hover over points')\n",
    "\n",
    "p.line(x, y, line_dash=\"4 4\", line_width=1, color='gray')\n",
    "\n",
    "cr = p.circle(x, y, size=20,\n",
    "              fill_color=\"grey\", hover_fill_color=\"firebrick\",\n",
    "              fill_alpha=0.05, hover_alpha=0.3,\n",
    "              line_color=None, hover_line_color=\"white\")\n",
    "\n",
    "p.add_tools(HoverTool(tooltips=TOOLTIPS, renderers=[cr], mode='hline'))\n",
    "\n",
    "show(p)"
   ]
  },
  {
   "cell_type": "markdown",
   "metadata": {},
   "source": [
    "## Axes"
   ]
  },
  {
   "cell_type": "markdown",
   "metadata": {},
   "source": [
    "**#3 EXERCISE Create a plot of your own and customize several axis properties"
   ]
  },
  {
   "cell_type": "code",
   "execution_count": 76,
   "metadata": {},
   "outputs": [
    {
     "data": {
      "text/html": [
       "\n",
       "\n",
       "\n",
       "\n",
       "\n",
       "\n",
       "  <div class=\"bk-root\" id=\"676c6545-9555-4265-9745-503312a3bdc7\" data-root-id=\"16452\"></div>\n"
      ]
     },
     "metadata": {},
     "output_type": "display_data"
    },
    {
     "data": {
      "application/javascript": [
       "(function(root) {\n",
       "  function embed_document(root) {\n",
       "    \n",
       "  var docs_json = {\"8908ea9b-9769-4605-921b-d0953fdf267c\":{\"roots\":{\"references\":[{\"attributes\":{\"below\":[{\"id\":\"16461\",\"type\":\"LinearAxis\"}],\"center\":[{\"id\":\"16465\",\"type\":\"Grid\"},{\"id\":\"16470\",\"type\":\"Grid\"}],\"left\":[{\"id\":\"16466\",\"type\":\"LinearAxis\"}],\"plot_height\":400,\"plot_width\":400,\"renderers\":[{\"id\":\"16487\",\"type\":\"GlyphRenderer\"}],\"title\":{\"id\":\"16893\",\"type\":\"Title\"},\"toolbar\":{\"id\":\"16477\",\"type\":\"Toolbar\"},\"x_range\":{\"id\":\"16453\",\"type\":\"DataRange1d\"},\"x_scale\":{\"id\":\"16457\",\"type\":\"LinearScale\"},\"y_range\":{\"id\":\"16455\",\"type\":\"DataRange1d\"},\"y_scale\":{\"id\":\"16459\",\"type\":\"LinearScale\"}},\"id\":\"16452\",\"subtype\":\"Figure\",\"type\":\"Plot\"},{\"attributes\":{\"bottom_units\":\"screen\",\"fill_alpha\":{\"value\":0.5},\"fill_color\":{\"value\":\"lightgrey\"},\"left_units\":\"screen\",\"level\":\"overlay\",\"line_alpha\":{\"value\":1.0},\"line_color\":{\"value\":\"black\"},\"line_dash\":[4,4],\"line_width\":{\"value\":2},\"render_mode\":\"css\",\"right_units\":\"screen\",\"top_units\":\"screen\"},\"id\":\"16898\",\"type\":\"BoxAnnotation\"},{\"attributes\":{},\"id\":\"16457\",\"type\":\"LinearScale\"},{\"attributes\":{},\"id\":\"16476\",\"type\":\"HelpTool\"},{\"attributes\":{\"callback\":null},\"id\":\"16453\",\"type\":\"DataRange1d\"},{\"attributes\":{},\"id\":\"16471\",\"type\":\"PanTool\"},{\"attributes\":{\"fill_color\":{\"value\":\"firebrick\"},\"line_color\":{\"value\":\"firebrick\"},\"top\":{\"field\":\"top\"},\"width\":{\"value\":0.5},\"x\":{\"field\":\"x\"}},\"id\":\"16485\",\"type\":\"VBar\"},{\"attributes\":{},\"id\":\"16900\",\"type\":\"Selection\"},{\"attributes\":{\"overlay\":{\"id\":\"16898\",\"type\":\"BoxAnnotation\"}},\"id\":\"16473\",\"type\":\"BoxZoomTool\"},{\"attributes\":{\"axis_label\":\"Temp\",\"axis_line_color\":{\"value\":\"red\"},\"axis_line_width\":{\"value\":3},\"formatter\":{\"id\":\"16895\",\"type\":\"BasicTickFormatter\"},\"minor_tick_in\":-3,\"minor_tick_out\":6,\"ticker\":{\"id\":\"16462\",\"type\":\"BasicTicker\"}},\"id\":\"16461\",\"type\":\"LinearAxis\"},{\"attributes\":{},\"id\":\"16472\",\"type\":\"WheelZoomTool\"},{\"attributes\":{\"ticker\":{\"id\":\"16462\",\"type\":\"BasicTicker\"}},\"id\":\"16465\",\"type\":\"Grid\"},{\"attributes\":{\"active_drag\":\"auto\",\"active_inspect\":\"auto\",\"active_multi\":null,\"active_scroll\":\"auto\",\"active_tap\":\"auto\",\"tools\":[{\"id\":\"16471\",\"type\":\"PanTool\"},{\"id\":\"16472\",\"type\":\"WheelZoomTool\"},{\"id\":\"16473\",\"type\":\"BoxZoomTool\"},{\"id\":\"16474\",\"type\":\"SaveTool\"},{\"id\":\"16475\",\"type\":\"ResetTool\"},{\"id\":\"16476\",\"type\":\"HelpTool\"}]},\"id\":\"16477\",\"type\":\"Toolbar\"},{\"attributes\":{},\"id\":\"16462\",\"type\":\"BasicTicker\"},{\"attributes\":{},\"id\":\"16475\",\"type\":\"ResetTool\"},{\"attributes\":{},\"id\":\"16459\",\"type\":\"LinearScale\"},{\"attributes\":{\"axis_label\":\"Pressure\",\"formatter\":{\"id\":\"16897\",\"type\":\"BasicTickFormatter\"},\"major_label_orientation\":\"vertical\",\"major_label_text_color\":{\"value\":\"orange\"},\"minor_tick_in\":-3,\"minor_tick_out\":6,\"ticker\":{\"id\":\"16467\",\"type\":\"BasicTicker\"}},\"id\":\"16466\",\"type\":\"LinearAxis\"},{\"attributes\":{\"data_source\":{\"id\":\"16484\",\"type\":\"ColumnDataSource\"},\"glyph\":{\"id\":\"16485\",\"type\":\"VBar\"},\"hover_glyph\":null,\"muted_glyph\":null,\"nonselection_glyph\":{\"id\":\"16486\",\"type\":\"VBar\"},\"selection_glyph\":null,\"view\":{\"id\":\"16488\",\"type\":\"CDSView\"}},\"id\":\"16487\",\"type\":\"GlyphRenderer\"},{\"attributes\":{\"callback\":null,\"data\":{\"top\":[2,5,8,2,7],\"x\":[1,2,3,4,5]},\"selected\":{\"id\":\"16900\",\"type\":\"Selection\"},\"selection_policy\":{\"id\":\"16899\",\"type\":\"UnionRenderers\"}},\"id\":\"16484\",\"type\":\"ColumnDataSource\"},{\"attributes\":{},\"id\":\"16899\",\"type\":\"UnionRenderers\"},{\"attributes\":{},\"id\":\"16467\",\"type\":\"BasicTicker\"},{\"attributes\":{\"callback\":null},\"id\":\"16455\",\"type\":\"DataRange1d\"},{\"attributes\":{\"source\":{\"id\":\"16484\",\"type\":\"ColumnDataSource\"}},\"id\":\"16488\",\"type\":\"CDSView\"},{\"attributes\":{},\"id\":\"16895\",\"type\":\"BasicTickFormatter\"},{\"attributes\":{\"text\":\"\"},\"id\":\"16893\",\"type\":\"Title\"},{\"attributes\":{\"dimension\":1,\"ticker\":{\"id\":\"16467\",\"type\":\"BasicTicker\"}},\"id\":\"16470\",\"type\":\"Grid\"},{\"attributes\":{},\"id\":\"16474\",\"type\":\"SaveTool\"},{\"attributes\":{},\"id\":\"16897\",\"type\":\"BasicTickFormatter\"},{\"attributes\":{\"fill_alpha\":{\"value\":0.1},\"fill_color\":{\"value\":\"#1f77b4\"},\"line_alpha\":{\"value\":0.1},\"line_color\":{\"value\":\"#1f77b4\"},\"top\":{\"field\":\"top\"},\"width\":{\"value\":0.5},\"x\":{\"field\":\"x\"}},\"id\":\"16486\",\"type\":\"VBar\"}],\"root_ids\":[\"16452\"]},\"title\":\"Bokeh Application\",\"version\":\"1.2.0\"}};\n",
       "  var render_items = [{\"docid\":\"8908ea9b-9769-4605-921b-d0953fdf267c\",\"roots\":{\"16452\":\"676c6545-9555-4265-9745-503312a3bdc7\"}}];\n",
       "  root.Bokeh.embed.embed_items_notebook(docs_json, render_items);\n",
       "\n",
       "  }\n",
       "  if (root.Bokeh !== undefined) {\n",
       "    embed_document(root);\n",
       "  } else {\n",
       "    var attempts = 0;\n",
       "    var timer = setInterval(function(root) {\n",
       "      if (root.Bokeh !== undefined) {\n",
       "        embed_document(root);\n",
       "        clearInterval(timer);\n",
       "      }\n",
       "      attempts++;\n",
       "      if (attempts > 100) {\n",
       "        console.log(\"Bokeh: ERROR: Unable to run BokehJS code because BokehJS library is missing\");\n",
       "        clearInterval(timer);\n",
       "      }\n",
       "    }, 10, root)\n",
       "  }\n",
       "})(window);"
      ],
      "application/vnd.bokehjs_exec.v0+json": ""
     },
     "metadata": {
      "application/vnd.bokehjs_exec.v0+json": {
       "id": "16452"
      }
     },
     "output_type": "display_data"
    }
   ],
   "source": [
    "# create a new plot with a title\n",
    "p = figure(plot_width=400, plot_height=400)\n",
    "\n",
    "p.vbar(x=[1,2,3,4,5], width=0.5, bottom=0,\n",
    "       top=[2,5,8,2,7], color=\"firebrick\")\n",
    "\n",
    "\n",
    "\n",
    "# change just some things about the x-axis\n",
    "p.xaxis.axis_label = \"Temp\"\n",
    "p.xaxis.axis_line_width = 3\n",
    "p.xaxis.axis_line_color = \"red\"\n",
    "\n",
    "# change just some things about the y-axis\n",
    "p.yaxis.axis_label = \"Pressure\"\n",
    "p.yaxis.major_label_text_color = \"orange\"\n",
    "p.yaxis.major_label_orientation = \"vertical\"\n",
    "\n",
    "# change things on all axes\n",
    "p.axis.minor_tick_in = -3\n",
    "p.axis.minor_tick_out = 6\n",
    "\n",
    "\n",
    "\n",
    "\n",
    "show(p)"
   ]
  },
  {
   "cell_type": "markdown",
   "metadata": {},
   "source": [
    "## Grids"
   ]
  },
  {
   "cell_type": "markdown",
   "metadata": {},
   "source": [
    "**#4 EXERCISE Create a plot of your own and customize several grid properties"
   ]
  },
  {
   "cell_type": "code",
   "execution_count": 93,
   "metadata": {},
   "outputs": [
    {
     "data": {
      "text/html": [
       "\n",
       "\n",
       "\n",
       "\n",
       "\n",
       "\n",
       "  <div class=\"bk-root\" id=\"00594087-cc16-4f44-bec0-e9a655b33d64\" data-root-id=\"27774\"></div>\n"
      ]
     },
     "metadata": {},
     "output_type": "display_data"
    },
    {
     "data": {
      "application/javascript": [
       "(function(root) {\n",
       "  function embed_document(root) {\n",
       "    \n",
       "  var docs_json = {\"67639e12-8b4d-4544-a2e5-7b815ad8371f\":{\"roots\":{\"references\":[{\"attributes\":{\"below\":[{\"id\":\"27783\",\"type\":\"LinearAxis\"}],\"center\":[{\"id\":\"27787\",\"type\":\"Grid\"},{\"id\":\"27792\",\"type\":\"Grid\"}],\"left\":[{\"id\":\"27788\",\"type\":\"LinearAxis\"}],\"plot_height\":400,\"plot_width\":400,\"renderers\":[{\"id\":\"27809\",\"type\":\"GlyphRenderer\"}],\"title\":{\"id\":\"28368\",\"type\":\"Title\"},\"toolbar\":{\"id\":\"27799\",\"type\":\"Toolbar\"},\"x_range\":{\"id\":\"27775\",\"type\":\"DataRange1d\"},\"x_scale\":{\"id\":\"27779\",\"type\":\"LinearScale\"},\"y_range\":{\"id\":\"27777\",\"type\":\"DataRange1d\"},\"y_scale\":{\"id\":\"27781\",\"type\":\"LinearScale\"}},\"id\":\"27774\",\"subtype\":\"Figure\",\"type\":\"Plot\"},{\"attributes\":{\"callback\":null,\"data\":{\"top\":[2,5,8,2,7],\"x\":[1,2,3,4,5]},\"selected\":{\"id\":\"28375\",\"type\":\"Selection\"},\"selection_policy\":{\"id\":\"28374\",\"type\":\"UnionRenderers\"}},\"id\":\"27806\",\"type\":\"ColumnDataSource\"},{\"attributes\":{},\"id\":\"28374\",\"type\":\"UnionRenderers\"},{\"attributes\":{},\"id\":\"28370\",\"type\":\"BasicTickFormatter\"},{\"attributes\":{},\"id\":\"27797\",\"type\":\"ResetTool\"},{\"attributes\":{\"grid_line_color\":null,\"ticker\":{\"id\":\"27784\",\"type\":\"BasicTicker\"}},\"id\":\"27787\",\"type\":\"Grid\"},{\"attributes\":{\"formatter\":{\"id\":\"28372\",\"type\":\"BasicTickFormatter\"},\"ticker\":{\"id\":\"27789\",\"type\":\"BasicTicker\"}},\"id\":\"27788\",\"type\":\"LinearAxis\"},{\"attributes\":{},\"id\":\"27789\",\"type\":\"BasicTicker\"},{\"attributes\":{\"fill_color\":{\"value\":\"firebrick\"},\"line_color\":{\"value\":\"firebrick\"},\"top\":{\"field\":\"top\"},\"width\":{\"value\":0.5},\"x\":{\"field\":\"x\"}},\"id\":\"27807\",\"type\":\"VBar\"},{\"attributes\":{},\"id\":\"27781\",\"type\":\"LinearScale\"},{\"attributes\":{\"dimension\":1,\"grid_line_alpha\":0.8,\"grid_line_dash\":[6,4],\"ticker\":{\"id\":\"27789\",\"type\":\"BasicTicker\"}},\"id\":\"27792\",\"type\":\"Grid\"},{\"attributes\":{},\"id\":\"27793\",\"type\":\"PanTool\"},{\"attributes\":{\"callback\":null},\"id\":\"27777\",\"type\":\"DataRange1d\"},{\"attributes\":{\"fill_alpha\":{\"value\":0.1},\"fill_color\":{\"value\":\"#1f77b4\"},\"line_alpha\":{\"value\":0.1},\"line_color\":{\"value\":\"#1f77b4\"},\"top\":{\"field\":\"top\"},\"width\":{\"value\":0.5},\"x\":{\"field\":\"x\"}},\"id\":\"27808\",\"type\":\"VBar\"},{\"attributes\":{\"text\":\"\"},\"id\":\"28368\",\"type\":\"Title\"},{\"attributes\":{\"active_drag\":\"auto\",\"active_inspect\":\"auto\",\"active_multi\":null,\"active_scroll\":\"auto\",\"active_tap\":\"auto\",\"tools\":[{\"id\":\"27793\",\"type\":\"PanTool\"},{\"id\":\"27794\",\"type\":\"WheelZoomTool\"},{\"id\":\"27795\",\"type\":\"BoxZoomTool\"},{\"id\":\"27796\",\"type\":\"SaveTool\"},{\"id\":\"27797\",\"type\":\"ResetTool\"},{\"id\":\"27798\",\"type\":\"HelpTool\"}]},\"id\":\"27799\",\"type\":\"Toolbar\"},{\"attributes\":{\"formatter\":{\"id\":\"28370\",\"type\":\"BasicTickFormatter\"},\"ticker\":{\"id\":\"27784\",\"type\":\"BasicTicker\"}},\"id\":\"27783\",\"type\":\"LinearAxis\"},{\"attributes\":{},\"id\":\"27798\",\"type\":\"HelpTool\"},{\"attributes\":{},\"id\":\"27779\",\"type\":\"LinearScale\"},{\"attributes\":{},\"id\":\"27796\",\"type\":\"SaveTool\"},{\"attributes\":{},\"id\":\"28375\",\"type\":\"Selection\"},{\"attributes\":{},\"id\":\"27784\",\"type\":\"BasicTicker\"},{\"attributes\":{\"data_source\":{\"id\":\"27806\",\"type\":\"ColumnDataSource\"},\"glyph\":{\"id\":\"27807\",\"type\":\"VBar\"},\"hover_glyph\":null,\"muted_glyph\":null,\"nonselection_glyph\":{\"id\":\"27808\",\"type\":\"VBar\"},\"selection_glyph\":null,\"view\":{\"id\":\"27810\",\"type\":\"CDSView\"}},\"id\":\"27809\",\"type\":\"GlyphRenderer\"},{\"attributes\":{\"overlay\":{\"id\":\"28373\",\"type\":\"BoxAnnotation\"}},\"id\":\"27795\",\"type\":\"BoxZoomTool\"},{\"attributes\":{},\"id\":\"27794\",\"type\":\"WheelZoomTool\"},{\"attributes\":{\"bottom_units\":\"screen\",\"fill_alpha\":{\"value\":0.5},\"fill_color\":{\"value\":\"lightgrey\"},\"left_units\":\"screen\",\"level\":\"overlay\",\"line_alpha\":{\"value\":1.0},\"line_color\":{\"value\":\"black\"},\"line_dash\":[4,4],\"line_width\":{\"value\":2},\"render_mode\":\"css\",\"right_units\":\"screen\",\"top_units\":\"screen\"},\"id\":\"28373\",\"type\":\"BoxAnnotation\"},{\"attributes\":{\"source\":{\"id\":\"27806\",\"type\":\"ColumnDataSource\"}},\"id\":\"27810\",\"type\":\"CDSView\"},{\"attributes\":{\"callback\":null},\"id\":\"27775\",\"type\":\"DataRange1d\"},{\"attributes\":{},\"id\":\"28372\",\"type\":\"BasicTickFormatter\"}],\"root_ids\":[\"27774\"]},\"title\":\"Bokeh Application\",\"version\":\"1.2.0\"}};\n",
       "  var render_items = [{\"docid\":\"67639e12-8b4d-4544-a2e5-7b815ad8371f\",\"roots\":{\"27774\":\"00594087-cc16-4f44-bec0-e9a655b33d64\"}}];\n",
       "  root.Bokeh.embed.embed_items_notebook(docs_json, render_items);\n",
       "\n",
       "  }\n",
       "  if (root.Bokeh !== undefined) {\n",
       "    embed_document(root);\n",
       "  } else {\n",
       "    var attempts = 0;\n",
       "    var timer = setInterval(function(root) {\n",
       "      if (root.Bokeh !== undefined) {\n",
       "        embed_document(root);\n",
       "        clearInterval(timer);\n",
       "      }\n",
       "      attempts++;\n",
       "      if (attempts > 100) {\n",
       "        console.log(\"Bokeh: ERROR: Unable to run BokehJS code because BokehJS library is missing\");\n",
       "        clearInterval(timer);\n",
       "      }\n",
       "    }, 10, root)\n",
       "  }\n",
       "})(window);"
      ],
      "application/vnd.bokehjs_exec.v0+json": ""
     },
     "metadata": {
      "application/vnd.bokehjs_exec.v0+json": {
       "id": "27774"
      }
     },
     "output_type": "display_data"
    }
   ],
   "source": [
    "p = figure(plot_width=400, plot_height=400)\n",
    "p.vbar(x=[1,2,3,4,5], width=0.5, bottom=0,\n",
    "       top=[2,5,8,2,7], color=\"firebrick\")\n",
    "\n",
    "# change just some things about the x-grid\n",
    "p.xgrid.grid_line_color = None\n",
    "\n",
    "# change just some things about the y-grid\n",
    "p.ygrid.grid_line_alpha = 0.8\n",
    "p.ygrid.grid_line_dash = [6, 4]\n",
    "\n",
    "\n",
    "show(p)"
   ]
  },
  {
   "cell_type": "markdown",
   "metadata": {},
   "source": [
    "# 03. Data Sources and Transformations"
   ]
  },
  {
   "cell_type": "markdown",
   "metadata": {},
   "source": [
    "## Creating with Python Dicts"
   ]
  },
  {
   "cell_type": "code",
   "execution_count": 101,
   "metadata": {},
   "outputs": [],
   "source": [
    "from bokeh.models import ColumnDataSource"
   ]
  },
  {
   "cell_type": "code",
   "execution_count": 102,
   "metadata": {},
   "outputs": [
    {
     "data": {
      "text/html": [
       "\n",
       "\n",
       "\n",
       "\n",
       "\n",
       "\n",
       "  <div class=\"bk-root\" id=\"42990f1f-b411-4047-bfbb-473f09f727ce\" data-root-id=\"34097\"></div>\n"
      ]
     },
     "metadata": {},
     "output_type": "display_data"
    },
    {
     "data": {
      "application/javascript": [
       "(function(root) {\n",
       "  function embed_document(root) {\n",
       "    \n",
       "  var docs_json = {\"56535db1-dd54-469f-8c99-84881dca73ce\":{\"roots\":{\"references\":[{\"attributes\":{\"below\":[{\"id\":\"34106\",\"type\":\"LinearAxis\"}],\"center\":[{\"id\":\"34110\",\"type\":\"Grid\"},{\"id\":\"34115\",\"type\":\"Grid\"}],\"left\":[{\"id\":\"34111\",\"type\":\"LinearAxis\"}],\"plot_height\":400,\"plot_width\":400,\"renderers\":[{\"id\":\"34132\",\"type\":\"GlyphRenderer\"}],\"title\":{\"id\":\"34726\",\"type\":\"Title\"},\"toolbar\":{\"id\":\"34122\",\"type\":\"Toolbar\"},\"x_range\":{\"id\":\"34098\",\"type\":\"DataRange1d\"},\"x_scale\":{\"id\":\"34102\",\"type\":\"LinearScale\"},\"y_range\":{\"id\":\"34100\",\"type\":\"DataRange1d\"},\"y_scale\":{\"id\":\"34104\",\"type\":\"LinearScale\"}},\"id\":\"34097\",\"subtype\":\"Figure\",\"type\":\"Plot\"},{\"attributes\":{},\"id\":\"34112\",\"type\":\"BasicTicker\"},{\"attributes\":{},\"id\":\"34732\",\"type\":\"UnionRenderers\"},{\"attributes\":{},\"id\":\"34102\",\"type\":\"LinearScale\"},{\"attributes\":{\"bottom_units\":\"screen\",\"fill_alpha\":{\"value\":0.5},\"fill_color\":{\"value\":\"lightgrey\"},\"left_units\":\"screen\",\"level\":\"overlay\",\"line_alpha\":{\"value\":1.0},\"line_color\":{\"value\":\"black\"},\"line_dash\":[4,4],\"line_width\":{\"value\":2},\"render_mode\":\"css\",\"right_units\":\"screen\",\"top_units\":\"screen\"},\"id\":\"34731\",\"type\":\"BoxAnnotation\"},{\"attributes\":{\"dimension\":1,\"ticker\":{\"id\":\"34112\",\"type\":\"BasicTicker\"}},\"id\":\"34115\",\"type\":\"Grid\"},{\"attributes\":{},\"id\":\"34104\",\"type\":\"LinearScale\"},{\"attributes\":{\"source\":{\"id\":\"34096\",\"type\":\"ColumnDataSource\"}},\"id\":\"34133\",\"type\":\"CDSView\"},{\"attributes\":{\"callback\":null,\"data\":{\"x\":[1,2,3,4,5],\"y\":[3,7,8,5,1]},\"selected\":{\"id\":\"34733\",\"type\":\"Selection\"},\"selection_policy\":{\"id\":\"34732\",\"type\":\"UnionRenderers\"}},\"id\":\"34096\",\"type\":\"ColumnDataSource\"},{\"attributes\":{\"active_drag\":\"auto\",\"active_inspect\":\"auto\",\"active_multi\":null,\"active_scroll\":\"auto\",\"active_tap\":\"auto\",\"tools\":[{\"id\":\"34116\",\"type\":\"PanTool\"},{\"id\":\"34117\",\"type\":\"WheelZoomTool\"},{\"id\":\"34118\",\"type\":\"BoxZoomTool\"},{\"id\":\"34119\",\"type\":\"SaveTool\"},{\"id\":\"34120\",\"type\":\"ResetTool\"},{\"id\":\"34121\",\"type\":\"HelpTool\"}]},\"id\":\"34122\",\"type\":\"Toolbar\"},{\"attributes\":{},\"id\":\"34117\",\"type\":\"WheelZoomTool\"},{\"attributes\":{\"text\":\"\"},\"id\":\"34726\",\"type\":\"Title\"},{\"attributes\":{\"fill_alpha\":{\"value\":0.1},\"fill_color\":{\"value\":\"#1f77b4\"},\"line_alpha\":{\"value\":0.1},\"line_color\":{\"value\":\"#1f77b4\"},\"size\":{\"units\":\"screen\",\"value\":20},\"x\":{\"field\":\"x\"},\"y\":{\"field\":\"y\"}},\"id\":\"34131\",\"type\":\"Circle\"},{\"attributes\":{\"overlay\":{\"id\":\"34731\",\"type\":\"BoxAnnotation\"}},\"id\":\"34118\",\"type\":\"BoxZoomTool\"},{\"attributes\":{},\"id\":\"34116\",\"type\":\"PanTool\"},{\"attributes\":{\"callback\":null},\"id\":\"34100\",\"type\":\"DataRange1d\"},{\"attributes\":{\"formatter\":{\"id\":\"34730\",\"type\":\"BasicTickFormatter\"},\"ticker\":{\"id\":\"34112\",\"type\":\"BasicTicker\"}},\"id\":\"34111\",\"type\":\"LinearAxis\"},{\"attributes\":{},\"id\":\"34733\",\"type\":\"Selection\"},{\"attributes\":{\"data_source\":{\"id\":\"34096\",\"type\":\"ColumnDataSource\"},\"glyph\":{\"id\":\"34130\",\"type\":\"Circle\"},\"hover_glyph\":null,\"muted_glyph\":null,\"nonselection_glyph\":{\"id\":\"34131\",\"type\":\"Circle\"},\"selection_glyph\":null,\"view\":{\"id\":\"34133\",\"type\":\"CDSView\"}},\"id\":\"34132\",\"type\":\"GlyphRenderer\"},{\"attributes\":{},\"id\":\"34728\",\"type\":\"BasicTickFormatter\"},{\"attributes\":{\"fill_color\":{\"value\":\"#1f77b4\"},\"line_color\":{\"value\":\"#1f77b4\"},\"size\":{\"units\":\"screen\",\"value\":20},\"x\":{\"field\":\"x\"},\"y\":{\"field\":\"y\"}},\"id\":\"34130\",\"type\":\"Circle\"},{\"attributes\":{},\"id\":\"34730\",\"type\":\"BasicTickFormatter\"},{\"attributes\":{\"callback\":null},\"id\":\"34098\",\"type\":\"DataRange1d\"},{\"attributes\":{},\"id\":\"34120\",\"type\":\"ResetTool\"},{\"attributes\":{\"ticker\":{\"id\":\"34107\",\"type\":\"BasicTicker\"}},\"id\":\"34110\",\"type\":\"Grid\"},{\"attributes\":{},\"id\":\"34119\",\"type\":\"SaveTool\"},{\"attributes\":{},\"id\":\"34107\",\"type\":\"BasicTicker\"},{\"attributes\":{},\"id\":\"34121\",\"type\":\"HelpTool\"},{\"attributes\":{\"formatter\":{\"id\":\"34728\",\"type\":\"BasicTickFormatter\"},\"ticker\":{\"id\":\"34107\",\"type\":\"BasicTicker\"}},\"id\":\"34106\",\"type\":\"LinearAxis\"}],\"root_ids\":[\"34097\"]},\"title\":\"Bokeh Application\",\"version\":\"1.2.0\"}};\n",
       "  var render_items = [{\"docid\":\"56535db1-dd54-469f-8c99-84881dca73ce\",\"roots\":{\"34097\":\"42990f1f-b411-4047-bfbb-473f09f727ce\"}}];\n",
       "  root.Bokeh.embed.embed_items_notebook(docs_json, render_items);\n",
       "\n",
       "  }\n",
       "  if (root.Bokeh !== undefined) {\n",
       "    embed_document(root);\n",
       "  } else {\n",
       "    var attempts = 0;\n",
       "    var timer = setInterval(function(root) {\n",
       "      if (root.Bokeh !== undefined) {\n",
       "        embed_document(root);\n",
       "        clearInterval(timer);\n",
       "      }\n",
       "      attempts++;\n",
       "      if (attempts > 100) {\n",
       "        console.log(\"Bokeh: ERROR: Unable to run BokehJS code because BokehJS library is missing\");\n",
       "        clearInterval(timer);\n",
       "      }\n",
       "    }, 10, root)\n",
       "  }\n",
       "})(window);"
      ],
      "application/vnd.bokehjs_exec.v0+json": ""
     },
     "metadata": {
      "application/vnd.bokehjs_exec.v0+json": {
       "id": "34097"
      }
     },
     "output_type": "display_data"
    }
   ],
   "source": [
    "source = ColumnDataSource(data={\n",
    "    'x' : [1, 2, 3, 4, 5],\n",
    "    'y' : [3, 7, 8, 5, 1],\n",
    "})\n",
    "\n",
    "p = figure(plot_width=400, plot_height=400)\n",
    "p.circle('x', 'y', size=20, source=source)\n",
    "show(p)"
   ]
  },
  {
   "cell_type": "markdown",
   "metadata": {},
   "source": [
    "**#1 Exercise: create a column data source with NumPy arrays as column values and plot it"
   ]
  },
  {
   "cell_type": "code",
   "execution_count": 116,
   "metadata": {},
   "outputs": [
    {
     "data": {
      "text/html": [
       "\n",
       "\n",
       "\n",
       "\n",
       "\n",
       "\n",
       "  <div class=\"bk-root\" id=\"917edbeb-e7b3-4e75-a446-04b3d8bcc4a3\" data-root-id=\"35042\"></div>\n"
      ]
     },
     "metadata": {},
     "output_type": "display_data"
    },
    {
     "data": {
      "application/javascript": [
       "(function(root) {\n",
       "  function embed_document(root) {\n",
       "    \n",
       "  var docs_json = {\"e513d3c4-0c3a-4d6a-87a9-6d6d0c47085d\":{\"roots\":{\"references\":[{\"attributes\":{\"below\":[{\"id\":\"35051\",\"type\":\"LinearAxis\"}],\"center\":[{\"id\":\"35055\",\"type\":\"Grid\"},{\"id\":\"35060\",\"type\":\"Grid\"}],\"left\":[{\"id\":\"35056\",\"type\":\"LinearAxis\"}],\"plot_height\":400,\"plot_width\":400,\"renderers\":[{\"id\":\"35077\",\"type\":\"GlyphRenderer\"}],\"title\":{\"id\":\"35680\",\"type\":\"Title\"},\"toolbar\":{\"id\":\"35067\",\"type\":\"Toolbar\"},\"x_range\":{\"id\":\"35043\",\"type\":\"DataRange1d\"},\"x_scale\":{\"id\":\"35047\",\"type\":\"LinearScale\"},\"y_range\":{\"id\":\"35045\",\"type\":\"DataRange1d\"},\"y_scale\":{\"id\":\"35049\",\"type\":\"LinearScale\"}},\"id\":\"35042\",\"subtype\":\"Figure\",\"type\":\"Plot\"},{\"attributes\":{},\"id\":\"35682\",\"type\":\"BasicTickFormatter\"},{\"attributes\":{\"callback\":null,\"data\":{\"x\":[1,2,3],\"y\":[4,5,6]},\"selected\":{\"id\":\"35687\",\"type\":\"Selection\"},\"selection_policy\":{\"id\":\"35686\",\"type\":\"UnionRenderers\"}},\"id\":\"35074\",\"type\":\"ColumnDataSource\"},{\"attributes\":{\"fill_color\":{\"value\":\"#1f77b4\"},\"line_color\":{\"value\":\"#1f77b4\"},\"x\":{\"field\":\"x\"},\"y\":{\"field\":\"y\"}},\"id\":\"35075\",\"type\":\"Circle\"},{\"attributes\":{},\"id\":\"35047\",\"type\":\"LinearScale\"},{\"attributes\":{},\"id\":\"35052\",\"type\":\"BasicTicker\"},{\"attributes\":{\"bottom_units\":\"screen\",\"fill_alpha\":{\"value\":0.5},\"fill_color\":{\"value\":\"lightgrey\"},\"left_units\":\"screen\",\"level\":\"overlay\",\"line_alpha\":{\"value\":1.0},\"line_color\":{\"value\":\"black\"},\"line_dash\":[4,4],\"line_width\":{\"value\":2},\"render_mode\":\"css\",\"right_units\":\"screen\",\"top_units\":\"screen\"},\"id\":\"35685\",\"type\":\"BoxAnnotation\"},{\"attributes\":{\"fill_alpha\":{\"value\":0.1},\"fill_color\":{\"value\":\"#1f77b4\"},\"line_alpha\":{\"value\":0.1},\"line_color\":{\"value\":\"#1f77b4\"},\"x\":{\"field\":\"x\"},\"y\":{\"field\":\"y\"}},\"id\":\"35076\",\"type\":\"Circle\"},{\"attributes\":{\"formatter\":{\"id\":\"35684\",\"type\":\"BasicTickFormatter\"},\"ticker\":{\"id\":\"35057\",\"type\":\"BasicTicker\"}},\"id\":\"35056\",\"type\":\"LinearAxis\"},{\"attributes\":{},\"id\":\"35061\",\"type\":\"PanTool\"},{\"attributes\":{\"callback\":null},\"id\":\"35045\",\"type\":\"DataRange1d\"},{\"attributes\":{\"text\":\"\"},\"id\":\"35680\",\"type\":\"Title\"},{\"attributes\":{\"ticker\":{\"id\":\"35052\",\"type\":\"BasicTicker\"}},\"id\":\"35055\",\"type\":\"Grid\"},{\"attributes\":{\"callback\":null},\"id\":\"35043\",\"type\":\"DataRange1d\"},{\"attributes\":{\"data_source\":{\"id\":\"35074\",\"type\":\"ColumnDataSource\"},\"glyph\":{\"id\":\"35075\",\"type\":\"Circle\"},\"hover_glyph\":null,\"muted_glyph\":null,\"nonselection_glyph\":{\"id\":\"35076\",\"type\":\"Circle\"},\"selection_glyph\":null,\"view\":{\"id\":\"35078\",\"type\":\"CDSView\"}},\"id\":\"35077\",\"type\":\"GlyphRenderer\"},{\"attributes\":{},\"id\":\"35062\",\"type\":\"WheelZoomTool\"},{\"attributes\":{},\"id\":\"35066\",\"type\":\"HelpTool\"},{\"attributes\":{},\"id\":\"35684\",\"type\":\"BasicTickFormatter\"},{\"attributes\":{},\"id\":\"35057\",\"type\":\"BasicTicker\"},{\"attributes\":{},\"id\":\"35065\",\"type\":\"ResetTool\"},{\"attributes\":{\"overlay\":{\"id\":\"35685\",\"type\":\"BoxAnnotation\"}},\"id\":\"35063\",\"type\":\"BoxZoomTool\"},{\"attributes\":{},\"id\":\"35687\",\"type\":\"Selection\"},{\"attributes\":{},\"id\":\"35049\",\"type\":\"LinearScale\"},{\"attributes\":{\"formatter\":{\"id\":\"35682\",\"type\":\"BasicTickFormatter\"},\"ticker\":{\"id\":\"35052\",\"type\":\"BasicTicker\"}},\"id\":\"35051\",\"type\":\"LinearAxis\"},{\"attributes\":{\"source\":{\"id\":\"35074\",\"type\":\"ColumnDataSource\"}},\"id\":\"35078\",\"type\":\"CDSView\"},{\"attributes\":{},\"id\":\"35064\",\"type\":\"SaveTool\"},{\"attributes\":{},\"id\":\"35686\",\"type\":\"UnionRenderers\"},{\"attributes\":{\"active_drag\":\"auto\",\"active_inspect\":\"auto\",\"active_multi\":null,\"active_scroll\":\"auto\",\"active_tap\":\"auto\",\"tools\":[{\"id\":\"35061\",\"type\":\"PanTool\"},{\"id\":\"35062\",\"type\":\"WheelZoomTool\"},{\"id\":\"35063\",\"type\":\"BoxZoomTool\"},{\"id\":\"35064\",\"type\":\"SaveTool\"},{\"id\":\"35065\",\"type\":\"ResetTool\"},{\"id\":\"35066\",\"type\":\"HelpTool\"}]},\"id\":\"35067\",\"type\":\"Toolbar\"},{\"attributes\":{\"dimension\":1,\"ticker\":{\"id\":\"35057\",\"type\":\"BasicTicker\"}},\"id\":\"35060\",\"type\":\"Grid\"}],\"root_ids\":[\"35042\"]},\"title\":\"Bokeh Application\",\"version\":\"1.2.0\"}};\n",
       "  var render_items = [{\"docid\":\"e513d3c4-0c3a-4d6a-87a9-6d6d0c47085d\",\"roots\":{\"35042\":\"917edbeb-e7b3-4e75-a446-04b3d8bcc4a3\"}}];\n",
       "  root.Bokeh.embed.embed_items_notebook(docs_json, render_items);\n",
       "\n",
       "  }\n",
       "  if (root.Bokeh !== undefined) {\n",
       "    embed_document(root);\n",
       "  } else {\n",
       "    var attempts = 0;\n",
       "    var timer = setInterval(function(root) {\n",
       "      if (root.Bokeh !== undefined) {\n",
       "        embed_document(root);\n",
       "        clearInterval(timer);\n",
       "      }\n",
       "      attempts++;\n",
       "      if (attempts > 100) {\n",
       "        console.log(\"Bokeh: ERROR: Unable to run BokehJS code because BokehJS library is missing\");\n",
       "        clearInterval(timer);\n",
       "      }\n",
       "    }, 10, root)\n",
       "  }\n",
       "})(window);"
      ],
      "application/vnd.bokehjs_exec.v0+json": ""
     },
     "metadata": {
      "application/vnd.bokehjs_exec.v0+json": {
       "id": "35042"
      }
     },
     "output_type": "display_data"
    }
   ],
   "source": [
    "import numpy as np\n",
    "\n",
    "arr_x = np.array([1, 2, 3])\n",
    "arr_y = np.array([4, 5, 6])\n",
    "\n",
    "p = figure(plot_width=400, plot_height=400)\n",
    "p.circle(arr_x,arr_y)\n",
    "show(p)\n"
   ]
  },
  {
   "cell_type": "markdown",
   "metadata": {},
   "source": [
    "## Creating with Pandas DataFrames¶"
   ]
  },
  {
   "cell_type": "markdown",
   "metadata": {},
   "source": [
    "**#2 Exercise: create a column data source with the autompg sample data frame and plot it"
   ]
  },
  {
   "cell_type": "code",
   "execution_count": 119,
   "metadata": {},
   "outputs": [],
   "source": [
    "from bokeh.sampledata.autompg import autompg_clean as df\n",
    "\n",
    "source = ColumnDataSource(df)"
   ]
  },
  {
   "cell_type": "code",
   "execution_count": 122,
   "metadata": {},
   "outputs": [
    {
     "data": {
      "text/html": [
       "\n",
       "\n",
       "\n",
       "\n",
       "\n",
       "\n",
       "  <div class=\"bk-root\" id=\"ef76b138-664a-4713-8e03-d501d414bbe7\" data-root-id=\"36699\"></div>\n"
      ]
     },
     "metadata": {},
     "output_type": "display_data"
    },
    {
     "data": {
      "application/javascript": [
       "(function(root) {\n",
       "  function embed_document(root) {\n",
       "    \n",
       "  var docs_json = {\"f0dafc93-9426-4766-ab91-85116285b86b\":{\"roots\":{\"references\":[{\"attributes\":{\"below\":[{\"id\":\"36708\",\"type\":\"LinearAxis\"}],\"center\":[{\"id\":\"36712\",\"type\":\"Grid\"},{\"id\":\"36717\",\"type\":\"Grid\"}],\"left\":[{\"id\":\"36713\",\"type\":\"LinearAxis\"}],\"plot_height\":400,\"plot_width\":400,\"renderers\":[{\"id\":\"36734\",\"type\":\"GlyphRenderer\"}],\"title\":{\"id\":\"37355\",\"type\":\"Title\"},\"toolbar\":{\"id\":\"36724\",\"type\":\"Toolbar\"},\"x_range\":{\"id\":\"36700\",\"type\":\"DataRange1d\"},\"x_scale\":{\"id\":\"36704\",\"type\":\"LinearScale\"},\"y_range\":{\"id\":\"36702\",\"type\":\"DataRange1d\"},\"y_scale\":{\"id\":\"36706\",\"type\":\"LinearScale\"}},\"id\":\"36699\",\"subtype\":\"Figure\",\"type\":\"Plot\"},{\"attributes\":{\"source\":{\"id\":\"36634\",\"type\":\"ColumnDataSource\"}},\"id\":\"36735\",\"type\":\"CDSView\"},{\"attributes\":{\"text\":\"\"},\"id\":\"37355\",\"type\":\"Title\"},{\"attributes\":{\"ticker\":{\"id\":\"36709\",\"type\":\"BasicTicker\"}},\"id\":\"36712\",\"type\":\"Grid\"},{\"attributes\":{\"fill_alpha\":{\"value\":0.1},\"fill_color\":{\"value\":\"#1f77b4\"},\"line_alpha\":{\"value\":0.1},\"line_color\":{\"value\":\"#1f77b4\"},\"x\":{\"field\":\"mpg\"},\"y\":{\"field\":\"hp\"}},\"id\":\"36733\",\"type\":\"Circle\"},{\"attributes\":{},\"id\":\"36714\",\"type\":\"BasicTicker\"},{\"attributes\":{},\"id\":\"37359\",\"type\":\"BasicTickFormatter\"},{\"attributes\":{},\"id\":\"36704\",\"type\":\"LinearScale\"},{\"attributes\":{\"formatter\":{\"id\":\"37359\",\"type\":\"BasicTickFormatter\"},\"ticker\":{\"id\":\"36714\",\"type\":\"BasicTicker\"}},\"id\":\"36713\",\"type\":\"LinearAxis\"},{\"attributes\":{},\"id\":\"37361\",\"type\":\"UnionRenderers\"},{\"attributes\":{\"formatter\":{\"id\":\"37357\",\"type\":\"BasicTickFormatter\"},\"ticker\":{\"id\":\"36709\",\"type\":\"BasicTicker\"}},\"id\":\"36708\",\"type\":\"LinearAxis\"},{\"attributes\":{\"bottom_units\":\"screen\",\"fill_alpha\":{\"value\":0.5},\"fill_color\":{\"value\":\"lightgrey\"},\"left_units\":\"screen\",\"level\":\"overlay\",\"line_alpha\":{\"value\":1.0},\"line_color\":{\"value\":\"black\"},\"line_dash\":[4,4],\"line_width\":{\"value\":2},\"render_mode\":\"css\",\"right_units\":\"screen\",\"top_units\":\"screen\"},\"id\":\"37360\",\"type\":\"BoxAnnotation\"},{\"attributes\":{\"fill_color\":{\"value\":\"#1f77b4\"},\"line_color\":{\"value\":\"#1f77b4\"},\"x\":{\"field\":\"mpg\"},\"y\":{\"field\":\"hp\"}},\"id\":\"36732\",\"type\":\"Circle\"},{\"attributes\":{},\"id\":\"36706\",\"type\":\"LinearScale\"},{\"attributes\":{},\"id\":\"37357\",\"type\":\"BasicTickFormatter\"},{\"attributes\":{},\"id\":\"36722\",\"type\":\"ResetTool\"},{\"attributes\":{\"data_source\":{\"id\":\"36634\",\"type\":\"ColumnDataSource\"},\"glyph\":{\"id\":\"36732\",\"type\":\"Circle\"},\"hover_glyph\":null,\"muted_glyph\":null,\"nonselection_glyph\":{\"id\":\"36733\",\"type\":\"Circle\"},\"selection_glyph\":null,\"view\":{\"id\":\"36735\",\"type\":\"CDSView\"}},\"id\":\"36734\",\"type\":\"GlyphRenderer\"},{\"attributes\":{\"overlay\":{\"id\":\"37360\",\"type\":\"BoxAnnotation\"}},\"id\":\"36720\",\"type\":\"BoxZoomTool\"},{\"attributes\":{\"dimension\":1,\"ticker\":{\"id\":\"36714\",\"type\":\"BasicTicker\"}},\"id\":\"36717\",\"type\":\"Grid\"},{\"attributes\":{},\"id\":\"37362\",\"type\":\"Selection\"},{\"attributes\":{},\"id\":\"36721\",\"type\":\"SaveTool\"},{\"attributes\":{},\"id\":\"36719\",\"type\":\"WheelZoomTool\"},{\"attributes\":{},\"id\":\"36709\",\"type\":\"BasicTicker\"},{\"attributes\":{\"callback\":null,\"data\":{\"accel\":{\"__ndarray__\":\"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\",\"dtype\":\"float64\",\"shape\":[392]},\"cyl\":[8,8,8,8,8,8,8,8,8,8,8,8,8,8,4,6,6,6,4,4,4,4,4,4,6,8,8,8,8,4,4,4,6,6,6,6,6,8,8,8,8,8,8,8,6,4,6,6,4,4,4,4,4,4,4,4,4,4,4,4,4,8,8,8,8,8,8,8,8,8,3,8,8,8,8,4,4,4,4,4,4,4,4,4,8,8,8,8,8,8,8,8,8,8,8,8,6,6,6,6,6,4,8,8,8,8,6,4,4,4,3,4,6,4,8,8,4,4,4,4,8,4,6,8,6,6,6,4,4,4,4,6,6,6,8,8,8,8,8,4,4,4,4,4,4,4,4,4,4,4,6,6,6,6,8,8,8,8,6,6,6,6,6,8,8,4,4,6,4,4,4,4,6,4,6,4,4,4,4,4,4,4,4,4,4,8,8,8,8,6,6,6,6,4,4,4,4,6,6,6,6,4,4,4,4,4,8,4,6,6,8,8,8,8,4,4,4,4,4,8,8,8,8,6,6,6,6,8,8,8,8,4,4,4,4,4,4,4,4,6,4,3,4,4,4,4,4,8,8,8,6,6,6,4,6,6,6,6,6,6,8,6,8,8,4,4,4,4,4,4,4,4,5,6,4,6,4,4,6,6,4,6,6,8,8,8,8,8,8,8,8,4,4,4,4,5,8,4,8,4,4,4,4,4,6,6,4,4,4,4,4,4,4,4,6,4,4,4,4,4,4,4,4,4,4,5,4,4,4,4,6,3,4,4,4,4,4,6,4,4,4,4,4,4,4,4,4,4,4,4,4,4,4,4,4,6,6,6,6,8,6,6,4,4,4,4,4,4,4,4,4,4,4,4,4,4,4,4,4,4,6,6,4,6,4,4,4,4,4,4,4,4],\"displ\":{\"__ndarray__\":\"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\",\"dtype\":\"float64\",\"shape\":[392]},\"hp\":[130,165,150,150,140,198,220,215,225,190,170,160,150,225,95,95,97,85,88,46,87,90,95,113,90,215,200,210,193,88,90,95,100,105,100,88,100,165,175,153,150,180,170,175,110,72,100,88,86,90,70,76,65,69,60,70,95,80,54,90,86,165,175,150,153,150,208,155,160,190,97,150,130,140,150,112,76,87,69,86,92,97,80,88,175,150,145,137,150,198,150,158,150,215,225,175,105,100,100,88,95,46,150,167,170,180,100,88,72,94,90,85,107,90,145,230,49,75,91,112,150,110,122,180,95,100,100,67,80,65,75,100,110,105,140,150,150,140,150,83,67,78,52,61,75,75,75,97,93,67,95,105,72,72,170,145,150,148,110,105,110,95,110,110,129,75,83,100,78,96,71,97,97,70,90,95,88,98,115,53,86,81,92,79,83,140,150,120,152,100,105,81,90,52,60,70,53,100,78,110,95,71,70,75,72,102,150,88,108,120,180,145,130,150,68,80,58,96,70,145,110,145,130,110,105,100,98,180,170,190,149,78,88,75,89,63,83,67,78,97,110,110,48,66,52,70,60,110,140,139,105,95,85,88,100,90,105,85,110,120,145,165,139,140,68,95,97,75,95,105,85,97,103,125,115,133,71,68,115,85,88,90,110,130,129,138,135,155,142,125,150,71,65,80,80,77,125,71,90,70,70,65,69,90,115,115,90,76,60,70,65,90,88,90,90,78,90,75,92,75,65,105,65,48,48,67,67,67,67,62,132,100,88,72,84,84,92,110,84,58,64,60,67,65,62,68,63,65,65,74,75,75,100,74,80,76,116,120,110,105,88,85,88,88,88,85,84,90,92,74,68,68,63,70,88,75,70,67,67,67,110,85,92,112,96,84,90,86,52,84,79,82],\"index\":[0,1,2,3,4,5,6,7,8,9,10,11,12,13,14,15,16,17,18,19,20,21,22,23,24,25,26,27,28,29,30,31,32,33,34,35,36,37,38,39,40,41,42,43,44,45,46,47,48,49,50,51,52,53,54,55,56,57,58,59,60,61,62,63,64,65,66,67,68,69,70,71,72,73,74,75,76,77,78,79,80,81,82,83,84,85,86,87,88,89,90,91,92,93,94,95,96,97,98,99,100,101,102,103,104,105,106,107,108,109,110,111,112,113,114,115,116,117,118,119,120,121,122,123,124,125,126,127,128,129,130,131,132,133,134,135,136,137,138,139,140,141,142,143,144,145,146,147,148,149,150,151,152,153,154,155,156,157,158,159,160,161,162,163,164,165,166,167,168,169,170,171,172,173,174,175,176,177,178,179,180,181,182,183,184,185,186,187,188,189,190,191,192,193,194,195,196,197,198,199,200,201,202,203,204,205,206,207,208,209,210,211,212,213,214,215,216,217,218,219,220,221,222,223,224,225,226,227,228,229,230,231,232,233,234,235,236,237,238,239,240,241,242,243,244,245,246,247,248,249,250,251,252,253,254,255,256,257,258,259,260,261,262,263,264,265,266,267,268,269,270,271,272,273,274,275,276,277,278,279,280,281,282,283,284,285,286,287,288,289,290,291,292,293,294,295,296,297,298,299,300,301,302,303,304,305,306,307,308,309,310,311,312,313,314,315,316,317,318,319,320,321,322,323,324,325,326,327,328,329,330,331,332,333,334,335,336,337,338,339,340,341,342,343,344,345,346,347,348,349,350,351,352,353,354,355,356,357,358,359,360,361,362,363,364,365,366,367,368,369,370,371,372,373,374,375,376,377,378,379,380,381,382,383,384,385,386,387,388,389,390,391],\"mfr\":[\"chevrolet\",\"buick\",\"plymouth\",\"amc\",\"ford\",\"ford\",\"chevrolet\",\"plymouth\",\"pontiac\",\"amc\",\"dodge\",\"plymouth\",\"chevrolet\",\"buick\",\"toyota\",\"plymouth\",\"amc\",\"ford\",\"datsun\",\"volkswagen\",\"peugeot\",\"audi\",\"saab\",\"bmw\",\"amc\",\"ford\",\"chevrolet\",\"dodge\",\"hi\",\"datsun\",\"chevrolet\",\"toyota\",\"amc\",\"plymouth\",\"chevrolet\",\"ford\",\"amc\",\"chevrolet\",\"pontiac\",\"ford\",\"plymouth\",\"dodge\",\"ford\",\"pontiac\",\"amc\",\"chevrolet\",\"pontiac\",\"ford\",\"mercury\",\"opel\",\"peugeot\",\"fiat\",\"toyota\",\"datsun\",\"volkswagen\",\"plymouth\",\"toyota\",\"dodge\",\"volkswagen\",\"chevrolet\",\"ford\",\"chevrolet\",\"pontiac\",\"plymouth\",\"ford\",\"amc\",\"mercury\",\"buick\",\"oldsmobile\",\"chrysler\",\"mazda\",\"amc\",\"chevrolet\",\"ford\",\"plymouth\",\"volvo\",\"volkswagen\",\"peugeot\",\"renault\",\"ford\",\"datsun\",\"toyota\",\"dodge\",\"toyota\",\"buick\",\"amc\",\"chevrolet\",\"ford\",\"dodge\",\"mercury\",\"chevrolet\",\"ford\",\"plymouth\",\"chrysler\",\"buick\",\"amc\",\"plymouth\",\"chevrolet\",\"amc\",\"ford\",\"plymouth\",\"volkswagen\",\"chevrolet\",\"ford\",\"plymouth\",\"oldsmobile\",\"amc\",\"toyota\",\"chevrolet\",\"datsun\",\"mazda\",\"ford\",\"mercury\",\"fiat\",\"chevrolet\",\"pontiac\",\"fiat\",\"opel\",\"audi\",\"volvo\",\"dodge\",\"saab\",\"toyota\",\"oldsmobile\",\"plymouth\",\"amc\",\"chevrolet\",\"datsun\",\"ford\",\"toyota\",\"chevrolet\",\"chevrolet\",\"amc\",\"plymouth\",\"ford\",\"buick\",\"dodge\",\"ford\",\"amc\",\"audi\",\"volkswagen\",\"opel\",\"toyota\",\"datsun\",\"dodge\",\"fiat\",\"fiat\",\"honda\",\"subaru\",\"fiat\",\"plymouth\",\"chevrolet\",\"mercury\",\"ford\",\"pontiac\",\"chevrolet\",\"plymouth\",\"ford\",\"buick\",\"chevrolet\",\"amc\",\"plymouth\",\"buick\",\"chevrolet\",\"ford\",\"toyota\",\"ford\",\"amc\",\"pontiac\",\"toyota\",\"volkswagen\",\"datsun\",\"ford\",\"volkswagen\",\"amc\",\"audi\",\"peugeot\",\"volvo\",\"saab\",\"honda\",\"fiat\",\"opel\",\"capri\",\"dodge\",\"renault\",\"chevrolet\",\"dodge\",\"amc\",\"ford\",\"plymouth\",\"chevrolet\",\"ford\",\"amc\",\"chevrolet\",\"chevrolet\",\"volkswagen\",\"honda\",\"dodge\",\"ford\",\"pontiac\",\"amc\",\"volkswagen\",\"datsun\",\"toyota\",\"ford\",\"volvo\",\"plymouth\",\"peugeot\",\"toyota\",\"mercedes\",\"cadillac\",\"chevrolet\",\"ford\",\"dodge\",\"honda\",\"buick\",\"renault\",\"plymouth\",\"datsun\",\"chevrolet\",\"oldsmobile\",\"dodge\",\"mercury\",\"chevrolet\",\"buick\",\"plymouth\",\"ford\",\"pontiac\",\"chevrolet\",\"chrysler\",\"ford\",\"volkswagen\",\"pontiac\",\"toyota\",\"ford\",\"chevrolet\",\"dodge\",\"subaru\",\"volkswagen\",\"datsun\",\"bmw\",\"mazda\",\"volkswagen\",\"ford\",\"mazda\",\"datsun\",\"honda\",\"oldsmobile\",\"dodge\",\"mercury\",\"pontiac\",\"chevrolet\",\"ford\",\"ford\",\"plymouth\",\"amc\",\"buick\",\"mercury\",\"dodge\",\"amc\",\"chevrolet\",\"buick\",\"ford\",\"dodge\",\"chevrolet\",\"toyota\",\"datsun\",\"dodge\",\"toyota\",\"plymouth\",\"oldsmobile\",\"datsun\",\"audi\",\"volvo\",\"saab\",\"peugeot\",\"volkswagen\",\"honda\",\"pontiac\",\"mercury\",\"ford\",\"amc\",\"dodge\",\"chevrolet\",\"ford\",\"mercury\",\"dodge\",\"buick\",\"ford\",\"chevrolet\",\"chrysler\",\"volkswagen\",\"mazda\",\"dodge\",\"amc\",\"mercedes\",\"cadillac\",\"peugeot\",\"oldsmobile\",\"plymouth\",\"plymouth\",\"datsun\",\"fiat\",\"buick\",\"chevrolet\",\"oldsmobile\",\"pontiac\",\"volkswagen\",\"toyota\",\"chevrolet\",\"datsun\",\"chevrolet\",\"ford\",\"amc\",\"dodge\",\"audi\",\"toyota\",\"mazda\",\"datsun\",\"toyota\",\"mazda\",\"dodge\",\"datsun\",\"volkswagen\",\"volkswagen\",\"audi\",\"mercedes\",\"honda\",\"subaru\",\"volkswagen\",\"datsun\",\"mazda\",\"triumph\",\"honda\",\"plymouth\",\"buick\",\"dodge\",\"chevrolet\",\"plymouth\",\"toyota\",\"plymouth\",\"honda\",\"subaru\",\"datsun\",\"toyota\",\"mazda\",\"plymouth\",\"ford\",\"ford\",\"volkswagen\",\"honda\",\"toyota\",\"datsun\",\"mazda\",\"peugeot\",\"volvo\",\"toyota\",\"datsun\",\"buick\",\"oldsmobile\",\"ford\",\"chrysler\",\"chevrolet\",\"chevrolet\",\"chevrolet\",\"pontiac\",\"dodge\",\"pontiac\",\"ford\",\"volkswagen\",\"mazda\",\"mazda\",\"plymouth\",\"mercury\",\"nissan\",\"honda\",\"toyota\",\"honda\",\"honda\",\"datsun\",\"buick\",\"oldsmobile\",\"chrysler\",\"ford\",\"toyota\",\"dodge\",\"chevrolet\",\"ford\",\"volkswagen\",\"dodge\",\"ford\",\"chevrolet\"],\"mpg\":{\"__ndarray__\":\"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\",\"dtype\":\"float64\",\"shape\":[392]},\"name\":[\"chevrolet chevelle malibu\",\"buick skylark 320\",\"plymouth satellite\",\"amc rebel sst\",\"ford torino\",\"ford galaxie 500\",\"chevrolet impala\",\"plymouth fury iii\",\"pontiac catalina\",\"amc ambassador dpl\",\"dodge challenger se\",\"plymouth 'cuda 340\",\"chevrolet monte carlo\",\"buick estate wagon (sw)\",\"toyota corona mark ii\",\"plymouth duster\",\"amc hornet\",\"ford maverick\",\"datsun pl510\",\"volkswagen 1131 deluxe sedan\",\"peugeot 504\",\"audi 100 ls\",\"saab 99e\",\"bmw 2002\",\"amc gremlin\",\"ford f250\",\"chevy c20\",\"dodge d200\",\"hi 1200d\",\"datsun pl510\",\"chevrolet vega 2300\",\"toyota corona\",\"amc gremlin\",\"plymouth satellite custom\",\"chevrolet chevelle malibu\",\"ford torino 500\",\"amc matador\",\"chevrolet impala\",\"pontiac catalina brougham\",\"ford galaxie 500\",\"plymouth fury iii\",\"dodge monaco (sw)\",\"ford country squire (sw)\",\"pontiac safari (sw)\",\"amc hornet sportabout (sw)\",\"chevrolet vega (sw)\",\"pontiac firebird\",\"ford mustang\",\"mercury capri 2000\",\"opel 1900\",\"peugeot 304\",\"fiat 124b\",\"toyota corolla 1200\",\"datsun 1200\",\"volkswagen model 111\",\"plymouth cricket\",\"toyota corona hardtop\",\"dodge colt hardtop\",\"volkswagen type 3\",\"chevrolet vega\",\"ford pinto runabout\",\"chevrolet impala\",\"pontiac catalina\",\"plymouth fury iii\",\"ford galaxie 500\",\"amc ambassador sst\",\"mercury marquis\",\"buick lesabre custom\",\"oldsmobile delta 88 royale\",\"chrysler newport royal\",\"mazda rx2 coupe\",\"amc matador (sw)\",\"chevrolet chevelle concours (sw)\",\"ford gran torino (sw)\",\"plymouth satellite custom (sw)\",\"volvo 145e (sw)\",\"volkswagen 411 (sw)\",\"peugeot 504 (sw)\",\"renault 12 (sw)\",\"ford pinto (sw)\",\"datsun 510 (sw)\",\"toyouta corona mark ii (sw)\",\"dodge colt (sw)\",\"toyota corolla 1600 (sw)\",\"buick century 350\",\"amc matador\",\"chevrolet malibu\",\"ford gran torino\",\"dodge coronet custom\",\"mercury marquis brougham\",\"chevrolet caprice classic\",\"ford ltd\",\"plymouth fury gran sedan\",\"chrysler new yorker brougham\",\"buick electra 225 custom\",\"amc ambassador brougham\",\"plymouth valiant\",\"chevrolet nova custom\",\"amc hornet\",\"ford maverick\",\"plymouth duster\",\"volkswagen super beetle\",\"chevrolet impala\",\"ford country\",\"plymouth custom suburb\",\"oldsmobile vista cruiser\",\"amc gremlin\",\"toyota carina\",\"chevrolet vega\",\"datsun 610\",\"maxda rx3\",\"ford pinto\",\"mercury capri v6\",\"fiat 124 sport coupe\",\"chevrolet monte carlo s\",\"pontiac grand prix\",\"fiat 128\",\"opel manta\",\"audi 100ls\",\"volvo 144ea\",\"dodge dart custom\",\"saab 99le\",\"toyota mark ii\",\"oldsmobile omega\",\"plymouth duster\",\"amc hornet\",\"chevrolet nova\",\"datsun b210\",\"ford pinto\",\"toyota corolla 1200\",\"chevrolet vega\",\"chevrolet chevelle malibu classic\",\"amc matador\",\"plymouth satellite sebring\",\"ford gran torino\",\"buick century luxus (sw)\",\"dodge coronet custom (sw)\",\"ford gran torino (sw)\",\"amc matador (sw)\",\"audi fox\",\"volkswagen dasher\",\"opel manta\",\"toyota corona\",\"datsun 710\",\"dodge colt\",\"fiat 128\",\"fiat 124 tc\",\"honda civic\",\"subaru\",\"fiat x1.9\",\"plymouth valiant custom\",\"chevrolet nova\",\"mercury monarch\",\"ford maverick\",\"pontiac catalina\",\"chevrolet bel air\",\"plymouth grand fury\",\"ford ltd\",\"buick century\",\"chevroelt chevelle malibu\",\"amc matador\",\"plymouth fury\",\"buick skyhawk\",\"chevrolet monza 2+2\",\"ford mustang ii\",\"toyota corolla\",\"ford pinto\",\"amc gremlin\",\"pontiac astro\",\"toyota corona\",\"volkswagen dasher\",\"datsun 710\",\"ford pinto\",\"volkswagen rabbit\",\"amc pacer\",\"audi 100ls\",\"peugeot 504\",\"volvo 244dl\",\"saab 99le\",\"honda civic cvcc\",\"fiat 131\",\"opel 1900\",\"capri ii\",\"dodge colt\",\"renault 12tl\",\"chevrolet chevelle malibu classic\",\"dodge coronet brougham\",\"amc matador\",\"ford gran torino\",\"plymouth valiant\",\"chevrolet nova\",\"ford maverick\",\"amc hornet\",\"chevrolet chevette\",\"chevrolet woody\",\"vw rabbit\",\"honda civic\",\"dodge aspen se\",\"ford granada ghia\",\"pontiac ventura sj\",\"amc pacer d/l\",\"volkswagen rabbit\",\"datsun b-210\",\"toyota corolla\",\"ford pinto\",\"volvo 245\",\"plymouth volare premier v8\",\"peugeot 504\",\"toyota mark ii\",\"mercedes-benz 280s\",\"cadillac seville\",\"chevy c10\",\"ford f108\",\"dodge d100\",\"honda accord cvcc\",\"buick opel isuzu deluxe\",\"renault 5 gtl\",\"plymouth arrow gs\",\"datsun f-10 hatchback\",\"chevrolet caprice classic\",\"oldsmobile cutlass supreme\",\"dodge monaco brougham\",\"mercury cougar brougham\",\"chevrolet concours\",\"buick skylark\",\"plymouth volare custom\",\"ford granada\",\"pontiac grand prix lj\",\"chevrolet monte carlo landau\",\"chrysler cordoba\",\"ford thunderbird\",\"volkswagen rabbit custom\",\"pontiac sunbird coupe\",\"toyota corolla liftback\",\"ford mustang ii 2+2\",\"chevrolet chevette\",\"dodge colt m/m\",\"subaru dl\",\"volkswagen dasher\",\"datsun 810\",\"bmw 320i\",\"mazda rx-4\",\"volkswagen rabbit custom diesel\",\"ford fiesta\",\"mazda glc deluxe\",\"datsun b210 gx\",\"honda civic cvcc\",\"oldsmobile cutlass salon brougham\",\"dodge diplomat\",\"mercury monarch ghia\",\"pontiac phoenix lj\",\"chevrolet malibu\",\"ford fairmont (auto)\",\"ford fairmont (man)\",\"plymouth volare\",\"amc concord\",\"buick century special\",\"mercury zephyr\",\"dodge aspen\",\"amc concord d/l\",\"chevrolet monte carlo landau\",\"buick regal sport coupe (turbo)\",\"ford futura\",\"dodge magnum xe\",\"chevrolet chevette\",\"toyota corona\",\"datsun 510\",\"dodge omni\",\"toyota celica gt liftback\",\"plymouth sapporo\",\"oldsmobile starfire sx\",\"datsun 200-sx\",\"audi 5000\",\"volvo 264gl\",\"saab 99gle\",\"peugeot 604sl\",\"volkswagen scirocco\",\"honda accord lx\",\"pontiac lemans v6\",\"mercury zephyr 6\",\"ford fairmont 4\",\"amc concord dl 6\",\"dodge aspen 6\",\"chevrolet caprice classic\",\"ford ltd landau\",\"mercury grand marquis\",\"dodge st. regis\",\"buick estate wagon (sw)\",\"ford country squire (sw)\",\"chevrolet malibu classic (sw)\",\"chrysler lebaron town @ country (sw)\",\"vw rabbit custom\",\"maxda glc deluxe\",\"dodge colt hatchback custom\",\"amc spirit dl\",\"mercedes benz 300d\",\"cadillac eldorado\",\"peugeot 504\",\"oldsmobile cutlass salon brougham\",\"plymouth horizon\",\"plymouth horizon tc3\",\"datsun 210\",\"fiat strada custom\",\"buick skylark limited\",\"chevrolet citation\",\"oldsmobile omega brougham\",\"pontiac phoenix\",\"vw rabbit\",\"toyota corolla tercel\",\"chevrolet chevette\",\"datsun 310\",\"chevrolet citation\",\"ford fairmont\",\"amc concord\",\"dodge aspen\",\"audi 4000\",\"toyota corona liftback\",\"mazda 626\",\"datsun 510 hatchback\",\"toyota corolla\",\"mazda glc\",\"dodge colt\",\"datsun 210\",\"vw rabbit c (diesel)\",\"vw dasher (diesel)\",\"audi 5000s (diesel)\",\"mercedes-benz 240d\",\"honda civic 1500 gl\",\"subaru dl\",\"vokswagen rabbit\",\"datsun 280-zx\",\"mazda rx-7 gs\",\"triumph tr7 coupe\",\"honda accord\",\"plymouth reliant\",\"buick skylark\",\"dodge aries wagon (sw)\",\"chevrolet citation\",\"plymouth reliant\",\"toyota starlet\",\"plymouth champ\",\"honda civic 1300\",\"subaru\",\"datsun 210 mpg\",\"toyota tercel\",\"mazda glc 4\",\"plymouth horizon 4\",\"ford escort 4w\",\"ford escort 2h\",\"volkswagen jetta\",\"honda prelude\",\"toyota corolla\",\"datsun 200sx\",\"mazda 626\",\"peugeot 505s turbo diesel\",\"volvo diesel\",\"toyota cressida\",\"datsun 810 maxima\",\"buick century\",\"oldsmobile cutlass ls\",\"ford granada gl\",\"chrysler lebaron salon\",\"chevrolet cavalier\",\"chevrolet cavalier wagon\",\"chevrolet cavalier 2-door\",\"pontiac j2000 se hatchback\",\"dodge aries se\",\"pontiac phoenix\",\"ford fairmont futura\",\"volkswagen rabbit l\",\"mazda glc custom l\",\"mazda glc custom\",\"plymouth horizon miser\",\"mercury lynx l\",\"nissan stanza xe\",\"honda accord\",\"toyota corolla\",\"honda civic\",\"honda civic (auto)\",\"datsun 310 gx\",\"buick century limited\",\"oldsmobile cutlass ciera (diesel)\",\"chrysler lebaron medallion\",\"ford granada l\",\"toyota celica gt\",\"dodge charger 2.2\",\"chevrolet camaro\",\"ford mustang gl\",\"vw pickup\",\"dodge rampage\",\"ford ranger\",\"chevy s-10\"],\"origin\":[\"North America\",\"North America\",\"North America\",\"North America\",\"North America\",\"North America\",\"North America\",\"North America\",\"North America\",\"North America\",\"North America\",\"North America\",\"North America\",\"North America\",\"Asia\",\"North America\",\"North America\",\"North America\",\"Asia\",\"Europe\",\"Europe\",\"Europe\",\"Europe\",\"Europe\",\"North America\",\"North America\",\"North America\",\"North America\",\"North America\",\"Asia\",\"North America\",\"Asia\",\"North America\",\"North America\",\"North America\",\"North America\",\"North America\",\"North America\",\"North America\",\"North America\",\"North America\",\"North America\",\"North America\",\"North America\",\"North America\",\"North America\",\"North America\",\"North America\",\"North America\",\"Europe\",\"Europe\",\"Europe\",\"Asia\",\"Asia\",\"Europe\",\"North America\",\"Asia\",\"North America\",\"Europe\",\"North America\",\"North America\",\"North America\",\"North America\",\"North America\",\"North America\",\"North America\",\"North America\",\"North America\",\"North America\",\"North America\",\"Asia\",\"North America\",\"North America\",\"North America\",\"North America\",\"Europe\",\"Europe\",\"Europe\",\"Europe\",\"North America\",\"Asia\",\"Asia\",\"North America\",\"Asia\",\"North America\",\"North America\",\"North America\",\"North America\",\"North America\",\"North America\",\"North America\",\"North America\",\"North America\",\"North America\",\"North America\",\"North America\",\"North America\",\"North America\",\"North America\",\"North America\",\"North America\",\"Europe\",\"North America\",\"North America\",\"North America\",\"North America\",\"North America\",\"Asia\",\"North America\",\"Asia\",\"Asia\",\"North America\",\"North America\",\"Europe\",\"North America\",\"North America\",\"Europe\",\"Europe\",\"Europe\",\"Europe\",\"North America\",\"Europe\",\"Asia\",\"North America\",\"North America\",\"North America\",\"North America\",\"Asia\",\"North America\",\"Asia\",\"North America\",\"North America\",\"North America\",\"North America\",\"North America\",\"North America\",\"North America\",\"North America\",\"North America\",\"Europe\",\"Europe\",\"Europe\",\"Asia\",\"Asia\",\"North America\",\"Europe\",\"Europe\",\"Asia\",\"Asia\",\"Europe\",\"North America\",\"North America\",\"North America\",\"North America\",\"North America\",\"North America\",\"North America\",\"North America\",\"North America\",\"North America\",\"North America\",\"North America\",\"North America\",\"North America\",\"North America\",\"Asia\",\"North America\",\"North America\",\"North America\",\"Asia\",\"Europe\",\"Asia\",\"North America\",\"Europe\",\"North America\",\"Europe\",\"Europe\",\"Europe\",\"Europe\",\"Asia\",\"Europe\",\"Europe\",\"North America\",\"North America\",\"Europe\",\"North America\",\"North America\",\"North America\",\"North America\",\"North America\",\"North America\",\"North America\",\"North America\",\"North America\",\"North America\",\"Europe\",\"Asia\",\"North America\",\"North America\",\"North America\",\"North America\",\"Europe\",\"Asia\",\"Asia\",\"North America\",\"Europe\",\"North America\",\"Europe\",\"Asia\",\"Europe\",\"North America\",\"North America\",\"North America\",\"North America\",\"Asia\",\"North America\",\"Europe\",\"North America\",\"Asia\",\"North America\",\"North America\",\"North America\",\"North America\",\"North America\",\"North America\",\"North America\",\"North America\",\"North America\",\"North America\",\"North America\",\"North America\",\"Europe\",\"North America\",\"Asia\",\"North America\",\"North America\",\"North America\",\"Asia\",\"Europe\",\"Asia\",\"Europe\",\"Asia\",\"Europe\",\"North America\",\"Asia\",\"Asia\",\"Asia\",\"North America\",\"North America\",\"North America\",\"North America\",\"North America\",\"North America\",\"North America\",\"North America\",\"North America\",\"North America\",\"North America\",\"North America\",\"North America\",\"North America\",\"North America\",\"North America\",\"North America\",\"North America\",\"Asia\",\"Asia\",\"North America\",\"Asia\",\"North America\",\"North America\",\"Asia\",\"Europe\",\"Europe\",\"Europe\",\"Europe\",\"Europe\",\"Asia\",\"North America\",\"North America\",\"North America\",\"North America\",\"North America\",\"North America\",\"North America\",\"North America\",\"North America\",\"North America\",\"North America\",\"North America\",\"North America\",\"Europe\",\"Asia\",\"North America\",\"North America\",\"Europe\",\"North America\",\"Europe\",\"North America\",\"North America\",\"North America\",\"Asia\",\"Europe\",\"North America\",\"North America\",\"North America\",\"North America\",\"Europe\",\"Asia\",\"North America\",\"Asia\",\"North America\",\"North America\",\"North America\",\"North America\",\"Europe\",\"Asia\",\"Asia\",\"Asia\",\"Asia\",\"Asia\",\"North America\",\"Asia\",\"Europe\",\"Europe\",\"Europe\",\"Europe\",\"Asia\",\"Asia\",\"Europe\",\"Asia\",\"Asia\",\"Europe\",\"Asia\",\"North America\",\"North America\",\"North America\",\"North America\",\"North America\",\"Asia\",\"North America\",\"Asia\",\"Asia\",\"Asia\",\"Asia\",\"Asia\",\"North America\",\"North America\",\"North America\",\"Europe\",\"Asia\",\"Asia\",\"Asia\",\"Asia\",\"Europe\",\"Europe\",\"Asia\",\"Asia\",\"North America\",\"North America\",\"North America\",\"North America\",\"North America\",\"North America\",\"North America\",\"North America\",\"North America\",\"North America\",\"North America\",\"Europe\",\"Asia\",\"Asia\",\"North America\",\"North America\",\"Asia\",\"Asia\",\"Asia\",\"Asia\",\"Asia\",\"Asia\",\"North America\",\"North America\",\"North America\",\"North America\",\"Asia\",\"North America\",\"North America\",\"North America\",\"Europe\",\"North America\",\"North America\",\"North America\"],\"weight\":[3504,3693,3436,3433,3449,4341,4354,4312,4425,3850,3563,3609,3761,3086,2372,2833,2774,2587,2130,1835,2672,2430,2375,2234,2648,4615,4376,4382,4732,2130,2264,2228,2634,3439,3329,3302,3288,4209,4464,4154,4096,4955,4746,5140,2962,2408,3282,3139,2220,2123,2074,2065,1773,1613,1834,1955,2278,2126,2254,2408,2226,4274,4385,4135,4129,3672,4633,4502,4456,4422,2330,3892,4098,4294,4077,2933,2511,2979,2189,2395,2288,2506,2164,2100,4100,3672,3988,4042,3777,4952,4464,4363,4237,4735,4951,3821,3121,3278,2945,3021,2904,1950,4997,4906,4654,4499,2789,2279,2401,2379,2124,2310,2472,2265,4082,4278,1867,2158,2582,2868,3399,2660,2807,3664,3102,2901,3336,1950,2451,1836,2542,3781,3632,3613,4141,4699,4457,4638,4257,2219,1963,2300,1649,2003,2125,2108,2246,2489,2391,2000,3264,3459,3432,3158,4668,4440,4498,4657,3907,3897,3730,3785,3039,3221,3169,2171,2639,2914,2592,2702,2223,2545,2984,1937,3211,2694,2957,2945,2671,1795,2464,2220,2572,2255,2202,4215,4190,3962,4215,3233,3353,3012,3085,2035,2164,1937,1795,3651,3574,3645,3193,1825,1990,2155,2565,3150,3940,3270,2930,3820,4380,4055,3870,3755,2045,2155,1825,2300,1945,3880,4060,4140,4295,3520,3425,3630,3525,4220,4165,4325,4335,1940,2740,2265,2755,2051,2075,1985,2190,2815,2600,2720,1985,1800,1985,2070,1800,3365,3735,3570,3535,3155,2965,2720,3430,3210,3380,3070,3620,3410,3425,3445,3205,4080,2155,2560,2300,2230,2515,2745,2855,2405,2830,3140,2795,3410,1990,2135,3245,2990,2890,3265,3360,3840,3725,3955,3830,4360,4054,3605,3940,1925,1975,1915,2670,3530,3900,3190,3420,2200,2150,2020,2130,2670,2595,2700,2556,2144,1968,2120,2019,2678,2870,3003,3381,2188,2711,2542,2434,2265,2110,2800,2110,2085,2335,2950,3250,1850,2145,1845,2910,2420,2500,2290,2490,2635,2620,2725,2385,1755,1875,1760,2065,1975,2050,1985,2215,2045,2380,2190,2210,2350,2615,2635,3230,3160,2900,2930,3415,3725,3060,3465,2605,2640,2395,2575,2525,2735,2865,1980,2025,1970,2125,2125,2160,2205,2245,1965,1965,1995,2945,3015,2585,2835,2665,2370,2950,2790,2130,2295,2625,2720],\"yr\":[70,70,70,70,70,70,70,70,70,70,70,70,70,70,70,70,70,70,70,70,70,70,70,70,70,70,70,70,70,71,71,71,71,71,71,71,71,71,71,71,71,71,71,71,71,71,71,71,71,71,71,71,71,71,71,71,72,72,72,72,72,72,72,72,72,72,72,72,72,72,72,72,72,72,72,72,72,72,72,72,72,72,72,72,73,73,73,73,73,73,73,73,73,73,73,73,73,73,73,73,73,73,73,73,73,73,73,73,73,73,73,73,73,73,73,73,73,73,73,73,73,73,73,73,74,74,74,74,74,74,74,74,74,74,74,74,74,74,74,74,74,74,74,74,74,74,74,74,74,74,75,75,75,75,75,75,75,75,75,75,75,75,75,75,75,75,75,75,75,75,75,75,75,75,75,75,75,75,75,75,76,76,76,76,76,76,76,76,76,76,76,76,76,76,76,76,76,76,76,76,76,76,76,76,76,76,76,76,76,76,76,76,76,76,77,77,77,77,77,77,77,77,77,77,77,77,77,77,77,77,77,77,77,77,77,77,77,77,77,77,77,77,78,78,78,78,78,78,78,78,78,78,78,78,78,78,78,78,78,78,78,78,78,78,78,78,78,78,78,78,78,78,78,78,78,78,78,78,79,79,79,79,79,79,79,79,79,79,79,79,79,79,79,79,79,79,79,79,79,79,79,79,79,79,79,79,79,80,80,80,80,80,80,80,80,80,80,80,80,80,80,80,80,80,80,80,80,80,80,80,80,80,80,80,81,81,81,81,81,81,81,81,81,81,81,81,81,81,81,81,81,81,81,81,81,81,81,81,81,81,81,81,82,82,82,82,82,82,82,82,82,82,82,82,82,82,82,82,82,82,82,82,82,82,82,82,82,82,82,82,82,82]},\"selected\":{\"id\":\"37362\",\"type\":\"Selection\"},\"selection_policy\":{\"id\":\"37361\",\"type\":\"UnionRenderers\"}},\"id\":\"36634\",\"type\":\"ColumnDataSource\"},{\"attributes\":{\"callback\":null},\"id\":\"36700\",\"type\":\"DataRange1d\"},{\"attributes\":{},\"id\":\"36718\",\"type\":\"PanTool\"},{\"attributes\":{\"callback\":null},\"id\":\"36702\",\"type\":\"DataRange1d\"},{\"attributes\":{},\"id\":\"36723\",\"type\":\"HelpTool\"},{\"attributes\":{\"active_drag\":\"auto\",\"active_inspect\":\"auto\",\"active_multi\":null,\"active_scroll\":\"auto\",\"active_tap\":\"auto\",\"tools\":[{\"id\":\"36718\",\"type\":\"PanTool\"},{\"id\":\"36719\",\"type\":\"WheelZoomTool\"},{\"id\":\"36720\",\"type\":\"BoxZoomTool\"},{\"id\":\"36721\",\"type\":\"SaveTool\"},{\"id\":\"36722\",\"type\":\"ResetTool\"},{\"id\":\"36723\",\"type\":\"HelpTool\"}]},\"id\":\"36724\",\"type\":\"Toolbar\"}],\"root_ids\":[\"36699\"]},\"title\":\"Bokeh Application\",\"version\":\"1.2.0\"}};\n",
       "  var render_items = [{\"docid\":\"f0dafc93-9426-4766-ab91-85116285b86b\",\"roots\":{\"36699\":\"ef76b138-664a-4713-8e03-d501d414bbe7\"}}];\n",
       "  root.Bokeh.embed.embed_items_notebook(docs_json, render_items);\n",
       "\n",
       "  }\n",
       "  if (root.Bokeh !== undefined) {\n",
       "    embed_document(root);\n",
       "  } else {\n",
       "    var attempts = 0;\n",
       "    var timer = setInterval(function(root) {\n",
       "      if (root.Bokeh !== undefined) {\n",
       "        embed_document(root);\n",
       "        clearInterval(timer);\n",
       "      }\n",
       "      attempts++;\n",
       "      if (attempts > 100) {\n",
       "        console.log(\"Bokeh: ERROR: Unable to run BokehJS code because BokehJS library is missing\");\n",
       "        clearInterval(timer);\n",
       "      }\n",
       "    }, 10, root)\n",
       "  }\n",
       "})(window);"
      ],
      "application/vnd.bokehjs_exec.v0+json": ""
     },
     "metadata": {
      "application/vnd.bokehjs_exec.v0+json": {
       "id": "36699"
      }
     },
     "output_type": "display_data"
    }
   ],
   "source": [
    "p = figure(plot_width=400, plot_height=400)\n",
    "p.circle('mpg', 'hp', source=source)\n",
    "show(p)"
   ]
  },
  {
   "cell_type": "markdown",
   "metadata": {},
   "source": [
    "## Transformations"
   ]
  },
  {
   "cell_type": "markdown",
   "metadata": {},
   "source": [
    "**#3 Exercise: use the corresponding factor_cmap to color map a scatter plot of the iris data set"
   ]
  },
  {
   "cell_type": "code",
   "execution_count": 151,
   "metadata": {},
   "outputs": [
    {
     "data": {
      "text/html": [
       "\n",
       "\n",
       "\n",
       "\n",
       "\n",
       "\n",
       "  <div class=\"bk-root\" id=\"8554a3e0-5633-4f87-aaef-3760a04b1a94\" data-root-id=\"48224\"></div>\n"
      ]
     },
     "metadata": {},
     "output_type": "display_data"
    },
    {
     "data": {
      "application/javascript": [
       "(function(root) {\n",
       "  function embed_document(root) {\n",
       "    \n",
       "  var docs_json = {\"77b1f4df-81d5-45fa-b41d-79b205887e69\":{\"roots\":{\"references\":[{\"attributes\":{\"below\":[{\"id\":\"48233\",\"type\":\"LinearAxis\"}],\"center\":[{\"id\":\"48237\",\"type\":\"Grid\"},{\"id\":\"48242\",\"type\":\"Grid\"}],\"left\":[{\"id\":\"48238\",\"type\":\"LinearAxis\"}],\"plot_height\":400,\"plot_width\":400,\"renderers\":[{\"id\":\"48261\",\"type\":\"GlyphRenderer\"}],\"title\":{\"id\":\"48998\",\"type\":\"Title\"},\"toolbar\":{\"id\":\"48249\",\"type\":\"Toolbar\"},\"x_range\":{\"id\":\"48225\",\"type\":\"DataRange1d\"},\"x_scale\":{\"id\":\"48229\",\"type\":\"LinearScale\"},\"y_range\":{\"id\":\"48227\",\"type\":\"DataRange1d\"},\"y_scale\":{\"id\":\"48231\",\"type\":\"LinearScale\"}},\"id\":\"48224\",\"subtype\":\"Figure\",\"type\":\"Plot\"},{\"attributes\":{\"fill_alpha\":{\"value\":0.6},\"fill_color\":{\"field\":\"species\",\"transform\":{\"id\":\"48256\",\"type\":\"CategoricalColorMapper\"}},\"line_color\":{\"field\":\"species\",\"transform\":{\"id\":\"48256\",\"type\":\"CategoricalColorMapper\"}},\"x\":{\"field\":\"petal_length\"},\"y\":{\"field\":\"petal_width\"}},\"id\":\"48259\",\"type\":\"Scatter\"},{\"attributes\":{},\"id\":\"49005\",\"type\":\"Selection\"},{\"attributes\":{},\"id\":\"48229\",\"type\":\"LinearScale\"},{\"attributes\":{},\"id\":\"48248\",\"type\":\"HelpTool\"},{\"attributes\":{\"axis_label\":\"Petal Length\",\"formatter\":{\"id\":\"49000\",\"type\":\"BasicTickFormatter\"},\"ticker\":{\"id\":\"48234\",\"type\":\"BasicTicker\"}},\"id\":\"48233\",\"type\":\"LinearAxis\"},{\"attributes\":{\"source\":{\"id\":\"48257\",\"type\":\"ColumnDataSource\"}},\"id\":\"48262\",\"type\":\"CDSView\"},{\"attributes\":{},\"id\":\"48234\",\"type\":\"BasicTicker\"},{\"attributes\":{\"active_drag\":\"auto\",\"active_inspect\":\"auto\",\"active_multi\":null,\"active_scroll\":\"auto\",\"active_tap\":\"auto\",\"tools\":[{\"id\":\"48243\",\"type\":\"PanTool\"},{\"id\":\"48244\",\"type\":\"WheelZoomTool\"},{\"id\":\"48245\",\"type\":\"BoxZoomTool\"},{\"id\":\"48246\",\"type\":\"SaveTool\"},{\"id\":\"48247\",\"type\":\"ResetTool\"},{\"id\":\"48248\",\"type\":\"HelpTool\"}]},\"id\":\"48249\",\"type\":\"Toolbar\"},{\"attributes\":{\"ticker\":{\"id\":\"48234\",\"type\":\"BasicTicker\"}},\"id\":\"48237\",\"type\":\"Grid\"},{\"attributes\":{},\"id\":\"48247\",\"type\":\"ResetTool\"},{\"attributes\":{},\"id\":\"49004\",\"type\":\"UnionRenderers\"},{\"attributes\":{\"callback\":null,\"data\":{\"index\":[0,1,2,3,4,5,6,7,8,9,10,11,12,13,14,15,16,17,18,19,20,21,22,23,24,25,26,27,28,29,30,31,32,33,34,35,36,37,38,39,40,41,42,43,44,45,46,47,48,49,50,51,52,53,54,55,56,57,58,59,60,61,62,63,64,65,66,67,68,69,70,71,72,73,74,75,76,77,78,79,80,81,82,83,84,85,86,87,88,89,90,91,92,93,94,95,96,97,98,99,100,101,102,103,104,105,106,107,108,109,110,111,112,113,114,115,116,117,118,119,120,121,122,123,124,125,126,127,128,129,130,131,132,133,134,135,136,137,138,139,140,141,142,143,144,145,146,147,148,149],\"petal_length\":{\"__ndarray__\":\"ZmZmZmZm9j9mZmZmZmb2P83MzMzMzPQ/AAAAAAAA+D9mZmZmZmb2PzMzMzMzM/s/ZmZmZmZm9j8AAAAAAAD4P2ZmZmZmZvY/AAAAAAAA+D8AAAAAAAD4P5qZmZmZmfk/ZmZmZmZm9j+amZmZmZnxPzMzMzMzM/M/AAAAAAAA+D/NzMzMzMz0P2ZmZmZmZvY/MzMzMzMz+z8AAAAAAAD4PzMzMzMzM/s/AAAAAAAA+D8AAAAAAADwPzMzMzMzM/s/ZmZmZmZm/j+amZmZmZn5P5qZmZmZmfk/AAAAAAAA+D9mZmZmZmb2P5qZmZmZmfk/mpmZmZmZ+T8AAAAAAAD4PwAAAAAAAPg/ZmZmZmZm9j8AAAAAAAD4PzMzMzMzM/M/zczMzMzM9D9mZmZmZmb2P83MzMzMzPQ/AAAAAAAA+D/NzMzMzMz0P83MzMzMzPQ/zczMzMzM9D+amZmZmZn5P2ZmZmZmZv4/ZmZmZmZm9j+amZmZmZn5P2ZmZmZmZvY/AAAAAAAA+D9mZmZmZmb2P83MzMzMzBJAAAAAAAAAEkCamZmZmZkTQAAAAAAAABBAZmZmZmZmEkAAAAAAAAASQM3MzMzMzBJAZmZmZmZmCkBmZmZmZmYSQDMzMzMzMw9AAAAAAAAADEDNzMzMzMwQQAAAAAAAABBAzczMzMzMEkDNzMzMzMwMQJqZmZmZmRFAAAAAAAAAEkBmZmZmZmYQQAAAAAAAABJAMzMzMzMzD0AzMzMzMzMTQAAAAAAAABBAmpmZmZmZE0DNzMzMzMwSQDMzMzMzMxFAmpmZmZmZEUAzMzMzMzMTQAAAAAAAABRAAAAAAAAAEkAAAAAAAAAMQGZmZmZmZg5AmpmZmZmZDUAzMzMzMzMPQGZmZmZmZhRAAAAAAAAAEkAAAAAAAAASQM3MzMzMzBJAmpmZmZmZEUBmZmZmZmYQQAAAAAAAABBAmpmZmZmZEUBmZmZmZmYSQAAAAAAAABBAZmZmZmZmCkDNzMzMzMwQQM3MzMzMzBBAzczMzMzMEEAzMzMzMzMRQAAAAAAAAAhAZmZmZmZmEEAAAAAAAAAYQGZmZmZmZhRAmpmZmZmZF0BmZmZmZmYWQDMzMzMzMxdAZmZmZmZmGkAAAAAAAAASQDMzMzMzMxlAMzMzMzMzF0BmZmZmZmYYQGZmZmZmZhRAMzMzMzMzFUAAAAAAAAAWQAAAAAAAABRAZmZmZmZmFEAzMzMzMzMVQAAAAAAAABZAzczMzMzMGkCamZmZmZkbQAAAAAAAABRAzczMzMzMFkCamZmZmZkTQM3MzMzMzBpAmpmZmZmZE0DNzMzMzMwWQAAAAAAAABhAMzMzMzMzE0CamZmZmZkTQGZmZmZmZhZAMzMzMzMzF0BmZmZmZmYYQJqZmZmZmRlAZmZmZmZmFkBmZmZmZmYUQGZmZmZmZhZAZmZmZmZmGEBmZmZmZmYWQAAAAAAAABZAMzMzMzMzE0CamZmZmZkVQGZmZmZmZhZAZmZmZmZmFEBmZmZmZmYUQJqZmZmZmRdAzczMzMzMFkDNzMzMzMwUQAAAAAAAABRAzczMzMzMFECamZmZmZkVQGZmZmZmZhRA\",\"dtype\":\"float64\",\"shape\":[150]},\"petal_width\":{\"__ndarray__\":\"mpmZmZmZyT+amZmZmZnJP5qZmZmZmck/mpmZmZmZyT+amZmZmZnJP5qZmZmZmdk/MzMzMzMz0z+amZmZmZnJP5qZmZmZmck/mpmZmZmZuT+amZmZmZnJP5qZmZmZmck/mpmZmZmZuT+amZmZmZm5P5qZmZmZmck/mpmZmZmZ2T+amZmZmZnZPzMzMzMzM9M/MzMzMzMz0z8zMzMzMzPTP5qZmZmZmck/mpmZmZmZ2T+amZmZmZnJPwAAAAAAAOA/mpmZmZmZyT+amZmZmZnJP5qZmZmZmdk/mpmZmZmZyT+amZmZmZnJP5qZmZmZmck/mpmZmZmZyT+amZmZmZnZP5qZmZmZmbk/mpmZmZmZyT+amZmZmZnJP5qZmZmZmck/mpmZmZmZyT+amZmZmZm5P5qZmZmZmck/mpmZmZmZyT8zMzMzMzPTPzMzMzMzM9M/mpmZmZmZyT8zMzMzMzPjP5qZmZmZmdk/MzMzMzMz0z+amZmZmZnJP5qZmZmZmck/mpmZmZmZyT+amZmZmZnJP2ZmZmZmZvY/AAAAAAAA+D8AAAAAAAD4P83MzMzMzPQ/AAAAAAAA+D/NzMzMzMz0P5qZmZmZmfk/AAAAAAAA8D/NzMzMzMz0P2ZmZmZmZvY/AAAAAAAA8D8AAAAAAAD4PwAAAAAAAPA/ZmZmZmZm9j/NzMzMzMz0P2ZmZmZmZvY/AAAAAAAA+D8AAAAAAADwPwAAAAAAAPg/mpmZmZmZ8T/NzMzMzMz8P83MzMzMzPQ/AAAAAAAA+D8zMzMzMzPzP83MzMzMzPQ/ZmZmZmZm9j9mZmZmZmb2PzMzMzMzM/s/AAAAAAAA+D8AAAAAAADwP5qZmZmZmfE/AAAAAAAA8D8zMzMzMzPzP5qZmZmZmfk/AAAAAAAA+D+amZmZmZn5PwAAAAAAAPg/zczMzMzM9D/NzMzMzMz0P83MzMzMzPQ/MzMzMzMz8z9mZmZmZmb2PzMzMzMzM/M/AAAAAAAA8D/NzMzMzMz0PzMzMzMzM/M/zczMzMzM9D/NzMzMzMz0P5qZmZmZmfE/zczMzMzM9D8AAAAAAAAEQGZmZmZmZv4/zczMzMzMAEDNzMzMzMz8P5qZmZmZmQFAzczMzMzMAEAzMzMzMzP7P83MzMzMzPw/zczMzMzM/D8AAAAAAAAEQAAAAAAAAABAZmZmZmZm/j/NzMzMzMwAQAAAAAAAAABAMzMzMzMzA0BmZmZmZmYCQM3MzMzMzPw/mpmZmZmZAUBmZmZmZmYCQAAAAAAAAPg/ZmZmZmZmAkAAAAAAAAAAQAAAAAAAAABAzczMzMzM/D/NzMzMzMwAQM3MzMzMzPw/zczMzMzM/D/NzMzMzMz8P83MzMzMzABAmpmZmZmZ+T9mZmZmZmb+PwAAAAAAAABAmpmZmZmZAUAAAAAAAAD4P2ZmZmZmZvY/ZmZmZmZmAkAzMzMzMzMDQM3MzMzMzPw/zczMzMzM/D/NzMzMzMwAQDMzMzMzMwNAZmZmZmZmAkBmZmZmZmb+P2ZmZmZmZgJAAAAAAAAABEBmZmZmZmYCQGZmZmZmZv4/AAAAAAAAAEBmZmZmZmYCQM3MzMzMzPw/\",\"dtype\":\"float64\",\"shape\":[150]},\"sepal_length\":{\"__ndarray__\":\"ZmZmZmZmFECamZmZmZkTQM3MzMzMzBJAZmZmZmZmEkAAAAAAAAAUQJqZmZmZmRVAZmZmZmZmEkAAAAAAAAAUQJqZmZmZmRFAmpmZmZmZE0CamZmZmZkVQDMzMzMzMxNAMzMzMzMzE0AzMzMzMzMRQDMzMzMzMxdAzczMzMzMFkCamZmZmZkVQGZmZmZmZhRAzczMzMzMFkBmZmZmZmYUQJqZmZmZmRVAZmZmZmZmFEBmZmZmZmYSQGZmZmZmZhRAMzMzMzMzE0AAAAAAAAAUQAAAAAAAABRAzczMzMzMFEDNzMzMzMwUQM3MzMzMzBJAMzMzMzMzE0CamZmZmZkVQM3MzMzMzBRAAAAAAAAAFkCamZmZmZkTQAAAAAAAABRAAAAAAAAAFkCamZmZmZkTQJqZmZmZmRFAZmZmZmZmFEAAAAAAAAAUQAAAAAAAABJAmpmZmZmZEUAAAAAAAAAUQGZmZmZmZhRAMzMzMzMzE0BmZmZmZmYUQGZmZmZmZhJAMzMzMzMzFUAAAAAAAAAUQAAAAAAAABxAmpmZmZmZGUCamZmZmZkbQAAAAAAAABZAAAAAAAAAGkDNzMzMzMwWQDMzMzMzMxlAmpmZmZmZE0BmZmZmZmYaQM3MzMzMzBRAAAAAAAAAFECamZmZmZkXQAAAAAAAABhAZmZmZmZmGEBmZmZmZmYWQM3MzMzMzBpAZmZmZmZmFkAzMzMzMzMXQM3MzMzMzBhAZmZmZmZmFkCamZmZmZkXQGZmZmZmZhhAMzMzMzMzGUBmZmZmZmYYQJqZmZmZmRlAZmZmZmZmGkAzMzMzMzMbQM3MzMzMzBpAAAAAAAAAGEDNzMzMzMwWQAAAAAAAABZAAAAAAAAAFkAzMzMzMzMXQAAAAAAAABhAmpmZmZmZFUAAAAAAAAAYQM3MzMzMzBpAMzMzMzMzGUBmZmZmZmYWQAAAAAAAABZAAAAAAAAAFkBmZmZmZmYYQDMzMzMzMxdAAAAAAAAAFEBmZmZmZmYWQM3MzMzMzBZAzczMzMzMFkDNzMzMzMwYQGZmZmZmZhRAzczMzMzMFkAzMzMzMzMZQDMzMzMzMxdAZmZmZmZmHEAzMzMzMzMZQAAAAAAAABpAZmZmZmZmHkCamZmZmZkTQDMzMzMzMx1AzczMzMzMGkDNzMzMzMwcQAAAAAAAABpAmpmZmZmZGUAzMzMzMzMbQM3MzMzMzBZAMzMzMzMzF0CamZmZmZkZQAAAAAAAABpAzczMzMzMHkDNzMzMzMweQAAAAAAAABhAmpmZmZmZG0BmZmZmZmYWQM3MzMzMzB5AMzMzMzMzGUDNzMzMzMwaQM3MzMzMzBxAzczMzMzMGEBmZmZmZmYYQJqZmZmZmRlAzczMzMzMHECamZmZmZkdQJqZmZmZmR9AmpmZmZmZGUAzMzMzMzMZQGZmZmZmZhhAzczMzMzMHkAzMzMzMzMZQJqZmZmZmRlAAAAAAAAAGECamZmZmZkbQM3MzMzMzBpAmpmZmZmZG0AzMzMzMzMXQDMzMzMzMxtAzczMzMzMGkDNzMzMzMwaQDMzMzMzMxlAAAAAAAAAGkDNzMzMzMwYQJqZmZmZmRdA\",\"dtype\":\"float64\",\"shape\":[150]},\"sepal_width\":{\"__ndarray__\":\"AAAAAAAADEAAAAAAAAAIQJqZmZmZmQlAzczMzMzMCEDNzMzMzMwMQDMzMzMzMw9AMzMzMzMzC0AzMzMzMzMLQDMzMzMzMwdAzczMzMzMCECamZmZmZkNQDMzMzMzMwtAAAAAAAAACEAAAAAAAAAIQAAAAAAAABBAmpmZmZmZEUAzMzMzMzMPQAAAAAAAAAxAZmZmZmZmDkBmZmZmZmYOQDMzMzMzMwtAmpmZmZmZDUDNzMzMzMwMQGZmZmZmZgpAMzMzMzMzC0AAAAAAAAAIQDMzMzMzMwtAAAAAAAAADEAzMzMzMzMLQJqZmZmZmQlAzczMzMzMCEAzMzMzMzMLQGZmZmZmZhBAzczMzMzMEEDNzMzMzMwIQJqZmZmZmQlAAAAAAAAADEDNzMzMzMwMQAAAAAAAAAhAMzMzMzMzC0AAAAAAAAAMQGZmZmZmZgJAmpmZmZmZCUAAAAAAAAAMQGZmZmZmZg5AAAAAAAAACEBmZmZmZmYOQJqZmZmZmQlAmpmZmZmZDUBmZmZmZmYKQJqZmZmZmQlAmpmZmZmZCUDNzMzMzMwIQGZmZmZmZgJAZmZmZmZmBkBmZmZmZmYGQGZmZmZmZgpAMzMzMzMzA0AzMzMzMzMHQJqZmZmZmQVAAAAAAAAAAEAAAAAAAAAIQJqZmZmZmQFAMzMzMzMzB0AzMzMzMzMHQM3MzMzMzAhAAAAAAAAACECamZmZmZkFQJqZmZmZmQFAAAAAAAAABECamZmZmZkJQGZmZmZmZgZAAAAAAAAABEBmZmZmZmYGQDMzMzMzMwdAAAAAAAAACEBmZmZmZmYGQAAAAAAAAAhAMzMzMzMzB0DNzMzMzMwEQDMzMzMzMwNAMzMzMzMzA0CamZmZmZkFQJqZmZmZmQVAAAAAAAAACEAzMzMzMzMLQM3MzMzMzAhAZmZmZmZmAkAAAAAAAAAIQAAAAAAAAARAzczMzMzMBEAAAAAAAAAIQM3MzMzMzARAZmZmZmZmAkCamZmZmZkFQAAAAAAAAAhAMzMzMzMzB0AzMzMzMzMHQAAAAAAAAARAZmZmZmZmBkBmZmZmZmYKQJqZmZmZmQVAAAAAAAAACEAzMzMzMzMHQAAAAAAAAAhAAAAAAAAACEAAAAAAAAAEQDMzMzMzMwdAAAAAAAAABEDNzMzMzMwMQJqZmZmZmQlAmpmZmZmZBUAAAAAAAAAIQAAAAAAAAARAZmZmZmZmBkCamZmZmZkJQAAAAAAAAAhAZmZmZmZmDkDNzMzMzMwEQJqZmZmZmQFAmpmZmZmZCUBmZmZmZmYGQGZmZmZmZgZAmpmZmZmZBUBmZmZmZmYKQJqZmZmZmQlAZmZmZmZmBkAAAAAAAAAIQGZmZmZmZgZAAAAAAAAACEBmZmZmZmYGQGZmZmZmZg5AZmZmZmZmBkBmZmZmZmYGQM3MzMzMzARAAAAAAAAACEAzMzMzMzMLQM3MzMzMzAhAAAAAAAAACEDNzMzMzMwIQM3MzMzMzAhAzczMzMzMCECamZmZmZkFQJqZmZmZmQlAZmZmZmZmCkAAAAAAAAAIQAAAAAAAAARAAAAAAAAACEAzMzMzMzMLQAAAAAAAAAhA\",\"dtype\":\"float64\",\"shape\":[150]},\"species\":[\"setosa\",\"setosa\",\"setosa\",\"setosa\",\"setosa\",\"setosa\",\"setosa\",\"setosa\",\"setosa\",\"setosa\",\"setosa\",\"setosa\",\"setosa\",\"setosa\",\"setosa\",\"setosa\",\"setosa\",\"setosa\",\"setosa\",\"setosa\",\"setosa\",\"setosa\",\"setosa\",\"setosa\",\"setosa\",\"setosa\",\"setosa\",\"setosa\",\"setosa\",\"setosa\",\"setosa\",\"setosa\",\"setosa\",\"setosa\",\"setosa\",\"setosa\",\"setosa\",\"setosa\",\"setosa\",\"setosa\",\"setosa\",\"setosa\",\"setosa\",\"setosa\",\"setosa\",\"setosa\",\"setosa\",\"setosa\",\"setosa\",\"setosa\",\"versicolor\",\"versicolor\",\"versicolor\",\"versicolor\",\"versicolor\",\"versicolor\",\"versicolor\",\"versicolor\",\"versicolor\",\"versicolor\",\"versicolor\",\"versicolor\",\"versicolor\",\"versicolor\",\"versicolor\",\"versicolor\",\"versicolor\",\"versicolor\",\"versicolor\",\"versicolor\",\"versicolor\",\"versicolor\",\"versicolor\",\"versicolor\",\"versicolor\",\"versicolor\",\"versicolor\",\"versicolor\",\"versicolor\",\"versicolor\",\"versicolor\",\"versicolor\",\"versicolor\",\"versicolor\",\"versicolor\",\"versicolor\",\"versicolor\",\"versicolor\",\"versicolor\",\"versicolor\",\"versicolor\",\"versicolor\",\"versicolor\",\"versicolor\",\"versicolor\",\"versicolor\",\"versicolor\",\"versicolor\",\"versicolor\",\"versicolor\",\"virginica\",\"virginica\",\"virginica\",\"virginica\",\"virginica\",\"virginica\",\"virginica\",\"virginica\",\"virginica\",\"virginica\",\"virginica\",\"virginica\",\"virginica\",\"virginica\",\"virginica\",\"virginica\",\"virginica\",\"virginica\",\"virginica\",\"virginica\",\"virginica\",\"virginica\",\"virginica\",\"virginica\",\"virginica\",\"virginica\",\"virginica\",\"virginica\",\"virginica\",\"virginica\",\"virginica\",\"virginica\",\"virginica\",\"virginica\",\"virginica\",\"virginica\",\"virginica\",\"virginica\",\"virginica\",\"virginica\",\"virginica\",\"virginica\",\"virginica\",\"virginica\",\"virginica\",\"virginica\",\"virginica\",\"virginica\",\"virginica\",\"virginica\"]},\"selected\":{\"id\":\"49005\",\"type\":\"Selection\"},\"selection_policy\":{\"id\":\"49004\",\"type\":\"UnionRenderers\"}},\"id\":\"48257\",\"type\":\"ColumnDataSource\"},{\"attributes\":{},\"id\":\"48244\",\"type\":\"WheelZoomTool\"},{\"attributes\":{},\"id\":\"48246\",\"type\":\"SaveTool\"},{\"attributes\":{\"dimension\":1,\"ticker\":{\"id\":\"48239\",\"type\":\"BasicTicker\"}},\"id\":\"48242\",\"type\":\"Grid\"},{\"attributes\":{\"overlay\":{\"id\":\"49003\",\"type\":\"BoxAnnotation\"}},\"id\":\"48245\",\"type\":\"BoxZoomTool\"},{\"attributes\":{\"axis_label\":\"Sepal Width\",\"formatter\":{\"id\":\"49002\",\"type\":\"BasicTickFormatter\"},\"ticker\":{\"id\":\"48239\",\"type\":\"BasicTicker\"}},\"id\":\"48238\",\"type\":\"LinearAxis\"},{\"attributes\":{},\"id\":\"48243\",\"type\":\"PanTool\"},{\"attributes\":{},\"id\":\"49002\",\"type\":\"BasicTickFormatter\"},{\"attributes\":{\"text\":\"\"},\"id\":\"48998\",\"type\":\"Title\"},{\"attributes\":{},\"id\":\"48231\",\"type\":\"LinearScale\"},{\"attributes\":{\"fill_alpha\":{\"value\":0.1},\"fill_color\":{\"value\":\"#1f77b4\"},\"line_alpha\":{\"value\":0.1},\"line_color\":{\"value\":\"#1f77b4\"},\"x\":{\"field\":\"petal_length\"},\"y\":{\"field\":\"petal_width\"}},\"id\":\"48260\",\"type\":\"Scatter\"},{\"attributes\":{\"data_source\":{\"id\":\"48257\",\"type\":\"ColumnDataSource\"},\"glyph\":{\"id\":\"48259\",\"type\":\"Scatter\"},\"hover_glyph\":null,\"muted_glyph\":null,\"nonselection_glyph\":{\"id\":\"48260\",\"type\":\"Scatter\"},\"selection_glyph\":null,\"view\":{\"id\":\"48262\",\"type\":\"CDSView\"}},\"id\":\"48261\",\"type\":\"GlyphRenderer\"},{\"attributes\":{},\"id\":\"49000\",\"type\":\"BasicTickFormatter\"},{\"attributes\":{\"callback\":null},\"id\":\"48227\",\"type\":\"DataRange1d\"},{\"attributes\":{},\"id\":\"48239\",\"type\":\"BasicTicker\"},{\"attributes\":{\"factors\":[\"setosa\",\"versicolor\",\"virginica\"],\"palette\":[\"#1f77b4\",\"#ff7f0e\",\"#2ca02c\"]},\"id\":\"48256\",\"type\":\"CategoricalColorMapper\"},{\"attributes\":{\"callback\":null},\"id\":\"48225\",\"type\":\"DataRange1d\"},{\"attributes\":{\"bottom_units\":\"screen\",\"fill_alpha\":{\"value\":0.5},\"fill_color\":{\"value\":\"lightgrey\"},\"left_units\":\"screen\",\"level\":\"overlay\",\"line_alpha\":{\"value\":1.0},\"line_color\":{\"value\":\"black\"},\"line_dash\":[4,4],\"line_width\":{\"value\":2},\"render_mode\":\"css\",\"right_units\":\"screen\",\"top_units\":\"screen\"},\"id\":\"49003\",\"type\":\"BoxAnnotation\"}],\"root_ids\":[\"48224\"]},\"title\":\"Bokeh Application\",\"version\":\"1.2.0\"}};\n",
       "  var render_items = [{\"docid\":\"77b1f4df-81d5-45fa-b41d-79b205887e69\",\"roots\":{\"48224\":\"8554a3e0-5633-4f87-aaef-3760a04b1a94\"}}];\n",
       "  root.Bokeh.embed.embed_items_notebook(docs_json, render_items);\n",
       "\n",
       "  }\n",
       "  if (root.Bokeh !== undefined) {\n",
       "    embed_document(root);\n",
       "  } else {\n",
       "    var attempts = 0;\n",
       "    var timer = setInterval(function(root) {\n",
       "      if (root.Bokeh !== undefined) {\n",
       "        embed_document(root);\n",
       "        clearInterval(timer);\n",
       "      }\n",
       "      attempts++;\n",
       "      if (attempts > 100) {\n",
       "        console.log(\"Bokeh: ERROR: Unable to run BokehJS code because BokehJS library is missing\");\n",
       "        clearInterval(timer);\n",
       "      }\n",
       "    }, 10, root)\n",
       "  }\n",
       "})(window);"
      ],
      "application/vnd.bokehjs_exec.v0+json": ""
     },
     "metadata": {
      "application/vnd.bokehjs_exec.v0+json": {
       "id": "48224"
      }
     },
     "output_type": "display_data"
    }
   ],
   "source": [
    "from bokeh.transform import factor_cmap\n",
    "\n",
    "from bokeh.sampledata.iris import flowers as df\n",
    "df.head()\n",
    "\n",
    "SPECIES = ['setosa', 'versicolor', 'virginica']\n",
    "\n",
    "\n",
    "p = figure(plot_width=400, plot_height=400)\n",
    "p.xaxis.axis_label = 'Petal Length'\n",
    "p.yaxis.axis_label = 'Sepal Width'\n",
    "p.scatter('petal_length', 'petal_width', source=df ,fill_alpha=0.6,\n",
    "         \n",
    "         color=factor_cmap('species', 'Category10_3',SPECIES ))\n",
    "show(p)\n"
   ]
  },
  {
   "cell_type": "markdown",
   "metadata": {},
   "source": [
    "# 04. Adding Annotations"
   ]
  },
  {
   "cell_type": "markdown",
   "metadata": {},
   "source": [
    "## Spans\n",
    "**# Exercise: experiment with Span"
   ]
  },
  {
   "cell_type": "code",
   "execution_count": 170,
   "metadata": {},
   "outputs": [
    {
     "data": {
      "text/html": [
       "\n",
       "\n",
       "\n",
       "\n",
       "\n",
       "\n",
       "  <div class=\"bk-root\" id=\"bf52f4a3-f487-4a7d-908e-627688687e5c\" data-root-id=\"64253\"></div>\n"
      ]
     },
     "metadata": {},
     "output_type": "display_data"
    },
    {
     "data": {
      "application/javascript": [
       "(function(root) {\n",
       "  function embed_document(root) {\n",
       "    \n",
       "  var docs_json = {\"2fd8353b-18f9-41ac-bdb1-f9d432315fb5\":{\"roots\":{\"references\":[{\"attributes\":{\"below\":[{\"id\":\"64262\",\"type\":\"LinearAxis\"}],\"center\":[{\"id\":\"64266\",\"type\":\"Grid\"},{\"id\":\"64271\",\"type\":\"Grid\"},{\"id\":\"64290\",\"type\":\"Span\"},{\"id\":\"64291\",\"type\":\"Span\"}],\"left\":[{\"id\":\"64267\",\"type\":\"LinearAxis\"}],\"renderers\":[{\"id\":\"64288\",\"type\":\"GlyphRenderer\"}],\"title\":{\"id\":\"65171\",\"type\":\"Title\"},\"toolbar\":{\"id\":\"64278\",\"type\":\"Toolbar\"},\"x_range\":{\"id\":\"64254\",\"type\":\"DataRange1d\"},\"x_scale\":{\"id\":\"64258\",\"type\":\"LinearScale\"},\"y_range\":{\"id\":\"64256\",\"type\":\"Range1d\"},\"y_scale\":{\"id\":\"64260\",\"type\":\"LinearScale\"}},\"id\":\"64253\",\"subtype\":\"Figure\",\"type\":\"Plot\"},{\"attributes\":{},\"id\":\"64273\",\"type\":\"WheelZoomTool\"},{\"attributes\":{},\"id\":\"64275\",\"type\":\"SaveTool\"},{\"attributes\":{\"formatter\":{\"id\":\"65173\",\"type\":\"BasicTickFormatter\"},\"ticker\":{\"id\":\"64263\",\"type\":\"BasicTicker\"}},\"id\":\"64262\",\"type\":\"LinearAxis\"},{\"attributes\":{\"text\":\"\"},\"id\":\"65171\",\"type\":\"Title\"},{\"attributes\":{\"overlay\":{\"id\":\"65176\",\"type\":\"BoxAnnotation\"}},\"id\":\"64274\",\"type\":\"BoxZoomTool\"},{\"attributes\":{},\"id\":\"65177\",\"type\":\"UnionRenderers\"},{\"attributes\":{\"data_source\":{\"id\":\"64285\",\"type\":\"ColumnDataSource\"},\"glyph\":{\"id\":\"64286\",\"type\":\"Line\"},\"hover_glyph\":null,\"muted_glyph\":null,\"nonselection_glyph\":{\"id\":\"64287\",\"type\":\"Line\"},\"selection_glyph\":null,\"view\":{\"id\":\"64289\",\"type\":\"CDSView\"}},\"id\":\"64288\",\"type\":\"GlyphRenderer\"},{\"attributes\":{},\"id\":\"64263\",\"type\":\"BasicTicker\"},{\"attributes\":{},\"id\":\"64276\",\"type\":\"ResetTool\"},{\"attributes\":{},\"id\":\"64277\",\"type\":\"HelpTool\"},{\"attributes\":{},\"id\":\"64272\",\"type\":\"PanTool\"},{\"attributes\":{\"line_alpha\":0.1,\"line_color\":\"#1f77b4\",\"x\":{\"field\":\"x\"},\"y\":{\"field\":\"y\"}},\"id\":\"64287\",\"type\":\"Line\"},{\"attributes\":{\"active_drag\":\"auto\",\"active_inspect\":\"auto\",\"active_multi\":null,\"active_scroll\":\"auto\",\"active_tap\":\"auto\",\"tools\":[{\"id\":\"64272\",\"type\":\"PanTool\"},{\"id\":\"64273\",\"type\":\"WheelZoomTool\"},{\"id\":\"64274\",\"type\":\"BoxZoomTool\"},{\"id\":\"64275\",\"type\":\"SaveTool\"},{\"id\":\"64276\",\"type\":\"ResetTool\"},{\"id\":\"64277\",\"type\":\"HelpTool\"}]},\"id\":\"64278\",\"type\":\"Toolbar\"},{\"attributes\":{},\"id\":\"65178\",\"type\":\"Selection\"},{\"attributes\":{\"ticker\":{\"id\":\"64263\",\"type\":\"BasicTicker\"}},\"id\":\"64266\",\"type\":\"Grid\"},{\"attributes\":{\"callback\":null,\"end\":2,\"start\":-2},\"id\":\"64256\",\"type\":\"Range1d\"},{\"attributes\":{},\"id\":\"65175\",\"type\":\"BasicTickFormatter\"},{\"attributes\":{\"source\":{\"id\":\"64285\",\"type\":\"ColumnDataSource\"}},\"id\":\"64289\",\"type\":\"CDSView\"},{\"attributes\":{},\"id\":\"64258\",\"type\":\"LinearScale\"},{\"attributes\":{\"callback\":null,\"data\":{\"x\":{\"__ndarray__\":\"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\",\"dtype\":\"float64\",\"shape\":[200]},\"y\":{\"__ndarray__\":\"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\",\"dtype\":\"float64\",\"shape\":[200]}},\"selected\":{\"id\":\"65178\",\"type\":\"Selection\"},\"selection_policy\":{\"id\":\"65177\",\"type\":\"UnionRenderers\"}},\"id\":\"64285\",\"type\":\"ColumnDataSource\"},{\"attributes\":{\"dimension\":1,\"ticker\":{\"id\":\"64268\",\"type\":\"BasicTicker\"}},\"id\":\"64271\",\"type\":\"Grid\"},{\"attributes\":{},\"id\":\"64260\",\"type\":\"LinearScale\"},{\"attributes\":{\"line_color\":\"#1f77b4\",\"x\":{\"field\":\"x\"},\"y\":{\"field\":\"y\"}},\"id\":\"64286\",\"type\":\"Line\"},{\"attributes\":{\"callback\":null},\"id\":\"64254\",\"type\":\"DataRange1d\"},{\"attributes\":{\"dimension\":\"height\",\"line_color\":{\"value\":\"olive\"},\"line_width\":{\"value\":4},\"location\":0},\"id\":\"64290\",\"type\":\"Span\"},{\"attributes\":{\"dimension\":\"height\",\"line_color\":{\"value\":\"firebrick\"},\"line_width\":{\"value\":4},\"location\":20},\"id\":\"64291\",\"type\":\"Span\"},{\"attributes\":{},\"id\":\"64268\",\"type\":\"BasicTicker\"},{\"attributes\":{},\"id\":\"65173\",\"type\":\"BasicTickFormatter\"},{\"attributes\":{\"formatter\":{\"id\":\"65175\",\"type\":\"BasicTickFormatter\"},\"ticker\":{\"id\":\"64268\",\"type\":\"BasicTicker\"}},\"id\":\"64267\",\"type\":\"LinearAxis\"},{\"attributes\":{\"bottom_units\":\"screen\",\"fill_alpha\":{\"value\":0.5},\"fill_color\":{\"value\":\"lightgrey\"},\"left_units\":\"screen\",\"level\":\"overlay\",\"line_alpha\":{\"value\":1.0},\"line_color\":{\"value\":\"black\"},\"line_dash\":[4,4],\"line_width\":{\"value\":2},\"render_mode\":\"css\",\"right_units\":\"screen\",\"top_units\":\"screen\"},\"id\":\"65176\",\"type\":\"BoxAnnotation\"}],\"root_ids\":[\"64253\"]},\"title\":\"Bokeh Application\",\"version\":\"1.2.0\"}};\n",
       "  var render_items = [{\"docid\":\"2fd8353b-18f9-41ac-bdb1-f9d432315fb5\",\"roots\":{\"64253\":\"bf52f4a3-f487-4a7d-908e-627688687e5c\"}}];\n",
       "  root.Bokeh.embed.embed_items_notebook(docs_json, render_items);\n",
       "\n",
       "  }\n",
       "  if (root.Bokeh !== undefined) {\n",
       "    embed_document(root);\n",
       "  } else {\n",
       "    var attempts = 0;\n",
       "    var timer = setInterval(function(root) {\n",
       "      if (root.Bokeh !== undefined) {\n",
       "        embed_document(root);\n",
       "        clearInterval(timer);\n",
       "      }\n",
       "      attempts++;\n",
       "      if (attempts > 100) {\n",
       "        console.log(\"Bokeh: ERROR: Unable to run BokehJS code because BokehJS library is missing\");\n",
       "        clearInterval(timer);\n",
       "      }\n",
       "    }, 10, root)\n",
       "  }\n",
       "})(window);"
      ],
      "application/vnd.bokehjs_exec.v0+json": ""
     },
     "metadata": {
      "application/vnd.bokehjs_exec.v0+json": {
       "id": "64253"
      }
     },
     "output_type": "display_data"
    }
   ],
   "source": [
    "import numpy as np\n",
    "from bokeh.models.annotations import Span\n",
    "\n",
    "x = np.linspace(0, 20, 200)\n",
    "y = np.sin(x)\n",
    "\n",
    "p = figure(y_range=(-2, 2))\n",
    "p.line(x, y)\n",
    "\n",
    "upper = Span(location=0, dimension='height', line_color='olive', line_width=4)\n",
    "p.add_layout(upper)\n",
    "\n",
    "lower = Span(location=20, dimension='height', line_color='firebrick', line_width=4)\n",
    "p.add_layout(lower)\n",
    "\n",
    "show(p)"
   ]
  },
  {
   "cell_type": "markdown",
   "metadata": {},
   "source": [
    "## Box Annotations\n",
    "** #Exercise: experiment with BoxAnnotation"
   ]
  },
  {
   "cell_type": "code",
   "execution_count": 162,
   "metadata": {},
   "outputs": [
    {
     "data": {
      "text/html": [
       "\n",
       "\n",
       "\n",
       "\n",
       "\n",
       "\n",
       "  <div class=\"bk-root\" id=\"f4a8c9da-f40f-47c0-8f54-84c3bdd4c719\" data-root-id=\"57939\"></div>\n"
      ]
     },
     "metadata": {},
     "output_type": "display_data"
    },
    {
     "data": {
      "application/javascript": [
       "(function(root) {\n",
       "  function embed_document(root) {\n",
       "    \n",
       "  var docs_json = {\"091d3881-6e67-4d57-9a22-886ba72dc979\":{\"roots\":{\"references\":[{\"attributes\":{\"below\":[{\"id\":\"57948\",\"type\":\"LinearAxis\"}],\"center\":[{\"id\":\"57952\",\"type\":\"Grid\"},{\"id\":\"57957\",\"type\":\"Grid\"},{\"id\":\"57976\",\"type\":\"BoxAnnotation\"},{\"id\":\"57977\",\"type\":\"BoxAnnotation\"},{\"id\":\"57978\",\"type\":\"BoxAnnotation\"}],\"left\":[{\"id\":\"57953\",\"type\":\"LinearAxis\"}],\"renderers\":[{\"id\":\"57974\",\"type\":\"GlyphRenderer\"}],\"title\":{\"id\":\"58804\",\"type\":\"Title\"},\"toolbar\":{\"id\":\"57964\",\"type\":\"Toolbar\"},\"x_range\":{\"id\":\"57940\",\"type\":\"DataRange1d\"},\"x_scale\":{\"id\":\"57944\",\"type\":\"LinearScale\"},\"y_range\":{\"id\":\"57942\",\"type\":\"Range1d\"},\"y_scale\":{\"id\":\"57946\",\"type\":\"LinearScale\"}},\"id\":\"57939\",\"subtype\":\"Figure\",\"type\":\"Plot\"},{\"attributes\":{\"formatter\":{\"id\":\"58808\",\"type\":\"BasicTickFormatter\"},\"ticker\":{\"id\":\"57954\",\"type\":\"BasicTicker\"}},\"id\":\"57953\",\"type\":\"LinearAxis\"},{\"attributes\":{},\"id\":\"57958\",\"type\":\"PanTool\"},{\"attributes\":{},\"id\":\"57944\",\"type\":\"LinearScale\"},{\"attributes\":{\"dimension\":1,\"ticker\":{\"id\":\"57954\",\"type\":\"BasicTicker\"}},\"id\":\"57957\",\"type\":\"Grid\"},{\"attributes\":{\"bottom\":1,\"fill_alpha\":{\"value\":0.1},\"fill_color\":{\"value\":\"olive\"}},\"id\":\"57976\",\"type\":\"BoxAnnotation\"},{\"attributes\":{},\"id\":\"58806\",\"type\":\"BasicTickFormatter\"},{\"attributes\":{\"line_color\":\"#1f77b4\",\"x\":{\"field\":\"x\"},\"y\":{\"field\":\"y\"}},\"id\":\"57972\",\"type\":\"Line\"},{\"attributes\":{\"text\":\"\"},\"id\":\"58804\",\"type\":\"Title\"},{\"attributes\":{\"source\":{\"id\":\"57971\",\"type\":\"ColumnDataSource\"}},\"id\":\"57975\",\"type\":\"CDSView\"},{\"attributes\":{\"overlay\":{\"id\":\"58809\",\"type\":\"BoxAnnotation\"}},\"id\":\"57960\",\"type\":\"BoxZoomTool\"},{\"attributes\":{\"data_source\":{\"id\":\"57971\",\"type\":\"ColumnDataSource\"},\"glyph\":{\"id\":\"57972\",\"type\":\"Line\"},\"hover_glyph\":null,\"muted_glyph\":null,\"nonselection_glyph\":{\"id\":\"57973\",\"type\":\"Line\"},\"selection_glyph\":null,\"view\":{\"id\":\"57975\",\"type\":\"CDSView\"}},\"id\":\"57974\",\"type\":\"GlyphRenderer\"},{\"attributes\":{\"callback\":null,\"end\":2,\"start\":-2},\"id\":\"57942\",\"type\":\"Range1d\"},{\"attributes\":{\"formatter\":{\"id\":\"58806\",\"type\":\"BasicTickFormatter\"},\"ticker\":{\"id\":\"57949\",\"type\":\"BasicTicker\"}},\"id\":\"57948\",\"type\":\"LinearAxis\"},{\"attributes\":{},\"id\":\"57961\",\"type\":\"SaveTool\"},{\"attributes\":{},\"id\":\"57959\",\"type\":\"WheelZoomTool\"},{\"attributes\":{\"active_drag\":\"auto\",\"active_inspect\":\"auto\",\"active_multi\":null,\"active_scroll\":\"auto\",\"active_tap\":\"auto\",\"tools\":[{\"id\":\"57958\",\"type\":\"PanTool\"},{\"id\":\"57959\",\"type\":\"WheelZoomTool\"},{\"id\":\"57960\",\"type\":\"BoxZoomTool\"},{\"id\":\"57961\",\"type\":\"SaveTool\"},{\"id\":\"57962\",\"type\":\"ResetTool\"},{\"id\":\"57963\",\"type\":\"HelpTool\"}]},\"id\":\"57964\",\"type\":\"Toolbar\"},{\"attributes\":{\"line_alpha\":0.1,\"line_color\":\"#1f77b4\",\"x\":{\"field\":\"x\"},\"y\":{\"field\":\"y\"}},\"id\":\"57973\",\"type\":\"Line\"},{\"attributes\":{},\"id\":\"57962\",\"type\":\"ResetTool\"},{\"attributes\":{},\"id\":\"57946\",\"type\":\"LinearScale\"},{\"attributes\":{},\"id\":\"57963\",\"type\":\"HelpTool\"},{\"attributes\":{},\"id\":\"57954\",\"type\":\"BasicTicker\"},{\"attributes\":{},\"id\":\"58811\",\"type\":\"Selection\"},{\"attributes\":{\"ticker\":{\"id\":\"57949\",\"type\":\"BasicTicker\"}},\"id\":\"57952\",\"type\":\"Grid\"},{\"attributes\":{},\"id\":\"58810\",\"type\":\"UnionRenderers\"},{\"attributes\":{\"fill_alpha\":{\"value\":0.1},\"fill_color\":{\"value\":\"firebrick\"},\"top\":-1},\"id\":\"57977\",\"type\":\"BoxAnnotation\"},{\"attributes\":{\"callback\":null,\"data\":{\"x\":{\"__ndarray__\":\"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\",\"dtype\":\"float64\",\"shape\":[200]},\"y\":{\"__ndarray__\":\"AAAAAAAAAADosPQ5c6+5PyTroQBFjsk/UqC71WQB0z/17xLajArZPwd+kHUC094/TRquW+ol4j+Qsd03cLPkP4RSVFt6C+c/hx87gPon6T9y6jY0fAPrPxWKSvAymew/1EXifgbl7T/00v+PnePuP2cCMmBmku8/BX79W53v7z+89Y+uUfrvP1Bu969nsu8/HyCWLJkY7z/TShqFcy7uP+010qtT9uw/RuW4CWBz6z9SkgFbgKnpPxbEKJhTnec/jlWcBSRU5T/D1tKI2dPiPwcgImbqIuA/7DyCHZWQ2j91bS5Us5bUP8f9CSNAz8w/TEI0yqomwD9+2y5b2KKaP6G5N7kdDbO/qeyAd9xIxr+BbUVyy2jRv7LmsAEugNe/sjpMD9la3b9bY21P1nThvydDKlMmD+S/9FywE6N15r+uX1v3GKLov69tz0/qjuq/iB5k3B037L8ze72ja5btv9HkXwNIqe6/Vi+r2Oxs779iZ5KrYN/vv+oNjMh7/++/7b2MPOvM77/uZ1arMUjvv3px8v2lcu6/lcC+7G9O7b8Gp/5tgt7rvzZ0UheUJuq//xvFhRUr6L9bLDnlJfHlvzwO2LSFfuO/xb2z6ofZ4L98BAA6AxLcvx2vM7ZwKNa/O6jwx54F0L+WakSqz3LDv3Q/vLKJoKq/muwql/bOqD9gXtmal//CPwD8eOZbms8/h2bB5rzx1T/22UzEmd3bP2NrhBG8wOA/aXq8zWJn4z9wNrW259vlP4ouB/LyF+g/rTlnjr4V6j/EpRZuJdDrP0Tez5GwQu0/a6/XoaJp7j+BjWWXAULvP1OJbG2eye8/q1vmxBr/7z96Bw1u7OHvP0NRYM1ecu8/yqPcGJKx7j88olpveKHtP5Y8m9HQROw/lET9CSCf6j/oHDGVp7ToP9tbZ6NaiuY/5spiTtEl5D9PWHglOo3hP7O6qGmUjt0/Mt+RYle21z8FVtXq1qDRPza3Pf+Vu8Y/FtCnJoX1sz9tSknzyv6Wv7gVLFIQZr+/VSqpT6ddzL89GzqQfl/Uv/Tv8qCGW9q/7IyG1boJ4L9J6+23Qrziv7mna+ZiPuW/VVgnX6CJ578Oh/HtDZjpv5aJI3xbZOu/IkqSyuPp7L8sTh1yuCTuvzOq1wusEe+/8RCNZlqu778DeG20Lvnvv53j6KBn8e+/AEAtRBmX77/9yTvvLOvuv0ooHNFe7+2/e51Cezmm7L/USL5QDxPrvwAOJvHxOem/MYpwtacf57/ZAeBZn8nkv0OL4fThPeK/q3VFvgYG379KzE5qIkDZv1SZjjwBOdO/Lf6gIGwAyr83SORDUJe6v79A3v+YIm2/n8805YDHuD/B9lOxCBzJP+y4q624ydI/p/+4h+LU2D9s8n2f5J/eP9JQLrfjDeI/QcLP7C+d5D8+KMPmOffmP7v8zDTuFek/n8L+stLz6j+DLE+wFIzsP22akmSV2u0/o0SilfTb7j/MUjFQmY3vP3QWx5247e8/TNCHJlr77z8eY9SyWrbvP68+R4ZsH+8/em4jkxU47j+auduKqwLtPwrA3NVNgus/fLsvgt266T89AM4987DnP072iXbTaeU/0Pg7vmDr4j9y+luWDDzgP7zPoJSNxdo/DLrpBtfN1D/1+5gUwUDNP+qf1AdAmsA/theArs9Gnj9aE9OApiSyv0nBo3YQ1sW/nmgvi7Ew0b+DIp0l8UnXv81CZV8FJ92/jbzgAGRc4b+9mha3avjjvxDluuXYYOa/z/f97XWP6L+iqpKRnn7qv/I9eINTKey/gKwzUUaL7b/H7xyD5KDuv/5MAddgZ++/kIRCfbrc779mI79Fwv/vvxvnJK8d0O+/7mfF0EdO778p55AckHvuv1XmbPwWWu2/M6elU8js67+UlKzyUzfqv3bLoxAkPui/gstS41EG5r8KmPxymJXjv4+oH8xF8uC/BHTAalVG3L9lymUnEl/Wv0AEjFQCPtC/k7Ftmvflw79e36K7BnKsv1/D4OpO/aY/h7uvy0+Mwj+mLHIKYCnPP22ZZ+b2utU/7IwZNRmp2z841R9V4qfgP5m819AvUOM/yPhiaZfG5T//wUZlvAToP1hY32XTBOo/cb3VX7HB6z/gPF312DbtPw==\",\"dtype\":\"float64\",\"shape\":[200]}},\"selected\":{\"id\":\"58811\",\"type\":\"Selection\"},\"selection_policy\":{\"id\":\"58810\",\"type\":\"UnionRenderers\"}},\"id\":\"57971\",\"type\":\"ColumnDataSource\"},{\"attributes\":{\"bottom\":-0.8,\"fill_alpha\":{\"value\":0.1},\"fill_color\":{\"value\":\"navy\"},\"left\":7,\"right\":12,\"top\":0.9},\"id\":\"57978\",\"type\":\"BoxAnnotation\"},{\"attributes\":{},\"id\":\"57949\",\"type\":\"BasicTicker\"},{\"attributes\":{\"bottom_units\":\"screen\",\"fill_alpha\":{\"value\":0.5},\"fill_color\":{\"value\":\"lightgrey\"},\"left_units\":\"screen\",\"level\":\"overlay\",\"line_alpha\":{\"value\":1.0},\"line_color\":{\"value\":\"black\"},\"line_dash\":[4,4],\"line_width\":{\"value\":2},\"render_mode\":\"css\",\"right_units\":\"screen\",\"top_units\":\"screen\"},\"id\":\"58809\",\"type\":\"BoxAnnotation\"},{\"attributes\":{},\"id\":\"58808\",\"type\":\"BasicTickFormatter\"},{\"attributes\":{\"callback\":null},\"id\":\"57940\",\"type\":\"DataRange1d\"}],\"root_ids\":[\"57939\"]},\"title\":\"Bokeh Application\",\"version\":\"1.2.0\"}};\n",
       "  var render_items = [{\"docid\":\"091d3881-6e67-4d57-9a22-886ba72dc979\",\"roots\":{\"57939\":\"f4a8c9da-f40f-47c0-8f54-84c3bdd4c719\"}}];\n",
       "  root.Bokeh.embed.embed_items_notebook(docs_json, render_items);\n",
       "\n",
       "  }\n",
       "  if (root.Bokeh !== undefined) {\n",
       "    embed_document(root);\n",
       "  } else {\n",
       "    var attempts = 0;\n",
       "    var timer = setInterval(function(root) {\n",
       "      if (root.Bokeh !== undefined) {\n",
       "        embed_document(root);\n",
       "        clearInterval(timer);\n",
       "      }\n",
       "      attempts++;\n",
       "      if (attempts > 100) {\n",
       "        console.log(\"Bokeh: ERROR: Unable to run BokehJS code because BokehJS library is missing\");\n",
       "        clearInterval(timer);\n",
       "      }\n",
       "    }, 10, root)\n",
       "  }\n",
       "})(window);"
      ],
      "application/vnd.bokehjs_exec.v0+json": ""
     },
     "metadata": {
      "application/vnd.bokehjs_exec.v0+json": {
       "id": "57939"
      }
     },
     "output_type": "display_data"
    }
   ],
   "source": [
    "import numpy as np\n",
    "from bokeh.models.annotations import BoxAnnotation\n",
    "\n",
    "x = np.linspace(0, 20, 200)\n",
    "y = np.sin(x)\n",
    "\n",
    "p = figure(y_range=(-2, 2))\n",
    "p.line(x, y)\n",
    "\n",
    "# region that always fills the top of the plot\n",
    "upper = BoxAnnotation(bottom=1, fill_alpha=0.1, fill_color='olive')\n",
    "p.add_layout(upper)\n",
    "\n",
    "# region that always fills the bottom of the plot\n",
    "lower = BoxAnnotation(top=-1, fill_alpha=0.1, fill_color='firebrick')\n",
    "p.add_layout(lower)\n",
    "\n",
    "# a finite region\n",
    "center = BoxAnnotation(top=0.9, bottom=-0.8, left=7, right=12, fill_alpha=0.1, fill_color='navy')\n",
    "p.add_layout(center)\n",
    "\n",
    "show(p)\n"
   ]
  },
  {
   "cell_type": "markdown",
   "metadata": {},
   "source": [
    "## Label\n",
    "\n",
    "**# EXERCISE: experiment with Label"
   ]
  },
  {
   "cell_type": "code",
   "execution_count": 164,
   "metadata": {},
   "outputs": [
    {
     "data": {
      "text/html": [
       "\n",
       "\n",
       "\n",
       "\n",
       "\n",
       "\n",
       "  <div class=\"bk-root\" id=\"24bd3a7f-0869-4b01-b553-350a85ad9756\" data-root-id=\"59982\"></div>\n"
      ]
     },
     "metadata": {},
     "output_type": "display_data"
    },
    {
     "data": {
      "application/javascript": [
       "(function(root) {\n",
       "  function embed_document(root) {\n",
       "    \n",
       "  var docs_json = {\"5b1a5a55-0ff2-4151-998b-e661dbd185a8\":{\"roots\":{\"references\":[{\"attributes\":{\"below\":[{\"id\":\"59991\",\"type\":\"LinearAxis\"}],\"center\":[{\"id\":\"59995\",\"type\":\"Grid\"},{\"id\":\"60000\",\"type\":\"Grid\"},{\"id\":\"60019\",\"type\":\"Label\"},{\"id\":\"60020\",\"type\":\"Label\"}],\"left\":[{\"id\":\"59996\",\"type\":\"LinearAxis\"}],\"renderers\":[{\"id\":\"60017\",\"type\":\"GlyphRenderer\"}],\"title\":{\"id\":\"60864\",\"type\":\"Title\"},\"toolbar\":{\"id\":\"60007\",\"type\":\"Toolbar\"},\"x_range\":{\"id\":\"59983\",\"type\":\"Range1d\"},\"x_scale\":{\"id\":\"59987\",\"type\":\"LinearScale\"},\"y_range\":{\"id\":\"59985\",\"type\":\"Range1d\"},\"y_scale\":{\"id\":\"59989\",\"type\":\"LinearScale\"}},\"id\":\"59982\",\"subtype\":\"Figure\",\"type\":\"Plot\"},{\"attributes\":{},\"id\":\"60002\",\"type\":\"WheelZoomTool\"},{\"attributes\":{},\"id\":\"60866\",\"type\":\"BasicTickFormatter\"},{\"attributes\":{\"source\":{\"id\":\"60014\",\"type\":\"ColumnDataSource\"}},\"id\":\"60018\",\"type\":\"CDSView\"},{\"attributes\":{\"callback\":null,\"end\":10},\"id\":\"59983\",\"type\":\"Range1d\"},{\"attributes\":{\"ticker\":{\"id\":\"59992\",\"type\":\"BasicTicker\"}},\"id\":\"59995\",\"type\":\"Grid\"},{\"attributes\":{\"text\":\"Third Point\",\"text_baseline\":\"middle\",\"x\":8,\"x_offset\":12,\"y\":6},\"id\":\"60020\",\"type\":\"Label\"},{\"attributes\":{\"callback\":null,\"end\":10},\"id\":\"59985\",\"type\":\"Range1d\"},{\"attributes\":{\"formatter\":{\"id\":\"60868\",\"type\":\"BasicTickFormatter\"},\"ticker\":{\"id\":\"59997\",\"type\":\"BasicTicker\"}},\"id\":\"59996\",\"type\":\"LinearAxis\"},{\"attributes\":{\"bottom_units\":\"screen\",\"fill_alpha\":{\"value\":0.5},\"fill_color\":{\"value\":\"lightgrey\"},\"left_units\":\"screen\",\"level\":\"overlay\",\"line_alpha\":{\"value\":1.0},\"line_color\":{\"value\":\"black\"},\"line_dash\":[4,4],\"line_width\":{\"value\":2},\"render_mode\":\"css\",\"right_units\":\"screen\",\"top_units\":\"screen\"},\"id\":\"60869\",\"type\":\"BoxAnnotation\"},{\"attributes\":{},\"id\":\"59992\",\"type\":\"BasicTicker\"},{\"attributes\":{},\"id\":\"60868\",\"type\":\"BasicTickFormatter\"},{\"attributes\":{\"dimension\":1,\"ticker\":{\"id\":\"59997\",\"type\":\"BasicTicker\"}},\"id\":\"60000\",\"type\":\"Grid\"},{\"attributes\":{\"callback\":null,\"data\":{\"x\":[2,5,8],\"y\":[4,7,6]},\"selected\":{\"id\":\"60871\",\"type\":\"Selection\"},\"selection_policy\":{\"id\":\"60870\",\"type\":\"UnionRenderers\"}},\"id\":\"60014\",\"type\":\"ColumnDataSource\"},{\"attributes\":{},\"id\":\"60001\",\"type\":\"PanTool\"},{\"attributes\":{\"fill_alpha\":{\"value\":0.1},\"fill_color\":{\"value\":\"#1f77b4\"},\"line_alpha\":{\"value\":0.1},\"line_color\":{\"value\":\"#1f77b4\"},\"size\":{\"units\":\"screen\",\"value\":10},\"x\":{\"field\":\"x\"},\"y\":{\"field\":\"y\"}},\"id\":\"60016\",\"type\":\"Circle\"},{\"attributes\":{},\"id\":\"60005\",\"type\":\"ResetTool\"},{\"attributes\":{\"overlay\":{\"id\":\"60869\",\"type\":\"BoxAnnotation\"}},\"id\":\"60003\",\"type\":\"BoxZoomTool\"},{\"attributes\":{\"data_source\":{\"id\":\"60014\",\"type\":\"ColumnDataSource\"},\"glyph\":{\"id\":\"60015\",\"type\":\"Circle\"},\"hover_glyph\":null,\"muted_glyph\":null,\"nonselection_glyph\":{\"id\":\"60016\",\"type\":\"Circle\"},\"selection_glyph\":null,\"view\":{\"id\":\"60018\",\"type\":\"CDSView\"}},\"id\":\"60017\",\"type\":\"GlyphRenderer\"},{\"attributes\":{},\"id\":\"59989\",\"type\":\"LinearScale\"},{\"attributes\":{\"text\":\"Second Point\",\"text_baseline\":\"middle\",\"x\":5,\"x_offset\":12,\"y\":7},\"id\":\"60019\",\"type\":\"Label\"},{\"attributes\":{},\"id\":\"59987\",\"type\":\"LinearScale\"},{\"attributes\":{\"fill_color\":{\"value\":\"olive\"},\"line_color\":{\"value\":\"olive\"},\"size\":{\"units\":\"screen\",\"value\":10},\"x\":{\"field\":\"x\"},\"y\":{\"field\":\"y\"}},\"id\":\"60015\",\"type\":\"Circle\"},{\"attributes\":{\"active_drag\":\"auto\",\"active_inspect\":\"auto\",\"active_multi\":null,\"active_scroll\":\"auto\",\"active_tap\":\"auto\",\"tools\":[{\"id\":\"60001\",\"type\":\"PanTool\"},{\"id\":\"60002\",\"type\":\"WheelZoomTool\"},{\"id\":\"60003\",\"type\":\"BoxZoomTool\"},{\"id\":\"60004\",\"type\":\"SaveTool\"},{\"id\":\"60005\",\"type\":\"ResetTool\"},{\"id\":\"60006\",\"type\":\"HelpTool\"}]},\"id\":\"60007\",\"type\":\"Toolbar\"},{\"attributes\":{},\"id\":\"59997\",\"type\":\"BasicTicker\"},{\"attributes\":{},\"id\":\"60870\",\"type\":\"UnionRenderers\"},{\"attributes\":{\"text\":\"\"},\"id\":\"60864\",\"type\":\"Title\"},{\"attributes\":{\"formatter\":{\"id\":\"60866\",\"type\":\"BasicTickFormatter\"},\"ticker\":{\"id\":\"59992\",\"type\":\"BasicTicker\"}},\"id\":\"59991\",\"type\":\"LinearAxis\"},{\"attributes\":{},\"id\":\"60006\",\"type\":\"HelpTool\"},{\"attributes\":{},\"id\":\"60871\",\"type\":\"Selection\"},{\"attributes\":{},\"id\":\"60004\",\"type\":\"SaveTool\"}],\"root_ids\":[\"59982\"]},\"title\":\"Bokeh Application\",\"version\":\"1.2.0\"}};\n",
       "  var render_items = [{\"docid\":\"5b1a5a55-0ff2-4151-998b-e661dbd185a8\",\"roots\":{\"59982\":\"24bd3a7f-0869-4b01-b553-350a85ad9756\"}}];\n",
       "  root.Bokeh.embed.embed_items_notebook(docs_json, render_items);\n",
       "\n",
       "  }\n",
       "  if (root.Bokeh !== undefined) {\n",
       "    embed_document(root);\n",
       "  } else {\n",
       "    var attempts = 0;\n",
       "    var timer = setInterval(function(root) {\n",
       "      if (root.Bokeh !== undefined) {\n",
       "        embed_document(root);\n",
       "        clearInterval(timer);\n",
       "      }\n",
       "      attempts++;\n",
       "      if (attempts > 100) {\n",
       "        console.log(\"Bokeh: ERROR: Unable to run BokehJS code because BokehJS library is missing\");\n",
       "        clearInterval(timer);\n",
       "      }\n",
       "    }, 10, root)\n",
       "  }\n",
       "})(window);"
      ],
      "application/vnd.bokehjs_exec.v0+json": ""
     },
     "metadata": {
      "application/vnd.bokehjs_exec.v0+json": {
       "id": "59982"
      }
     },
     "output_type": "display_data"
    }
   ],
   "source": [
    "from bokeh.models.annotations import Label\n",
    "from bokeh.plotting import figure\n",
    "\n",
    "p = figure(x_range=(0,10), y_range=(0,10))\n",
    "p.circle([2, 5, 8], [4, 7, 6], color=\"olive\", size=10)\n",
    "\n",
    "label = Label(x=5, y=7, x_offset=12, text=\"Second Point\", text_baseline=\"middle\")\n",
    "p.add_layout(label)\n",
    "\n",
    "label2 = Label(x=8, y=6, x_offset=12, text=\"Third Point\", text_baseline=\"middle\")\n",
    "p.add_layout(label2)\n",
    "\n",
    "show(p)"
   ]
  },
  {
   "cell_type": "markdown",
   "metadata": {},
   "source": [
    "## LabelSet\n",
    "**# EXERCISE: experiment with LabelSet"
   ]
  },
  {
   "cell_type": "code",
   "execution_count": 171,
   "metadata": {},
   "outputs": [
    {
     "data": {
      "text/html": [
       "\n",
       "\n",
       "\n",
       "\n",
       "\n",
       "\n",
       "  <div class=\"bk-root\" id=\"067c36da-50a5-4336-b6d8-6ab9ee44f5ae\" data-root-id=\"65325\"></div>\n"
      ]
     },
     "metadata": {},
     "output_type": "display_data"
    },
    {
     "data": {
      "application/javascript": [
       "(function(root) {\n",
       "  function embed_document(root) {\n",
       "    \n",
       "  var docs_json = {\"d2178334-84ba-40cf-ac62-fbf9789a559f\":{\"roots\":{\"references\":[{\"attributes\":{\"below\":[{\"id\":\"65334\",\"type\":\"LinearAxis\"}],\"center\":[{\"id\":\"65338\",\"type\":\"Grid\"},{\"id\":\"65343\",\"type\":\"Grid\"},{\"id\":\"65362\",\"type\":\"LabelSet\"}],\"left\":[{\"id\":\"65339\",\"type\":\"LinearAxis\"}],\"renderers\":[{\"id\":\"65360\",\"type\":\"GlyphRenderer\"}],\"title\":{\"id\":\"66252\",\"type\":\"Title\"},\"toolbar\":{\"id\":\"65350\",\"type\":\"Toolbar\"},\"x_range\":{\"id\":\"65326\",\"type\":\"Range1d\"},\"x_scale\":{\"id\":\"65330\",\"type\":\"LinearScale\"},\"y_range\":{\"id\":\"65328\",\"type\":\"DataRange1d\"},\"y_scale\":{\"id\":\"65332\",\"type\":\"LinearScale\"}},\"id\":\"65325\",\"subtype\":\"Figure\",\"type\":\"Plot\"},{\"attributes\":{\"callback\":null,\"end\":175,\"start\":160},\"id\":\"65326\",\"type\":\"Range1d\"},{\"attributes\":{},\"id\":\"65332\",\"type\":\"LinearScale\"},{\"attributes\":{\"axis_label\":\"Temperature (C)\",\"formatter\":{\"id\":\"66254\",\"type\":\"BasicTickFormatter\"},\"ticker\":{\"id\":\"65335\",\"type\":\"BasicTicker\"}},\"id\":\"65334\",\"type\":\"LinearAxis\"},{\"attributes\":{},\"id\":\"65344\",\"type\":\"PanTool\"},{\"attributes\":{\"level\":\"glyph\",\"source\":{\"id\":\"65324\",\"type\":\"ColumnDataSource\"},\"text\":{\"field\":\"names\"},\"x\":{\"field\":\"temp\"},\"x_offset\":{\"value\":5},\"y\":{\"field\":\"pressure\"},\"y_offset\":{\"value\":5}},\"id\":\"65362\",\"type\":\"LabelSet\"},{\"attributes\":{\"fill_color\":{\"value\":\"#1f77b4\"},\"line_color\":{\"value\":\"#1f77b4\"},\"size\":{\"units\":\"screen\",\"value\":8},\"x\":{\"field\":\"temp\"},\"y\":{\"field\":\"pressure\"}},\"id\":\"65358\",\"type\":\"Scatter\"},{\"attributes\":{\"ticker\":{\"id\":\"65335\",\"type\":\"BasicTicker\"}},\"id\":\"65338\",\"type\":\"Grid\"},{\"attributes\":{},\"id\":\"65335\",\"type\":\"BasicTicker\"},{\"attributes\":{\"axis_label\":\"Pressure (lbs)\",\"formatter\":{\"id\":\"66256\",\"type\":\"BasicTickFormatter\"},\"ticker\":{\"id\":\"65340\",\"type\":\"BasicTicker\"}},\"id\":\"65339\",\"type\":\"LinearAxis\"},{\"attributes\":{\"overlay\":{\"id\":\"66257\",\"type\":\"BoxAnnotation\"}},\"id\":\"65346\",\"type\":\"BoxZoomTool\"},{\"attributes\":{\"active_drag\":\"auto\",\"active_inspect\":\"auto\",\"active_multi\":null,\"active_scroll\":\"auto\",\"active_tap\":\"auto\",\"tools\":[{\"id\":\"65344\",\"type\":\"PanTool\"},{\"id\":\"65345\",\"type\":\"WheelZoomTool\"},{\"id\":\"65346\",\"type\":\"BoxZoomTool\"},{\"id\":\"65347\",\"type\":\"SaveTool\"},{\"id\":\"65348\",\"type\":\"ResetTool\"},{\"id\":\"65349\",\"type\":\"HelpTool\"}]},\"id\":\"65350\",\"type\":\"Toolbar\"},{\"attributes\":{},\"id\":\"65349\",\"type\":\"HelpTool\"},{\"attributes\":{},\"id\":\"65340\",\"type\":\"BasicTicker\"},{\"attributes\":{},\"id\":\"66254\",\"type\":\"BasicTickFormatter\"},{\"attributes\":{},\"id\":\"65347\",\"type\":\"SaveTool\"},{\"attributes\":{},\"id\":\"65345\",\"type\":\"WheelZoomTool\"},{\"attributes\":{\"fill_alpha\":{\"value\":0.1},\"fill_color\":{\"value\":\"#1f77b4\"},\"line_alpha\":{\"value\":0.1},\"line_color\":{\"value\":\"#1f77b4\"},\"size\":{\"units\":\"screen\",\"value\":8},\"x\":{\"field\":\"temp\"},\"y\":{\"field\":\"pressure\"}},\"id\":\"65359\",\"type\":\"Scatter\"},{\"attributes\":{\"source\":{\"id\":\"65324\",\"type\":\"ColumnDataSource\"}},\"id\":\"65361\",\"type\":\"CDSView\"},{\"attributes\":{\"data_source\":{\"id\":\"65324\",\"type\":\"ColumnDataSource\"},\"glyph\":{\"id\":\"65358\",\"type\":\"Scatter\"},\"hover_glyph\":null,\"muted_glyph\":null,\"nonselection_glyph\":{\"id\":\"65359\",\"type\":\"Scatter\"},\"selection_glyph\":null,\"view\":{\"id\":\"65361\",\"type\":\"CDSView\"}},\"id\":\"65360\",\"type\":\"GlyphRenderer\"},{\"attributes\":{},\"id\":\"65330\",\"type\":\"LinearScale\"},{\"attributes\":{\"callback\":null,\"data\":{\"names\":[\"A\",\"B\",\"C\",\"D\",\"E\",\"F\"],\"pressure\":[165,189,220,141,260,174],\"temp\":[166,171,172,168,174,162]},\"selected\":{\"id\":\"66259\",\"type\":\"Selection\"},\"selection_policy\":{\"id\":\"66258\",\"type\":\"UnionRenderers\"}},\"id\":\"65324\",\"type\":\"ColumnDataSource\"},{\"attributes\":{},\"id\":\"66259\",\"type\":\"Selection\"},{\"attributes\":{\"text\":\"\"},\"id\":\"66252\",\"type\":\"Title\"},{\"attributes\":{},\"id\":\"66256\",\"type\":\"BasicTickFormatter\"},{\"attributes\":{\"callback\":null},\"id\":\"65328\",\"type\":\"DataRange1d\"},{\"attributes\":{\"dimension\":1,\"ticker\":{\"id\":\"65340\",\"type\":\"BasicTicker\"}},\"id\":\"65343\",\"type\":\"Grid\"},{\"attributes\":{\"bottom_units\":\"screen\",\"fill_alpha\":{\"value\":0.5},\"fill_color\":{\"value\":\"lightgrey\"},\"left_units\":\"screen\",\"level\":\"overlay\",\"line_alpha\":{\"value\":1.0},\"line_color\":{\"value\":\"black\"},\"line_dash\":[4,4],\"line_width\":{\"value\":2},\"render_mode\":\"css\",\"right_units\":\"screen\",\"top_units\":\"screen\"},\"id\":\"66257\",\"type\":\"BoxAnnotation\"},{\"attributes\":{},\"id\":\"65348\",\"type\":\"ResetTool\"},{\"attributes\":{},\"id\":\"66258\",\"type\":\"UnionRenderers\"}],\"root_ids\":[\"65325\"]},\"title\":\"Bokeh Application\",\"version\":\"1.2.0\"}};\n",
       "  var render_items = [{\"docid\":\"d2178334-84ba-40cf-ac62-fbf9789a559f\",\"roots\":{\"65325\":\"067c36da-50a5-4336-b6d8-6ab9ee44f5ae\"}}];\n",
       "  root.Bokeh.embed.embed_items_notebook(docs_json, render_items);\n",
       "\n",
       "  }\n",
       "  if (root.Bokeh !== undefined) {\n",
       "    embed_document(root);\n",
       "  } else {\n",
       "    var attempts = 0;\n",
       "    var timer = setInterval(function(root) {\n",
       "      if (root.Bokeh !== undefined) {\n",
       "        embed_document(root);\n",
       "        clearInterval(timer);\n",
       "      }\n",
       "      attempts++;\n",
       "      if (attempts > 100) {\n",
       "        console.log(\"Bokeh: ERROR: Unable to run BokehJS code because BokehJS library is missing\");\n",
       "        clearInterval(timer);\n",
       "      }\n",
       "    }, 10, root)\n",
       "  }\n",
       "})(window);"
      ],
      "application/vnd.bokehjs_exec.v0+json": ""
     },
     "metadata": {
      "application/vnd.bokehjs_exec.v0+json": {
       "id": "65325"
      }
     },
     "output_type": "display_data"
    }
   ],
   "source": [
    "from bokeh.plotting import figure\n",
    "from bokeh.models import ColumnDataSource, LabelSet\n",
    "\n",
    "\n",
    "source = ColumnDataSource(data=dict(\n",
    "    temp=[166, 171, 172, 168, 174, 162],\n",
    "    pressure=[165, 189, 220, 141, 260, 174],\n",
    "    names=['A', 'B', 'C', 'D', 'E', 'F']))\n",
    "\n",
    "p = figure(x_range=(160, 175))\n",
    "p.scatter(x='temp', y='pressure', size=8, source=source)\n",
    "p.xaxis.axis_label = 'Temperature (C)'\n",
    "p.yaxis.axis_label = 'Pressure (lbs)'\n",
    "\n",
    "labels = LabelSet(x='temp', y='pressure', text='names', level='glyph',\n",
    "                  x_offset=5, y_offset=5, source=source, render_mode='canvas')\n",
    "\n",
    "\n",
    "p.add_layout(labels)\n",
    "\n",
    "show(p)\n"
   ]
  },
  {
   "cell_type": "markdown",
   "metadata": {},
   "source": [
    "##Arrows\n",
    "**# EXERCISE: experiment with arrows and arrow heads"
   ]
  },
  {
   "cell_type": "code",
   "execution_count": 183,
   "metadata": {},
   "outputs": [
    {
     "data": {
      "text/html": [
       "\n",
       "\n",
       "\n",
       "\n",
       "\n",
       "\n",
       "  <div class=\"bk-root\" id=\"434ec0ee-bcb0-4a1a-8810-9f3058ac3560\" data-root-id=\"77770\"></div>\n"
      ]
     },
     "metadata": {},
     "output_type": "display_data"
    },
    {
     "data": {
      "application/javascript": [
       "(function(root) {\n",
       "  function embed_document(root) {\n",
       "    \n",
       "  var docs_json = {\"294b50ce-781c-4504-9caf-380a3fdf57a8\":{\"roots\":{\"references\":[{\"attributes\":{\"below\":[{\"id\":\"77779\",\"type\":\"LinearAxis\"}],\"center\":[{\"id\":\"77783\",\"type\":\"Grid\"},{\"id\":\"77788\",\"type\":\"Grid\"},{\"id\":\"77808\",\"type\":\"Arrow\"},{\"id\":\"77811\",\"type\":\"Arrow\"},{\"id\":\"77814\",\"type\":\"Arrow\"}],\"left\":[{\"id\":\"77784\",\"type\":\"LinearAxis\"}],\"renderers\":[{\"id\":\"77805\",\"type\":\"GlyphRenderer\"}],\"title\":{\"id\":\"78803\",\"type\":\"Title\"},\"toolbar\":{\"id\":\"77795\",\"type\":\"Toolbar\"},\"x_range\":{\"id\":\"77771\",\"type\":\"DataRange1d\"},\"x_scale\":{\"id\":\"77775\",\"type\":\"LinearScale\"},\"y_range\":{\"id\":\"77773\",\"type\":\"DataRange1d\"},\"y_scale\":{\"id\":\"77777\",\"type\":\"LinearScale\"}},\"id\":\"77770\",\"subtype\":\"Figure\",\"type\":\"Plot\"},{\"attributes\":{\"dimension\":1,\"ticker\":{\"id\":\"77785\",\"type\":\"BasicTicker\"}},\"id\":\"77788\",\"type\":\"Grid\"},{\"attributes\":{},\"id\":\"77777\",\"type\":\"LinearScale\"},{\"attributes\":{\"end\":{\"id\":\"77813\",\"type\":\"VeeHead\"},\"line_color\":{\"value\":\"red\"},\"source\":null,\"start\":null,\"x_end\":{\"value\":0},\"x_start\":{\"value\":0.5},\"y_end\":{\"value\":0},\"y_start\":{\"value\":0.7}},\"id\":\"77814\",\"type\":\"Arrow\"},{\"attributes\":{},\"id\":\"77794\",\"type\":\"HelpTool\"},{\"attributes\":{},\"id\":\"77780\",\"type\":\"BasicTicker\"},{\"attributes\":{},\"id\":\"77793\",\"type\":\"ResetTool\"},{\"attributes\":{\"callback\":null},\"id\":\"77773\",\"type\":\"DataRange1d\"},{\"attributes\":{\"callback\":null,\"data\":{\"fill_color\":[\"navy\",\"yellow\",\"red\"],\"line_color\":[\"navy\",\"yellow\",\"red\"],\"x\":[0,1,0.5],\"y\":[0,0,0.7]},\"selected\":{\"id\":\"78810\",\"type\":\"Selection\"},\"selection_policy\":{\"id\":\"78809\",\"type\":\"UnionRenderers\"}},\"id\":\"77802\",\"type\":\"ColumnDataSource\"},{\"attributes\":{\"data_source\":{\"id\":\"77802\",\"type\":\"ColumnDataSource\"},\"glyph\":{\"id\":\"77803\",\"type\":\"Circle\"},\"hover_glyph\":null,\"muted_glyph\":null,\"nonselection_glyph\":{\"id\":\"77804\",\"type\":\"Circle\"},\"selection_glyph\":null,\"view\":{\"id\":\"77806\",\"type\":\"CDSView\"}},\"id\":\"77805\",\"type\":\"GlyphRenderer\"},{\"attributes\":{\"active_drag\":\"auto\",\"active_inspect\":\"auto\",\"active_multi\":null,\"active_scroll\":\"auto\",\"active_tap\":\"auto\",\"tools\":[{\"id\":\"77789\",\"type\":\"PanTool\"},{\"id\":\"77790\",\"type\":\"WheelZoomTool\"},{\"id\":\"77791\",\"type\":\"BoxZoomTool\"},{\"id\":\"77792\",\"type\":\"SaveTool\"},{\"id\":\"77793\",\"type\":\"ResetTool\"},{\"id\":\"77794\",\"type\":\"HelpTool\"}]},\"id\":\"77795\",\"type\":\"Toolbar\"},{\"attributes\":{\"end\":{\"id\":\"77807\",\"type\":\"VeeHead\"},\"source\":null,\"start\":null,\"x_end\":{\"value\":0.5},\"x_start\":{\"value\":1},\"y_end\":{\"value\":0.3},\"y_start\":{\"value\":0}},\"id\":\"77808\",\"type\":\"Arrow\"},{\"attributes\":{\"callback\":null},\"id\":\"77771\",\"type\":\"DataRange1d\"},{\"attributes\":{\"source\":{\"id\":\"77802\",\"type\":\"ColumnDataSource\"}},\"id\":\"77806\",\"type\":\"CDSView\"},{\"attributes\":{\"line_color\":{\"value\":\"firebrick\"},\"line_width\":{\"value\":4}},\"id\":\"77807\",\"type\":\"VeeHead\"},{\"attributes\":{},\"id\":\"78809\",\"type\":\"UnionRenderers\"},{\"attributes\":{\"overlay\":{\"id\":\"78808\",\"type\":\"BoxAnnotation\"}},\"id\":\"77791\",\"type\":\"BoxZoomTool\"},{\"attributes\":{},\"id\":\"77792\",\"type\":\"SaveTool\"},{\"attributes\":{\"text\":\"\"},\"id\":\"78803\",\"type\":\"Title\"},{\"attributes\":{\"formatter\":{\"id\":\"78807\",\"type\":\"BasicTickFormatter\"},\"ticker\":{\"id\":\"77785\",\"type\":\"BasicTicker\"}},\"id\":\"77784\",\"type\":\"LinearAxis\"},{\"attributes\":{},\"id\":\"78810\",\"type\":\"Selection\"},{\"attributes\":{},\"id\":\"77789\",\"type\":\"PanTool\"},{\"attributes\":{\"ticker\":{\"id\":\"77780\",\"type\":\"BasicTicker\"}},\"id\":\"77783\",\"type\":\"Grid\"},{\"attributes\":{\"fill_alpha\":{\"value\":0.1},\"fill_color\":{\"field\":\"fill_color\"},\"line_color\":{\"field\":\"line_color\"},\"radius\":{\"units\":\"data\",\"value\":0.1},\"x\":{\"field\":\"x\"},\"y\":{\"field\":\"y\"}},\"id\":\"77803\",\"type\":\"Circle\"},{\"attributes\":{},\"id\":\"77790\",\"type\":\"WheelZoomTool\"},{\"attributes\":{},\"id\":\"78807\",\"type\":\"BasicTickFormatter\"},{\"attributes\":{\"fill_color\":{\"value\":\"orange\"}},\"id\":\"77810\",\"type\":\"VeeHead\"},{\"attributes\":{\"fill_alpha\":{\"value\":0.1},\"fill_color\":{\"value\":\"#1f77b4\"},\"line_alpha\":{\"value\":0.1},\"line_color\":{\"value\":\"#1f77b4\"},\"radius\":{\"units\":\"data\",\"value\":0.1},\"x\":{\"field\":\"x\"},\"y\":{\"field\":\"y\"}},\"id\":\"77804\",\"type\":\"Circle\"},{\"attributes\":{\"end\":{\"id\":\"77810\",\"type\":\"VeeHead\"},\"source\":null,\"start\":null,\"x_end\":{\"value\":0.5},\"x_start\":{\"value\":1},\"y_end\":{\"value\":0.7},\"y_start\":{\"value\":0.4}},\"id\":\"77811\",\"type\":\"Arrow\"},{\"attributes\":{\"formatter\":{\"id\":\"78805\",\"type\":\"BasicTickFormatter\"},\"ticker\":{\"id\":\"77780\",\"type\":\"BasicTicker\"}},\"id\":\"77779\",\"type\":\"LinearAxis\"},{\"attributes\":{\"bottom_units\":\"screen\",\"fill_alpha\":{\"value\":0.5},\"fill_color\":{\"value\":\"lightgrey\"},\"left_units\":\"screen\",\"level\":\"overlay\",\"line_alpha\":{\"value\":1.0},\"line_color\":{\"value\":\"black\"},\"line_dash\":[4,4],\"line_width\":{\"value\":2},\"render_mode\":\"css\",\"right_units\":\"screen\",\"top_units\":\"screen\"},\"id\":\"78808\",\"type\":\"BoxAnnotation\"},{\"attributes\":{},\"id\":\"77775\",\"type\":\"LinearScale\"},{\"attributes\":{},\"id\":\"77785\",\"type\":\"BasicTicker\"},{\"attributes\":{\"size\":35},\"id\":\"77813\",\"type\":\"VeeHead\"},{\"attributes\":{},\"id\":\"78805\",\"type\":\"BasicTickFormatter\"}],\"root_ids\":[\"77770\"]},\"title\":\"Bokeh Application\",\"version\":\"1.2.0\"}};\n",
       "  var render_items = [{\"docid\":\"294b50ce-781c-4504-9caf-380a3fdf57a8\",\"roots\":{\"77770\":\"434ec0ee-bcb0-4a1a-8810-9f3058ac3560\"}}];\n",
       "  root.Bokeh.embed.embed_items_notebook(docs_json, render_items);\n",
       "\n",
       "  }\n",
       "  if (root.Bokeh !== undefined) {\n",
       "    embed_document(root);\n",
       "  } else {\n",
       "    var attempts = 0;\n",
       "    var timer = setInterval(function(root) {\n",
       "      if (root.Bokeh !== undefined) {\n",
       "        embed_document(root);\n",
       "        clearInterval(timer);\n",
       "      }\n",
       "      attempts++;\n",
       "      if (attempts > 100) {\n",
       "        console.log(\"Bokeh: ERROR: Unable to run BokehJS code because BokehJS library is missing\");\n",
       "        clearInterval(timer);\n",
       "      }\n",
       "    }, 10, root)\n",
       "  }\n",
       "})(window);"
      ],
      "application/vnd.bokehjs_exec.v0+json": ""
     },
     "metadata": {
      "application/vnd.bokehjs_exec.v0+json": {
       "id": "77770"
      }
     },
     "output_type": "display_data"
    }
   ],
   "source": [
    "from bokeh.models.annotations import Arrow\n",
    "from bokeh.models.arrow_heads import OpenHead, NormalHead, VeeHead\n",
    "\n",
    "p = figure(plot_width=600, plot_height=600)\n",
    "\n",
    "p.circle(x=[0, 1, 0.5], y=[0, 0, 0.7], radius=0.1,\n",
    "         color=[\"navy\", \"yellow\", \"red\"], fill_alpha=0.1)\n",
    "\n",
    "p.add_layout(Arrow(end=VeeHead(line_color=\"firebrick\", line_width=4),\n",
    "                   x_start=1, y_start=0, x_end=.5, y_end=.3))\n",
    "\n",
    "p.add_layout(Arrow(end=VeeHead(fill_color=\"orange\"),\n",
    "                   x_start=1, y_start=.4, x_end=0.5, y_end=0.7))\n",
    "\n",
    "p.add_layout(Arrow(end=VeeHead(size=35), line_color=\"red\",\n",
    "                   x_start=0.5, y_start=0.7, x_end=0, y_end=0))\n",
    "\n",
    "show(p)"
   ]
  },
  {
   "cell_type": "markdown",
   "metadata": {},
   "source": [
    "## Color bars\n",
    "**# Exercise: Experiment with Colorbar\n"
   ]
  },
  {
   "cell_type": "code",
   "execution_count": 190,
   "metadata": {},
   "outputs": [
    {
     "data": {
      "text/html": [
       "\n",
       "\n",
       "\n",
       "\n",
       "\n",
       "\n",
       "  <div class=\"bk-root\" id=\"218bb0d1-e609-4cb6-bf46-dedc5511c0c9\" data-root-id=\"83802\"></div>\n"
      ]
     },
     "metadata": {},
     "output_type": "display_data"
    },
    {
     "data": {
      "application/javascript": [
       "(function(root) {\n",
       "  function embed_document(root) {\n",
       "    \n",
       "  var docs_json = {\"817f8e28-e9ee-460e-825f-a88d058272ed\":{\"roots\":{\"references\":[{\"attributes\":{\"below\":[{\"id\":\"83811\",\"type\":\"LinearAxis\"}],\"center\":[{\"id\":\"83815\",\"type\":\"Grid\"},{\"id\":\"83820\",\"type\":\"Grid\"}],\"left\":[{\"id\":\"83816\",\"type\":\"LinearAxis\"}],\"renderers\":[{\"id\":\"83826\",\"type\":\"GlyphRenderer\"}],\"right\":[{\"id\":\"83828\",\"type\":\"ColorBar\"}],\"title\":{\"id\":\"84865\",\"type\":\"Title\"},\"toolbar\":{\"id\":\"83821\",\"type\":\"Toolbar\"},\"toolbar_location\":null,\"x_range\":{\"id\":\"83803\",\"type\":\"DataRange1d\"},\"x_scale\":{\"id\":\"83807\",\"type\":\"LinearScale\"},\"y_range\":{\"id\":\"83805\",\"type\":\"DataRange1d\"},\"y_scale\":{\"id\":\"83809\",\"type\":\"LinearScale\"}},\"id\":\"83802\",\"subtype\":\"Figure\",\"type\":\"Plot\"},{\"attributes\":{\"text\":\"\"},\"id\":\"84865\",\"type\":\"Title\"},{\"attributes\":{\"data_source\":{\"id\":\"83822\",\"type\":\"ColumnDataSource\"},\"glyph\":{\"id\":\"83824\",\"type\":\"Circle\"},\"hover_glyph\":null,\"muted_glyph\":null,\"nonselection_glyph\":{\"id\":\"83825\",\"type\":\"Circle\"},\"selection_glyph\":null,\"view\":{\"id\":\"83827\",\"type\":\"CDSView\"}},\"id\":\"83826\",\"type\":\"GlyphRenderer\"},{\"attributes\":{\"axis_label\":\"Horsepower\",\"formatter\":{\"id\":\"84867\",\"type\":\"BasicTickFormatter\"},\"ticker\":{\"id\":\"83812\",\"type\":\"BasicTicker\"}},\"id\":\"83811\",\"type\":\"LinearAxis\"},{\"attributes\":{},\"id\":\"84873\",\"type\":\"Selection\"},{\"attributes\":{},\"id\":\"84867\",\"type\":\"BasicTickFormatter\"},{\"attributes\":{},\"id\":\"84870\",\"type\":\"BasicTicker\"},{\"attributes\":{},\"id\":\"84872\",\"type\":\"UnionRenderers\"},{\"attributes\":{\"fill_alpha\":{\"value\":0.1},\"fill_color\":{\"value\":\"#1f77b4\"},\"line_alpha\":{\"value\":0.1},\"line_color\":{\"value\":\"#1f77b4\"},\"size\":{\"units\":\"screen\",\"value\":20},\"x\":{\"field\":\"hp\"},\"y\":{\"field\":\"mpg\"}},\"id\":\"83825\",\"type\":\"Circle\"},{\"attributes\":{},\"id\":\"83809\",\"type\":\"LinearScale\"},{\"attributes\":{\"callback\":null,\"data\":{\"accel\":{\"__ndarray__\":\"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\",\"dtype\":\"float64\",\"shape\":[392]},\"cyl\":[8,8,8,8,8,8,8,8,8,8,8,8,8,8,4,6,6,6,4,4,4,4,4,4,6,8,8,8,8,4,4,4,6,6,6,6,6,8,8,8,8,8,8,8,6,4,6,6,4,4,4,4,4,4,4,4,4,4,4,4,4,8,8,8,8,8,8,8,8,8,3,8,8,8,8,4,4,4,4,4,4,4,4,4,8,8,8,8,8,8,8,8,8,8,8,8,6,6,6,6,6,4,8,8,8,8,6,4,4,4,3,4,6,4,8,8,4,4,4,4,8,4,6,8,6,6,6,4,4,4,4,6,6,6,8,8,8,8,8,4,4,4,4,4,4,4,4,4,4,4,6,6,6,6,8,8,8,8,6,6,6,6,6,8,8,4,4,6,4,4,4,4,6,4,6,4,4,4,4,4,4,4,4,4,4,8,8,8,8,6,6,6,6,4,4,4,4,6,6,6,6,4,4,4,4,4,8,4,6,6,8,8,8,8,4,4,4,4,4,8,8,8,8,6,6,6,6,8,8,8,8,4,4,4,4,4,4,4,4,6,4,3,4,4,4,4,4,8,8,8,6,6,6,4,6,6,6,6,6,6,8,6,8,8,4,4,4,4,4,4,4,4,5,6,4,6,4,4,6,6,4,6,6,8,8,8,8,8,8,8,8,4,4,4,4,5,8,4,8,4,4,4,4,4,6,6,4,4,4,4,4,4,4,4,6,4,4,4,4,4,4,4,4,4,4,5,4,4,4,4,6,3,4,4,4,4,4,6,4,4,4,4,4,4,4,4,4,4,4,4,4,4,4,4,4,6,6,6,6,8,6,6,4,4,4,4,4,4,4,4,4,4,4,4,4,4,4,4,4,4,6,6,4,6,4,4,4,4,4,4,4,4],\"displ\":{\"__ndarray__\":\"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\",\"dtype\":\"float64\",\"shape\":[392]},\"hp\":[130,165,150,150,140,198,220,215,225,190,170,160,150,225,95,95,97,85,88,46,87,90,95,113,90,215,200,210,193,88,90,95,100,105,100,88,100,165,175,153,150,180,170,175,110,72,100,88,86,90,70,76,65,69,60,70,95,80,54,90,86,165,175,150,153,150,208,155,160,190,97,150,130,140,150,112,76,87,69,86,92,97,80,88,175,150,145,137,150,198,150,158,150,215,225,175,105,100,100,88,95,46,150,167,170,180,100,88,72,94,90,85,107,90,145,230,49,75,91,112,150,110,122,180,95,100,100,67,80,65,75,100,110,105,140,150,150,140,150,83,67,78,52,61,75,75,75,97,93,67,95,105,72,72,170,145,150,148,110,105,110,95,110,110,129,75,83,100,78,96,71,97,97,70,90,95,88,98,115,53,86,81,92,79,83,140,150,120,152,100,105,81,90,52,60,70,53,100,78,110,95,71,70,75,72,102,150,88,108,120,180,145,130,150,68,80,58,96,70,145,110,145,130,110,105,100,98,180,170,190,149,78,88,75,89,63,83,67,78,97,110,110,48,66,52,70,60,110,140,139,105,95,85,88,100,90,105,85,110,120,145,165,139,140,68,95,97,75,95,105,85,97,103,125,115,133,71,68,115,85,88,90,110,130,129,138,135,155,142,125,150,71,65,80,80,77,125,71,90,70,70,65,69,90,115,115,90,76,60,70,65,90,88,90,90,78,90,75,92,75,65,105,65,48,48,67,67,67,67,62,132,100,88,72,84,84,92,110,84,58,64,60,67,65,62,68,63,65,65,74,75,75,100,74,80,76,116,120,110,105,88,85,88,88,88,85,84,90,92,74,68,68,63,70,88,75,70,67,67,67,110,85,92,112,96,84,90,86,52,84,79,82],\"index\":[0,1,2,3,4,5,6,7,8,9,10,11,12,13,14,15,16,17,18,19,20,21,22,23,24,25,26,27,28,29,30,31,32,33,34,35,36,37,38,39,40,41,42,43,44,45,46,47,48,49,50,51,52,53,54,55,56,57,58,59,60,61,62,63,64,65,66,67,68,69,70,71,72,73,74,75,76,77,78,79,80,81,82,83,84,85,86,87,88,89,90,91,92,93,94,95,96,97,98,99,100,101,102,103,104,105,106,107,108,109,110,111,112,113,114,115,116,117,118,119,120,121,122,123,124,125,126,127,128,129,130,131,132,133,134,135,136,137,138,139,140,141,142,143,144,145,146,147,148,149,150,151,152,153,154,155,156,157,158,159,160,161,162,163,164,165,166,167,168,169,170,171,172,173,174,175,176,177,178,179,180,181,182,183,184,185,186,187,188,189,190,191,192,193,194,195,196,197,198,199,200,201,202,203,204,205,206,207,208,209,210,211,212,213,214,215,216,217,218,219,220,221,222,223,224,225,226,227,228,229,230,231,232,233,234,235,236,237,238,239,240,241,242,243,244,245,246,247,248,249,250,251,252,253,254,255,256,257,258,259,260,261,262,263,264,265,266,267,268,269,270,271,272,273,274,275,276,277,278,279,280,281,282,283,284,285,286,287,288,289,290,291,292,293,294,295,296,297,298,299,300,301,302,303,304,305,306,307,308,309,310,311,312,313,314,315,316,317,318,319,320,321,322,323,324,325,326,327,328,329,330,331,332,333,334,335,336,337,338,339,340,341,342,343,344,345,346,347,348,349,350,351,352,353,354,355,356,357,358,359,360,361,362,363,364,365,366,367,368,369,370,371,372,373,374,375,376,377,378,379,380,381,382,383,384,385,386,387,388,389,390,391],\"mpg\":{\"__ndarray__\":\"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\",\"dtype\":\"float64\",\"shape\":[392]},\"name\":[\"chevrolet chevelle malibu\",\"buick skylark 320\",\"plymouth satellite\",\"amc rebel sst\",\"ford torino\",\"ford galaxie 500\",\"chevrolet impala\",\"plymouth fury iii\",\"pontiac catalina\",\"amc ambassador dpl\",\"dodge challenger se\",\"plymouth 'cuda 340\",\"chevrolet monte carlo\",\"buick estate wagon (sw)\",\"toyota corona mark ii\",\"plymouth duster\",\"amc hornet\",\"ford maverick\",\"datsun pl510\",\"volkswagen 1131 deluxe sedan\",\"peugeot 504\",\"audi 100 ls\",\"saab 99e\",\"bmw 2002\",\"amc gremlin\",\"ford f250\",\"chevy c20\",\"dodge d200\",\"hi 1200d\",\"datsun pl510\",\"chevrolet vega 2300\",\"toyota corona\",\"amc gremlin\",\"plymouth satellite custom\",\"chevrolet chevelle malibu\",\"ford torino 500\",\"amc matador\",\"chevrolet impala\",\"pontiac catalina brougham\",\"ford galaxie 500\",\"plymouth fury iii\",\"dodge monaco (sw)\",\"ford country squire (sw)\",\"pontiac safari (sw)\",\"amc hornet sportabout (sw)\",\"chevrolet vega (sw)\",\"pontiac firebird\",\"ford mustang\",\"mercury capri 2000\",\"opel 1900\",\"peugeot 304\",\"fiat 124b\",\"toyota corolla 1200\",\"datsun 1200\",\"volkswagen model 111\",\"plymouth cricket\",\"toyota corona hardtop\",\"dodge colt hardtop\",\"volkswagen type 3\",\"chevrolet vega\",\"ford pinto runabout\",\"chevrolet impala\",\"pontiac catalina\",\"plymouth fury iii\",\"ford galaxie 500\",\"amc ambassador sst\",\"mercury marquis\",\"buick lesabre custom\",\"oldsmobile delta 88 royale\",\"chrysler newport royal\",\"mazda rx2 coupe\",\"amc matador (sw)\",\"chevrolet chevelle concours (sw)\",\"ford gran torino (sw)\",\"plymouth satellite custom (sw)\",\"volvo 145e (sw)\",\"volkswagen 411 (sw)\",\"peugeot 504 (sw)\",\"renault 12 (sw)\",\"ford pinto (sw)\",\"datsun 510 (sw)\",\"toyouta corona mark ii (sw)\",\"dodge colt (sw)\",\"toyota corolla 1600 (sw)\",\"buick century 350\",\"amc matador\",\"chevrolet malibu\",\"ford gran torino\",\"dodge coronet custom\",\"mercury marquis brougham\",\"chevrolet caprice classic\",\"ford ltd\",\"plymouth fury gran sedan\",\"chrysler new yorker brougham\",\"buick electra 225 custom\",\"amc ambassador brougham\",\"plymouth valiant\",\"chevrolet nova custom\",\"amc hornet\",\"ford maverick\",\"plymouth duster\",\"volkswagen super beetle\",\"chevrolet impala\",\"ford country\",\"plymouth custom suburb\",\"oldsmobile vista cruiser\",\"amc gremlin\",\"toyota carina\",\"chevrolet vega\",\"datsun 610\",\"maxda rx3\",\"ford pinto\",\"mercury capri v6\",\"fiat 124 sport coupe\",\"chevrolet monte carlo s\",\"pontiac grand prix\",\"fiat 128\",\"opel manta\",\"audi 100ls\",\"volvo 144ea\",\"dodge dart custom\",\"saab 99le\",\"toyota mark ii\",\"oldsmobile omega\",\"plymouth duster\",\"amc hornet\",\"chevrolet nova\",\"datsun b210\",\"ford pinto\",\"toyota corolla 1200\",\"chevrolet vega\",\"chevrolet chevelle malibu classic\",\"amc matador\",\"plymouth satellite sebring\",\"ford gran torino\",\"buick century luxus (sw)\",\"dodge coronet custom (sw)\",\"ford gran torino (sw)\",\"amc matador (sw)\",\"audi fox\",\"volkswagen dasher\",\"opel manta\",\"toyota corona\",\"datsun 710\",\"dodge colt\",\"fiat 128\",\"fiat 124 tc\",\"honda civic\",\"subaru\",\"fiat x1.9\",\"plymouth valiant custom\",\"chevrolet nova\",\"mercury monarch\",\"ford maverick\",\"pontiac catalina\",\"chevrolet bel air\",\"plymouth grand fury\",\"ford ltd\",\"buick century\",\"chevroelt chevelle malibu\",\"amc matador\",\"plymouth fury\",\"buick skyhawk\",\"chevrolet monza 2+2\",\"ford mustang ii\",\"toyota corolla\",\"ford pinto\",\"amc gremlin\",\"pontiac astro\",\"toyota corona\",\"volkswagen dasher\",\"datsun 710\",\"ford pinto\",\"volkswagen rabbit\",\"amc pacer\",\"audi 100ls\",\"peugeot 504\",\"volvo 244dl\",\"saab 99le\",\"honda civic cvcc\",\"fiat 131\",\"opel 1900\",\"capri ii\",\"dodge colt\",\"renault 12tl\",\"chevrolet chevelle malibu classic\",\"dodge coronet brougham\",\"amc matador\",\"ford gran torino\",\"plymouth valiant\",\"chevrolet nova\",\"ford maverick\",\"amc hornet\",\"chevrolet chevette\",\"chevrolet woody\",\"vw rabbit\",\"honda civic\",\"dodge aspen se\",\"ford granada ghia\",\"pontiac ventura sj\",\"amc pacer d/l\",\"volkswagen rabbit\",\"datsun b-210\",\"toyota corolla\",\"ford pinto\",\"volvo 245\",\"plymouth volare premier v8\",\"peugeot 504\",\"toyota mark ii\",\"mercedes-benz 280s\",\"cadillac seville\",\"chevy c10\",\"ford f108\",\"dodge d100\",\"honda accord cvcc\",\"buick opel isuzu deluxe\",\"renault 5 gtl\",\"plymouth arrow gs\",\"datsun f-10 hatchback\",\"chevrolet caprice classic\",\"oldsmobile cutlass supreme\",\"dodge monaco brougham\",\"mercury cougar brougham\",\"chevrolet concours\",\"buick skylark\",\"plymouth volare custom\",\"ford granada\",\"pontiac grand prix lj\",\"chevrolet monte carlo landau\",\"chrysler cordoba\",\"ford thunderbird\",\"volkswagen rabbit custom\",\"pontiac sunbird coupe\",\"toyota corolla liftback\",\"ford mustang ii 2+2\",\"chevrolet chevette\",\"dodge colt m/m\",\"subaru dl\",\"volkswagen dasher\",\"datsun 810\",\"bmw 320i\",\"mazda rx-4\",\"volkswagen rabbit custom diesel\",\"ford fiesta\",\"mazda glc deluxe\",\"datsun b210 gx\",\"honda civic cvcc\",\"oldsmobile cutlass salon brougham\",\"dodge diplomat\",\"mercury monarch ghia\",\"pontiac phoenix lj\",\"chevrolet malibu\",\"ford fairmont (auto)\",\"ford fairmont (man)\",\"plymouth volare\",\"amc concord\",\"buick century special\",\"mercury zephyr\",\"dodge aspen\",\"amc concord d/l\",\"chevrolet monte carlo landau\",\"buick regal sport coupe (turbo)\",\"ford futura\",\"dodge magnum xe\",\"chevrolet chevette\",\"toyota corona\",\"datsun 510\",\"dodge omni\",\"toyota celica gt liftback\",\"plymouth sapporo\",\"oldsmobile starfire sx\",\"datsun 200-sx\",\"audi 5000\",\"volvo 264gl\",\"saab 99gle\",\"peugeot 604sl\",\"volkswagen scirocco\",\"honda accord lx\",\"pontiac lemans v6\",\"mercury zephyr 6\",\"ford fairmont 4\",\"amc concord dl 6\",\"dodge aspen 6\",\"chevrolet caprice classic\",\"ford ltd landau\",\"mercury grand marquis\",\"dodge st. regis\",\"buick estate wagon (sw)\",\"ford country squire (sw)\",\"chevrolet malibu classic (sw)\",\"chrysler lebaron town @ country (sw)\",\"vw rabbit custom\",\"maxda glc deluxe\",\"dodge colt hatchback custom\",\"amc spirit dl\",\"mercedes benz 300d\",\"cadillac eldorado\",\"peugeot 504\",\"oldsmobile cutlass salon brougham\",\"plymouth horizon\",\"plymouth horizon tc3\",\"datsun 210\",\"fiat strada custom\",\"buick skylark limited\",\"chevrolet citation\",\"oldsmobile omega brougham\",\"pontiac phoenix\",\"vw rabbit\",\"toyota corolla tercel\",\"chevrolet chevette\",\"datsun 310\",\"chevrolet citation\",\"ford fairmont\",\"amc concord\",\"dodge aspen\",\"audi 4000\",\"toyota corona liftback\",\"mazda 626\",\"datsun 510 hatchback\",\"toyota corolla\",\"mazda glc\",\"dodge colt\",\"datsun 210\",\"vw rabbit c (diesel)\",\"vw dasher (diesel)\",\"audi 5000s (diesel)\",\"mercedes-benz 240d\",\"honda civic 1500 gl\",\"subaru dl\",\"vokswagen rabbit\",\"datsun 280-zx\",\"mazda rx-7 gs\",\"triumph tr7 coupe\",\"honda accord\",\"plymouth reliant\",\"buick skylark\",\"dodge aries wagon (sw)\",\"chevrolet citation\",\"plymouth reliant\",\"toyota starlet\",\"plymouth champ\",\"honda civic 1300\",\"subaru\",\"datsun 210 mpg\",\"toyota tercel\",\"mazda glc 4\",\"plymouth horizon 4\",\"ford escort 4w\",\"ford escort 2h\",\"volkswagen jetta\",\"honda prelude\",\"toyota corolla\",\"datsun 200sx\",\"mazda 626\",\"peugeot 505s turbo diesel\",\"volvo diesel\",\"toyota cressida\",\"datsun 810 maxima\",\"buick century\",\"oldsmobile cutlass ls\",\"ford granada gl\",\"chrysler lebaron salon\",\"chevrolet cavalier\",\"chevrolet cavalier wagon\",\"chevrolet cavalier 2-door\",\"pontiac j2000 se hatchback\",\"dodge aries se\",\"pontiac phoenix\",\"ford fairmont futura\",\"volkswagen rabbit l\",\"mazda glc custom l\",\"mazda glc custom\",\"plymouth horizon miser\",\"mercury lynx l\",\"nissan stanza xe\",\"honda accord\",\"toyota corolla\",\"honda civic\",\"honda civic (auto)\",\"datsun 310 gx\",\"buick century limited\",\"oldsmobile cutlass ciera (diesel)\",\"chrysler lebaron medallion\",\"ford granada l\",\"toyota celica gt\",\"dodge charger 2.2\",\"chevrolet camaro\",\"ford mustang gl\",\"vw pickup\",\"dodge rampage\",\"ford ranger\",\"chevy s-10\"],\"origin\":[1,1,1,1,1,1,1,1,1,1,1,1,1,1,3,1,1,1,3,2,2,2,2,2,1,1,1,1,1,3,1,3,1,1,1,1,1,1,1,1,1,1,1,1,1,1,1,1,1,2,2,2,3,3,2,1,3,1,2,1,1,1,1,1,1,1,1,1,1,1,3,1,1,1,1,2,2,2,2,1,3,3,1,3,1,1,1,1,1,1,1,1,1,1,1,1,1,1,1,1,1,2,1,1,1,1,1,3,1,3,3,1,1,2,1,1,2,2,2,2,1,2,3,1,1,1,1,3,1,3,1,1,1,1,1,1,1,1,1,2,2,2,3,3,1,2,2,3,3,2,1,1,1,1,1,1,1,1,1,1,1,1,1,1,1,3,1,1,1,3,2,3,1,2,1,2,2,2,2,3,2,2,1,1,2,1,1,1,1,1,1,1,1,1,1,2,3,1,1,1,1,2,3,3,1,2,1,2,3,2,1,1,1,1,3,1,2,1,3,1,1,1,1,1,1,1,1,1,1,1,1,2,1,3,1,1,1,3,2,3,2,3,2,1,3,3,3,1,1,1,1,1,1,1,1,1,1,1,1,1,1,1,1,1,1,3,3,1,3,1,1,3,2,2,2,2,2,3,1,1,1,1,1,1,1,1,1,1,1,1,1,2,3,1,1,2,1,2,1,1,1,3,2,1,1,1,1,2,3,1,3,1,1,1,1,2,3,3,3,3,3,1,3,2,2,2,2,3,3,2,3,3,2,3,1,1,1,1,1,3,1,3,3,3,3,3,1,1,1,2,3,3,3,3,2,2,3,3,1,1,1,1,1,1,1,1,1,1,1,2,3,3,1,1,3,3,3,3,3,3,1,1,1,1,3,1,1,1,2,1,1,1],\"weight\":[3504,3693,3436,3433,3449,4341,4354,4312,4425,3850,3563,3609,3761,3086,2372,2833,2774,2587,2130,1835,2672,2430,2375,2234,2648,4615,4376,4382,4732,2130,2264,2228,2634,3439,3329,3302,3288,4209,4464,4154,4096,4955,4746,5140,2962,2408,3282,3139,2220,2123,2074,2065,1773,1613,1834,1955,2278,2126,2254,2408,2226,4274,4385,4135,4129,3672,4633,4502,4456,4422,2330,3892,4098,4294,4077,2933,2511,2979,2189,2395,2288,2506,2164,2100,4100,3672,3988,4042,3777,4952,4464,4363,4237,4735,4951,3821,3121,3278,2945,3021,2904,1950,4997,4906,4654,4499,2789,2279,2401,2379,2124,2310,2472,2265,4082,4278,1867,2158,2582,2868,3399,2660,2807,3664,3102,2901,3336,1950,2451,1836,2542,3781,3632,3613,4141,4699,4457,4638,4257,2219,1963,2300,1649,2003,2125,2108,2246,2489,2391,2000,3264,3459,3432,3158,4668,4440,4498,4657,3907,3897,3730,3785,3039,3221,3169,2171,2639,2914,2592,2702,2223,2545,2984,1937,3211,2694,2957,2945,2671,1795,2464,2220,2572,2255,2202,4215,4190,3962,4215,3233,3353,3012,3085,2035,2164,1937,1795,3651,3574,3645,3193,1825,1990,2155,2565,3150,3940,3270,2930,3820,4380,4055,3870,3755,2045,2155,1825,2300,1945,3880,4060,4140,4295,3520,3425,3630,3525,4220,4165,4325,4335,1940,2740,2265,2755,2051,2075,1985,2190,2815,2600,2720,1985,1800,1985,2070,1800,3365,3735,3570,3535,3155,2965,2720,3430,3210,3380,3070,3620,3410,3425,3445,3205,4080,2155,2560,2300,2230,2515,2745,2855,2405,2830,3140,2795,3410,1990,2135,3245,2990,2890,3265,3360,3840,3725,3955,3830,4360,4054,3605,3940,1925,1975,1915,2670,3530,3900,3190,3420,2200,2150,2020,2130,2670,2595,2700,2556,2144,1968,2120,2019,2678,2870,3003,3381,2188,2711,2542,2434,2265,2110,2800,2110,2085,2335,2950,3250,1850,2145,1845,2910,2420,2500,2290,2490,2635,2620,2725,2385,1755,1875,1760,2065,1975,2050,1985,2215,2045,2380,2190,2210,2350,2615,2635,3230,3160,2900,2930,3415,3725,3060,3465,2605,2640,2395,2575,2525,2735,2865,1980,2025,1970,2125,2125,2160,2205,2245,1965,1965,1995,2945,3015,2585,2835,2665,2370,2950,2790,2130,2295,2625,2720],\"yr\":[70,70,70,70,70,70,70,70,70,70,70,70,70,70,70,70,70,70,70,70,70,70,70,70,70,70,70,70,70,71,71,71,71,71,71,71,71,71,71,71,71,71,71,71,71,71,71,71,71,71,71,71,71,71,71,71,72,72,72,72,72,72,72,72,72,72,72,72,72,72,72,72,72,72,72,72,72,72,72,72,72,72,72,72,73,73,73,73,73,73,73,73,73,73,73,73,73,73,73,73,73,73,73,73,73,73,73,73,73,73,73,73,73,73,73,73,73,73,73,73,73,73,73,73,74,74,74,74,74,74,74,74,74,74,74,74,74,74,74,74,74,74,74,74,74,74,74,74,74,74,75,75,75,75,75,75,75,75,75,75,75,75,75,75,75,75,75,75,75,75,75,75,75,75,75,75,75,75,75,75,76,76,76,76,76,76,76,76,76,76,76,76,76,76,76,76,76,76,76,76,76,76,76,76,76,76,76,76,76,76,76,76,76,76,77,77,77,77,77,77,77,77,77,77,77,77,77,77,77,77,77,77,77,77,77,77,77,77,77,77,77,77,78,78,78,78,78,78,78,78,78,78,78,78,78,78,78,78,78,78,78,78,78,78,78,78,78,78,78,78,78,78,78,78,78,78,78,78,79,79,79,79,79,79,79,79,79,79,79,79,79,79,79,79,79,79,79,79,79,79,79,79,79,79,79,79,79,80,80,80,80,80,80,80,80,80,80,80,80,80,80,80,80,80,80,80,80,80,80,80,80,80,80,80,81,81,81,81,81,81,81,81,81,81,81,81,81,81,81,81,81,81,81,81,81,81,81,81,81,81,81,81,82,82,82,82,82,82,82,82,82,82,82,82,82,82,82,82,82,82,82,82,82,82,82,82,82,82,82,82,82,82]},\"selected\":{\"id\":\"84873\",\"type\":\"Selection\"},\"selection_policy\":{\"id\":\"84872\",\"type\":\"UnionRenderers\"}},\"id\":\"83822\",\"type\":\"ColumnDataSource\"},{\"attributes\":{},\"id\":\"84869\",\"type\":\"BasicTickFormatter\"},{\"attributes\":{},\"id\":\"83807\",\"type\":\"LinearScale\"},{\"attributes\":{},\"id\":\"84871\",\"type\":\"BasicTickFormatter\"},{\"attributes\":{\"callback\":null},\"id\":\"83803\",\"type\":\"DataRange1d\"},{\"attributes\":{},\"id\":\"83812\",\"type\":\"BasicTicker\"},{\"attributes\":{\"fill_alpha\":{\"value\":0.6},\"fill_color\":{\"field\":\"weight\",\"transform\":{\"id\":\"83801\",\"type\":\"LinearColorMapper\"}},\"line_alpha\":{\"value\":0.6},\"line_color\":{\"field\":\"weight\",\"transform\":{\"id\":\"83801\",\"type\":\"LinearColorMapper\"}},\"size\":{\"units\":\"screen\",\"value\":20},\"x\":{\"field\":\"hp\"},\"y\":{\"field\":\"mpg\"}},\"id\":\"83824\",\"type\":\"Circle\"},{\"attributes\":{},\"id\":\"83817\",\"type\":\"BasicTicker\"},{\"attributes\":{\"callback\":null},\"id\":\"83805\",\"type\":\"DataRange1d\"},{\"attributes\":{\"source\":{\"id\":\"83822\",\"type\":\"ColumnDataSource\"}},\"id\":\"83827\",\"type\":\"CDSView\"},{\"attributes\":{\"high\":5140,\"low\":1613,\"palette\":[\"#1f77b4\",\"#ff7f0e\",\"#2ca02c\"]},\"id\":\"83801\",\"type\":\"LinearColorMapper\"},{\"attributes\":{\"color_mapper\":{\"id\":\"83801\",\"type\":\"LinearColorMapper\"},\"formatter\":{\"id\":\"84871\",\"type\":\"BasicTickFormatter\"},\"label_standoff\":12,\"location\":[0,0],\"ticker\":{\"id\":\"84870\",\"type\":\"BasicTicker\"},\"title\":\"Weight\"},\"id\":\"83828\",\"type\":\"ColorBar\"},{\"attributes\":{\"dimension\":1,\"ticker\":{\"id\":\"83817\",\"type\":\"BasicTicker\"}},\"id\":\"83820\",\"type\":\"Grid\"},{\"attributes\":{\"active_drag\":\"auto\",\"active_inspect\":\"auto\",\"active_multi\":null,\"active_scroll\":\"auto\",\"active_tap\":\"auto\"},\"id\":\"83821\",\"type\":\"Toolbar\"},{\"attributes\":{\"axis_label\":\"MPG\",\"formatter\":{\"id\":\"84869\",\"type\":\"BasicTickFormatter\"},\"ticker\":{\"id\":\"83817\",\"type\":\"BasicTicker\"}},\"id\":\"83816\",\"type\":\"LinearAxis\"},{\"attributes\":{\"ticker\":{\"id\":\"83812\",\"type\":\"BasicTicker\"}},\"id\":\"83815\",\"type\":\"Grid\"}],\"root_ids\":[\"83802\"]},\"title\":\"Bokeh Application\",\"version\":\"1.2.0\"}};\n",
       "  var render_items = [{\"docid\":\"817f8e28-e9ee-460e-825f-a88d058272ed\",\"roots\":{\"83802\":\"218bb0d1-e609-4cb6-bf46-dedc5511c0c9\"}}];\n",
       "  root.Bokeh.embed.embed_items_notebook(docs_json, render_items);\n",
       "\n",
       "  }\n",
       "  if (root.Bokeh !== undefined) {\n",
       "    embed_document(root);\n",
       "  } else {\n",
       "    var attempts = 0;\n",
       "    var timer = setInterval(function(root) {\n",
       "      if (root.Bokeh !== undefined) {\n",
       "        embed_document(root);\n",
       "        clearInterval(timer);\n",
       "      }\n",
       "      attempts++;\n",
       "      if (attempts > 100) {\n",
       "        console.log(\"Bokeh: ERROR: Unable to run BokehJS code because BokehJS library is missing\");\n",
       "        clearInterval(timer);\n",
       "      }\n",
       "    }, 10, root)\n",
       "  }\n",
       "})(window);"
      ],
      "application/vnd.bokehjs_exec.v0+json": ""
     },
     "metadata": {
      "application/vnd.bokehjs_exec.v0+json": {
       "id": "83802"
      }
     },
     "output_type": "display_data"
    }
   ],
   "source": [
    "from bokeh.sampledata.autompg import autompg\n",
    "from bokeh.models import LinearColorMapper, ColorBar\n",
    "from bokeh.transform import transform\n",
    "\n",
    "source = ColumnDataSource(autompg)\n",
    "color_mapper = LinearColorMapper(palette=\"Category10_3\", low=autompg.weight.min(), high=autompg.weight.max())\n",
    "\n",
    "p = figure(x_axis_label='Horsepower', y_axis_label='MPG', tools='', toolbar_location=None)\n",
    "p.circle(x='hp', y='mpg', color=transform('weight', color_mapper), size=20, alpha=0.6, source=autompg)\n",
    "\n",
    "color_bar = ColorBar(color_mapper=color_mapper, label_standoff=12, location=(0,0), title='Weight')\n",
    "p.add_layout(color_bar, 'right')\n",
    "\n",
    "show(p)"
   ]
  },
  {
   "cell_type": "markdown",
   "metadata": {},
   "source": [
    "# 05. Presentation and Layout\n",
    "## Rows and Columns"
   ]
  },
  {
   "cell_type": "markdown",
   "metadata": {},
   "source": [
    "**#1 EXERCISE: use column to arrange a few plots vertically (don't forget to import column)"
   ]
  },
  {
   "cell_type": "code",
   "execution_count": 200,
   "metadata": {},
   "outputs": [
    {
     "data": {
      "text/html": [
       "\n",
       "\n",
       "\n",
       "\n",
       "\n",
       "\n",
       "  <div class=\"bk-root\" id=\"861b3ce8-f998-498f-bdf8-d0aad0d4c80a\" data-root-id=\"90666\"></div>\n"
      ]
     },
     "metadata": {},
     "output_type": "display_data"
    },
    {
     "data": {
      "application/javascript": [
       "(function(root) {\n",
       "  function embed_document(root) {\n",
       "    \n",
       "  var docs_json = {\"e222e2ea-d86e-4077-9993-f624cc7cbe66\":{\"roots\":{\"references\":[{\"attributes\":{\"children\":[{\"id\":\"90555\",\"subtype\":\"Figure\",\"type\":\"Plot\"},{\"id\":\"90592\",\"subtype\":\"Figure\",\"type\":\"Plot\"},{\"id\":\"90629\",\"subtype\":\"Figure\",\"type\":\"Plot\"}]},\"id\":\"90666\",\"type\":\"Column\"},{\"attributes\":{},\"id\":\"91806\",\"type\":\"BasicTickFormatter\"},{\"attributes\":{},\"id\":\"91800\",\"type\":\"BasicTickFormatter\"},{\"attributes\":{\"fill_alpha\":{\"value\":0.5},\"fill_color\":{\"value\":\"navy\"},\"line_alpha\":{\"value\":0.5},\"line_color\":{\"value\":\"navy\"},\"size\":{\"units\":\"screen\",\"value\":10},\"x\":{\"field\":\"x\"},\"y\":{\"field\":\"y\"}},\"id\":\"90588\",\"type\":\"Circle\"},{\"attributes\":{},\"id\":\"90651\",\"type\":\"SaveTool\"},{\"attributes\":{\"active_drag\":\"auto\",\"active_inspect\":\"auto\",\"active_multi\":null,\"active_scroll\":\"auto\",\"active_tap\":\"auto\",\"tools\":[{\"id\":\"90648\",\"type\":\"PanTool\"},{\"id\":\"90649\",\"type\":\"WheelZoomTool\"},{\"id\":\"90650\",\"type\":\"BoxZoomTool\"},{\"id\":\"90651\",\"type\":\"SaveTool\"},{\"id\":\"90652\",\"type\":\"ResetTool\"},{\"id\":\"90653\",\"type\":\"HelpTool\"}]},\"id\":\"90654\",\"type\":\"Toolbar\"},{\"attributes\":{\"text\":\"\"},\"id\":\"91798\",\"type\":\"Title\"},{\"attributes\":{},\"id\":\"91808\",\"type\":\"BasicTickFormatter\"},{\"attributes\":{},\"id\":\"91818\",\"type\":\"UnionRenderers\"},{\"attributes\":{},\"id\":\"91815\",\"type\":\"UnionRenderers\"},{\"attributes\":{},\"id\":\"90653\",\"type\":\"HelpTool\"},{\"attributes\":{\"text\":\"\"},\"id\":\"91796\",\"type\":\"Title\"},{\"attributes\":{\"fill_alpha\":{\"value\":0.1},\"fill_color\":{\"value\":\"#1f77b4\"},\"line_alpha\":{\"value\":0.1},\"line_color\":{\"value\":\"#1f77b4\"},\"size\":{\"units\":\"screen\",\"value\":10},\"x\":{\"field\":\"x\"},\"y\":{\"field\":\"y\"}},\"id\":\"90589\",\"type\":\"Circle\"},{\"attributes\":{\"ticker\":{\"id\":\"90639\",\"type\":\"BasicTicker\"}},\"id\":\"90642\",\"type\":\"Grid\"},{\"attributes\":{},\"id\":\"91819\",\"type\":\"Selection\"},{\"attributes\":{},\"id\":\"90639\",\"type\":\"BasicTicker\"},{\"attributes\":{},\"id\":\"90644\",\"type\":\"BasicTicker\"},{\"attributes\":{},\"id\":\"91804\",\"type\":\"BasicTickFormatter\"},{\"attributes\":{\"bottom_units\":\"screen\",\"fill_alpha\":{\"value\":0.5},\"fill_color\":{\"value\":\"lightgrey\"},\"left_units\":\"screen\",\"level\":\"overlay\",\"line_alpha\":{\"value\":1.0},\"line_color\":{\"value\":\"black\"},\"line_dash\":[4,4],\"line_width\":{\"value\":2},\"render_mode\":\"css\",\"right_units\":\"screen\",\"top_units\":\"screen\"},\"id\":\"91817\",\"type\":\"BoxAnnotation\"},{\"attributes\":{},\"id\":\"90652\",\"type\":\"ResetTool\"},{\"attributes\":{},\"id\":\"90649\",\"type\":\"WheelZoomTool\"},{\"attributes\":{\"fill_alpha\":{\"value\":0.5},\"fill_color\":{\"value\":\"olive\"},\"line_alpha\":{\"value\":0.5},\"line_color\":{\"value\":\"olive\"},\"size\":{\"units\":\"screen\",\"value\":10},\"x\":{\"field\":\"x\"},\"y\":{\"field\":\"y\"}},\"id\":\"90662\",\"type\":\"Square\"},{\"attributes\":{},\"id\":\"90648\",\"type\":\"PanTool\"},{\"attributes\":{\"source\":{\"id\":\"90661\",\"type\":\"ColumnDataSource\"}},\"id\":\"90665\",\"type\":\"CDSView\"},{\"attributes\":{\"fill_alpha\":{\"value\":0.1},\"fill_color\":{\"value\":\"#1f77b4\"},\"line_alpha\":{\"value\":0.1},\"line_color\":{\"value\":\"#1f77b4\"},\"size\":{\"units\":\"screen\",\"value\":10},\"x\":{\"field\":\"x\"},\"y\":{\"field\":\"y\"}},\"id\":\"90663\",\"type\":\"Square\"},{\"attributes\":{\"bottom_units\":\"screen\",\"fill_alpha\":{\"value\":0.5},\"fill_color\":{\"value\":\"lightgrey\"},\"left_units\":\"screen\",\"level\":\"overlay\",\"line_alpha\":{\"value\":1.0},\"line_color\":{\"value\":\"black\"},\"line_dash\":[4,4],\"line_width\":{\"value\":2},\"render_mode\":\"css\",\"right_units\":\"screen\",\"top_units\":\"screen\"},\"id\":\"91811\",\"type\":\"BoxAnnotation\"},{\"attributes\":{\"dimension\":1,\"ticker\":{\"id\":\"90644\",\"type\":\"BasicTicker\"}},\"id\":\"90647\",\"type\":\"Grid\"},{\"attributes\":{},\"id\":\"91810\",\"type\":\"BasicTickFormatter\"},{\"attributes\":{},\"id\":\"91802\",\"type\":\"BasicTickFormatter\"},{\"attributes\":{},\"id\":\"91816\",\"type\":\"Selection\"},{\"attributes\":{\"dimension\":1,\"ticker\":{\"id\":\"90570\",\"type\":\"BasicTicker\"}},\"id\":\"90573\",\"type\":\"Grid\"},{\"attributes\":{},\"id\":\"91813\",\"type\":\"Selection\"},{\"attributes\":{\"formatter\":{\"id\":\"91810\",\"type\":\"BasicTickFormatter\"},\"ticker\":{\"id\":\"90644\",\"type\":\"BasicTicker\"}},\"id\":\"90643\",\"type\":\"LinearAxis\"},{\"attributes\":{\"bottom_units\":\"screen\",\"fill_alpha\":{\"value\":0.5},\"fill_color\":{\"value\":\"lightgrey\"},\"left_units\":\"screen\",\"level\":\"overlay\",\"line_alpha\":{\"value\":1.0},\"line_color\":{\"value\":\"black\"},\"line_dash\":[4,4],\"line_width\":{\"value\":2},\"render_mode\":\"css\",\"right_units\":\"screen\",\"top_units\":\"screen\"},\"id\":\"91814\",\"type\":\"BoxAnnotation\"},{\"attributes\":{},\"id\":\"91812\",\"type\":\"UnionRenderers\"},{\"attributes\":{\"data_source\":{\"id\":\"90661\",\"type\":\"ColumnDataSource\"},\"glyph\":{\"id\":\"90662\",\"type\":\"Square\"},\"hover_glyph\":null,\"muted_glyph\":null,\"nonselection_glyph\":{\"id\":\"90663\",\"type\":\"Square\"},\"selection_glyph\":null,\"view\":{\"id\":\"90665\",\"type\":\"CDSView\"}},\"id\":\"90664\",\"type\":\"GlyphRenderer\"},{\"attributes\":{\"overlay\":{\"id\":\"91817\",\"type\":\"BoxAnnotation\"}},\"id\":\"90650\",\"type\":\"BoxZoomTool\"},{\"attributes\":{},\"id\":\"90578\",\"type\":\"ResetTool\"},{\"attributes\":{},\"id\":\"90565\",\"type\":\"BasicTicker\"},{\"attributes\":{\"callback\":null},\"id\":\"90632\",\"type\":\"DataRange1d\"},{\"attributes\":{\"callback\":null,\"data\":{\"x\":[0,1,2,3,4,5,6,7,8,9,10],\"y\":[5,4,3,2,1,0,1,2,3,4,5]},\"selected\":{\"id\":\"91819\",\"type\":\"Selection\"},\"selection_policy\":{\"id\":\"91818\",\"type\":\"UnionRenderers\"}},\"id\":\"90661\",\"type\":\"ColumnDataSource\"},{\"attributes\":{\"below\":[{\"id\":\"90564\",\"type\":\"LinearAxis\"}],\"center\":[{\"id\":\"90568\",\"type\":\"Grid\"},{\"id\":\"90573\",\"type\":\"Grid\"}],\"left\":[{\"id\":\"90569\",\"type\":\"LinearAxis\"}],\"plot_height\":250,\"plot_width\":250,\"renderers\":[{\"id\":\"90590\",\"type\":\"GlyphRenderer\"}],\"title\":{\"id\":\"91794\",\"type\":\"Title\"},\"toolbar\":{\"id\":\"90580\",\"type\":\"Toolbar\"},\"x_range\":{\"id\":\"90556\",\"type\":\"DataRange1d\"},\"x_scale\":{\"id\":\"90560\",\"type\":\"LinearScale\"},\"y_range\":{\"id\":\"90558\",\"type\":\"DataRange1d\"},\"y_scale\":{\"id\":\"90562\",\"type\":\"LinearScale\"}},\"id\":\"90555\",\"subtype\":\"Figure\",\"type\":\"Plot\"},{\"attributes\":{},\"id\":\"90636\",\"type\":\"LinearScale\"},{\"attributes\":{\"ticker\":{\"id\":\"90565\",\"type\":\"BasicTicker\"}},\"id\":\"90568\",\"type\":\"Grid\"},{\"attributes\":{\"formatter\":{\"id\":\"91808\",\"type\":\"BasicTickFormatter\"},\"ticker\":{\"id\":\"90639\",\"type\":\"BasicTicker\"}},\"id\":\"90638\",\"type\":\"LinearAxis\"},{\"attributes\":{},\"id\":\"90574\",\"type\":\"PanTool\"},{\"attributes\":{\"overlay\":{\"id\":\"91811\",\"type\":\"BoxAnnotation\"}},\"id\":\"90576\",\"type\":\"BoxZoomTool\"},{\"attributes\":{},\"id\":\"90570\",\"type\":\"BasicTicker\"},{\"attributes\":{\"source\":{\"id\":\"90624\",\"type\":\"ColumnDataSource\"}},\"id\":\"90628\",\"type\":\"CDSView\"},{\"attributes\":{\"formatter\":{\"id\":\"91802\",\"type\":\"BasicTickFormatter\"},\"ticker\":{\"id\":\"90570\",\"type\":\"BasicTicker\"}},\"id\":\"90569\",\"type\":\"LinearAxis\"},{\"attributes\":{\"callback\":null},\"id\":\"90558\",\"type\":\"DataRange1d\"},{\"attributes\":{\"callback\":null},\"id\":\"90556\",\"type\":\"DataRange1d\"},{\"attributes\":{},\"id\":\"90614\",\"type\":\"SaveTool\"},{\"attributes\":{},\"id\":\"90615\",\"type\":\"ResetTool\"},{\"attributes\":{\"active_drag\":\"auto\",\"active_inspect\":\"auto\",\"active_multi\":null,\"active_scroll\":\"auto\",\"active_tap\":\"auto\",\"tools\":[{\"id\":\"90611\",\"type\":\"PanTool\"},{\"id\":\"90612\",\"type\":\"WheelZoomTool\"},{\"id\":\"90613\",\"type\":\"BoxZoomTool\"},{\"id\":\"90614\",\"type\":\"SaveTool\"},{\"id\":\"90615\",\"type\":\"ResetTool\"},{\"id\":\"90616\",\"type\":\"HelpTool\"}]},\"id\":\"90617\",\"type\":\"Toolbar\"},{\"attributes\":{},\"id\":\"90562\",\"type\":\"LinearScale\"},{\"attributes\":{},\"id\":\"90616\",\"type\":\"HelpTool\"},{\"attributes\":{},\"id\":\"90575\",\"type\":\"WheelZoomTool\"},{\"attributes\":{\"fill_alpha\":{\"value\":0.5},\"fill_color\":{\"value\":\"firebrick\"},\"line_alpha\":{\"value\":0.5},\"line_color\":{\"value\":\"firebrick\"},\"size\":{\"units\":\"screen\",\"value\":10},\"x\":{\"field\":\"x\"},\"y\":{\"field\":\"y\"}},\"id\":\"90625\",\"type\":\"Triangle\"},{\"attributes\":{\"below\":[{\"id\":\"90638\",\"type\":\"LinearAxis\"}],\"center\":[{\"id\":\"90642\",\"type\":\"Grid\"},{\"id\":\"90647\",\"type\":\"Grid\"}],\"left\":[{\"id\":\"90643\",\"type\":\"LinearAxis\"}],\"plot_height\":250,\"plot_width\":250,\"renderers\":[{\"id\":\"90664\",\"type\":\"GlyphRenderer\"}],\"title\":{\"id\":\"91798\",\"type\":\"Title\"},\"toolbar\":{\"id\":\"90654\",\"type\":\"Toolbar\"},\"x_range\":{\"id\":\"90630\",\"type\":\"DataRange1d\"},\"x_scale\":{\"id\":\"90634\",\"type\":\"LinearScale\"},\"y_range\":{\"id\":\"90632\",\"type\":\"DataRange1d\"},\"y_scale\":{\"id\":\"90636\",\"type\":\"LinearScale\"}},\"id\":\"90629\",\"subtype\":\"Figure\",\"type\":\"Plot\"},{\"attributes\":{\"formatter\":{\"id\":\"91800\",\"type\":\"BasicTickFormatter\"},\"ticker\":{\"id\":\"90565\",\"type\":\"BasicTicker\"}},\"id\":\"90564\",\"type\":\"LinearAxis\"},{\"attributes\":{},\"id\":\"90611\",\"type\":\"PanTool\"},{\"attributes\":{\"data_source\":{\"id\":\"90624\",\"type\":\"ColumnDataSource\"},\"glyph\":{\"id\":\"90625\",\"type\":\"Triangle\"},\"hover_glyph\":null,\"muted_glyph\":null,\"nonselection_glyph\":{\"id\":\"90626\",\"type\":\"Triangle\"},\"selection_glyph\":null,\"view\":{\"id\":\"90628\",\"type\":\"CDSView\"}},\"id\":\"90627\",\"type\":\"GlyphRenderer\"},{\"attributes\":{\"formatter\":{\"id\":\"91806\",\"type\":\"BasicTickFormatter\"},\"ticker\":{\"id\":\"90607\",\"type\":\"BasicTicker\"}},\"id\":\"90606\",\"type\":\"LinearAxis\"},{\"attributes\":{},\"id\":\"90602\",\"type\":\"BasicTicker\"},{\"attributes\":{},\"id\":\"90607\",\"type\":\"BasicTicker\"},{\"attributes\":{\"callback\":null,\"data\":{\"x\":[0,1,2,3,4,5,6,7,8,9,10],\"y\":[0,1,2,3,4,5,6,7,8,9,10]},\"selected\":{\"id\":\"91813\",\"type\":\"Selection\"},\"selection_policy\":{\"id\":\"91812\",\"type\":\"UnionRenderers\"}},\"id\":\"90587\",\"type\":\"ColumnDataSource\"},{\"attributes\":{\"below\":[{\"id\":\"90601\",\"type\":\"LinearAxis\"}],\"center\":[{\"id\":\"90605\",\"type\":\"Grid\"},{\"id\":\"90610\",\"type\":\"Grid\"}],\"left\":[{\"id\":\"90606\",\"type\":\"LinearAxis\"}],\"plot_height\":250,\"plot_width\":250,\"renderers\":[{\"id\":\"90627\",\"type\":\"GlyphRenderer\"}],\"title\":{\"id\":\"91796\",\"type\":\"Title\"},\"toolbar\":{\"id\":\"90617\",\"type\":\"Toolbar\"},\"x_range\":{\"id\":\"90593\",\"type\":\"DataRange1d\"},\"x_scale\":{\"id\":\"90597\",\"type\":\"LinearScale\"},\"y_range\":{\"id\":\"90595\",\"type\":\"DataRange1d\"},\"y_scale\":{\"id\":\"90599\",\"type\":\"LinearScale\"}},\"id\":\"90592\",\"subtype\":\"Figure\",\"type\":\"Plot\"},{\"attributes\":{\"ticker\":{\"id\":\"90602\",\"type\":\"BasicTicker\"}},\"id\":\"90605\",\"type\":\"Grid\"},{\"attributes\":{},\"id\":\"90560\",\"type\":\"LinearScale\"},{\"attributes\":{\"fill_alpha\":{\"value\":0.1},\"fill_color\":{\"value\":\"#1f77b4\"},\"line_alpha\":{\"value\":0.1},\"line_color\":{\"value\":\"#1f77b4\"},\"size\":{\"units\":\"screen\",\"value\":10},\"x\":{\"field\":\"x\"},\"y\":{\"field\":\"y\"}},\"id\":\"90626\",\"type\":\"Triangle\"},{\"attributes\":{\"dimension\":1,\"ticker\":{\"id\":\"90607\",\"type\":\"BasicTicker\"}},\"id\":\"90610\",\"type\":\"Grid\"},{\"attributes\":{\"overlay\":{\"id\":\"91814\",\"type\":\"BoxAnnotation\"}},\"id\":\"90613\",\"type\":\"BoxZoomTool\"},{\"attributes\":{},\"id\":\"90612\",\"type\":\"WheelZoomTool\"},{\"attributes\":{},\"id\":\"90579\",\"type\":\"HelpTool\"},{\"attributes\":{\"formatter\":{\"id\":\"91804\",\"type\":\"BasicTickFormatter\"},\"ticker\":{\"id\":\"90602\",\"type\":\"BasicTicker\"}},\"id\":\"90601\",\"type\":\"LinearAxis\"},{\"attributes\":{},\"id\":\"90634\",\"type\":\"LinearScale\"},{\"attributes\":{},\"id\":\"90597\",\"type\":\"LinearScale\"},{\"attributes\":{},\"id\":\"90599\",\"type\":\"LinearScale\"},{\"attributes\":{\"active_drag\":\"auto\",\"active_inspect\":\"auto\",\"active_multi\":null,\"active_scroll\":\"auto\",\"active_tap\":\"auto\",\"tools\":[{\"id\":\"90574\",\"type\":\"PanTool\"},{\"id\":\"90575\",\"type\":\"WheelZoomTool\"},{\"id\":\"90576\",\"type\":\"BoxZoomTool\"},{\"id\":\"90577\",\"type\":\"SaveTool\"},{\"id\":\"90578\",\"type\":\"ResetTool\"},{\"id\":\"90579\",\"type\":\"HelpTool\"}]},\"id\":\"90580\",\"type\":\"Toolbar\"},{\"attributes\":{\"callback\":null},\"id\":\"90630\",\"type\":\"DataRange1d\"},{\"attributes\":{\"callback\":null},\"id\":\"90595\",\"type\":\"DataRange1d\"},{\"attributes\":{\"text\":\"\"},\"id\":\"91794\",\"type\":\"Title\"},{\"attributes\":{\"data_source\":{\"id\":\"90587\",\"type\":\"ColumnDataSource\"},\"glyph\":{\"id\":\"90588\",\"type\":\"Circle\"},\"hover_glyph\":null,\"muted_glyph\":null,\"nonselection_glyph\":{\"id\":\"90589\",\"type\":\"Circle\"},\"selection_glyph\":null,\"view\":{\"id\":\"90591\",\"type\":\"CDSView\"}},\"id\":\"90590\",\"type\":\"GlyphRenderer\"},{\"attributes\":{\"callback\":null,\"data\":{\"x\":[0,1,2,3,4,5,6,7,8,9,10],\"y\":[10,9,8,7,6,5,4,3,2,1,0]},\"selected\":{\"id\":\"91816\",\"type\":\"Selection\"},\"selection_policy\":{\"id\":\"91815\",\"type\":\"UnionRenderers\"}},\"id\":\"90624\",\"type\":\"ColumnDataSource\"},{\"attributes\":{\"callback\":null},\"id\":\"90593\",\"type\":\"DataRange1d\"},{\"attributes\":{\"source\":{\"id\":\"90587\",\"type\":\"ColumnDataSource\"}},\"id\":\"90591\",\"type\":\"CDSView\"},{\"attributes\":{},\"id\":\"90577\",\"type\":\"SaveTool\"}],\"root_ids\":[\"90666\"]},\"title\":\"Bokeh Application\",\"version\":\"1.2.0\"}};\n",
       "  var render_items = [{\"docid\":\"e222e2ea-d86e-4077-9993-f624cc7cbe66\",\"roots\":{\"90666\":\"861b3ce8-f998-498f-bdf8-d0aad0d4c80a\"}}];\n",
       "  root.Bokeh.embed.embed_items_notebook(docs_json, render_items);\n",
       "\n",
       "  }\n",
       "  if (root.Bokeh !== undefined) {\n",
       "    embed_document(root);\n",
       "  } else {\n",
       "    var attempts = 0;\n",
       "    var timer = setInterval(function(root) {\n",
       "      if (root.Bokeh !== undefined) {\n",
       "        embed_document(root);\n",
       "        clearInterval(timer);\n",
       "      }\n",
       "      attempts++;\n",
       "      if (attempts > 100) {\n",
       "        console.log(\"Bokeh: ERROR: Unable to run BokehJS code because BokehJS library is missing\");\n",
       "        clearInterval(timer);\n",
       "      }\n",
       "    }, 10, root)\n",
       "  }\n",
       "})(window);"
      ],
      "application/vnd.bokehjs_exec.v0+json": ""
     },
     "metadata": {
      "application/vnd.bokehjs_exec.v0+json": {
       "id": "90666"
      }
     },
     "output_type": "display_data"
    }
   ],
   "source": [
    "from bokeh.layouts import column\n",
    "x = list(range(11))\n",
    "y0, y1, y2 = x, [10-i for i in x], [abs(i-5) for i in x]\n",
    "# create a new plot\n",
    "s1 = figure(width=250, plot_height=250)\n",
    "\n",
    "s1.circle(x, y0, size=10, color=\"navy\", alpha=0.5)\n",
    "\n",
    "# create another one\n",
    "s2 = figure(width=250, height=250)\n",
    "s2.triangle(x, y1, size=10, color=\"firebrick\", alpha=0.5)\n",
    "\n",
    "# create and another\n",
    "s3 = figure(width=250, height=250)\n",
    "s3.square(x, y2, size=10, color=\"olive\", alpha=0.5)\n",
    "\n",
    "# show the results in a row\n",
    "show(column(s1, s2, s3))"
   ]
  },
  {
   "cell_type": "markdown",
   "metadata": {},
   "source": [
    "## Grid plots\n",
    "**# EXERCISE: create a gridplot of your own"
   ]
  },
  {
   "cell_type": "code",
   "execution_count": 205,
   "metadata": {},
   "outputs": [
    {
     "data": {
      "text/html": [
       "\n",
       "\n",
       "\n",
       "\n",
       "\n",
       "\n",
       "  <div class=\"bk-root\" id=\"2b89424d-f9d3-40a0-8c03-2a1688f14d85\" data-root-id=\"97809\"></div>\n"
      ]
     },
     "metadata": {},
     "output_type": "display_data"
    },
    {
     "data": {
      "application/javascript": [
       "(function(root) {\n",
       "  function embed_document(root) {\n",
       "    \n",
       "  var docs_json = {\"5921e9d5-f92c-464b-b9f1-485c82848318\":{\"roots\":{\"references\":[{\"attributes\":{\"children\":[[{\"id\":\"97668\",\"subtype\":\"Figure\",\"type\":\"Plot\"},0,0],[{\"id\":\"97705\",\"subtype\":\"Figure\",\"type\":\"Plot\"},0,1],[{\"id\":\"97742\",\"subtype\":\"Figure\",\"type\":\"Plot\"},1,0]]},\"id\":\"97809\",\"type\":\"GridBox\"},{\"attributes\":{\"fill_alpha\":{\"value\":0.1},\"fill_color\":{\"value\":\"#1f77b4\"},\"line_alpha\":{\"value\":0.1},\"line_color\":{\"value\":\"#1f77b4\"},\"radius\":{\"units\":\"data\",\"value\":0.07},\"x\":{\"field\":\"x\"},\"y\":{\"field\":\"y\"}},\"id\":\"97739\",\"type\":\"Circle\"},{\"attributes\":{},\"id\":\"97724\",\"type\":\"PanTool\"},{\"attributes\":{},\"id\":\"97725\",\"type\":\"WheelZoomTool\"},{\"attributes\":{\"overlay\":{\"id\":\"97795\",\"type\":\"BoxAnnotation\"}},\"id\":\"97726\",\"type\":\"BoxZoomTool\"},{\"attributes\":{},\"id\":\"97727\",\"type\":\"SaveTool\"},{\"attributes\":{},\"id\":\"97728\",\"type\":\"ResetTool\"},{\"attributes\":{},\"id\":\"97729\",\"type\":\"HelpTool\"},{\"attributes\":{\"active_drag\":\"auto\",\"active_inspect\":\"auto\",\"active_multi\":null,\"active_scroll\":\"auto\",\"active_tap\":\"auto\",\"tools\":[{\"id\":\"97724\",\"type\":\"PanTool\"},{\"id\":\"97725\",\"type\":\"WheelZoomTool\"},{\"id\":\"97726\",\"type\":\"BoxZoomTool\"},{\"id\":\"97727\",\"type\":\"SaveTool\"},{\"id\":\"97728\",\"type\":\"ResetTool\"},{\"id\":\"97729\",\"type\":\"HelpTool\"}]},\"id\":\"97730\",\"type\":\"Toolbar\"},{\"attributes\":{},\"id\":\"97747\",\"type\":\"LinearScale\"},{\"attributes\":{\"callback\":null},\"id\":\"97745\",\"type\":\"DataRange1d\"},{\"attributes\":{},\"id\":\"97749\",\"type\":\"LinearScale\"},{\"attributes\":{\"formatter\":{\"id\":\"97802\",\"type\":\"BasicTickFormatter\"},\"ticker\":{\"id\":\"97752\",\"type\":\"BasicTicker\"}},\"id\":\"97751\",\"type\":\"LinearAxis\"},{\"attributes\":{},\"id\":\"97752\",\"type\":\"BasicTicker\"},{\"attributes\":{\"ticker\":{\"id\":\"97752\",\"type\":\"BasicTicker\"}},\"id\":\"97755\",\"type\":\"Grid\"},{\"attributes\":{\"formatter\":{\"id\":\"97804\",\"type\":\"BasicTickFormatter\"},\"ticker\":{\"id\":\"97757\",\"type\":\"BasicTicker\"}},\"id\":\"97756\",\"type\":\"LinearAxis\"},{\"attributes\":{},\"id\":\"97757\",\"type\":\"BasicTicker\"},{\"attributes\":{\"dimension\":1,\"ticker\":{\"id\":\"97757\",\"type\":\"BasicTicker\"}},\"id\":\"97760\",\"type\":\"Grid\"},{\"attributes\":{\"line_alpha\":0.1,\"line_color\":\"#1f77b4\",\"line_width\":2,\"x\":{\"field\":\"x\"},\"y\":{\"field\":\"y\"}},\"id\":\"97776\",\"type\":\"Line\"},{\"attributes\":{\"callback\":null,\"data\":{\"top\":[2,5,8,2,7],\"x\":[1,2,3,4,5]},\"selected\":{\"id\":\"97787\",\"type\":\"Selection\"},\"selection_policy\":{\"id\":\"97786\",\"type\":\"UnionRenderers\"}},\"id\":\"97700\",\"type\":\"ColumnDataSource\"},{\"attributes\":{\"line_color\":\"navy\",\"line_width\":2,\"x\":{\"field\":\"x\"},\"y\":{\"field\":\"y\"}},\"id\":\"97775\",\"type\":\"Line\"},{\"attributes\":{},\"id\":\"97761\",\"type\":\"PanTool\"},{\"attributes\":{},\"id\":\"97762\",\"type\":\"WheelZoomTool\"},{\"attributes\":{\"overlay\":{\"id\":\"97805\",\"type\":\"BoxAnnotation\"}},\"id\":\"97763\",\"type\":\"BoxZoomTool\"},{\"attributes\":{},\"id\":\"97764\",\"type\":\"SaveTool\"},{\"attributes\":{},\"id\":\"97765\",\"type\":\"ResetTool\"},{\"attributes\":{},\"id\":\"97766\",\"type\":\"HelpTool\"},{\"attributes\":{\"active_drag\":\"auto\",\"active_inspect\":\"auto\",\"active_multi\":null,\"active_scroll\":\"auto\",\"active_tap\":\"auto\",\"tools\":[{\"id\":\"97761\",\"type\":\"PanTool\"},{\"id\":\"97762\",\"type\":\"WheelZoomTool\"},{\"id\":\"97763\",\"type\":\"BoxZoomTool\"},{\"id\":\"97764\",\"type\":\"SaveTool\"},{\"id\":\"97765\",\"type\":\"ResetTool\"},{\"id\":\"97766\",\"type\":\"HelpTool\"}]},\"id\":\"97767\",\"type\":\"Toolbar\"},{\"attributes\":{\"data_source\":{\"id\":\"97774\",\"type\":\"ColumnDataSource\"},\"glyph\":{\"id\":\"97775\",\"type\":\"Line\"},\"hover_glyph\":null,\"muted_glyph\":null,\"nonselection_glyph\":{\"id\":\"97776\",\"type\":\"Line\"},\"selection_glyph\":null,\"view\":{\"id\":\"97778\",\"type\":\"CDSView\"}},\"id\":\"97777\",\"type\":\"GlyphRenderer\"},{\"attributes\":{},\"id\":\"97804\",\"type\":\"BasicTickFormatter\"},{\"attributes\":{\"source\":{\"id\":\"97774\",\"type\":\"ColumnDataSource\"}},\"id\":\"97778\",\"type\":\"CDSView\"},{\"attributes\":{\"below\":[{\"id\":\"97714\",\"type\":\"LinearAxis\"}],\"center\":[{\"id\":\"97718\",\"type\":\"Grid\"},{\"id\":\"97723\",\"type\":\"Grid\"}],\"left\":[{\"id\":\"97719\",\"type\":\"LinearAxis\"}],\"plot_height\":250,\"plot_width\":250,\"renderers\":[{\"id\":\"97740\",\"type\":\"GlyphRenderer\"}],\"title\":{\"id\":\"97790\",\"type\":\"Title\"},\"toolbar\":{\"id\":\"97730\",\"type\":\"Toolbar\"},\"toolbar_location\":null,\"x_range\":{\"id\":\"97706\",\"type\":\"DataRange1d\"},\"x_scale\":{\"id\":\"97710\",\"type\":\"LinearScale\"},\"y_range\":{\"id\":\"97708\",\"type\":\"DataRange1d\"},\"y_scale\":{\"id\":\"97712\",\"type\":\"LinearScale\"}},\"id\":\"97705\",\"subtype\":\"Figure\",\"type\":\"Plot\"},{\"attributes\":{\"text\":\"\"},\"id\":\"97780\",\"type\":\"Title\"},{\"attributes\":{\"below\":[{\"id\":\"97677\",\"type\":\"LinearAxis\"}],\"center\":[{\"id\":\"97681\",\"type\":\"Grid\"},{\"id\":\"97686\",\"type\":\"Grid\"}],\"left\":[{\"id\":\"97682\",\"type\":\"LinearAxis\"}],\"plot_height\":250,\"plot_width\":250,\"renderers\":[{\"id\":\"97703\",\"type\":\"GlyphRenderer\"}],\"title\":{\"id\":\"97780\",\"type\":\"Title\"},\"toolbar\":{\"id\":\"97693\",\"type\":\"Toolbar\"},\"toolbar_location\":null,\"x_range\":{\"id\":\"97669\",\"type\":\"DataRange1d\"},\"x_scale\":{\"id\":\"97673\",\"type\":\"LinearScale\"},\"y_range\":{\"id\":\"97671\",\"type\":\"DataRange1d\"},\"y_scale\":{\"id\":\"97675\",\"type\":\"LinearScale\"}},\"id\":\"97668\",\"subtype\":\"Figure\",\"type\":\"Plot\"},{\"attributes\":{},\"id\":\"97782\",\"type\":\"BasicTickFormatter\"},{\"attributes\":{\"callback\":null},\"id\":\"97743\",\"type\":\"DataRange1d\"},{\"attributes\":{\"bottom_units\":\"screen\",\"fill_alpha\":{\"value\":0.5},\"fill_color\":{\"value\":\"lightgrey\"},\"left_units\":\"screen\",\"level\":\"overlay\",\"line_alpha\":{\"value\":1.0},\"line_color\":{\"value\":\"black\"},\"line_dash\":[4,4],\"line_width\":{\"value\":2},\"render_mode\":\"css\",\"right_units\":\"screen\",\"top_units\":\"screen\"},\"id\":\"97785\",\"type\":\"BoxAnnotation\"},{\"attributes\":{},\"id\":\"97786\",\"type\":\"UnionRenderers\"},{\"attributes\":{},\"id\":\"97787\",\"type\":\"Selection\"},{\"attributes\":{\"text\":\"\"},\"id\":\"97790\",\"type\":\"Title\"},{\"attributes\":{},\"id\":\"97792\",\"type\":\"BasicTickFormatter\"},{\"attributes\":{\"callback\":null},\"id\":\"97669\",\"type\":\"DataRange1d\"},{\"attributes\":{},\"id\":\"97675\",\"type\":\"LinearScale\"},{\"attributes\":{},\"id\":\"97794\",\"type\":\"BasicTickFormatter\"},{\"attributes\":{\"formatter\":{\"id\":\"97782\",\"type\":\"BasicTickFormatter\"},\"ticker\":{\"id\":\"97678\",\"type\":\"BasicTicker\"}},\"id\":\"97677\",\"type\":\"LinearAxis\"},{\"attributes\":{\"bottom_units\":\"screen\",\"fill_alpha\":{\"value\":0.5},\"fill_color\":{\"value\":\"lightgrey\"},\"left_units\":\"screen\",\"level\":\"overlay\",\"line_alpha\":{\"value\":1.0},\"line_color\":{\"value\":\"black\"},\"line_dash\":[4,4],\"line_width\":{\"value\":2},\"render_mode\":\"css\",\"right_units\":\"screen\",\"top_units\":\"screen\"},\"id\":\"97795\",\"type\":\"BoxAnnotation\"},{\"attributes\":{},\"id\":\"97678\",\"type\":\"BasicTicker\"},{\"attributes\":{},\"id\":\"97796\",\"type\":\"UnionRenderers\"},{\"attributes\":{\"ticker\":{\"id\":\"97678\",\"type\":\"BasicTicker\"}},\"id\":\"97681\",\"type\":\"Grid\"},{\"attributes\":{\"text\":\"\"},\"id\":\"97800\",\"type\":\"Title\"},{\"attributes\":{\"callback\":null,\"data\":{\"x\":[1,2,3,4,5],\"y\":[6,7,2,4,5]},\"selected\":{\"id\":\"97807\",\"type\":\"Selection\"},\"selection_policy\":{\"id\":\"97806\",\"type\":\"UnionRenderers\"}},\"id\":\"97774\",\"type\":\"ColumnDataSource\"},{\"attributes\":{\"formatter\":{\"id\":\"97784\",\"type\":\"BasicTickFormatter\"},\"ticker\":{\"id\":\"97683\",\"type\":\"BasicTicker\"}},\"id\":\"97682\",\"type\":\"LinearAxis\"},{\"attributes\":{},\"id\":\"97797\",\"type\":\"Selection\"},{\"attributes\":{},\"id\":\"97683\",\"type\":\"BasicTicker\"},{\"attributes\":{\"dimension\":1,\"ticker\":{\"id\":\"97683\",\"type\":\"BasicTicker\"}},\"id\":\"97686\",\"type\":\"Grid\"},{\"attributes\":{},\"id\":\"97802\",\"type\":\"BasicTickFormatter\"},{\"attributes\":{},\"id\":\"97673\",\"type\":\"LinearScale\"},{\"attributes\":{\"callback\":null},\"id\":\"97671\",\"type\":\"DataRange1d\"},{\"attributes\":{\"source\":{\"id\":\"97737\",\"type\":\"ColumnDataSource\"}},\"id\":\"97741\",\"type\":\"CDSView\"},{\"attributes\":{\"fill_alpha\":{\"value\":0.1},\"fill_color\":{\"value\":\"#1f77b4\"},\"line_alpha\":{\"value\":0.1},\"line_color\":{\"value\":\"#1f77b4\"},\"top\":{\"field\":\"top\"},\"width\":{\"value\":0.5},\"x\":{\"field\":\"x\"}},\"id\":\"97702\",\"type\":\"VBar\"},{\"attributes\":{},\"id\":\"97807\",\"type\":\"Selection\"},{\"attributes\":{\"below\":[{\"id\":\"97751\",\"type\":\"LinearAxis\"}],\"center\":[{\"id\":\"97755\",\"type\":\"Grid\"},{\"id\":\"97760\",\"type\":\"Grid\"}],\"left\":[{\"id\":\"97756\",\"type\":\"LinearAxis\"}],\"plot_height\":250,\"plot_width\":250,\"renderers\":[{\"id\":\"97777\",\"type\":\"GlyphRenderer\"}],\"title\":{\"id\":\"97800\",\"type\":\"Title\"},\"toolbar\":{\"id\":\"97767\",\"type\":\"Toolbar\"},\"toolbar_location\":null,\"x_range\":{\"id\":\"97743\",\"type\":\"DataRange1d\"},\"x_scale\":{\"id\":\"97747\",\"type\":\"LinearScale\"},\"y_range\":{\"id\":\"97745\",\"type\":\"DataRange1d\"},\"y_scale\":{\"id\":\"97749\",\"type\":\"LinearScale\"}},\"id\":\"97742\",\"subtype\":\"Figure\",\"type\":\"Plot\"},{\"attributes\":{\"dimension\":1,\"ticker\":{\"id\":\"97720\",\"type\":\"BasicTicker\"}},\"id\":\"97723\",\"type\":\"Grid\"},{\"attributes\":{},\"id\":\"97784\",\"type\":\"BasicTickFormatter\"},{\"attributes\":{\"overlay\":{\"id\":\"97785\",\"type\":\"BoxAnnotation\"}},\"id\":\"97689\",\"type\":\"BoxZoomTool\"},{\"attributes\":{\"fill_color\":{\"value\":\"navy\"},\"line_color\":{\"value\":\"navy\"},\"top\":{\"field\":\"top\"},\"width\":{\"value\":0.5},\"x\":{\"field\":\"x\"}},\"id\":\"97701\",\"type\":\"VBar\"},{\"attributes\":{},\"id\":\"97690\",\"type\":\"SaveTool\"},{\"attributes\":{},\"id\":\"97687\",\"type\":\"PanTool\"},{\"attributes\":{},\"id\":\"97688\",\"type\":\"WheelZoomTool\"},{\"attributes\":{},\"id\":\"97691\",\"type\":\"ResetTool\"},{\"attributes\":{},\"id\":\"97692\",\"type\":\"HelpTool\"},{\"attributes\":{\"active_drag\":\"auto\",\"active_inspect\":\"auto\",\"active_multi\":null,\"active_scroll\":\"auto\",\"active_tap\":\"auto\",\"tools\":[{\"id\":\"97687\",\"type\":\"PanTool\"},{\"id\":\"97688\",\"type\":\"WheelZoomTool\"},{\"id\":\"97689\",\"type\":\"BoxZoomTool\"},{\"id\":\"97690\",\"type\":\"SaveTool\"},{\"id\":\"97691\",\"type\":\"ResetTool\"},{\"id\":\"97692\",\"type\":\"HelpTool\"}]},\"id\":\"97693\",\"type\":\"Toolbar\"},{\"attributes\":{\"data_source\":{\"id\":\"97700\",\"type\":\"ColumnDataSource\"},\"glyph\":{\"id\":\"97701\",\"type\":\"VBar\"},\"hover_glyph\":null,\"muted_glyph\":null,\"nonselection_glyph\":{\"id\":\"97702\",\"type\":\"VBar\"},\"selection_glyph\":null,\"view\":{\"id\":\"97704\",\"type\":\"CDSView\"}},\"id\":\"97703\",\"type\":\"GlyphRenderer\"},{\"attributes\":{},\"id\":\"97806\",\"type\":\"UnionRenderers\"},{\"attributes\":{\"source\":{\"id\":\"97700\",\"type\":\"ColumnDataSource\"}},\"id\":\"97704\",\"type\":\"CDSView\"},{\"attributes\":{\"callback\":null,\"data\":{\"x\":[1,2,3,4,5],\"y\":[6,7,2,4,5]},\"selected\":{\"id\":\"97797\",\"type\":\"Selection\"},\"selection_policy\":{\"id\":\"97796\",\"type\":\"UnionRenderers\"}},\"id\":\"97737\",\"type\":\"ColumnDataSource\"},{\"attributes\":{\"data_source\":{\"id\":\"97737\",\"type\":\"ColumnDataSource\"},\"glyph\":{\"id\":\"97738\",\"type\":\"Circle\"},\"hover_glyph\":null,\"muted_glyph\":null,\"nonselection_glyph\":{\"id\":\"97739\",\"type\":\"Circle\"},\"selection_glyph\":null,\"view\":{\"id\":\"97741\",\"type\":\"CDSView\"}},\"id\":\"97740\",\"type\":\"GlyphRenderer\"},{\"attributes\":{\"fill_alpha\":{\"value\":0.9},\"fill_color\":{\"value\":\"navy\"},\"line_color\":{\"value\":\"navy\"},\"radius\":{\"units\":\"data\",\"value\":0.07},\"x\":{\"field\":\"x\"},\"y\":{\"field\":\"y\"}},\"id\":\"97738\",\"type\":\"Circle\"},{\"attributes\":{\"callback\":null},\"id\":\"97706\",\"type\":\"DataRange1d\"},{\"attributes\":{},\"id\":\"97710\",\"type\":\"LinearScale\"},{\"attributes\":{\"callback\":null},\"id\":\"97708\",\"type\":\"DataRange1d\"},{\"attributes\":{},\"id\":\"97712\",\"type\":\"LinearScale\"},{\"attributes\":{\"formatter\":{\"id\":\"97792\",\"type\":\"BasicTickFormatter\"},\"ticker\":{\"id\":\"97715\",\"type\":\"BasicTicker\"}},\"id\":\"97714\",\"type\":\"LinearAxis\"},{\"attributes\":{},\"id\":\"97715\",\"type\":\"BasicTicker\"},{\"attributes\":{\"bottom_units\":\"screen\",\"fill_alpha\":{\"value\":0.5},\"fill_color\":{\"value\":\"lightgrey\"},\"left_units\":\"screen\",\"level\":\"overlay\",\"line_alpha\":{\"value\":1.0},\"line_color\":{\"value\":\"black\"},\"line_dash\":[4,4],\"line_width\":{\"value\":2},\"render_mode\":\"css\",\"right_units\":\"screen\",\"top_units\":\"screen\"},\"id\":\"97805\",\"type\":\"BoxAnnotation\"},{\"attributes\":{\"ticker\":{\"id\":\"97715\",\"type\":\"BasicTicker\"}},\"id\":\"97718\",\"type\":\"Grid\"},{\"attributes\":{\"formatter\":{\"id\":\"97794\",\"type\":\"BasicTickFormatter\"},\"ticker\":{\"id\":\"97720\",\"type\":\"BasicTicker\"}},\"id\":\"97719\",\"type\":\"LinearAxis\"},{\"attributes\":{},\"id\":\"97720\",\"type\":\"BasicTicker\"}],\"root_ids\":[\"97809\"]},\"title\":\"Bokeh Application\",\"version\":\"1.2.0\"}};\n",
       "  var render_items = [{\"docid\":\"5921e9d5-f92c-464b-b9f1-485c82848318\",\"roots\":{\"97809\":\"2b89424d-f9d3-40a0-8c03-2a1688f14d85\"}}];\n",
       "  root.Bokeh.embed.embed_items_notebook(docs_json, render_items);\n",
       "\n",
       "  }\n",
       "  if (root.Bokeh !== undefined) {\n",
       "    embed_document(root);\n",
       "  } else {\n",
       "    var attempts = 0;\n",
       "    var timer = setInterval(function(root) {\n",
       "      if (root.Bokeh !== undefined) {\n",
       "        embed_document(root);\n",
       "        clearInterval(timer);\n",
       "      }\n",
       "      attempts++;\n",
       "      if (attempts > 100) {\n",
       "        console.log(\"Bokeh: ERROR: Unable to run BokehJS code because BokehJS library is missing\");\n",
       "        clearInterval(timer);\n",
       "      }\n",
       "    }, 10, root)\n",
       "  }\n",
       "})(window);"
      ],
      "application/vnd.bokehjs_exec.v0+json": ""
     },
     "metadata": {
      "application/vnd.bokehjs_exec.v0+json": {
       "id": "97809"
      }
     },
     "output_type": "display_data"
    }
   ],
   "source": [
    "from bokeh.layouts import gridplot\n",
    "\n",
    "# create a new plot\n",
    "\n",
    "s1 = figure(width=250, plot_height=250)\n",
    "s1.vbar(x=[1,2,3,4,5], width=0.5, bottom=0,\n",
    "       top=[2,5,8,2,7], color=\"navy\")\n",
    "\n",
    "# create another one\n",
    "s2 = figure(width=250, height=250)\n",
    "s2.circle([1, 2, 3, 4, 5], [6, 7, 2, 4, 5], radius=.07, line_color=\"navy\", fill_color=\"navy\", fill_alpha=0.9)\n",
    "\n",
    "# create and another\n",
    "s3 = figure(width=250, height=250)\n",
    "s3.line([1, 2, 3, 4, 5], [6, 7, 2, 4, 5], line_width=2,color=\"navy\")\n",
    "\n",
    "# put all the plots in a gridplot\n",
    "p = gridplot([[s1, s2], [s3, None]], toolbar_location=None)\n",
    "\n",
    "# show the results\n",
    "show(p)\n"
   ]
  }
 ],
 "metadata": {
  "kernelspec": {
   "display_name": "Python 3",
   "language": "python",
   "name": "python3"
  },
  "language_info": {
   "codemirror_mode": {
    "name": "ipython",
    "version": 3
   },
   "file_extension": ".py",
   "mimetype": "text/x-python",
   "name": "python",
   "nbconvert_exporter": "python",
   "pygments_lexer": "ipython3",
   "version": "3.7.3"
  }
 },
 "nbformat": 4,
 "nbformat_minor": 4
}
